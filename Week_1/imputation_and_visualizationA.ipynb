{
 "cells": [
  {
   "cell_type": "code",
   "execution_count": 54,
   "metadata": {
    "id": "FN5pcJCS3Yx1"
   },
   "outputs": [],
   "source": [
    "import numpy as np\n",
    "import pandas as pd\n",
    "df=pd.read_csv('aavail_data_visualization.csv')"
   ]
  },
  {
   "cell_type": "code",
   "execution_count": 55,
   "metadata": {
    "colab": {
     "base_uri": "https://localhost:8080/",
     "height": 203
    },
    "id": "fZUQDNQR3ZHe",
    "outputId": "22e5d6aa-d7d3-4c43-f5b8-52777e184e63"
   },
   "outputs": [
    {
     "data": {
      "text/html": [
       "<div>\n",
       "<style scoped>\n",
       "    .dataframe tbody tr th:only-of-type {\n",
       "        vertical-align: middle;\n",
       "    }\n",
       "\n",
       "    .dataframe tbody tr th {\n",
       "        vertical-align: top;\n",
       "    }\n",
       "\n",
       "    .dataframe thead th {\n",
       "        text-align: right;\n",
       "    }\n",
       "</style>\n",
       "<table border=\"1\" class=\"dataframe\">\n",
       "  <thead>\n",
       "    <tr style=\"text-align: right;\">\n",
       "      <th></th>\n",
       "      <th>customer_id</th>\n",
       "      <th>country_name</th>\n",
       "      <th>age</th>\n",
       "      <th>customer_name</th>\n",
       "      <th>is_subscriber</th>\n",
       "      <th>subscriber_type</th>\n",
       "      <th>num_streams</th>\n",
       "    </tr>\n",
       "  </thead>\n",
       "  <tbody>\n",
       "    <tr>\n",
       "      <th>0</th>\n",
       "      <td>1</td>\n",
       "      <td>united_states</td>\n",
       "      <td>21.0</td>\n",
       "      <td>Kasen Todd</td>\n",
       "      <td>True</td>\n",
       "      <td>aavail_premium</td>\n",
       "      <td>23.0</td>\n",
       "    </tr>\n",
       "    <tr>\n",
       "      <th>1</th>\n",
       "      <td>2</td>\n",
       "      <td>singapore</td>\n",
       "      <td>31.0</td>\n",
       "      <td>Ensley Garza</td>\n",
       "      <td>False</td>\n",
       "      <td>NaN</td>\n",
       "      <td>12.0</td>\n",
       "    </tr>\n",
       "    <tr>\n",
       "      <th>2</th>\n",
       "      <td>3</td>\n",
       "      <td>united_states</td>\n",
       "      <td>22.0</td>\n",
       "      <td>Lillian Carey</td>\n",
       "      <td>False</td>\n",
       "      <td>aavail_premium</td>\n",
       "      <td>22.0</td>\n",
       "    </tr>\n",
       "    <tr>\n",
       "      <th>3</th>\n",
       "      <td>4</td>\n",
       "      <td>united_states</td>\n",
       "      <td>21.0</td>\n",
       "      <td>Beau Christensen</td>\n",
       "      <td>True</td>\n",
       "      <td>aavail_basic</td>\n",
       "      <td>19.0</td>\n",
       "    </tr>\n",
       "    <tr>\n",
       "      <th>4</th>\n",
       "      <td>5</td>\n",
       "      <td>singapore</td>\n",
       "      <td>22.0</td>\n",
       "      <td>Ernesto Gibson</td>\n",
       "      <td>True</td>\n",
       "      <td>aavail_premium</td>\n",
       "      <td>23.0</td>\n",
       "    </tr>\n",
       "  </tbody>\n",
       "</table>\n",
       "</div>"
      ],
      "text/plain": [
       "   customer_id   country_name   age     customer_name  is_subscriber  \\\n",
       "0            1  united_states  21.0        Kasen Todd           True   \n",
       "1            2      singapore  31.0      Ensley Garza          False   \n",
       "2            3  united_states  22.0     Lillian Carey          False   \n",
       "3            4  united_states  21.0  Beau Christensen           True   \n",
       "4            5      singapore  22.0    Ernesto Gibson           True   \n",
       "\n",
       "  subscriber_type  num_streams  \n",
       "0  aavail_premium         23.0  \n",
       "1             NaN         12.0  \n",
       "2  aavail_premium         22.0  \n",
       "3    aavail_basic         19.0  \n",
       "4  aavail_premium         23.0  "
      ]
     },
     "execution_count": 55,
     "metadata": {},
     "output_type": "execute_result"
    }
   ],
   "source": [
    "df.head()"
   ]
  },
  {
   "cell_type": "code",
   "execution_count": 56,
   "metadata": {
    "colab": {
     "base_uri": "https://localhost:8080/"
    },
    "id": "kbhZXByV3_gO",
    "outputId": "1fe51021-4303-4be7-d415-ea5ccba20948"
   },
   "outputs": [
    {
     "data": {
      "text/plain": [
       "customer_id         0\n",
       "country_name        0\n",
       "age                 0\n",
       "customer_name       0\n",
       "is_subscriber       0\n",
       "subscriber_type    72\n",
       "num_streams        46\n",
       "dtype: int64"
      ]
     },
     "execution_count": 56,
     "metadata": {},
     "output_type": "execute_result"
    }
   ],
   "source": [
    "df.isnull().sum(axis=0)"
   ]
  },
  {
   "cell_type": "code",
   "execution_count": 57,
   "metadata": {
    "colab": {
     "base_uri": "https://localhost:8080/",
     "height": 172
    },
    "id": "czFPi_lL3ZKM",
    "outputId": "665096b8-883e-4cb0-c098-d26456e03312"
   },
   "outputs": [
    {
     "data": {
      "text/html": [
       "<div>\n",
       "<style scoped>\n",
       "    .dataframe tbody tr th:only-of-type {\n",
       "        vertical-align: middle;\n",
       "    }\n",
       "\n",
       "    .dataframe tbody tr th {\n",
       "        vertical-align: top;\n",
       "    }\n",
       "\n",
       "    .dataframe thead th {\n",
       "        text-align: right;\n",
       "    }\n",
       "</style>\n",
       "<table border=\"1\" class=\"dataframe\">\n",
       "  <thead>\n",
       "    <tr style=\"text-align: right;\">\n",
       "      <th></th>\n",
       "      <th>customer_id</th>\n",
       "      <th>age</th>\n",
       "      <th>is_subscriber</th>\n",
       "      <th>num_streams</th>\n",
       "    </tr>\n",
       "  </thead>\n",
       "  <tbody>\n",
       "    <tr>\n",
       "      <th>customer_id</th>\n",
       "      <td>1.000000</td>\n",
       "      <td>-0.012852</td>\n",
       "      <td>0.037503</td>\n",
       "      <td>0.033292</td>\n",
       "    </tr>\n",
       "    <tr>\n",
       "      <th>age</th>\n",
       "      <td>-0.012852</td>\n",
       "      <td>1.000000</td>\n",
       "      <td>0.012524</td>\n",
       "      <td>-0.034450</td>\n",
       "    </tr>\n",
       "    <tr>\n",
       "      <th>is_subscriber</th>\n",
       "      <td>0.037503</td>\n",
       "      <td>0.012524</td>\n",
       "      <td>1.000000</td>\n",
       "      <td>0.136306</td>\n",
       "    </tr>\n",
       "    <tr>\n",
       "      <th>num_streams</th>\n",
       "      <td>0.033292</td>\n",
       "      <td>-0.034450</td>\n",
       "      <td>0.136306</td>\n",
       "      <td>1.000000</td>\n",
       "    </tr>\n",
       "  </tbody>\n",
       "</table>\n",
       "</div>"
      ],
      "text/plain": [
       "               customer_id       age  is_subscriber  num_streams\n",
       "customer_id       1.000000 -0.012852       0.037503     0.033292\n",
       "age              -0.012852  1.000000       0.012524    -0.034450\n",
       "is_subscriber     0.037503  0.012524       1.000000     0.136306\n",
       "num_streams       0.033292 -0.034450       0.136306     1.000000"
      ]
     },
     "execution_count": 57,
     "metadata": {},
     "output_type": "execute_result"
    }
   ],
   "source": [
    "corr=df.corr()\n",
    "corr"
   ]
  },
  {
   "cell_type": "code",
   "execution_count": 58,
   "metadata": {
    "colab": {
     "base_uri": "https://localhost:8080/"
    },
    "id": "0Od4fPxx6rHP",
    "outputId": "920c1e2f-1db0-4bbc-ab0d-ffc7bb617dc0"
   },
   "outputs": [
    {
     "data": {
      "text/plain": [
       "count    1000.000000\n",
       "mean       27.532000\n",
       "std         9.120096\n",
       "min        14.000000\n",
       "25%        21.000000\n",
       "50%        24.000000\n",
       "75%        33.000000\n",
       "max        57.000000\n",
       "Name: age, dtype: float64"
      ]
     },
     "execution_count": 58,
     "metadata": {},
     "output_type": "execute_result"
    }
   ],
   "source": [
    "df['age'].describe()"
   ]
  },
  {
   "cell_type": "code",
   "execution_count": 59,
   "metadata": {
    "id": "twHG_t8G6pGQ"
   },
   "outputs": [],
   "source": [
    "df['age_groups']=pd.qcut(df['age'],4,labels=['14-21','21-24','24-33','33-57'])"
   ]
  },
  {
   "cell_type": "code",
   "execution_count": 60,
   "metadata": {
    "colab": {
     "base_uri": "https://localhost:8080/",
     "height": 573
    },
    "id": "AiU9qEb63ZO-",
    "outputId": "35c9f6dc-009d-4bf0-b646-272ddc989347"
   },
   "outputs": [
    {
     "data": {
      "text/html": [
       "<div>\n",
       "<style scoped>\n",
       "    .dataframe tbody tr th:only-of-type {\n",
       "        vertical-align: middle;\n",
       "    }\n",
       "\n",
       "    .dataframe tbody tr th {\n",
       "        vertical-align: top;\n",
       "    }\n",
       "\n",
       "    .dataframe thead th {\n",
       "        text-align: right;\n",
       "    }\n",
       "</style>\n",
       "<table border=\"1\" class=\"dataframe\">\n",
       "  <thead>\n",
       "    <tr style=\"text-align: right;\">\n",
       "      <th></th>\n",
       "      <th></th>\n",
       "      <th></th>\n",
       "      <th>num_streams</th>\n",
       "    </tr>\n",
       "    <tr>\n",
       "      <th>age_groups</th>\n",
       "      <th>is_subscriber</th>\n",
       "      <th>country_name</th>\n",
       "      <th></th>\n",
       "    </tr>\n",
       "  </thead>\n",
       "  <tbody>\n",
       "    <tr>\n",
       "      <th rowspan=\"4\" valign=\"top\">14-21</th>\n",
       "      <th rowspan=\"2\" valign=\"top\">False</th>\n",
       "      <th>singapore</th>\n",
       "      <td>14.239130</td>\n",
       "    </tr>\n",
       "    <tr>\n",
       "      <th>united_states</th>\n",
       "      <td>18.966667</td>\n",
       "    </tr>\n",
       "    <tr>\n",
       "      <th rowspan=\"2\" valign=\"top\">True</th>\n",
       "      <th>singapore</th>\n",
       "      <td>14.631579</td>\n",
       "    </tr>\n",
       "    <tr>\n",
       "      <th>united_states</th>\n",
       "      <td>19.038710</td>\n",
       "    </tr>\n",
       "    <tr>\n",
       "      <th rowspan=\"4\" valign=\"top\">21-24</th>\n",
       "      <th rowspan=\"2\" valign=\"top\">False</th>\n",
       "      <th>singapore</th>\n",
       "      <td>15.818182</td>\n",
       "    </tr>\n",
       "    <tr>\n",
       "      <th>united_states</th>\n",
       "      <td>20.896552</td>\n",
       "    </tr>\n",
       "    <tr>\n",
       "      <th rowspan=\"2\" valign=\"top\">True</th>\n",
       "      <th>singapore</th>\n",
       "      <td>16.772727</td>\n",
       "    </tr>\n",
       "    <tr>\n",
       "      <th>united_states</th>\n",
       "      <td>18.624113</td>\n",
       "    </tr>\n",
       "    <tr>\n",
       "      <th rowspan=\"4\" valign=\"top\">24-33</th>\n",
       "      <th rowspan=\"2\" valign=\"top\">False</th>\n",
       "      <th>singapore</th>\n",
       "      <td>14.606061</td>\n",
       "    </tr>\n",
       "    <tr>\n",
       "      <th>united_states</th>\n",
       "      <td>20.227273</td>\n",
       "    </tr>\n",
       "    <tr>\n",
       "      <th rowspan=\"2\" valign=\"top\">True</th>\n",
       "      <th>singapore</th>\n",
       "      <td>16.272727</td>\n",
       "    </tr>\n",
       "    <tr>\n",
       "      <th>united_states</th>\n",
       "      <td>18.910569</td>\n",
       "    </tr>\n",
       "    <tr>\n",
       "      <th rowspan=\"4\" valign=\"top\">33-57</th>\n",
       "      <th rowspan=\"2\" valign=\"top\">False</th>\n",
       "      <th>singapore</th>\n",
       "      <td>15.088889</td>\n",
       "    </tr>\n",
       "    <tr>\n",
       "      <th>united_states</th>\n",
       "      <td>18.384615</td>\n",
       "    </tr>\n",
       "    <tr>\n",
       "      <th rowspan=\"2\" valign=\"top\">True</th>\n",
       "      <th>singapore</th>\n",
       "      <td>15.107143</td>\n",
       "    </tr>\n",
       "    <tr>\n",
       "      <th>united_states</th>\n",
       "      <td>18.293333</td>\n",
       "    </tr>\n",
       "  </tbody>\n",
       "</table>\n",
       "</div>"
      ],
      "text/plain": [
       "                                        num_streams\n",
       "age_groups is_subscriber country_name              \n",
       "14-21      False         singapore        14.239130\n",
       "                         united_states    18.966667\n",
       "           True          singapore        14.631579\n",
       "                         united_states    19.038710\n",
       "21-24      False         singapore        15.818182\n",
       "                         united_states    20.896552\n",
       "           True          singapore        16.772727\n",
       "                         united_states    18.624113\n",
       "24-33      False         singapore        14.606061\n",
       "                         united_states    20.227273\n",
       "           True          singapore        16.272727\n",
       "                         united_states    18.910569\n",
       "33-57      False         singapore        15.088889\n",
       "                         united_states    18.384615\n",
       "           True          singapore        15.107143\n",
       "                         united_states    18.293333"
      ]
     },
     "execution_count": 60,
     "metadata": {},
     "output_type": "execute_result"
    }
   ],
   "source": [
    "pivot_df=pd.pivot_table(df,index=['age_groups','is_subscriber','country_name'],values='num_streams')\n",
    "pivot_df"
   ]
  },
  {
   "cell_type": "code",
   "execution_count": 61,
   "metadata": {
    "id": "kq6YR3SI9Z2i"
   },
   "outputs": [
    {
     "name": "stderr",
     "output_type": "stream",
     "text": [
      "<ipython-input-61-fa0547d4ab52>:4: UserWarning:\n",
      "\n",
      "Boolean Series key will be reindexed to match DataFrame index.\n",
      "\n",
      "<ipython-input-61-fa0547d4ab52>:5: UserWarning:\n",
      "\n",
      "Boolean Series key will be reindexed to match DataFrame index.\n",
      "\n",
      "<ipython-input-61-fa0547d4ab52>:6: UserWarning:\n",
      "\n",
      "Boolean Series key will be reindexed to match DataFrame index.\n",
      "\n",
      "<ipython-input-61-fa0547d4ab52>:7: UserWarning:\n",
      "\n",
      "Boolean Series key will be reindexed to match DataFrame index.\n",
      "\n"
     ]
    },
    {
     "data": {
      "application/vnd.plotly.v1+json": {
       "config": {
        "plotlyServerURL": "https://plot.ly"
       },
       "data": [
        {
         "name": "not subs. from Singapore",
         "type": "bar",
         "x": [
          "14-21",
          "24-33",
          "21-24",
          "33-57"
         ],
         "y": [
          14.23913043478261,
          15.818181818181818,
          14.606060606060606,
          15.088888888888889
         ]
        },
        {
         "name": "not subs. from USA",
         "type": "bar",
         "x": [
          "14-21",
          "24-33",
          "21-24",
          "33-57"
         ],
         "y": [
          18.966666666666665,
          20.896551724137932,
          20.227272727272727,
          18.384615384615383
         ]
        },
        {
         "name": "subs. from Singapore",
         "type": "bar",
         "x": [
          "14-21",
          "24-33",
          "21-24",
          "33-57"
         ],
         "y": [
          14.631578947368421,
          16.772727272727273,
          16.272727272727273,
          15.107142857142858
         ]
        },
        {
         "name": "subs. from USA",
         "type": "bar",
         "x": [
          "14-21",
          "24-33",
          "21-24",
          "33-57"
         ],
         "y": [
          19.038709677419355,
          18.624113475177303,
          18.910569105691057,
          18.293333333333333
         ]
        }
       ],
       "layout": {
        "barmode": "group",
        "template": {
         "data": {
          "bar": [
           {
            "error_x": {
             "color": "#2a3f5f"
            },
            "error_y": {
             "color": "#2a3f5f"
            },
            "marker": {
             "line": {
              "color": "#E5ECF6",
              "width": 0.5
             }
            },
            "type": "bar"
           }
          ],
          "barpolar": [
           {
            "marker": {
             "line": {
              "color": "#E5ECF6",
              "width": 0.5
             }
            },
            "type": "barpolar"
           }
          ],
          "carpet": [
           {
            "aaxis": {
             "endlinecolor": "#2a3f5f",
             "gridcolor": "white",
             "linecolor": "white",
             "minorgridcolor": "white",
             "startlinecolor": "#2a3f5f"
            },
            "baxis": {
             "endlinecolor": "#2a3f5f",
             "gridcolor": "white",
             "linecolor": "white",
             "minorgridcolor": "white",
             "startlinecolor": "#2a3f5f"
            },
            "type": "carpet"
           }
          ],
          "choropleth": [
           {
            "colorbar": {
             "outlinewidth": 0,
             "ticks": ""
            },
            "type": "choropleth"
           }
          ],
          "contour": [
           {
            "colorbar": {
             "outlinewidth": 0,
             "ticks": ""
            },
            "colorscale": [
             [
              0,
              "#0d0887"
             ],
             [
              0.1111111111111111,
              "#46039f"
             ],
             [
              0.2222222222222222,
              "#7201a8"
             ],
             [
              0.3333333333333333,
              "#9c179e"
             ],
             [
              0.4444444444444444,
              "#bd3786"
             ],
             [
              0.5555555555555556,
              "#d8576b"
             ],
             [
              0.6666666666666666,
              "#ed7953"
             ],
             [
              0.7777777777777778,
              "#fb9f3a"
             ],
             [
              0.8888888888888888,
              "#fdca26"
             ],
             [
              1,
              "#f0f921"
             ]
            ],
            "type": "contour"
           }
          ],
          "contourcarpet": [
           {
            "colorbar": {
             "outlinewidth": 0,
             "ticks": ""
            },
            "type": "contourcarpet"
           }
          ],
          "heatmap": [
           {
            "colorbar": {
             "outlinewidth": 0,
             "ticks": ""
            },
            "colorscale": [
             [
              0,
              "#0d0887"
             ],
             [
              0.1111111111111111,
              "#46039f"
             ],
             [
              0.2222222222222222,
              "#7201a8"
             ],
             [
              0.3333333333333333,
              "#9c179e"
             ],
             [
              0.4444444444444444,
              "#bd3786"
             ],
             [
              0.5555555555555556,
              "#d8576b"
             ],
             [
              0.6666666666666666,
              "#ed7953"
             ],
             [
              0.7777777777777778,
              "#fb9f3a"
             ],
             [
              0.8888888888888888,
              "#fdca26"
             ],
             [
              1,
              "#f0f921"
             ]
            ],
            "type": "heatmap"
           }
          ],
          "heatmapgl": [
           {
            "colorbar": {
             "outlinewidth": 0,
             "ticks": ""
            },
            "colorscale": [
             [
              0,
              "#0d0887"
             ],
             [
              0.1111111111111111,
              "#46039f"
             ],
             [
              0.2222222222222222,
              "#7201a8"
             ],
             [
              0.3333333333333333,
              "#9c179e"
             ],
             [
              0.4444444444444444,
              "#bd3786"
             ],
             [
              0.5555555555555556,
              "#d8576b"
             ],
             [
              0.6666666666666666,
              "#ed7953"
             ],
             [
              0.7777777777777778,
              "#fb9f3a"
             ],
             [
              0.8888888888888888,
              "#fdca26"
             ],
             [
              1,
              "#f0f921"
             ]
            ],
            "type": "heatmapgl"
           }
          ],
          "histogram": [
           {
            "marker": {
             "colorbar": {
              "outlinewidth": 0,
              "ticks": ""
             }
            },
            "type": "histogram"
           }
          ],
          "histogram2d": [
           {
            "colorbar": {
             "outlinewidth": 0,
             "ticks": ""
            },
            "colorscale": [
             [
              0,
              "#0d0887"
             ],
             [
              0.1111111111111111,
              "#46039f"
             ],
             [
              0.2222222222222222,
              "#7201a8"
             ],
             [
              0.3333333333333333,
              "#9c179e"
             ],
             [
              0.4444444444444444,
              "#bd3786"
             ],
             [
              0.5555555555555556,
              "#d8576b"
             ],
             [
              0.6666666666666666,
              "#ed7953"
             ],
             [
              0.7777777777777778,
              "#fb9f3a"
             ],
             [
              0.8888888888888888,
              "#fdca26"
             ],
             [
              1,
              "#f0f921"
             ]
            ],
            "type": "histogram2d"
           }
          ],
          "histogram2dcontour": [
           {
            "colorbar": {
             "outlinewidth": 0,
             "ticks": ""
            },
            "colorscale": [
             [
              0,
              "#0d0887"
             ],
             [
              0.1111111111111111,
              "#46039f"
             ],
             [
              0.2222222222222222,
              "#7201a8"
             ],
             [
              0.3333333333333333,
              "#9c179e"
             ],
             [
              0.4444444444444444,
              "#bd3786"
             ],
             [
              0.5555555555555556,
              "#d8576b"
             ],
             [
              0.6666666666666666,
              "#ed7953"
             ],
             [
              0.7777777777777778,
              "#fb9f3a"
             ],
             [
              0.8888888888888888,
              "#fdca26"
             ],
             [
              1,
              "#f0f921"
             ]
            ],
            "type": "histogram2dcontour"
           }
          ],
          "mesh3d": [
           {
            "colorbar": {
             "outlinewidth": 0,
             "ticks": ""
            },
            "type": "mesh3d"
           }
          ],
          "parcoords": [
           {
            "line": {
             "colorbar": {
              "outlinewidth": 0,
              "ticks": ""
             }
            },
            "type": "parcoords"
           }
          ],
          "pie": [
           {
            "automargin": true,
            "type": "pie"
           }
          ],
          "scatter": [
           {
            "marker": {
             "colorbar": {
              "outlinewidth": 0,
              "ticks": ""
             }
            },
            "type": "scatter"
           }
          ],
          "scatter3d": [
           {
            "line": {
             "colorbar": {
              "outlinewidth": 0,
              "ticks": ""
             }
            },
            "marker": {
             "colorbar": {
              "outlinewidth": 0,
              "ticks": ""
             }
            },
            "type": "scatter3d"
           }
          ],
          "scattercarpet": [
           {
            "marker": {
             "colorbar": {
              "outlinewidth": 0,
              "ticks": ""
             }
            },
            "type": "scattercarpet"
           }
          ],
          "scattergeo": [
           {
            "marker": {
             "colorbar": {
              "outlinewidth": 0,
              "ticks": ""
             }
            },
            "type": "scattergeo"
           }
          ],
          "scattergl": [
           {
            "marker": {
             "colorbar": {
              "outlinewidth": 0,
              "ticks": ""
             }
            },
            "type": "scattergl"
           }
          ],
          "scattermapbox": [
           {
            "marker": {
             "colorbar": {
              "outlinewidth": 0,
              "ticks": ""
             }
            },
            "type": "scattermapbox"
           }
          ],
          "scatterpolar": [
           {
            "marker": {
             "colorbar": {
              "outlinewidth": 0,
              "ticks": ""
             }
            },
            "type": "scatterpolar"
           }
          ],
          "scatterpolargl": [
           {
            "marker": {
             "colorbar": {
              "outlinewidth": 0,
              "ticks": ""
             }
            },
            "type": "scatterpolargl"
           }
          ],
          "scatterternary": [
           {
            "marker": {
             "colorbar": {
              "outlinewidth": 0,
              "ticks": ""
             }
            },
            "type": "scatterternary"
           }
          ],
          "surface": [
           {
            "colorbar": {
             "outlinewidth": 0,
             "ticks": ""
            },
            "colorscale": [
             [
              0,
              "#0d0887"
             ],
             [
              0.1111111111111111,
              "#46039f"
             ],
             [
              0.2222222222222222,
              "#7201a8"
             ],
             [
              0.3333333333333333,
              "#9c179e"
             ],
             [
              0.4444444444444444,
              "#bd3786"
             ],
             [
              0.5555555555555556,
              "#d8576b"
             ],
             [
              0.6666666666666666,
              "#ed7953"
             ],
             [
              0.7777777777777778,
              "#fb9f3a"
             ],
             [
              0.8888888888888888,
              "#fdca26"
             ],
             [
              1,
              "#f0f921"
             ]
            ],
            "type": "surface"
           }
          ],
          "table": [
           {
            "cells": {
             "fill": {
              "color": "#EBF0F8"
             },
             "line": {
              "color": "white"
             }
            },
            "header": {
             "fill": {
              "color": "#C8D4E3"
             },
             "line": {
              "color": "white"
             }
            },
            "type": "table"
           }
          ]
         },
         "layout": {
          "annotationdefaults": {
           "arrowcolor": "#2a3f5f",
           "arrowhead": 0,
           "arrowwidth": 1
          },
          "autotypenumbers": "strict",
          "coloraxis": {
           "colorbar": {
            "outlinewidth": 0,
            "ticks": ""
           }
          },
          "colorscale": {
           "diverging": [
            [
             0,
             "#8e0152"
            ],
            [
             0.1,
             "#c51b7d"
            ],
            [
             0.2,
             "#de77ae"
            ],
            [
             0.3,
             "#f1b6da"
            ],
            [
             0.4,
             "#fde0ef"
            ],
            [
             0.5,
             "#f7f7f7"
            ],
            [
             0.6,
             "#e6f5d0"
            ],
            [
             0.7,
             "#b8e186"
            ],
            [
             0.8,
             "#7fbc41"
            ],
            [
             0.9,
             "#4d9221"
            ],
            [
             1,
             "#276419"
            ]
           ],
           "sequential": [
            [
             0,
             "#0d0887"
            ],
            [
             0.1111111111111111,
             "#46039f"
            ],
            [
             0.2222222222222222,
             "#7201a8"
            ],
            [
             0.3333333333333333,
             "#9c179e"
            ],
            [
             0.4444444444444444,
             "#bd3786"
            ],
            [
             0.5555555555555556,
             "#d8576b"
            ],
            [
             0.6666666666666666,
             "#ed7953"
            ],
            [
             0.7777777777777778,
             "#fb9f3a"
            ],
            [
             0.8888888888888888,
             "#fdca26"
            ],
            [
             1,
             "#f0f921"
            ]
           ],
           "sequentialminus": [
            [
             0,
             "#0d0887"
            ],
            [
             0.1111111111111111,
             "#46039f"
            ],
            [
             0.2222222222222222,
             "#7201a8"
            ],
            [
             0.3333333333333333,
             "#9c179e"
            ],
            [
             0.4444444444444444,
             "#bd3786"
            ],
            [
             0.5555555555555556,
             "#d8576b"
            ],
            [
             0.6666666666666666,
             "#ed7953"
            ],
            [
             0.7777777777777778,
             "#fb9f3a"
            ],
            [
             0.8888888888888888,
             "#fdca26"
            ],
            [
             1,
             "#f0f921"
            ]
           ]
          },
          "colorway": [
           "#636efa",
           "#EF553B",
           "#00cc96",
           "#ab63fa",
           "#FFA15A",
           "#19d3f3",
           "#FF6692",
           "#B6E880",
           "#FF97FF",
           "#FECB52"
          ],
          "font": {
           "color": "#2a3f5f"
          },
          "geo": {
           "bgcolor": "white",
           "lakecolor": "white",
           "landcolor": "#E5ECF6",
           "showlakes": true,
           "showland": true,
           "subunitcolor": "white"
          },
          "hoverlabel": {
           "align": "left"
          },
          "hovermode": "closest",
          "mapbox": {
           "style": "light"
          },
          "paper_bgcolor": "white",
          "plot_bgcolor": "#E5ECF6",
          "polar": {
           "angularaxis": {
            "gridcolor": "white",
            "linecolor": "white",
            "ticks": ""
           },
           "bgcolor": "#E5ECF6",
           "radialaxis": {
            "gridcolor": "white",
            "linecolor": "white",
            "ticks": ""
           }
          },
          "scene": {
           "xaxis": {
            "backgroundcolor": "#E5ECF6",
            "gridcolor": "white",
            "gridwidth": 2,
            "linecolor": "white",
            "showbackground": true,
            "ticks": "",
            "zerolinecolor": "white"
           },
           "yaxis": {
            "backgroundcolor": "#E5ECF6",
            "gridcolor": "white",
            "gridwidth": 2,
            "linecolor": "white",
            "showbackground": true,
            "ticks": "",
            "zerolinecolor": "white"
           },
           "zaxis": {
            "backgroundcolor": "#E5ECF6",
            "gridcolor": "white",
            "gridwidth": 2,
            "linecolor": "white",
            "showbackground": true,
            "ticks": "",
            "zerolinecolor": "white"
           }
          },
          "shapedefaults": {
           "line": {
            "color": "#2a3f5f"
           }
          },
          "ternary": {
           "aaxis": {
            "gridcolor": "white",
            "linecolor": "white",
            "ticks": ""
           },
           "baxis": {
            "gridcolor": "white",
            "linecolor": "white",
            "ticks": ""
           },
           "bgcolor": "#E5ECF6",
           "caxis": {
            "gridcolor": "white",
            "linecolor": "white",
            "ticks": ""
           }
          },
          "title": {
           "x": 0.05
          },
          "xaxis": {
           "automargin": true,
           "gridcolor": "white",
           "linecolor": "white",
           "ticks": "",
           "title": {
            "standoff": 15
           },
           "zerolinecolor": "white",
           "zerolinewidth": 2
          },
          "yaxis": {
           "automargin": true,
           "gridcolor": "white",
           "linecolor": "white",
           "ticks": "",
           "title": {
            "standoff": 15
           },
           "zerolinecolor": "white",
           "zerolinewidth": 2
          }
         }
        },
        "title": {
         "text": "Age groups and the number of streams"
        }
       }
      },
      "text/html": [
       "<div>                            <div id=\"5cb434cd-a00c-4f10-ad88-3e2ef787a68f\" class=\"plotly-graph-div\" style=\"height:525px; width:100%;\"></div>            <script type=\"text/javascript\">                require([\"plotly\"], function(Plotly) {                    window.PLOTLYENV=window.PLOTLYENV || {};                                    if (document.getElementById(\"5cb434cd-a00c-4f10-ad88-3e2ef787a68f\")) {                    Plotly.newPlot(                        \"5cb434cd-a00c-4f10-ad88-3e2ef787a68f\",                        [{\"name\": \"not subs. from Singapore\", \"type\": \"bar\", \"x\": [\"14-21\", \"24-33\", \"21-24\", \"33-57\"], \"y\": [14.23913043478261, 15.818181818181818, 14.606060606060606, 15.088888888888889]}, {\"name\": \"not subs. from USA\", \"type\": \"bar\", \"x\": [\"14-21\", \"24-33\", \"21-24\", \"33-57\"], \"y\": [18.966666666666665, 20.896551724137932, 20.227272727272727, 18.384615384615383]}, {\"name\": \"subs. from Singapore\", \"type\": \"bar\", \"x\": [\"14-21\", \"24-33\", \"21-24\", \"33-57\"], \"y\": [14.631578947368421, 16.772727272727273, 16.272727272727273, 15.107142857142858]}, {\"name\": \"subs. from USA\", \"type\": \"bar\", \"x\": [\"14-21\", \"24-33\", \"21-24\", \"33-57\"], \"y\": [19.038709677419355, 18.624113475177303, 18.910569105691057, 18.293333333333333]}],                        {\"barmode\": \"group\", \"template\": {\"data\": {\"bar\": [{\"error_x\": {\"color\": \"#2a3f5f\"}, \"error_y\": {\"color\": \"#2a3f5f\"}, \"marker\": {\"line\": {\"color\": \"#E5ECF6\", \"width\": 0.5}}, \"type\": \"bar\"}], \"barpolar\": [{\"marker\": {\"line\": {\"color\": \"#E5ECF6\", \"width\": 0.5}}, \"type\": \"barpolar\"}], \"carpet\": [{\"aaxis\": {\"endlinecolor\": \"#2a3f5f\", \"gridcolor\": \"white\", \"linecolor\": \"white\", \"minorgridcolor\": \"white\", \"startlinecolor\": \"#2a3f5f\"}, \"baxis\": {\"endlinecolor\": \"#2a3f5f\", \"gridcolor\": \"white\", \"linecolor\": \"white\", \"minorgridcolor\": \"white\", \"startlinecolor\": \"#2a3f5f\"}, \"type\": \"carpet\"}], \"choropleth\": [{\"colorbar\": {\"outlinewidth\": 0, \"ticks\": \"\"}, \"type\": \"choropleth\"}], \"contour\": [{\"colorbar\": {\"outlinewidth\": 0, \"ticks\": \"\"}, \"colorscale\": [[0.0, \"#0d0887\"], [0.1111111111111111, \"#46039f\"], [0.2222222222222222, \"#7201a8\"], [0.3333333333333333, \"#9c179e\"], [0.4444444444444444, \"#bd3786\"], [0.5555555555555556, \"#d8576b\"], [0.6666666666666666, \"#ed7953\"], [0.7777777777777778, \"#fb9f3a\"], [0.8888888888888888, \"#fdca26\"], [1.0, \"#f0f921\"]], \"type\": \"contour\"}], \"contourcarpet\": [{\"colorbar\": {\"outlinewidth\": 0, \"ticks\": \"\"}, \"type\": \"contourcarpet\"}], \"heatmap\": [{\"colorbar\": {\"outlinewidth\": 0, \"ticks\": \"\"}, \"colorscale\": [[0.0, \"#0d0887\"], [0.1111111111111111, \"#46039f\"], [0.2222222222222222, \"#7201a8\"], [0.3333333333333333, \"#9c179e\"], [0.4444444444444444, \"#bd3786\"], [0.5555555555555556, \"#d8576b\"], [0.6666666666666666, \"#ed7953\"], [0.7777777777777778, \"#fb9f3a\"], [0.8888888888888888, \"#fdca26\"], [1.0, \"#f0f921\"]], \"type\": \"heatmap\"}], \"heatmapgl\": [{\"colorbar\": {\"outlinewidth\": 0, \"ticks\": \"\"}, \"colorscale\": [[0.0, \"#0d0887\"], [0.1111111111111111, \"#46039f\"], [0.2222222222222222, \"#7201a8\"], [0.3333333333333333, \"#9c179e\"], [0.4444444444444444, \"#bd3786\"], [0.5555555555555556, \"#d8576b\"], [0.6666666666666666, \"#ed7953\"], [0.7777777777777778, \"#fb9f3a\"], [0.8888888888888888, \"#fdca26\"], [1.0, \"#f0f921\"]], \"type\": \"heatmapgl\"}], \"histogram\": [{\"marker\": {\"colorbar\": {\"outlinewidth\": 0, \"ticks\": \"\"}}, \"type\": \"histogram\"}], \"histogram2d\": [{\"colorbar\": {\"outlinewidth\": 0, \"ticks\": \"\"}, \"colorscale\": [[0.0, \"#0d0887\"], [0.1111111111111111, \"#46039f\"], [0.2222222222222222, \"#7201a8\"], [0.3333333333333333, \"#9c179e\"], [0.4444444444444444, \"#bd3786\"], [0.5555555555555556, \"#d8576b\"], [0.6666666666666666, \"#ed7953\"], [0.7777777777777778, \"#fb9f3a\"], [0.8888888888888888, \"#fdca26\"], [1.0, \"#f0f921\"]], \"type\": \"histogram2d\"}], \"histogram2dcontour\": [{\"colorbar\": {\"outlinewidth\": 0, \"ticks\": \"\"}, \"colorscale\": [[0.0, \"#0d0887\"], [0.1111111111111111, \"#46039f\"], [0.2222222222222222, \"#7201a8\"], [0.3333333333333333, \"#9c179e\"], [0.4444444444444444, \"#bd3786\"], [0.5555555555555556, \"#d8576b\"], [0.6666666666666666, \"#ed7953\"], [0.7777777777777778, \"#fb9f3a\"], [0.8888888888888888, \"#fdca26\"], [1.0, \"#f0f921\"]], \"type\": \"histogram2dcontour\"}], \"mesh3d\": [{\"colorbar\": {\"outlinewidth\": 0, \"ticks\": \"\"}, \"type\": \"mesh3d\"}], \"parcoords\": [{\"line\": {\"colorbar\": {\"outlinewidth\": 0, \"ticks\": \"\"}}, \"type\": \"parcoords\"}], \"pie\": [{\"automargin\": true, \"type\": \"pie\"}], \"scatter\": [{\"marker\": {\"colorbar\": {\"outlinewidth\": 0, \"ticks\": \"\"}}, \"type\": \"scatter\"}], \"scatter3d\": [{\"line\": {\"colorbar\": {\"outlinewidth\": 0, \"ticks\": \"\"}}, \"marker\": {\"colorbar\": {\"outlinewidth\": 0, \"ticks\": \"\"}}, \"type\": \"scatter3d\"}], \"scattercarpet\": [{\"marker\": {\"colorbar\": {\"outlinewidth\": 0, \"ticks\": \"\"}}, \"type\": \"scattercarpet\"}], \"scattergeo\": [{\"marker\": {\"colorbar\": {\"outlinewidth\": 0, \"ticks\": \"\"}}, \"type\": \"scattergeo\"}], \"scattergl\": [{\"marker\": {\"colorbar\": {\"outlinewidth\": 0, \"ticks\": \"\"}}, \"type\": \"scattergl\"}], \"scattermapbox\": [{\"marker\": {\"colorbar\": {\"outlinewidth\": 0, \"ticks\": \"\"}}, \"type\": \"scattermapbox\"}], \"scatterpolar\": [{\"marker\": {\"colorbar\": {\"outlinewidth\": 0, \"ticks\": \"\"}}, \"type\": \"scatterpolar\"}], \"scatterpolargl\": [{\"marker\": {\"colorbar\": {\"outlinewidth\": 0, \"ticks\": \"\"}}, \"type\": \"scatterpolargl\"}], \"scatterternary\": [{\"marker\": {\"colorbar\": {\"outlinewidth\": 0, \"ticks\": \"\"}}, \"type\": \"scatterternary\"}], \"surface\": [{\"colorbar\": {\"outlinewidth\": 0, \"ticks\": \"\"}, \"colorscale\": [[0.0, \"#0d0887\"], [0.1111111111111111, \"#46039f\"], [0.2222222222222222, \"#7201a8\"], [0.3333333333333333, \"#9c179e\"], [0.4444444444444444, \"#bd3786\"], [0.5555555555555556, \"#d8576b\"], [0.6666666666666666, \"#ed7953\"], [0.7777777777777778, \"#fb9f3a\"], [0.8888888888888888, \"#fdca26\"], [1.0, \"#f0f921\"]], \"type\": \"surface\"}], \"table\": [{\"cells\": {\"fill\": {\"color\": \"#EBF0F8\"}, \"line\": {\"color\": \"white\"}}, \"header\": {\"fill\": {\"color\": \"#C8D4E3\"}, \"line\": {\"color\": \"white\"}}, \"type\": \"table\"}]}, \"layout\": {\"annotationdefaults\": {\"arrowcolor\": \"#2a3f5f\", \"arrowhead\": 0, \"arrowwidth\": 1}, \"autotypenumbers\": \"strict\", \"coloraxis\": {\"colorbar\": {\"outlinewidth\": 0, \"ticks\": \"\"}}, \"colorscale\": {\"diverging\": [[0, \"#8e0152\"], [0.1, \"#c51b7d\"], [0.2, \"#de77ae\"], [0.3, \"#f1b6da\"], [0.4, \"#fde0ef\"], [0.5, \"#f7f7f7\"], [0.6, \"#e6f5d0\"], [0.7, \"#b8e186\"], [0.8, \"#7fbc41\"], [0.9, \"#4d9221\"], [1, \"#276419\"]], \"sequential\": [[0.0, \"#0d0887\"], [0.1111111111111111, \"#46039f\"], [0.2222222222222222, \"#7201a8\"], [0.3333333333333333, \"#9c179e\"], [0.4444444444444444, \"#bd3786\"], [0.5555555555555556, \"#d8576b\"], [0.6666666666666666, \"#ed7953\"], [0.7777777777777778, \"#fb9f3a\"], [0.8888888888888888, \"#fdca26\"], [1.0, \"#f0f921\"]], \"sequentialminus\": [[0.0, \"#0d0887\"], [0.1111111111111111, \"#46039f\"], [0.2222222222222222, \"#7201a8\"], [0.3333333333333333, \"#9c179e\"], [0.4444444444444444, \"#bd3786\"], [0.5555555555555556, \"#d8576b\"], [0.6666666666666666, \"#ed7953\"], [0.7777777777777778, \"#fb9f3a\"], [0.8888888888888888, \"#fdca26\"], [1.0, \"#f0f921\"]]}, \"colorway\": [\"#636efa\", \"#EF553B\", \"#00cc96\", \"#ab63fa\", \"#FFA15A\", \"#19d3f3\", \"#FF6692\", \"#B6E880\", \"#FF97FF\", \"#FECB52\"], \"font\": {\"color\": \"#2a3f5f\"}, \"geo\": {\"bgcolor\": \"white\", \"lakecolor\": \"white\", \"landcolor\": \"#E5ECF6\", \"showlakes\": true, \"showland\": true, \"subunitcolor\": \"white\"}, \"hoverlabel\": {\"align\": \"left\"}, \"hovermode\": \"closest\", \"mapbox\": {\"style\": \"light\"}, \"paper_bgcolor\": \"white\", \"plot_bgcolor\": \"#E5ECF6\", \"polar\": {\"angularaxis\": {\"gridcolor\": \"white\", \"linecolor\": \"white\", \"ticks\": \"\"}, \"bgcolor\": \"#E5ECF6\", \"radialaxis\": {\"gridcolor\": \"white\", \"linecolor\": \"white\", \"ticks\": \"\"}}, \"scene\": {\"xaxis\": {\"backgroundcolor\": \"#E5ECF6\", \"gridcolor\": \"white\", \"gridwidth\": 2, \"linecolor\": \"white\", \"showbackground\": true, \"ticks\": \"\", \"zerolinecolor\": \"white\"}, \"yaxis\": {\"backgroundcolor\": \"#E5ECF6\", \"gridcolor\": \"white\", \"gridwidth\": 2, \"linecolor\": \"white\", \"showbackground\": true, \"ticks\": \"\", \"zerolinecolor\": \"white\"}, \"zaxis\": {\"backgroundcolor\": \"#E5ECF6\", \"gridcolor\": \"white\", \"gridwidth\": 2, \"linecolor\": \"white\", \"showbackground\": true, \"ticks\": \"\", \"zerolinecolor\": \"white\"}}, \"shapedefaults\": {\"line\": {\"color\": \"#2a3f5f\"}}, \"ternary\": {\"aaxis\": {\"gridcolor\": \"white\", \"linecolor\": \"white\", \"ticks\": \"\"}, \"baxis\": {\"gridcolor\": \"white\", \"linecolor\": \"white\", \"ticks\": \"\"}, \"bgcolor\": \"#E5ECF6\", \"caxis\": {\"gridcolor\": \"white\", \"linecolor\": \"white\", \"ticks\": \"\"}}, \"title\": {\"x\": 0.05}, \"xaxis\": {\"automargin\": true, \"gridcolor\": \"white\", \"linecolor\": \"white\", \"ticks\": \"\", \"title\": {\"standoff\": 15}, \"zerolinecolor\": \"white\", \"zerolinewidth\": 2}, \"yaxis\": {\"automargin\": true, \"gridcolor\": \"white\", \"linecolor\": \"white\", \"ticks\": \"\", \"title\": {\"standoff\": 15}, \"zerolinecolor\": \"white\", \"zerolinewidth\": 2}}}, \"title\": {\"text\": \"Age groups and the number of streams\"}},                        {\"responsive\": true}                    ).then(function(){\n",
       "                            \n",
       "var gd = document.getElementById('5cb434cd-a00c-4f10-ad88-3e2ef787a68f');\n",
       "var x = new MutationObserver(function (mutations, observer) {{\n",
       "        var display = window.getComputedStyle(gd).display;\n",
       "        if (!display || display === 'none') {{\n",
       "            console.log([gd, 'removed!']);\n",
       "            Plotly.purge(gd);\n",
       "            observer.disconnect();\n",
       "        }}\n",
       "}});\n",
       "\n",
       "// Listen for the removal of the full notebook cells\n",
       "var notebookContainer = gd.closest('#notebook-container');\n",
       "if (notebookContainer) {{\n",
       "    x.observe(notebookContainer, {childList: true});\n",
       "}}\n",
       "\n",
       "// Listen for the clearing of the current output cell\n",
       "var outputEl = gd.closest('.output');\n",
       "if (outputEl) {{\n",
       "    x.observe(outputEl, {childList: true});\n",
       "}}\n",
       "\n",
       "                        })                };                });            </script>        </div>"
      ]
     },
     "metadata": {},
     "output_type": "display_data"
    }
   ],
   "source": [
    "import plotly.graph_objects as go\n",
    "labels=list(df['age_groups'].unique())\n",
    "fig=go.Figure(data=[\n",
    "                    go.Bar(name='not subs. from Singapore',x=labels,y=df[df['is_subscriber']==False][df['country_name']=='singapore'].groupby('age_groups').mean()['num_streams']),\n",
    "                    go.Bar(name='not subs. from USA',x=labels,y=df[df['is_subscriber']==False][df['country_name']=='united_states'].groupby('age_groups').mean()['num_streams']),\n",
    "                    go.Bar(name='subs. from Singapore',x=labels,y=df[df['is_subscriber']==True][df['country_name']=='singapore'].groupby('age_groups').mean()['num_streams']),\n",
    "                    go.Bar(name='subs. from USA',x=labels,y=df[df['is_subscriber']==True][df['country_name']=='united_states'].groupby('age_groups').mean()['num_streams'])\n",
    "])\n",
    "fig.update_layout(barmode='group',title='Age groups and the number of streams')\n",
    "fig.show()"
   ]
  },
  {
   "cell_type": "code",
   "execution_count": 62,
   "metadata": {
    "colab": {
     "base_uri": "https://localhost:8080/",
     "height": 819
    },
    "id": "yimF4z15K1cO",
    "outputId": "b8c4c6ef-f558-479a-ac1b-d35650ed9e32"
   },
   "outputs": [
    {
     "data": {
      "text/html": [
       "<div>\n",
       "<style scoped>\n",
       "    .dataframe tbody tr th:only-of-type {\n",
       "        vertical-align: middle;\n",
       "    }\n",
       "\n",
       "    .dataframe tbody tr th {\n",
       "        vertical-align: top;\n",
       "    }\n",
       "\n",
       "    .dataframe thead th {\n",
       "        text-align: right;\n",
       "    }\n",
       "</style>\n",
       "<table border=\"1\" class=\"dataframe\">\n",
       "  <thead>\n",
       "    <tr style=\"text-align: right;\">\n",
       "      <th></th>\n",
       "      <th></th>\n",
       "      <th></th>\n",
       "      <th>num_streams</th>\n",
       "    </tr>\n",
       "    <tr>\n",
       "      <th>age_groups</th>\n",
       "      <th>is_subscriber</th>\n",
       "      <th>subscriber_type</th>\n",
       "      <th></th>\n",
       "    </tr>\n",
       "  </thead>\n",
       "  <tbody>\n",
       "    <tr>\n",
       "      <th rowspan=\"6\" valign=\"top\">14-21</th>\n",
       "      <th rowspan=\"3\" valign=\"top\">False</th>\n",
       "      <th>aavail_basic</th>\n",
       "      <td>16.800000</td>\n",
       "    </tr>\n",
       "    <tr>\n",
       "      <th>aavail_premium</th>\n",
       "      <td>16.371429</td>\n",
       "    </tr>\n",
       "    <tr>\n",
       "      <th>aavail_unlimited</th>\n",
       "      <td>15.818182</td>\n",
       "    </tr>\n",
       "    <tr>\n",
       "      <th rowspan=\"3\" valign=\"top\">True</th>\n",
       "      <th>aavail_basic</th>\n",
       "      <td>17.546667</td>\n",
       "    </tr>\n",
       "    <tr>\n",
       "      <th>aavail_premium</th>\n",
       "      <td>18.981132</td>\n",
       "    </tr>\n",
       "    <tr>\n",
       "      <th>aavail_unlimited</th>\n",
       "      <td>18.180000</td>\n",
       "    </tr>\n",
       "    <tr>\n",
       "      <th rowspan=\"6\" valign=\"top\">21-24</th>\n",
       "      <th rowspan=\"3\" valign=\"top\">False</th>\n",
       "      <th>aavail_basic</th>\n",
       "      <td>18.684211</td>\n",
       "    </tr>\n",
       "    <tr>\n",
       "      <th>aavail_premium</th>\n",
       "      <td>18.944444</td>\n",
       "    </tr>\n",
       "    <tr>\n",
       "      <th>aavail_unlimited</th>\n",
       "      <td>16.000000</td>\n",
       "    </tr>\n",
       "    <tr>\n",
       "      <th rowspan=\"3\" valign=\"top\">True</th>\n",
       "      <th>aavail_basic</th>\n",
       "      <td>18.485294</td>\n",
       "    </tr>\n",
       "    <tr>\n",
       "      <th>aavail_premium</th>\n",
       "      <td>17.978723</td>\n",
       "    </tr>\n",
       "    <tr>\n",
       "      <th>aavail_unlimited</th>\n",
       "      <td>19.000000</td>\n",
       "    </tr>\n",
       "    <tr>\n",
       "      <th rowspan=\"6\" valign=\"top\">24-33</th>\n",
       "      <th rowspan=\"3\" valign=\"top\">False</th>\n",
       "      <th>aavail_basic</th>\n",
       "      <td>19.125000</td>\n",
       "    </tr>\n",
       "    <tr>\n",
       "      <th>aavail_premium</th>\n",
       "      <td>17.461538</td>\n",
       "    </tr>\n",
       "    <tr>\n",
       "      <th>aavail_unlimited</th>\n",
       "      <td>14.555556</td>\n",
       "    </tr>\n",
       "    <tr>\n",
       "      <th rowspan=\"3\" valign=\"top\">True</th>\n",
       "      <th>aavail_basic</th>\n",
       "      <td>19.204545</td>\n",
       "    </tr>\n",
       "    <tr>\n",
       "      <th>aavail_premium</th>\n",
       "      <td>18.220000</td>\n",
       "    </tr>\n",
       "    <tr>\n",
       "      <th>aavail_unlimited</th>\n",
       "      <td>18.536585</td>\n",
       "    </tr>\n",
       "    <tr>\n",
       "      <th rowspan=\"6\" valign=\"top\">33-57</th>\n",
       "      <th rowspan=\"3\" valign=\"top\">False</th>\n",
       "      <th>aavail_basic</th>\n",
       "      <td>18.800000</td>\n",
       "    </tr>\n",
       "    <tr>\n",
       "      <th>aavail_premium</th>\n",
       "      <td>15.300000</td>\n",
       "    </tr>\n",
       "    <tr>\n",
       "      <th>aavail_unlimited</th>\n",
       "      <td>14.851852</td>\n",
       "    </tr>\n",
       "    <tr>\n",
       "      <th rowspan=\"3\" valign=\"top\">True</th>\n",
       "      <th>aavail_basic</th>\n",
       "      <td>17.228070</td>\n",
       "    </tr>\n",
       "    <tr>\n",
       "      <th>aavail_premium</th>\n",
       "      <td>17.824561</td>\n",
       "    </tr>\n",
       "    <tr>\n",
       "      <th>aavail_unlimited</th>\n",
       "      <td>18.481481</td>\n",
       "    </tr>\n",
       "  </tbody>\n",
       "</table>\n",
       "</div>"
      ],
      "text/plain": [
       "                                           num_streams\n",
       "age_groups is_subscriber subscriber_type              \n",
       "14-21      False         aavail_basic        16.800000\n",
       "                         aavail_premium      16.371429\n",
       "                         aavail_unlimited    15.818182\n",
       "           True          aavail_basic        17.546667\n",
       "                         aavail_premium      18.981132\n",
       "                         aavail_unlimited    18.180000\n",
       "21-24      False         aavail_basic        18.684211\n",
       "                         aavail_premium      18.944444\n",
       "                         aavail_unlimited    16.000000\n",
       "           True          aavail_basic        18.485294\n",
       "                         aavail_premium      17.978723\n",
       "                         aavail_unlimited    19.000000\n",
       "24-33      False         aavail_basic        19.125000\n",
       "                         aavail_premium      17.461538\n",
       "                         aavail_unlimited    14.555556\n",
       "           True          aavail_basic        19.204545\n",
       "                         aavail_premium      18.220000\n",
       "                         aavail_unlimited    18.536585\n",
       "33-57      False         aavail_basic        18.800000\n",
       "                         aavail_premium      15.300000\n",
       "                         aavail_unlimited    14.851852\n",
       "           True          aavail_basic        17.228070\n",
       "                         aavail_premium      17.824561\n",
       "                         aavail_unlimited    18.481481"
      ]
     },
     "execution_count": 62,
     "metadata": {},
     "output_type": "execute_result"
    }
   ],
   "source": [
    "pivot_df=pd.pivot_table(df,index=['age_groups','is_subscriber','subscriber_type'],values='num_streams')\n",
    "pivot_df"
   ]
  },
  {
   "cell_type": "markdown",
   "metadata": {
    "id": "7MGzWqiuZPjI"
   },
   "source": [
    "imputation"
   ]
  },
  {
   "cell_type": "code",
   "execution_count": 63,
   "metadata": {
    "id": "hQSDaUeKK1e7"
   },
   "outputs": [],
   "source": [
    "df['num_streams']=df['num_streams'].fillna(-1)"
   ]
  },
  {
   "cell_type": "code",
   "execution_count": 64,
   "metadata": {
    "id": "YdpudixQ9Z7a"
   },
   "outputs": [
    {
     "name": "stderr",
     "output_type": "stream",
     "text": [
      "<ipython-input-64-cdf8596c6c2d>:5: UserWarning:\n",
      "\n",
      "Boolean Series key will be reindexed to match DataFrame index.\n",
      "\n",
      "<ipython-input-64-cdf8596c6c2d>:5: UserWarning:\n",
      "\n",
      "Boolean Series key will be reindexed to match DataFrame index.\n",
      "\n",
      "<ipython-input-64-cdf8596c6c2d>:5: UserWarning:\n",
      "\n",
      "Boolean Series key will be reindexed to match DataFrame index.\n",
      "\n",
      "<ipython-input-64-cdf8596c6c2d>:5: UserWarning:\n",
      "\n",
      "Boolean Series key will be reindexed to match DataFrame index.\n",
      "\n",
      "<ipython-input-64-cdf8596c6c2d>:5: UserWarning:\n",
      "\n",
      "Boolean Series key will be reindexed to match DataFrame index.\n",
      "\n",
      "<ipython-input-64-cdf8596c6c2d>:5: UserWarning:\n",
      "\n",
      "Boolean Series key will be reindexed to match DataFrame index.\n",
      "\n",
      "<ipython-input-64-cdf8596c6c2d>:5: UserWarning:\n",
      "\n",
      "Boolean Series key will be reindexed to match DataFrame index.\n",
      "\n",
      "<ipython-input-64-cdf8596c6c2d>:5: UserWarning:\n",
      "\n",
      "Boolean Series key will be reindexed to match DataFrame index.\n",
      "\n",
      "<ipython-input-64-cdf8596c6c2d>:5: UserWarning:\n",
      "\n",
      "Boolean Series key will be reindexed to match DataFrame index.\n",
      "\n",
      "<ipython-input-64-cdf8596c6c2d>:5: UserWarning:\n",
      "\n",
      "Boolean Series key will be reindexed to match DataFrame index.\n",
      "\n",
      "<ipython-input-64-cdf8596c6c2d>:5: UserWarning:\n",
      "\n",
      "Boolean Series key will be reindexed to match DataFrame index.\n",
      "\n",
      "<ipython-input-64-cdf8596c6c2d>:5: UserWarning:\n",
      "\n",
      "Boolean Series key will be reindexed to match DataFrame index.\n",
      "\n",
      "<ipython-input-64-cdf8596c6c2d>:5: UserWarning:\n",
      "\n",
      "Boolean Series key will be reindexed to match DataFrame index.\n",
      "\n",
      "<ipython-input-64-cdf8596c6c2d>:5: UserWarning:\n",
      "\n",
      "Boolean Series key will be reindexed to match DataFrame index.\n",
      "\n",
      "<ipython-input-64-cdf8596c6c2d>:5: UserWarning:\n",
      "\n",
      "Boolean Series key will be reindexed to match DataFrame index.\n",
      "\n",
      "<ipython-input-64-cdf8596c6c2d>:5: UserWarning:\n",
      "\n",
      "Boolean Series key will be reindexed to match DataFrame index.\n",
      "\n",
      "<ipython-input-64-cdf8596c6c2d>:5: UserWarning:\n",
      "\n",
      "Boolean Series key will be reindexed to match DataFrame index.\n",
      "\n",
      "<ipython-input-64-cdf8596c6c2d>:5: UserWarning:\n",
      "\n",
      "Boolean Series key will be reindexed to match DataFrame index.\n",
      "\n",
      "<ipython-input-64-cdf8596c6c2d>:5: UserWarning:\n",
      "\n",
      "Boolean Series key will be reindexed to match DataFrame index.\n",
      "\n",
      "<ipython-input-64-cdf8596c6c2d>:5: UserWarning:\n",
      "\n",
      "Boolean Series key will be reindexed to match DataFrame index.\n",
      "\n",
      "<ipython-input-64-cdf8596c6c2d>:5: UserWarning:\n",
      "\n",
      "Boolean Series key will be reindexed to match DataFrame index.\n",
      "\n",
      "<ipython-input-64-cdf8596c6c2d>:5: UserWarning:\n",
      "\n",
      "Boolean Series key will be reindexed to match DataFrame index.\n",
      "\n",
      "<ipython-input-64-cdf8596c6c2d>:5: UserWarning:\n",
      "\n",
      "Boolean Series key will be reindexed to match DataFrame index.\n",
      "\n",
      "<ipython-input-64-cdf8596c6c2d>:5: UserWarning:\n",
      "\n",
      "Boolean Series key will be reindexed to match DataFrame index.\n",
      "\n",
      "<ipython-input-64-cdf8596c6c2d>:5: UserWarning:\n",
      "\n",
      "Boolean Series key will be reindexed to match DataFrame index.\n",
      "\n",
      "<ipython-input-64-cdf8596c6c2d>:5: UserWarning:\n",
      "\n",
      "Boolean Series key will be reindexed to match DataFrame index.\n",
      "\n",
      "<ipython-input-64-cdf8596c6c2d>:5: UserWarning:\n",
      "\n",
      "Boolean Series key will be reindexed to match DataFrame index.\n",
      "\n",
      "<ipython-input-64-cdf8596c6c2d>:5: UserWarning:\n",
      "\n",
      "Boolean Series key will be reindexed to match DataFrame index.\n",
      "\n",
      "<ipython-input-64-cdf8596c6c2d>:5: UserWarning:\n",
      "\n",
      "Boolean Series key will be reindexed to match DataFrame index.\n",
      "\n",
      "<ipython-input-64-cdf8596c6c2d>:5: UserWarning:\n",
      "\n",
      "Boolean Series key will be reindexed to match DataFrame index.\n",
      "\n",
      "<ipython-input-64-cdf8596c6c2d>:5: UserWarning:\n",
      "\n",
      "Boolean Series key will be reindexed to match DataFrame index.\n",
      "\n",
      "<ipython-input-64-cdf8596c6c2d>:5: UserWarning:\n",
      "\n",
      "Boolean Series key will be reindexed to match DataFrame index.\n",
      "\n",
      "<ipython-input-64-cdf8596c6c2d>:5: UserWarning:\n",
      "\n",
      "Boolean Series key will be reindexed to match DataFrame index.\n",
      "\n",
      "<ipython-input-64-cdf8596c6c2d>:5: UserWarning:\n",
      "\n",
      "Boolean Series key will be reindexed to match DataFrame index.\n",
      "\n",
      "<ipython-input-64-cdf8596c6c2d>:5: UserWarning:\n",
      "\n",
      "Boolean Series key will be reindexed to match DataFrame index.\n",
      "\n",
      "<ipython-input-64-cdf8596c6c2d>:5: UserWarning:\n",
      "\n",
      "Boolean Series key will be reindexed to match DataFrame index.\n",
      "\n",
      "<ipython-input-64-cdf8596c6c2d>:5: UserWarning:\n",
      "\n",
      "Boolean Series key will be reindexed to match DataFrame index.\n",
      "\n",
      "<ipython-input-64-cdf8596c6c2d>:5: UserWarning:\n",
      "\n",
      "Boolean Series key will be reindexed to match DataFrame index.\n",
      "\n",
      "<ipython-input-64-cdf8596c6c2d>:5: UserWarning:\n",
      "\n",
      "Boolean Series key will be reindexed to match DataFrame index.\n",
      "\n",
      "<ipython-input-64-cdf8596c6c2d>:5: UserWarning:\n",
      "\n",
      "Boolean Series key will be reindexed to match DataFrame index.\n",
      "\n",
      "<ipython-input-64-cdf8596c6c2d>:5: UserWarning:\n",
      "\n",
      "Boolean Series key will be reindexed to match DataFrame index.\n",
      "\n",
      "<ipython-input-64-cdf8596c6c2d>:5: UserWarning:\n",
      "\n",
      "Boolean Series key will be reindexed to match DataFrame index.\n",
      "\n",
      "<ipython-input-64-cdf8596c6c2d>:5: UserWarning:\n",
      "\n",
      "Boolean Series key will be reindexed to match DataFrame index.\n",
      "\n",
      "<ipython-input-64-cdf8596c6c2d>:5: UserWarning:\n",
      "\n",
      "Boolean Series key will be reindexed to match DataFrame index.\n",
      "\n",
      "<ipython-input-64-cdf8596c6c2d>:5: UserWarning:\n",
      "\n",
      "Boolean Series key will be reindexed to match DataFrame index.\n",
      "\n",
      "<ipython-input-64-cdf8596c6c2d>:5: UserWarning:\n",
      "\n",
      "Boolean Series key will be reindexed to match DataFrame index.\n",
      "\n"
     ]
    }
   ],
   "source": [
    "for i in range(len(df)):\n",
    "  row=df.iloc[i]\n",
    "  try:\n",
    "    if row.num_streams==-1:\n",
    "      imputed_v=df[df['age_groups']==row.age_groups][df['is_subscriber']==row.is_subscriber][df['subscriber_type']==row.subscriber_type]['num_streams'].mean()\n",
    "      imputed_v=round(imputed_v)\n",
    "      df.loc[i,'num_streams']=imputed_v\n",
    "  except:\n",
    "    continue"
   ]
  },
  {
   "cell_type": "code",
   "execution_count": 65,
   "metadata": {
    "colab": {
     "base_uri": "https://localhost:8080/",
     "height": 203
    },
    "id": "tVyFMYLtzQ-z",
    "outputId": "8c694d1d-48b3-43d4-dae7-6f70dfe342b0"
   },
   "outputs": [
    {
     "data": {
      "text/html": [
       "<div>\n",
       "<style scoped>\n",
       "    .dataframe tbody tr th:only-of-type {\n",
       "        vertical-align: middle;\n",
       "    }\n",
       "\n",
       "    .dataframe tbody tr th {\n",
       "        vertical-align: top;\n",
       "    }\n",
       "\n",
       "    .dataframe thead th {\n",
       "        text-align: right;\n",
       "    }\n",
       "</style>\n",
       "<table border=\"1\" class=\"dataframe\">\n",
       "  <thead>\n",
       "    <tr style=\"text-align: right;\">\n",
       "      <th></th>\n",
       "      <th>customer_id</th>\n",
       "      <th>country_name</th>\n",
       "      <th>age</th>\n",
       "      <th>customer_name</th>\n",
       "      <th>is_subscriber</th>\n",
       "      <th>subscriber_type</th>\n",
       "      <th>num_streams</th>\n",
       "      <th>age_groups</th>\n",
       "    </tr>\n",
       "  </thead>\n",
       "  <tbody>\n",
       "    <tr>\n",
       "      <th>0</th>\n",
       "      <td>1</td>\n",
       "      <td>united_states</td>\n",
       "      <td>21.0</td>\n",
       "      <td>Kasen Todd</td>\n",
       "      <td>True</td>\n",
       "      <td>aavail_premium</td>\n",
       "      <td>23.0</td>\n",
       "      <td>14-21</td>\n",
       "    </tr>\n",
       "    <tr>\n",
       "      <th>1</th>\n",
       "      <td>2</td>\n",
       "      <td>singapore</td>\n",
       "      <td>31.0</td>\n",
       "      <td>Ensley Garza</td>\n",
       "      <td>False</td>\n",
       "      <td>NaN</td>\n",
       "      <td>12.0</td>\n",
       "      <td>24-33</td>\n",
       "    </tr>\n",
       "    <tr>\n",
       "      <th>2</th>\n",
       "      <td>3</td>\n",
       "      <td>united_states</td>\n",
       "      <td>22.0</td>\n",
       "      <td>Lillian Carey</td>\n",
       "      <td>False</td>\n",
       "      <td>aavail_premium</td>\n",
       "      <td>22.0</td>\n",
       "      <td>21-24</td>\n",
       "    </tr>\n",
       "    <tr>\n",
       "      <th>3</th>\n",
       "      <td>4</td>\n",
       "      <td>united_states</td>\n",
       "      <td>21.0</td>\n",
       "      <td>Beau Christensen</td>\n",
       "      <td>True</td>\n",
       "      <td>aavail_basic</td>\n",
       "      <td>19.0</td>\n",
       "      <td>14-21</td>\n",
       "    </tr>\n",
       "    <tr>\n",
       "      <th>4</th>\n",
       "      <td>5</td>\n",
       "      <td>singapore</td>\n",
       "      <td>22.0</td>\n",
       "      <td>Ernesto Gibson</td>\n",
       "      <td>True</td>\n",
       "      <td>aavail_premium</td>\n",
       "      <td>23.0</td>\n",
       "      <td>21-24</td>\n",
       "    </tr>\n",
       "  </tbody>\n",
       "</table>\n",
       "</div>"
      ],
      "text/plain": [
       "   customer_id   country_name   age     customer_name  is_subscriber  \\\n",
       "0            1  united_states  21.0        Kasen Todd           True   \n",
       "1            2      singapore  31.0      Ensley Garza          False   \n",
       "2            3  united_states  22.0     Lillian Carey          False   \n",
       "3            4  united_states  21.0  Beau Christensen           True   \n",
       "4            5      singapore  22.0    Ernesto Gibson           True   \n",
       "\n",
       "  subscriber_type  num_streams age_groups  \n",
       "0  aavail_premium         23.0      14-21  \n",
       "1             NaN         12.0      24-33  \n",
       "2  aavail_premium         22.0      21-24  \n",
       "3    aavail_basic         19.0      14-21  \n",
       "4  aavail_premium         23.0      21-24  "
      ]
     },
     "execution_count": 65,
     "metadata": {},
     "output_type": "execute_result"
    }
   ],
   "source": [
    "df.head()"
   ]
  },
  {
   "cell_type": "code",
   "execution_count": 66,
   "metadata": {
    "id": "1VuEoDxLzaOr"
   },
   "outputs": [],
   "source": [
    "df=pd.get_dummies(df,columns=['country_name'],drop_first=True)"
   ]
  },
  {
   "cell_type": "code",
   "execution_count": 67,
   "metadata": {
    "id": "fixr9V-xzPwh"
   },
   "outputs": [],
   "source": [
    "df.drop(['customer_id','customer_name'],axis=1,inplace=True)"
   ]
  },
  {
   "cell_type": "code",
   "execution_count": 68,
   "metadata": {
    "id": "QRotgcVQzPzO"
   },
   "outputs": [],
   "source": [
    "df['age_groups']=df['age_groups'].map({'14-21':1,'21-24':2,'24-33':3,'33-57':4})"
   ]
  },
  {
   "cell_type": "code",
   "execution_count": 69,
   "metadata": {
    "id": "B1IQePJezP3k"
   },
   "outputs": [],
   "source": [
    "df['is_subscriber']=df['is_subscriber'].map({True:1,False:0})"
   ]
  },
  {
   "cell_type": "code",
   "execution_count": 70,
   "metadata": {
    "id": "hnGSrCLJzP5_"
   },
   "outputs": [],
   "source": [
    "df.drop(['age'],axis=1,inplace=True)"
   ]
  },
  {
   "cell_type": "code",
   "execution_count": 71,
   "metadata": {
    "colab": {
     "base_uri": "https://localhost:8080/",
     "height": 203
    },
    "id": "UsQ6rpmPkr3r",
    "outputId": "8d209b67-cd82-4be3-e12b-7a917bd5fa4e"
   },
   "outputs": [
    {
     "data": {
      "text/html": [
       "<div>\n",
       "<style scoped>\n",
       "    .dataframe tbody tr th:only-of-type {\n",
       "        vertical-align: middle;\n",
       "    }\n",
       "\n",
       "    .dataframe tbody tr th {\n",
       "        vertical-align: top;\n",
       "    }\n",
       "\n",
       "    .dataframe thead th {\n",
       "        text-align: right;\n",
       "    }\n",
       "</style>\n",
       "<table border=\"1\" class=\"dataframe\">\n",
       "  <thead>\n",
       "    <tr style=\"text-align: right;\">\n",
       "      <th></th>\n",
       "      <th>is_subscriber</th>\n",
       "      <th>subscriber_type</th>\n",
       "      <th>num_streams</th>\n",
       "      <th>age_groups</th>\n",
       "      <th>country_name_united_states</th>\n",
       "    </tr>\n",
       "  </thead>\n",
       "  <tbody>\n",
       "    <tr>\n",
       "      <th>0</th>\n",
       "      <td>1</td>\n",
       "      <td>aavail_premium</td>\n",
       "      <td>23.0</td>\n",
       "      <td>1</td>\n",
       "      <td>1</td>\n",
       "    </tr>\n",
       "    <tr>\n",
       "      <th>1</th>\n",
       "      <td>0</td>\n",
       "      <td>NaN</td>\n",
       "      <td>12.0</td>\n",
       "      <td>3</td>\n",
       "      <td>0</td>\n",
       "    </tr>\n",
       "    <tr>\n",
       "      <th>2</th>\n",
       "      <td>0</td>\n",
       "      <td>aavail_premium</td>\n",
       "      <td>22.0</td>\n",
       "      <td>2</td>\n",
       "      <td>1</td>\n",
       "    </tr>\n",
       "    <tr>\n",
       "      <th>3</th>\n",
       "      <td>1</td>\n",
       "      <td>aavail_basic</td>\n",
       "      <td>19.0</td>\n",
       "      <td>1</td>\n",
       "      <td>1</td>\n",
       "    </tr>\n",
       "    <tr>\n",
       "      <th>4</th>\n",
       "      <td>1</td>\n",
       "      <td>aavail_premium</td>\n",
       "      <td>23.0</td>\n",
       "      <td>2</td>\n",
       "      <td>0</td>\n",
       "    </tr>\n",
       "  </tbody>\n",
       "</table>\n",
       "</div>"
      ],
      "text/plain": [
       "   is_subscriber subscriber_type  num_streams age_groups  \\\n",
       "0              1  aavail_premium         23.0          1   \n",
       "1              0             NaN         12.0          3   \n",
       "2              0  aavail_premium         22.0          2   \n",
       "3              1    aavail_basic         19.0          1   \n",
       "4              1  aavail_premium         23.0          2   \n",
       "\n",
       "   country_name_united_states  \n",
       "0                           1  \n",
       "1                           0  \n",
       "2                           1  \n",
       "3                           1  \n",
       "4                           0  "
      ]
     },
     "execution_count": 71,
     "metadata": {},
     "output_type": "execute_result"
    }
   ],
   "source": [
    "df.head()"
   ]
  },
  {
   "cell_type": "code",
   "execution_count": 72,
   "metadata": {},
   "outputs": [],
   "source": [
    "df[['age_groups','num_streams','country_name_united_states']]=df[['age_groups','num_streams','country_name_united_states']].astype(int)"
   ]
  },
  {
   "cell_type": "code",
   "execution_count": 73,
   "metadata": {
    "colab": {
     "base_uri": "https://localhost:8080/"
    },
    "id": "bVk00CcMopQ9",
    "outputId": "ccfcd242-40d5-4a33-b40f-01a31ad7cb96"
   },
   "outputs": [
    {
     "data": {
      "text/plain": [
       "aavail_basic        339\n",
       "aavail_premium      313\n",
       "aavail_unlimited    276\n",
       "Name: subscriber_type, dtype: int64"
      ]
     },
     "execution_count": 73,
     "metadata": {},
     "output_type": "execute_result"
    }
   ],
   "source": [
    "df['subscriber_type'].value_counts()"
   ]
  },
  {
   "cell_type": "code",
   "execution_count": 74,
   "metadata": {
    "id": "wMw2gxjHkr8w"
   },
   "outputs": [],
   "source": [
    "training_data=df[~df['subscriber_type'].isnull()]\n",
    "test_data=df[df['subscriber_type'].isnull()].drop(['subscriber_type'],axis=1)\n",
    "x_train=training_data.drop(['subscriber_type'],axis=1)\n",
    "y_train=pd.get_dummies(training_data['subscriber_type'])"
   ]
  },
  {
   "cell_type": "code",
   "execution_count": 75,
   "metadata": {
    "id": "zs-KJyq0lEnE"
   },
   "outputs": [],
   "source": [
    "x_train=x_train.values\n",
    "y_train=y_train.values\n",
    "test_data=test_data.values"
   ]
  },
  {
   "cell_type": "code",
   "execution_count": 76,
   "metadata": {
    "colab": {
     "base_uri": "https://localhost:8080/"
    },
    "id": "gZGRTGoimGxq",
    "outputId": "2c996895-c5aa-4007-9460-935cd717a3c1"
   },
   "outputs": [
    {
     "data": {
      "text/plain": [
       "OneVsRestClassifier(estimator=SVC(probability=True, random_state=30))"
      ]
     },
     "execution_count": 76,
     "metadata": {},
     "output_type": "execute_result"
    }
   ],
   "source": [
    "from sklearn.linear_model import LogisticRegression\n",
    "from sklearn.multiclass import OneVsRestClassifier\n",
    "from sklearn.svm import SVC\n",
    "\n",
    "model=SVC(probability=True,random_state=30)\n",
    "clf=OneVsRestClassifier(model)\n",
    "clf.fit(x_train,y_train)"
   ]
  },
  {
   "cell_type": "code",
   "execution_count": 77,
   "metadata": {
    "id": "FkI6LgYImG0y"
   },
   "outputs": [],
   "source": [
    "y_hat=clf.predict_proba(x_train)\n",
    "y_hat=np.argmax(y_hat,axis=1)"
   ]
  },
  {
   "cell_type": "code",
   "execution_count": 78,
   "metadata": {
    "id": "BA1wCy0Ey7e9"
   },
   "outputs": [],
   "source": [
    "y_hat_new=[]\n",
    "for value in y_hat:\n",
    "  if value==0:\n",
    "    y_hat_new.append([1,0,0])\n",
    "  elif value==1:\n",
    "    y_hat_new.append([0,1,0])\n",
    "  elif value==2:\n",
    "    y_hat_new.append([0,0,1])\n",
    "  else:\n",
    "    pass\n",
    "y_hat_new=np.array(y_hat_new)"
   ]
  },
  {
   "cell_type": "code",
   "execution_count": 79,
   "metadata": {
    "colab": {
     "base_uri": "https://localhost:8080/"
    },
    "id": "Je5KY4a1mG4Y",
    "outputId": "25d6901d-46ba-4586-e9fd-965f80d97be7"
   },
   "outputs": [
    {
     "data": {
      "text/plain": [
       "0.4040948275862069"
      ]
     },
     "execution_count": 79,
     "metadata": {},
     "output_type": "execute_result"
    }
   ],
   "source": [
    "from sklearn.metrics import accuracy_score\n",
    "accuracy_score(y_train,y_hat_new)"
   ]
  },
  {
   "cell_type": "code",
   "execution_count": 80,
   "metadata": {
    "id": "YkuTHmaUOx62"
   },
   "outputs": [],
   "source": [
    "test_y=clf.predict_proba(test_data)\n",
    "test_y=np.argmax(test_y,axis=1)"
   ]
  },
  {
   "cell_type": "code",
   "execution_count": 81,
   "metadata": {
    "id": "Cuj6fSqiPkrF"
   },
   "outputs": [],
   "source": [
    "nan_y=[]\n",
    "for y in test_y:\n",
    "  if y==0:\n",
    "    nan_y.append('aavail_basic')\n",
    "  elif y==1:\n",
    "    nan_y.append('aavail_premium')\n",
    "  elif y==2:\n",
    "    nan_y.append('aavail_unlimited')\n",
    "  else:\n",
    "    pass"
   ]
  },
  {
   "cell_type": "code",
   "execution_count": 82,
   "metadata": {
    "id": "aIeLNWAJPkt7"
   },
   "outputs": [],
   "source": [
    "indexes=list(df[df['subscriber_type'].isnull()].index)"
   ]
  },
  {
   "cell_type": "code",
   "execution_count": 83,
   "metadata": {
    "id": "XlLULqRhbslQ"
   },
   "outputs": [],
   "source": [
    "df.loc[indexes,'subscriber_type']=nan_y"
   ]
  },
  {
   "cell_type": "code",
   "execution_count": 84,
   "metadata": {
    "colab": {
     "base_uri": "https://localhost:8080/",
     "height": 203
    },
    "id": "X3-WzO93bsom",
    "outputId": "2aaa1a32-0961-4d18-da8c-9146b39dd77b"
   },
   "outputs": [
    {
     "data": {
      "text/html": [
       "<div>\n",
       "<style scoped>\n",
       "    .dataframe tbody tr th:only-of-type {\n",
       "        vertical-align: middle;\n",
       "    }\n",
       "\n",
       "    .dataframe tbody tr th {\n",
       "        vertical-align: top;\n",
       "    }\n",
       "\n",
       "    .dataframe thead th {\n",
       "        text-align: right;\n",
       "    }\n",
       "</style>\n",
       "<table border=\"1\" class=\"dataframe\">\n",
       "  <thead>\n",
       "    <tr style=\"text-align: right;\">\n",
       "      <th></th>\n",
       "      <th>is_subscriber</th>\n",
       "      <th>subscriber_type</th>\n",
       "      <th>num_streams</th>\n",
       "      <th>age_groups</th>\n",
       "      <th>country_name_united_states</th>\n",
       "    </tr>\n",
       "  </thead>\n",
       "  <tbody>\n",
       "    <tr>\n",
       "      <th>0</th>\n",
       "      <td>1</td>\n",
       "      <td>aavail_premium</td>\n",
       "      <td>23</td>\n",
       "      <td>1</td>\n",
       "      <td>1</td>\n",
       "    </tr>\n",
       "    <tr>\n",
       "      <th>1</th>\n",
       "      <td>0</td>\n",
       "      <td>aavail_premium</td>\n",
       "      <td>12</td>\n",
       "      <td>3</td>\n",
       "      <td>0</td>\n",
       "    </tr>\n",
       "    <tr>\n",
       "      <th>2</th>\n",
       "      <td>0</td>\n",
       "      <td>aavail_premium</td>\n",
       "      <td>22</td>\n",
       "      <td>2</td>\n",
       "      <td>1</td>\n",
       "    </tr>\n",
       "    <tr>\n",
       "      <th>3</th>\n",
       "      <td>1</td>\n",
       "      <td>aavail_basic</td>\n",
       "      <td>19</td>\n",
       "      <td>1</td>\n",
       "      <td>1</td>\n",
       "    </tr>\n",
       "    <tr>\n",
       "      <th>4</th>\n",
       "      <td>1</td>\n",
       "      <td>aavail_premium</td>\n",
       "      <td>23</td>\n",
       "      <td>2</td>\n",
       "      <td>0</td>\n",
       "    </tr>\n",
       "  </tbody>\n",
       "</table>\n",
       "</div>"
      ],
      "text/plain": [
       "   is_subscriber subscriber_type  num_streams  age_groups  \\\n",
       "0              1  aavail_premium           23           1   \n",
       "1              0  aavail_premium           12           3   \n",
       "2              0  aavail_premium           22           2   \n",
       "3              1    aavail_basic           19           1   \n",
       "4              1  aavail_premium           23           2   \n",
       "\n",
       "   country_name_united_states  \n",
       "0                           1  \n",
       "1                           0  \n",
       "2                           1  \n",
       "3                           1  \n",
       "4                           0  "
      ]
     },
     "execution_count": 84,
     "metadata": {},
     "output_type": "execute_result"
    }
   ],
   "source": [
    "df.head()"
   ]
  },
  {
   "cell_type": "code",
   "execution_count": 85,
   "metadata": {
    "colab": {
     "base_uri": "https://localhost:8080/"
    },
    "id": "DF5oS_jOgaSp",
    "outputId": "838b1bbd-1710-42af-bb5e-1c0968af6534"
   },
   "outputs": [
    {
     "name": "stdout",
     "output_type": "stream",
     "text": [
      "<class 'pandas.core.frame.DataFrame'>\n",
      "RangeIndex: 1000 entries, 0 to 999\n",
      "Data columns (total 5 columns):\n",
      " #   Column                      Non-Null Count  Dtype \n",
      "---  ------                      --------------  ----- \n",
      " 0   is_subscriber               1000 non-null   int64 \n",
      " 1   subscriber_type             1000 non-null   object\n",
      " 2   num_streams                 1000 non-null   int32 \n",
      " 3   age_groups                  1000 non-null   int32 \n",
      " 4   country_name_united_states  1000 non-null   int32 \n",
      "dtypes: int32(3), int64(1), object(1)\n",
      "memory usage: 27.5+ KB\n"
     ]
    }
   ],
   "source": [
    "df.info()"
   ]
  },
  {
   "cell_type": "code",
   "execution_count": 86,
   "metadata": {
    "colab": {
     "base_uri": "https://localhost:8080/",
     "height": 616
    },
    "id": "7FN4uP_Qoaok",
    "outputId": "7a64caa9-1c2f-4c59-9b01-461faa140e29"
   },
   "outputs": [
    {
     "data": {
      "text/plain": [
       "<matplotlib.axes._subplots.AxesSubplot at 0x20d1f474dc0>"
      ]
     },
     "execution_count": 86,
     "metadata": {},
     "output_type": "execute_result"
    },
    {
     "data": {
      "image/png": "[encoded data removed]",
      "text/plain": [
       "<Figure size 792x648 with 2 Axes>"
      ]
     },
     "metadata": {
      "needs_background": "light"
     },
     "output_type": "display_data"
    }
   ],
   "source": [
    "import matplotlib.pyplot as plt\n",
    "import seaborn as sns\n",
    "corr = df.corr()\n",
    "\n",
    "# Generate a mask for the upper triangle\n",
    "mask = np.triu(np.ones_like(corr, dtype=bool))\n",
    "\n",
    "# Set up the matplotlib figure\n",
    "f, ax = plt.subplots(figsize=(11, 9))\n",
    "\n",
    "# Generate a custom diverging colormap\n",
    "cmap = sns.diverging_palette(230, 20, as_cmap=True)\n",
    "\n",
    "# Draw the heatmap with the mask and correct aspect ratio\n",
    "sns.heatmap(corr, mask=mask, cmap=cmap, vmax=.3, center=0,\n",
    "            square=True, linewidths=.5, cbar_kws={\"shrink\": .5})"
   ]
  },
  {
   "cell_type": "code",
   "execution_count": 87,
   "metadata": {
    "id": "qv2Il2Sqk5gP"
   },
   "outputs": [],
   "source": [
    "df['age_groups']=df['age_groups'].map({1:'14-21',2:'21-24',3:'24-33',4:'33-57'})\n",
    "df['country_name']=df['country_name_united_states'].map({0:'Singapore',1:'USA'})"
   ]
  },
  {
   "cell_type": "code",
   "execution_count": 88,
   "metadata": {
    "id": "HhSu_wLElkLA"
   },
   "outputs": [],
   "source": [
    "df.drop(['country_name_united_states'],axis=1,inplace=True)"
   ]
  },
  {
   "cell_type": "code",
   "execution_count": 89,
   "metadata": {
    "colab": {
     "base_uri": "https://localhost:8080/",
     "height": 542
    },
    "id": "KcbNDl_-bsu9",
    "outputId": "0c831d48-cdda-44ee-e6b6-447052766d5a"
   },
   "outputs": [
    {
     "data": {
      "application/vnd.plotly.v1+json": {
       "config": {
        "plotlyServerURL": "https://plot.ly"
       },
       "data": [
        {
         "alignmentgroup": "True",
         "hovertemplate": "subscriber_type=%{x}<br>num_streams=%{y}<extra></extra>",
         "legendgroup": "",
         "marker": {
          "color": "#636efa"
         },
         "name": "",
         "offsetgroup": "",
         "orientation": "v",
         "showlegend": false,
         "textposition": "auto",
         "type": "bar",
         "x": [
          "aavail_premium",
          "aavail_premium",
          "aavail_premium",
          "aavail_basic",
          "aavail_premium",
          "aavail_premium",
          "aavail_basic",
          "aavail_premium",
          "aavail_premium",
          "aavail_basic",
          "aavail_premium",
          "aavail_unlimited",
          "aavail_premium",
          "aavail_basic",
          "aavail_premium",
          "aavail_basic",
          "aavail_premium",
          "aavail_basic",
          "aavail_premium",
          "aavail_premium",
          "aavail_unlimited",
          "aavail_basic",
          "aavail_unlimited",
          "aavail_basic",
          "aavail_basic",
          "aavail_premium",
          "aavail_basic",
          "aavail_basic",
          "aavail_basic",
          "aavail_unlimited",
          "aavail_unlimited",
          "aavail_premium",
          "aavail_unlimited",
          "aavail_unlimited",
          "aavail_premium",
          "aavail_premium",
          "aavail_premium",
          "aavail_basic",
          "aavail_basic",
          "aavail_basic",
          "aavail_unlimited",
          "aavail_unlimited",
          "aavail_premium",
          "aavail_unlimited",
          "aavail_premium",
          "aavail_basic",
          "aavail_basic",
          "aavail_unlimited",
          "aavail_premium",
          "aavail_unlimited",
          "aavail_basic",
          "aavail_basic",
          "aavail_premium",
          "aavail_unlimited",
          "aavail_basic",
          "aavail_unlimited",
          "aavail_basic",
          "aavail_unlimited",
          "aavail_unlimited",
          "aavail_basic",
          "aavail_unlimited",
          "aavail_premium",
          "aavail_premium",
          "aavail_basic",
          "aavail_unlimited",
          "aavail_premium",
          "aavail_basic",
          "aavail_unlimited",
          "aavail_unlimited",
          "aavail_premium",
          "aavail_premium",
          "aavail_premium",
          "aavail_basic",
          "aavail_unlimited",
          "aavail_basic",
          "aavail_basic",
          "aavail_premium",
          "aavail_premium",
          "aavail_premium",
          "aavail_unlimited",
          "aavail_basic",
          "aavail_premium",
          "aavail_unlimited",
          "aavail_basic",
          "aavail_basic",
          "aavail_basic",
          "aavail_premium",
          "aavail_basic",
          "aavail_premium",
          "aavail_basic",
          "aavail_basic",
          "aavail_basic",
          "aavail_premium",
          "aavail_basic",
          "aavail_basic",
          "aavail_unlimited",
          "aavail_premium",
          "aavail_basic",
          "aavail_premium",
          "aavail_premium",
          "aavail_basic",
          "aavail_unlimited",
          "aavail_premium",
          "aavail_basic",
          "aavail_premium",
          "aavail_unlimited",
          "aavail_premium",
          "aavail_unlimited",
          "aavail_premium",
          "aavail_basic",
          "aavail_premium",
          "aavail_unlimited",
          "aavail_premium",
          "aavail_unlimited",
          "aavail_premium",
          "aavail_premium",
          "aavail_basic",
          "aavail_basic",
          "aavail_basic",
          "aavail_premium",
          "aavail_unlimited",
          "aavail_premium",
          "aavail_unlimited",
          "aavail_premium",
          "aavail_basic",
          "aavail_premium",
          "aavail_basic",
          "aavail_basic",
          "aavail_unlimited",
          "aavail_unlimited",
          "aavail_premium",
          "aavail_basic",
          "aavail_basic",
          "aavail_unlimited",
          "aavail_premium",
          "aavail_unlimited",
          "aavail_premium",
          "aavail_basic",
          "aavail_premium",
          "aavail_basic",
          "aavail_premium",
          "aavail_unlimited",
          "aavail_basic",
          "aavail_unlimited",
          "aavail_premium",
          "aavail_basic",
          "aavail_premium",
          "aavail_basic",
          "aavail_unlimited",
          "aavail_unlimited",
          "aavail_basic",
          "aavail_basic",
          "aavail_basic",
          "aavail_basic",
          "aavail_basic",
          "aavail_basic",
          "aavail_basic",
          "aavail_premium",
          "aavail_premium",
          "aavail_premium",
          "aavail_basic",
          "aavail_basic",
          "aavail_basic",
          "aavail_premium",
          "aavail_premium",
          "aavail_basic",
          "aavail_premium",
          "aavail_basic",
          "aavail_premium",
          "aavail_basic",
          "aavail_unlimited",
          "aavail_premium",
          "aavail_premium",
          "aavail_premium",
          "aavail_basic",
          "aavail_basic",
          "aavail_unlimited",
          "aavail_basic",
          "aavail_basic",
          "aavail_premium",
          "aavail_premium",
          "aavail_unlimited",
          "aavail_basic",
          "aavail_premium",
          "aavail_basic",
          "aavail_premium",
          "aavail_unlimited",
          "aavail_premium",
          "aavail_premium",
          "aavail_premium",
          "aavail_unlimited",
          "aavail_unlimited",
          "aavail_premium",
          "aavail_unlimited",
          "aavail_basic",
          "aavail_basic",
          "aavail_basic",
          "aavail_premium",
          "aavail_basic",
          "aavail_unlimited",
          "aavail_premium",
          "aavail_basic",
          "aavail_basic",
          "aavail_basic",
          "aavail_premium",
          "aavail_premium",
          "aavail_premium",
          "aavail_basic",
          "aavail_unlimited",
          "aavail_basic",
          "aavail_basic",
          "aavail_unlimited",
          "aavail_basic",
          "aavail_basic",
          "aavail_basic",
          "aavail_basic",
          "aavail_unlimited",
          "aavail_unlimited",
          "aavail_basic",
          "aavail_unlimited",
          "aavail_premium",
          "aavail_basic",
          "aavail_unlimited",
          "aavail_basic",
          "aavail_basic",
          "aavail_unlimited",
          "aavail_unlimited",
          "aavail_basic",
          "aavail_premium",
          "aavail_premium",
          "aavail_unlimited",
          "aavail_unlimited",
          "aavail_unlimited",
          "aavail_basic",
          "aavail_basic",
          "aavail_basic",
          "aavail_basic",
          "aavail_premium",
          "aavail_basic",
          "aavail_premium",
          "aavail_unlimited",
          "aavail_premium",
          "aavail_premium",
          "aavail_basic",
          "aavail_basic",
          "aavail_basic",
          "aavail_basic",
          "aavail_unlimited",
          "aavail_basic",
          "aavail_premium",
          "aavail_premium",
          "aavail_unlimited",
          "aavail_basic",
          "aavail_basic",
          "aavail_basic",
          "aavail_premium",
          "aavail_premium",
          "aavail_basic",
          "aavail_premium",
          "aavail_basic",
          "aavail_unlimited",
          "aavail_unlimited",
          "aavail_unlimited",
          "aavail_premium",
          "aavail_unlimited",
          "aavail_basic",
          "aavail_premium",
          "aavail_basic",
          "aavail_premium",
          "aavail_premium",
          "aavail_basic",
          "aavail_unlimited",
          "aavail_basic",
          "aavail_unlimited",
          "aavail_premium",
          "aavail_premium",
          "aavail_basic",
          "aavail_basic",
          "aavail_premium",
          "aavail_unlimited",
          "aavail_unlimited",
          "aavail_premium",
          "aavail_unlimited",
          "aavail_unlimited",
          "aavail_premium",
          "aavail_premium",
          "aavail_basic",
          "aavail_unlimited",
          "aavail_premium",
          "aavail_basic",
          "aavail_premium",
          "aavail_unlimited",
          "aavail_basic",
          "aavail_basic",
          "aavail_unlimited",
          "aavail_unlimited",
          "aavail_basic",
          "aavail_unlimited",
          "aavail_premium",
          "aavail_premium",
          "aavail_basic",
          "aavail_basic",
          "aavail_unlimited",
          "aavail_unlimited",
          "aavail_basic",
          "aavail_premium",
          "aavail_premium",
          "aavail_basic",
          "aavail_basic",
          "aavail_premium",
          "aavail_basic",
          "aavail_unlimited",
          "aavail_basic",
          "aavail_unlimited",
          "aavail_basic",
          "aavail_premium",
          "aavail_premium",
          "aavail_premium",
          "aavail_unlimited",
          "aavail_basic",
          "aavail_basic",
          "aavail_unlimited",
          "aavail_premium",
          "aavail_premium",
          "aavail_premium",
          "aavail_premium",
          "aavail_basic",
          "aavail_unlimited",
          "aavail_premium",
          "aavail_unlimited",
          "aavail_basic",
          "aavail_basic",
          "aavail_basic",
          "aavail_unlimited",
          "aavail_basic",
          "aavail_basic",
          "aavail_basic",
          "aavail_premium",
          "aavail_basic",
          "aavail_unlimited",
          "aavail_basic",
          "aavail_basic",
          "aavail_premium",
          "aavail_unlimited",
          "aavail_basic",
          "aavail_basic",
          "aavail_premium",
          "aavail_unlimited",
          "aavail_basic",
          "aavail_basic",
          "aavail_basic",
          "aavail_unlimited",
          "aavail_basic",
          "aavail_unlimited",
          "aavail_unlimited",
          "aavail_premium",
          "aavail_basic",
          "aavail_basic",
          "aavail_premium",
          "aavail_basic",
          "aavail_unlimited",
          "aavail_unlimited",
          "aavail_premium",
          "aavail_basic",
          "aavail_premium",
          "aavail_premium",
          "aavail_unlimited",
          "aavail_unlimited",
          "aavail_basic",
          "aavail_unlimited",
          "aavail_premium",
          "aavail_basic",
          "aavail_basic",
          "aavail_unlimited",
          "aavail_premium",
          "aavail_basic",
          "aavail_premium",
          "aavail_premium",
          "aavail_premium",
          "aavail_basic",
          "aavail_basic",
          "aavail_basic",
          "aavail_basic",
          "aavail_premium",
          "aavail_unlimited",
          "aavail_premium",
          "aavail_basic",
          "aavail_unlimited",
          "aavail_premium",
          "aavail_unlimited",
          "aavail_basic",
          "aavail_premium",
          "aavail_premium",
          "aavail_unlimited",
          "aavail_basic",
          "aavail_basic",
          "aavail_basic",
          "aavail_unlimited",
          "aavail_unlimited",
          "aavail_premium",
          "aavail_premium",
          "aavail_basic",
          "aavail_unlimited",
          "aavail_premium",
          "aavail_unlimited",
          "aavail_unlimited",
          "aavail_premium",
          "aavail_unlimited",
          "aavail_basic",
          "aavail_unlimited",
          "aavail_premium",
          "aavail_premium",
          "aavail_basic",
          "aavail_unlimited",
          "aavail_premium",
          "aavail_unlimited",
          "aavail_basic",
          "aavail_basic",
          "aavail_basic",
          "aavail_premium",
          "aavail_basic",
          "aavail_premium",
          "aavail_basic",
          "aavail_premium",
          "aavail_basic",
          "aavail_premium",
          "aavail_basic",
          "aavail_basic",
          "aavail_basic",
          "aavail_unlimited",
          "aavail_unlimited",
          "aavail_unlimited",
          "aavail_basic",
          "aavail_unlimited",
          "aavail_unlimited",
          "aavail_unlimited",
          "aavail_basic",
          "aavail_basic",
          "aavail_premium",
          "aavail_premium",
          "aavail_unlimited",
          "aavail_basic",
          "aavail_basic",
          "aavail_premium",
          "aavail_basic",
          "aavail_basic",
          "aavail_unlimited",
          "aavail_basic",
          "aavail_unlimited",
          "aavail_premium",
          "aavail_basic",
          "aavail_unlimited",
          "aavail_unlimited",
          "aavail_basic",
          "aavail_premium",
          "aavail_basic",
          "aavail_basic",
          "aavail_premium",
          "aavail_basic",
          "aavail_unlimited",
          "aavail_basic",
          "aavail_premium",
          "aavail_basic",
          "aavail_unlimited",
          "aavail_unlimited",
          "aavail_premium",
          "aavail_basic",
          "aavail_unlimited",
          "aavail_basic",
          "aavail_premium",
          "aavail_premium",
          "aavail_basic",
          "aavail_premium",
          "aavail_basic",
          "aavail_unlimited",
          "aavail_premium",
          "aavail_unlimited",
          "aavail_basic",
          "aavail_unlimited",
          "aavail_unlimited",
          "aavail_unlimited",
          "aavail_premium",
          "aavail_premium",
          "aavail_premium",
          "aavail_basic",
          "aavail_premium",
          "aavail_unlimited",
          "aavail_unlimited",
          "aavail_unlimited",
          "aavail_premium",
          "aavail_basic",
          "aavail_premium",
          "aavail_premium",
          "aavail_premium",
          "aavail_premium",
          "aavail_basic",
          "aavail_unlimited",
          "aavail_basic",
          "aavail_premium",
          "aavail_unlimited",
          "aavail_premium",
          "aavail_basic",
          "aavail_premium",
          "aavail_basic",
          "aavail_basic",
          "aavail_basic",
          "aavail_basic",
          "aavail_basic",
          "aavail_unlimited",
          "aavail_basic",
          "aavail_premium",
          "aavail_premium",
          "aavail_basic",
          "aavail_basic",
          "aavail_basic",
          "aavail_basic",
          "aavail_premium",
          "aavail_basic",
          "aavail_basic",
          "aavail_basic",
          "aavail_premium",
          "aavail_unlimited",
          "aavail_basic",
          "aavail_premium",
          "aavail_unlimited",
          "aavail_basic",
          "aavail_basic",
          "aavail_premium",
          "aavail_unlimited",
          "aavail_unlimited",
          "aavail_premium",
          "aavail_premium",
          "aavail_basic",
          "aavail_premium",
          "aavail_basic",
          "aavail_basic",
          "aavail_unlimited",
          "aavail_basic",
          "aavail_unlimited",
          "aavail_basic",
          "aavail_basic",
          "aavail_premium",
          "aavail_unlimited",
          "aavail_premium",
          "aavail_premium",
          "aavail_unlimited",
          "aavail_basic",
          "aavail_basic",
          "aavail_unlimited",
          "aavail_basic",
          "aavail_unlimited",
          "aavail_basic",
          "aavail_basic",
          "aavail_premium",
          "aavail_unlimited",
          "aavail_unlimited",
          "aavail_premium",
          "aavail_basic",
          "aavail_basic",
          "aavail_unlimited",
          "aavail_unlimited",
          "aavail_unlimited",
          "aavail_basic",
          "aavail_unlimited",
          "aavail_unlimited",
          "aavail_basic",
          "aavail_basic",
          "aavail_basic",
          "aavail_premium",
          "aavail_basic",
          "aavail_premium",
          "aavail_unlimited",
          "aavail_unlimited",
          "aavail_premium",
          "aavail_basic",
          "aavail_basic",
          "aavail_unlimited",
          "aavail_unlimited",
          "aavail_premium",
          "aavail_unlimited",
          "aavail_basic",
          "aavail_unlimited",
          "aavail_basic",
          "aavail_unlimited",
          "aavail_premium",
          "aavail_basic",
          "aavail_basic",
          "aavail_basic",
          "aavail_unlimited",
          "aavail_basic",
          "aavail_basic",
          "aavail_premium",
          "aavail_basic",
          "aavail_basic",
          "aavail_premium",
          "aavail_unlimited",
          "aavail_premium",
          "aavail_unlimited",
          "aavail_premium",
          "aavail_unlimited",
          "aavail_basic",
          "aavail_unlimited",
          "aavail_unlimited",
          "aavail_premium",
          "aavail_basic",
          "aavail_basic",
          "aavail_premium",
          "aavail_basic",
          "aavail_unlimited",
          "aavail_unlimited",
          "aavail_unlimited",
          "aavail_basic",
          "aavail_basic",
          "aavail_premium",
          "aavail_basic",
          "aavail_unlimited",
          "aavail_basic",
          "aavail_basic",
          "aavail_premium",
          "aavail_basic",
          "aavail_basic",
          "aavail_basic",
          "aavail_unlimited",
          "aavail_unlimited",
          "aavail_unlimited",
          "aavail_basic",
          "aavail_unlimited",
          "aavail_unlimited",
          "aavail_unlimited",
          "aavail_basic",
          "aavail_basic",
          "aavail_basic",
          "aavail_unlimited",
          "aavail_unlimited",
          "aavail_unlimited",
          "aavail_unlimited",
          "aavail_basic",
          "aavail_basic",
          "aavail_unlimited",
          "aavail_unlimited",
          "aavail_unlimited",
          "aavail_premium",
          "aavail_premium",
          "aavail_unlimited",
          "aavail_unlimited",
          "aavail_basic",
          "aavail_unlimited",
          "aavail_premium",
          "aavail_basic",
          "aavail_basic",
          "aavail_premium",
          "aavail_premium",
          "aavail_premium",
          "aavail_premium",
          "aavail_basic",
          "aavail_basic",
          "aavail_premium",
          "aavail_premium",
          "aavail_basic",
          "aavail_unlimited",
          "aavail_premium",
          "aavail_basic",
          "aavail_premium",
          "aavail_basic",
          "aavail_basic",
          "aavail_unlimited",
          "aavail_premium",
          "aavail_unlimited",
          "aavail_premium",
          "aavail_unlimited",
          "aavail_unlimited",
          "aavail_basic",
          "aavail_premium",
          "aavail_unlimited",
          "aavail_unlimited",
          "aavail_premium",
          "aavail_basic",
          "aavail_premium",
          "aavail_premium",
          "aavail_unlimited",
          "aavail_basic",
          "aavail_premium",
          "aavail_basic",
          "aavail_premium",
          "aavail_premium",
          "aavail_unlimited",
          "aavail_unlimited",
          "aavail_unlimited",
          "aavail_premium",
          "aavail_premium",
          "aavail_basic",
          "aavail_premium",
          "aavail_unlimited",
          "aavail_premium",
          "aavail_premium",
          "aavail_premium",
          "aavail_unlimited",
          "aavail_unlimited",
          "aavail_unlimited",
          "aavail_premium",
          "aavail_unlimited",
          "aavail_basic",
          "aavail_basic",
          "aavail_unlimited",
          "aavail_premium",
          "aavail_premium",
          "aavail_basic",
          "aavail_unlimited",
          "aavail_basic",
          "aavail_premium",
          "aavail_basic",
          "aavail_premium",
          "aavail_unlimited",
          "aavail_premium",
          "aavail_basic",
          "aavail_basic",
          "aavail_premium",
          "aavail_premium",
          "aavail_basic",
          "aavail_premium",
          "aavail_basic",
          "aavail_premium",
          "aavail_premium",
          "aavail_unlimited",
          "aavail_basic",
          "aavail_basic",
          "aavail_unlimited",
          "aavail_premium",
          "aavail_premium",
          "aavail_basic",
          "aavail_premium",
          "aavail_basic",
          "aavail_basic",
          "aavail_unlimited",
          "aavail_premium",
          "aavail_basic",
          "aavail_unlimited",
          "aavail_basic",
          "aavail_unlimited",
          "aavail_premium",
          "aavail_basic",
          "aavail_unlimited",
          "aavail_basic",
          "aavail_unlimited",
          "aavail_unlimited",
          "aavail_unlimited",
          "aavail_unlimited",
          "aavail_premium",
          "aavail_unlimited",
          "aavail_basic",
          "aavail_unlimited",
          "aavail_unlimited",
          "aavail_unlimited",
          "aavail_unlimited",
          "aavail_premium",
          "aavail_premium",
          "aavail_premium",
          "aavail_basic",
          "aavail_basic",
          "aavail_unlimited",
          "aavail_basic",
          "aavail_premium",
          "aavail_basic",
          "aavail_basic",
          "aavail_premium",
          "aavail_premium",
          "aavail_basic",
          "aavail_basic",
          "aavail_basic",
          "aavail_basic",
          "aavail_unlimited",
          "aavail_premium",
          "aavail_unlimited",
          "aavail_basic",
          "aavail_premium",
          "aavail_basic",
          "aavail_premium",
          "aavail_unlimited",
          "aavail_premium",
          "aavail_unlimited",
          "aavail_premium",
          "aavail_unlimited",
          "aavail_basic",
          "aavail_basic",
          "aavail_premium",
          "aavail_basic",
          "aavail_basic",
          "aavail_premium",
          "aavail_basic",
          "aavail_basic",
          "aavail_unlimited",
          "aavail_basic",
          "aavail_unlimited",
          "aavail_premium",
          "aavail_premium",
          "aavail_unlimited",
          "aavail_premium",
          "aavail_premium",
          "aavail_premium",
          "aavail_unlimited",
          "aavail_unlimited",
          "aavail_basic",
          "aavail_premium",
          "aavail_basic",
          "aavail_unlimited",
          "aavail_premium",
          "aavail_basic",
          "aavail_premium",
          "aavail_basic",
          "aavail_unlimited",
          "aavail_basic",
          "aavail_basic",
          "aavail_basic",
          "aavail_unlimited",
          "aavail_basic",
          "aavail_basic",
          "aavail_premium",
          "aavail_premium",
          "aavail_premium",
          "aavail_unlimited",
          "aavail_basic",
          "aavail_unlimited",
          "aavail_premium",
          "aavail_basic",
          "aavail_basic",
          "aavail_basic",
          "aavail_basic",
          "aavail_basic",
          "aavail_unlimited",
          "aavail_basic",
          "aavail_unlimited",
          "aavail_premium",
          "aavail_unlimited",
          "aavail_unlimited",
          "aavail_premium",
          "aavail_premium",
          "aavail_basic",
          "aavail_basic",
          "aavail_basic",
          "aavail_premium",
          "aavail_premium",
          "aavail_premium",
          "aavail_basic",
          "aavail_premium",
          "aavail_premium",
          "aavail_unlimited",
          "aavail_premium",
          "aavail_basic",
          "aavail_basic",
          "aavail_premium",
          "aavail_basic",
          "aavail_basic",
          "aavail_basic",
          "aavail_basic",
          "aavail_premium",
          "aavail_unlimited",
          "aavail_premium",
          "aavail_unlimited",
          "aavail_unlimited",
          "aavail_basic",
          "aavail_unlimited",
          "aavail_premium",
          "aavail_premium",
          "aavail_basic",
          "aavail_basic",
          "aavail_premium",
          "aavail_unlimited",
          "aavail_basic",
          "aavail_basic",
          "aavail_premium",
          "aavail_premium",
          "aavail_basic",
          "aavail_basic",
          "aavail_premium",
          "aavail_unlimited",
          "aavail_premium",
          "aavail_basic",
          "aavail_unlimited",
          "aavail_basic",
          "aavail_premium",
          "aavail_premium",
          "aavail_basic",
          "aavail_basic",
          "aavail_unlimited",
          "aavail_premium",
          "aavail_unlimited",
          "aavail_premium",
          "aavail_unlimited",
          "aavail_unlimited",
          "aavail_premium",
          "aavail_unlimited",
          "aavail_basic",
          "aavail_basic",
          "aavail_basic",
          "aavail_unlimited",
          "aavail_basic",
          "aavail_basic",
          "aavail_premium",
          "aavail_basic",
          "aavail_basic",
          "aavail_premium",
          "aavail_basic",
          "aavail_basic",
          "aavail_basic",
          "aavail_unlimited",
          "aavail_basic",
          "aavail_premium",
          "aavail_basic",
          "aavail_premium",
          "aavail_basic",
          "aavail_premium",
          "aavail_basic",
          "aavail_premium",
          "aavail_unlimited",
          "aavail_basic",
          "aavail_basic",
          "aavail_unlimited",
          "aavail_basic",
          "aavail_basic",
          "aavail_premium",
          "aavail_premium",
          "aavail_basic",
          "aavail_premium",
          "aavail_unlimited",
          "aavail_unlimited",
          "aavail_premium",
          "aavail_unlimited",
          "aavail_unlimited",
          "aavail_basic",
          "aavail_basic",
          "aavail_premium",
          "aavail_premium",
          "aavail_unlimited",
          "aavail_unlimited",
          "aavail_premium",
          "aavail_unlimited",
          "aavail_basic",
          "aavail_basic",
          "aavail_unlimited",
          "aavail_basic",
          "aavail_unlimited",
          "aavail_basic",
          "aavail_unlimited",
          "aavail_basic",
          "aavail_basic",
          "aavail_unlimited",
          "aavail_unlimited",
          "aavail_premium",
          "aavail_basic",
          "aavail_premium",
          "aavail_premium",
          "aavail_premium",
          "aavail_premium",
          "aavail_premium",
          "aavail_premium",
          "aavail_basic",
          "aavail_basic",
          "aavail_premium",
          "aavail_premium",
          "aavail_unlimited",
          "aavail_unlimited",
          "aavail_premium",
          "aavail_basic",
          "aavail_basic",
          "aavail_basic",
          "aavail_premium",
          "aavail_premium",
          "aavail_premium",
          "aavail_basic",
          "aavail_premium",
          "aavail_premium",
          "aavail_unlimited",
          "aavail_basic",
          "aavail_unlimited",
          "aavail_basic",
          "aavail_basic",
          "aavail_unlimited",
          "aavail_premium",
          "aavail_basic",
          "aavail_premium",
          "aavail_unlimited",
          "aavail_basic",
          "aavail_premium",
          "aavail_basic",
          "aavail_premium",
          "aavail_basic",
          "aavail_basic",
          "aavail_premium",
          "aavail_basic",
          "aavail_basic",
          "aavail_basic",
          "aavail_premium",
          "aavail_unlimited",
          "aavail_unlimited",
          "aavail_basic",
          "aavail_unlimited",
          "aavail_basic",
          "aavail_unlimited",
          "aavail_unlimited",
          "aavail_unlimited"
         ],
         "xaxis": "x",
         "y": [
          23,
          12,
          22,
          19,
          23,
          16,
          18,
          20,
          24,
          20,
          18,
          1,
          21,
          22,
          20,
          5,
          24,
          17,
          19,
          5,
          5,
          19,
          23,
          14,
          15,
          23,
          18,
          14,
          18,
          21,
          20,
          26,
          19,
          9,
          14,
          26,
          23,
          21,
          20,
          6,
          19,
          21,
          21,
          23,
          7,
          17,
          5,
          19,
          17,
          10,
          10,
          22,
          22,
          16,
          18,
          20,
          15,
          18,
          6,
          15,
          19,
          16,
          19,
          20,
          8,
          20,
          21,
          23,
          19,
          23,
          24,
          20,
          10,
          23,
          6,
          22,
          20,
          14,
          18,
          10,
          18,
          22,
          23,
          22,
          21,
          23,
          15,
          18,
          20,
          20,
          17,
          21,
          20,
          10,
          21,
          18,
          13,
          18,
          22,
          17,
          24,
          23,
          16,
          17,
          5,
          23,
          22,
          10,
          15,
          21,
          22,
          19,
          25,
          25,
          18,
          18,
          16,
          24,
          18,
          12,
          15,
          20,
          21,
          13,
          16,
          17,
          15,
          22,
          29,
          16,
          20,
          20,
          21,
          11,
          20,
          19,
          16,
          22,
          17,
          19,
          15,
          20,
          20,
          24,
          19,
          17,
          17,
          18,
          17,
          19,
          13,
          22,
          19,
          7,
          18,
          22,
          23,
          25,
          23,
          7,
          21,
          17,
          17,
          20,
          17,
          17,
          19,
          19,
          17,
          18,
          10,
          16,
          5,
          15,
          9,
          21,
          22,
          20,
          18,
          20,
          18,
          18,
          17,
          6,
          20,
          22,
          18,
          25,
          22,
          15,
          15,
          25,
          17,
          20,
          18,
          20,
          18,
          19,
          14,
          19,
          19,
          8,
          21,
          8,
          19,
          14,
          18,
          18,
          16,
          20,
          25,
          12,
          19,
          18,
          25,
          15,
          17,
          23,
          22,
          18,
          21,
          24,
          25,
          13,
          17,
          13,
          8,
          16,
          21,
          18,
          21,
          14,
          20,
          17,
          16,
          16,
          22,
          22,
          18,
          16,
          25,
          21,
          9,
          13,
          16,
          20,
          14,
          10,
          16,
          22,
          9,
          -1,
          15,
          19,
          19,
          16,
          16,
          21,
          6,
          13,
          21,
          23,
          14,
          25,
          21,
          14,
          9,
          21,
          21,
          24,
          19,
          22,
          8,
          23,
          15,
          18,
          18,
          17,
          22,
          14,
          19,
          18,
          21,
          22,
          20,
          19,
          22,
          23,
          21,
          23,
          12,
          5,
          17,
          22,
          19,
          20,
          6,
          27,
          20,
          22,
          18,
          16,
          21,
          12,
          20,
          18,
          17,
          22,
          16,
          13,
          10,
          9,
          20,
          1,
          23,
          15,
          15,
          8,
          19,
          22,
          21,
          11,
          9,
          4,
          12,
          12,
          21,
          9,
          19,
          20,
          21,
          20,
          23,
          21,
          17,
          18,
          14,
          12,
          18,
          10,
          18,
          22,
          19,
          17,
          21,
          19,
          15,
          21,
          22,
          18,
          21,
          14,
          26,
          22,
          22,
          25,
          19,
          11,
          20,
          18,
          12,
          17,
          22,
          21,
          17,
          15,
          10,
          25,
          17,
          15,
          14,
          23,
          15,
          9,
          22,
          20,
          19,
          22,
          17,
          17,
          18,
          13,
          20,
          24,
          11,
          20,
          19,
          18,
          15,
          13,
          11,
          20,
          3,
          10,
          18,
          17,
          15,
          13,
          18,
          21,
          16,
          22,
          21,
          18,
          25,
          22,
          19,
          14,
          25,
          12,
          22,
          21,
          18,
          21,
          23,
          16,
          13,
          18,
          22,
          17,
          20,
          6,
          20,
          15,
          16,
          20,
          19,
          24,
          22,
          6,
          8,
          14,
          17,
          19,
          20,
          25,
          19,
          28,
          19,
          21,
          22,
          19,
          18,
          16,
          22,
          20,
          20,
          13,
          22,
          15,
          19,
          23,
          12,
          16,
          14,
          12,
          18,
          11,
          10,
          19,
          8,
          24,
          17,
          18,
          8,
          22,
          22,
          11,
          18,
          13,
          19,
          19,
          20,
          11,
          13,
          22,
          17,
          12,
          23,
          18,
          8,
          21,
          11,
          4,
          15,
          17,
          16,
          15,
          5,
          13,
          19,
          21,
          7,
          13,
          26,
          21,
          21,
          16,
          27,
          19,
          19,
          20,
          11,
          19,
          10,
          20,
          15,
          17,
          23,
          16,
          18,
          20,
          24,
          19,
          16,
          20,
          17,
          19,
          17,
          18,
          16,
          16,
          20,
          4,
          18,
          19,
          17,
          5,
          21,
          21,
          19,
          19,
          17,
          21,
          20,
          17,
          17,
          24,
          8,
          22,
          15,
          17,
          14,
          18,
          18,
          22,
          20,
          20,
          16,
          21,
          9,
          17,
          20,
          24,
          19,
          20,
          22,
          13,
          16,
          14,
          22,
          22,
          21,
          21,
          21,
          16,
          20,
          22,
          13,
          14,
          20,
          23,
          17,
          15,
          22,
          19,
          16,
          17,
          15,
          12,
          20,
          15,
          21,
          4,
          15,
          14,
          21,
          24,
          22,
          22,
          18,
          8,
          18,
          23,
          21,
          18,
          21,
          25,
          19,
          11,
          18,
          10,
          10,
          25,
          14,
          20,
          20,
          21,
          18,
          7,
          19,
          23,
          22,
          20,
          9,
          23,
          21,
          22,
          21,
          20,
          19,
          13,
          9,
          20,
          13,
          16,
          16,
          25,
          24,
          19,
          14,
          8,
          18,
          16,
          25,
          18,
          10,
          22,
          23,
          14,
          11,
          24,
          11,
          20,
          12,
          22,
          12,
          22,
          18,
          8,
          19,
          19,
          18,
          21,
          19,
          16,
          20,
          17,
          20,
          10,
          17,
          22,
          12,
          18,
          21,
          18,
          19,
          21,
          18,
          16,
          16,
          23,
          17,
          18,
          24,
          14,
          23,
          12,
          19,
          17,
          18,
          20,
          14,
          22,
          8,
          21,
          19,
          20,
          5,
          13,
          19,
          18,
          16,
          16,
          20,
          23,
          8,
          10,
          20,
          23,
          17,
          23,
          7,
          17,
          20,
          17,
          20,
          21,
          14,
          17,
          19,
          12,
          18,
          18,
          19,
          21,
          25,
          23,
          18,
          20,
          21,
          18,
          12,
          16,
          13,
          17,
          17,
          22,
          20,
          17,
          17,
          13,
          16,
          18,
          21,
          25,
          22,
          20,
          22,
          17,
          15,
          19,
          23,
          4,
          21,
          20,
          17,
          15,
          18,
          2,
          17,
          18,
          22,
          17,
          24,
          21,
          17,
          16,
          22,
          19,
          27,
          15,
          19,
          16,
          11,
          23,
          19,
          16,
          16,
          23,
          10,
          22,
          17,
          16,
          10,
          17,
          22,
          16,
          22,
          12,
          23,
          22,
          15,
          24,
          22,
          21,
          16,
          21,
          22,
          14,
          22,
          14,
          23,
          22,
          14,
          21,
          20,
          15,
          20,
          14,
          17,
          19,
          21,
          22,
          18,
          21,
          18,
          13,
          13,
          25,
          17,
          23,
          17,
          23,
          18,
          20,
          20,
          20,
          19,
          22,
          19,
          16,
          18,
          17,
          15,
          20,
          23,
          16,
          21,
          9,
          22,
          14,
          23,
          18,
          16,
          10,
          18,
          21,
          19,
          16,
          20,
          3,
          8,
          19,
          21,
          27,
          22,
          19,
          17,
          21,
          18,
          16,
          12,
          20,
          20,
          20,
          20,
          15,
          5,
          16,
          17,
          23,
          19,
          18,
          16,
          23,
          15,
          20,
          20,
          21,
          22,
          17,
          23,
          14,
          12,
          20,
          21,
          22,
          15,
          20,
          22,
          24,
          22,
          13,
          23,
          6,
          21,
          10,
          15,
          21,
          9,
          17,
          14,
          17,
          17,
          19,
          18,
          21,
          19,
          20,
          20,
          14,
          17,
          18,
          22,
          20,
          16,
          18,
          22,
          21,
          16,
          20,
          13,
          18,
          19,
          14,
          15,
          17,
          18,
          9,
          14,
          22,
          14,
          18,
          18,
          23,
          20,
          19,
          25,
          19,
          19,
          9,
          18,
          19,
          19,
          17,
          19,
          20,
          19,
          18,
          18,
          18,
          24,
          18,
          16,
          21,
          22,
          18,
          22,
          13,
          23,
          23,
          20,
          20,
          24,
          21,
          20,
          12,
          17,
          22,
          21,
          12,
          26,
          21,
          20,
          22,
          15,
          20,
          18,
          13,
          18,
          22,
          17,
          17,
          22,
          18,
          20,
          8,
          17,
          19,
          25,
          18,
          19,
          20,
          22,
          19,
          18,
          17,
          13,
          21,
          11,
          20,
          22,
          7,
          21,
          14,
          24,
          17,
          16,
          18
         ],
         "yaxis": "y"
        }
       ],
       "layout": {
        "barmode": "relative",
        "legend": {
         "tracegroupgap": 0
        },
        "template": {
         "data": {
          "bar": [
           {
            "error_x": {
             "color": "#2a3f5f"
            },
            "error_y": {
             "color": "#2a3f5f"
            },
            "marker": {
             "line": {
              "color": "#E5ECF6",
              "width": 0.5
             }
            },
            "type": "bar"
           }
          ],
          "barpolar": [
           {
            "marker": {
             "line": {
              "color": "#E5ECF6",
              "width": 0.5
             }
            },
            "type": "barpolar"
           }
          ],
          "carpet": [
           {
            "aaxis": {
             "endlinecolor": "#2a3f5f",
             "gridcolor": "white",
             "linecolor": "white",
             "minorgridcolor": "white",
             "startlinecolor": "#2a3f5f"
            },
            "baxis": {
             "endlinecolor": "#2a3f5f",
             "gridcolor": "white",
             "linecolor": "white",
             "minorgridcolor": "white",
             "startlinecolor": "#2a3f5f"
            },
            "type": "carpet"
           }
          ],
          "choropleth": [
           {
            "colorbar": {
             "outlinewidth": 0,
             "ticks": ""
            },
            "type": "choropleth"
           }
          ],
          "contour": [
           {
            "colorbar": {
             "outlinewidth": 0,
             "ticks": ""
            },
            "colorscale": [
             [
              0,
              "#0d0887"
             ],
             [
              0.1111111111111111,
              "#46039f"
             ],
             [
              0.2222222222222222,
              "#7201a8"
             ],
             [
              0.3333333333333333,
              "#9c179e"
             ],
             [
              0.4444444444444444,
              "#bd3786"
             ],
             [
              0.5555555555555556,
              "#d8576b"
             ],
             [
              0.6666666666666666,
              "#ed7953"
             ],
             [
              0.7777777777777778,
              "#fb9f3a"
             ],
             [
              0.8888888888888888,
              "#fdca26"
             ],
             [
              1,
              "#f0f921"
             ]
            ],
            "type": "contour"
           }
          ],
          "contourcarpet": [
           {
            "colorbar": {
             "outlinewidth": 0,
             "ticks": ""
            },
            "type": "contourcarpet"
           }
          ],
          "heatmap": [
           {
            "colorbar": {
             "outlinewidth": 0,
             "ticks": ""
            },
            "colorscale": [
             [
              0,
              "#0d0887"
             ],
             [
              0.1111111111111111,
              "#46039f"
             ],
             [
              0.2222222222222222,
              "#7201a8"
             ],
             [
              0.3333333333333333,
              "#9c179e"
             ],
             [
              0.4444444444444444,
              "#bd3786"
             ],
             [
              0.5555555555555556,
              "#d8576b"
             ],
             [
              0.6666666666666666,
              "#ed7953"
             ],
             [
              0.7777777777777778,
              "#fb9f3a"
             ],
             [
              0.8888888888888888,
              "#fdca26"
             ],
             [
              1,
              "#f0f921"
             ]
            ],
            "type": "heatmap"
           }
          ],
          "heatmapgl": [
           {
            "colorbar": {
             "outlinewidth": 0,
             "ticks": ""
            },
            "colorscale": [
             [
              0,
              "#0d0887"
             ],
             [
              0.1111111111111111,
              "#46039f"
             ],
             [
              0.2222222222222222,
              "#7201a8"
             ],
             [
              0.3333333333333333,
              "#9c179e"
             ],
             [
              0.4444444444444444,
              "#bd3786"
             ],
             [
              0.5555555555555556,
              "#d8576b"
             ],
             [
              0.6666666666666666,
              "#ed7953"
             ],
             [
              0.7777777777777778,
              "#fb9f3a"
             ],
             [
              0.8888888888888888,
              "#fdca26"
             ],
             [
              1,
              "#f0f921"
             ]
            ],
            "type": "heatmapgl"
           }
          ],
          "histogram": [
           {
            "marker": {
             "colorbar": {
              "outlinewidth": 0,
              "ticks": ""
             }
            },
            "type": "histogram"
           }
          ],
          "histogram2d": [
           {
            "colorbar": {
             "outlinewidth": 0,
             "ticks": ""
            },
            "colorscale": [
             [
              0,
              "#0d0887"
             ],
             [
              0.1111111111111111,
              "#46039f"
             ],
             [
              0.2222222222222222,
              "#7201a8"
             ],
             [
              0.3333333333333333,
              "#9c179e"
             ],
             [
              0.4444444444444444,
              "#bd3786"
             ],
             [
              0.5555555555555556,
              "#d8576b"
             ],
             [
              0.6666666666666666,
              "#ed7953"
             ],
             [
              0.7777777777777778,
              "#fb9f3a"
             ],
             [
              0.8888888888888888,
              "#fdca26"
             ],
             [
              1,
              "#f0f921"
             ]
            ],
            "type": "histogram2d"
           }
          ],
          "histogram2dcontour": [
           {
            "colorbar": {
             "outlinewidth": 0,
             "ticks": ""
            },
            "colorscale": [
             [
              0,
              "#0d0887"
             ],
             [
              0.1111111111111111,
              "#46039f"
             ],
             [
              0.2222222222222222,
              "#7201a8"
             ],
             [
              0.3333333333333333,
              "#9c179e"
             ],
             [
              0.4444444444444444,
              "#bd3786"
             ],
             [
              0.5555555555555556,
              "#d8576b"
             ],
             [
              0.6666666666666666,
              "#ed7953"
             ],
             [
              0.7777777777777778,
              "#fb9f3a"
             ],
             [
              0.8888888888888888,
              "#fdca26"
             ],
             [
              1,
              "#f0f921"
             ]
            ],
            "type": "histogram2dcontour"
           }
          ],
          "mesh3d": [
           {
            "colorbar": {
             "outlinewidth": 0,
             "ticks": ""
            },
            "type": "mesh3d"
           }
          ],
          "parcoords": [
           {
            "line": {
             "colorbar": {
              "outlinewidth": 0,
              "ticks": ""
             }
            },
            "type": "parcoords"
           }
          ],
          "pie": [
           {
            "automargin": true,
            "type": "pie"
           }
          ],
          "scatter": [
           {
            "marker": {
             "colorbar": {
              "outlinewidth": 0,
              "ticks": ""
             }
            },
            "type": "scatter"
           }
          ],
          "scatter3d": [
           {
            "line": {
             "colorbar": {
              "outlinewidth": 0,
              "ticks": ""
             }
            },
            "marker": {
             "colorbar": {
              "outlinewidth": 0,
              "ticks": ""
             }
            },
            "type": "scatter3d"
           }
          ],
          "scattercarpet": [
           {
            "marker": {
             "colorbar": {
              "outlinewidth": 0,
              "ticks": ""
             }
            },
            "type": "scattercarpet"
           }
          ],
          "scattergeo": [
           {
            "marker": {
             "colorbar": {
              "outlinewidth": 0,
              "ticks": ""
             }
            },
            "type": "scattergeo"
           }
          ],
          "scattergl": [
           {
            "marker": {
             "colorbar": {
              "outlinewidth": 0,
              "ticks": ""
             }
            },
            "type": "scattergl"
           }
          ],
          "scattermapbox": [
           {
            "marker": {
             "colorbar": {
              "outlinewidth": 0,
              "ticks": ""
             }
            },
            "type": "scattermapbox"
           }
          ],
          "scatterpolar": [
           {
            "marker": {
             "colorbar": {
              "outlinewidth": 0,
              "ticks": ""
             }
            },
            "type": "scatterpolar"
           }
          ],
          "scatterpolargl": [
           {
            "marker": {
             "colorbar": {
              "outlinewidth": 0,
              "ticks": ""
             }
            },
            "type": "scatterpolargl"
           }
          ],
          "scatterternary": [
           {
            "marker": {
             "colorbar": {
              "outlinewidth": 0,
              "ticks": ""
             }
            },
            "type": "scatterternary"
           }
          ],
          "surface": [
           {
            "colorbar": {
             "outlinewidth": 0,
             "ticks": ""
            },
            "colorscale": [
             [
              0,
              "#0d0887"
             ],
             [
              0.1111111111111111,
              "#46039f"
             ],
             [
              0.2222222222222222,
              "#7201a8"
             ],
             [
              0.3333333333333333,
              "#9c179e"
             ],
             [
              0.4444444444444444,
              "#bd3786"
             ],
             [
              0.5555555555555556,
              "#d8576b"
             ],
             [
              0.6666666666666666,
              "#ed7953"
             ],
             [
              0.7777777777777778,
              "#fb9f3a"
             ],
             [
              0.8888888888888888,
              "#fdca26"
             ],
             [
              1,
              "#f0f921"
             ]
            ],
            "type": "surface"
           }
          ],
          "table": [
           {
            "cells": {
             "fill": {
              "color": "#EBF0F8"
             },
             "line": {
              "color": "white"
             }
            },
            "header": {
             "fill": {
              "color": "#C8D4E3"
             },
             "line": {
              "color": "white"
             }
            },
            "type": "table"
           }
          ]
         },
         "layout": {
          "annotationdefaults": {
           "arrowcolor": "#2a3f5f",
           "arrowhead": 0,
           "arrowwidth": 1
          },
          "autotypenumbers": "strict",
          "coloraxis": {
           "colorbar": {
            "outlinewidth": 0,
            "ticks": ""
           }
          },
          "colorscale": {
           "diverging": [
            [
             0,
             "#8e0152"
            ],
            [
             0.1,
             "#c51b7d"
            ],
            [
             0.2,
             "#de77ae"
            ],
            [
             0.3,
             "#f1b6da"
            ],
            [
             0.4,
             "#fde0ef"
            ],
            [
             0.5,
             "#f7f7f7"
            ],
            [
             0.6,
             "#e6f5d0"
            ],
            [
             0.7,
             "#b8e186"
            ],
            [
             0.8,
             "#7fbc41"
            ],
            [
             0.9,
             "#4d9221"
            ],
            [
             1,
             "#276419"
            ]
           ],
           "sequential": [
            [
             0,
             "#0d0887"
            ],
            [
             0.1111111111111111,
             "#46039f"
            ],
            [
             0.2222222222222222,
             "#7201a8"
            ],
            [
             0.3333333333333333,
             "#9c179e"
            ],
            [
             0.4444444444444444,
             "#bd3786"
            ],
            [
             0.5555555555555556,
             "#d8576b"
            ],
            [
             0.6666666666666666,
             "#ed7953"
            ],
            [
             0.7777777777777778,
             "#fb9f3a"
            ],
            [
             0.8888888888888888,
             "#fdca26"
            ],
            [
             1,
             "#f0f921"
            ]
           ],
           "sequentialminus": [
            [
             0,
             "#0d0887"
            ],
            [
             0.1111111111111111,
             "#46039f"
            ],
            [
             0.2222222222222222,
             "#7201a8"
            ],
            [
             0.3333333333333333,
             "#9c179e"
            ],
            [
             0.4444444444444444,
             "#bd3786"
            ],
            [
             0.5555555555555556,
             "#d8576b"
            ],
            [
             0.6666666666666666,
             "#ed7953"
            ],
            [
             0.7777777777777778,
             "#fb9f3a"
            ],
            [
             0.8888888888888888,
             "#fdca26"
            ],
            [
             1,
             "#f0f921"
            ]
           ]
          },
          "colorway": [
           "#636efa",
           "#EF553B",
           "#00cc96",
           "#ab63fa",
           "#FFA15A",
           "#19d3f3",
           "#FF6692",
           "#B6E880",
           "#FF97FF",
           "#FECB52"
          ],
          "font": {
           "color": "#2a3f5f"
          },
          "geo": {
           "bgcolor": "white",
           "lakecolor": "white",
           "landcolor": "#E5ECF6",
           "showlakes": true,
           "showland": true,
           "subunitcolor": "white"
          },
          "hoverlabel": {
           "align": "left"
          },
          "hovermode": "closest",
          "mapbox": {
           "style": "light"
          },
          "paper_bgcolor": "white",
          "plot_bgcolor": "#E5ECF6",
          "polar": {
           "angularaxis": {
            "gridcolor": "white",
            "linecolor": "white",
            "ticks": ""
           },
           "bgcolor": "#E5ECF6",
           "radialaxis": {
            "gridcolor": "white",
            "linecolor": "white",
            "ticks": ""
           }
          },
          "scene": {
           "xaxis": {
            "backgroundcolor": "#E5ECF6",
            "gridcolor": "white",
            "gridwidth": 2,
            "linecolor": "white",
            "showbackground": true,
            "ticks": "",
            "zerolinecolor": "white"
           },
           "yaxis": {
            "backgroundcolor": "#E5ECF6",
            "gridcolor": "white",
            "gridwidth": 2,
            "linecolor": "white",
            "showbackground": true,
            "ticks": "",
            "zerolinecolor": "white"
           },
           "zaxis": {
            "backgroundcolor": "#E5ECF6",
            "gridcolor": "white",
            "gridwidth": 2,
            "linecolor": "white",
            "showbackground": true,
            "ticks": "",
            "zerolinecolor": "white"
           }
          },
          "shapedefaults": {
           "line": {
            "color": "#2a3f5f"
           }
          },
          "ternary": {
           "aaxis": {
            "gridcolor": "white",
            "linecolor": "white",
            "ticks": ""
           },
           "baxis": {
            "gridcolor": "white",
            "linecolor": "white",
            "ticks": ""
           },
           "bgcolor": "#E5ECF6",
           "caxis": {
            "gridcolor": "white",
            "linecolor": "white",
            "ticks": ""
           }
          },
          "title": {
           "x": 0.05
          },
          "xaxis": {
           "automargin": true,
           "gridcolor": "white",
           "linecolor": "white",
           "ticks": "",
           "title": {
            "standoff": 15
           },
           "zerolinecolor": "white",
           "zerolinewidth": 2
          },
          "yaxis": {
           "automargin": true,
           "gridcolor": "white",
           "linecolor": "white",
           "ticks": "",
           "title": {
            "standoff": 15
           },
           "zerolinecolor": "white",
           "zerolinewidth": 2
          }
         }
        },
        "title": {
         "text": "Total number of streams per subscriber type"
        },
        "xaxis": {
         "anchor": "y",
         "domain": [
          0,
          1
         ],
         "title": {
          "text": "subscriber_type"
         }
        },
        "yaxis": {
         "anchor": "x",
         "domain": [
          0,
          1
         ],
         "title": {
          "text": "num_streams"
         }
        }
       }
      },
      "text/html": [
       "<div>                            <div id=\"67b4476b-d783-43a7-b98e-fc41d67f6fa2\" class=\"plotly-graph-div\" style=\"height:525px; width:100%;\"></div>            <script type=\"text/javascript\">                require([\"plotly\"], function(Plotly) {                    window.PLOTLYENV=window.PLOTLYENV || {};                                    if (document.getElementById(\"67b4476b-d783-43a7-b98e-fc41d67f6fa2\")) {                    Plotly.newPlot(                        \"67b4476b-d783-43a7-b98e-fc41d67f6fa2\",                        [{\"alignmentgroup\": \"True\", \"hovertemplate\": \"subscriber_type=%{x}<br>num_streams=%{y}<extra></extra>\", \"legendgroup\": \"\", \"marker\": {\"color\": \"#636efa\"}, \"name\": \"\", \"offsetgroup\": \"\", \"orientation\": \"v\", \"showlegend\": false, \"textposition\": \"auto\", \"type\": \"bar\", \"x\": [\"aavail_premium\", \"aavail_premium\", \"aavail_premium\", \"aavail_basic\", \"aavail_premium\", \"aavail_premium\", \"aavail_basic\", \"aavail_premium\", \"aavail_premium\", \"aavail_basic\", \"aavail_premium\", \"aavail_unlimited\", \"aavail_premium\", \"aavail_basic\", \"aavail_premium\", \"aavail_basic\", \"aavail_premium\", \"aavail_basic\", \"aavail_premium\", \"aavail_premium\", \"aavail_unlimited\", \"aavail_basic\", \"aavail_unlimited\", \"aavail_basic\", \"aavail_basic\", \"aavail_premium\", \"aavail_basic\", \"aavail_basic\", \"aavail_basic\", \"aavail_unlimited\", \"aavail_unlimited\", \"aavail_premium\", \"aavail_unlimited\", \"aavail_unlimited\", \"aavail_premium\", \"aavail_premium\", \"aavail_premium\", \"aavail_basic\", \"aavail_basic\", \"aavail_basic\", \"aavail_unlimited\", \"aavail_unlimited\", \"aavail_premium\", \"aavail_unlimited\", \"aavail_premium\", \"aavail_basic\", \"aavail_basic\", \"aavail_unlimited\", \"aavail_premium\", \"aavail_unlimited\", \"aavail_basic\", \"aavail_basic\", \"aavail_premium\", \"aavail_unlimited\", \"aavail_basic\", \"aavail_unlimited\", \"aavail_basic\", \"aavail_unlimited\", \"aavail_unlimited\", \"aavail_basic\", \"aavail_unlimited\", \"aavail_premium\", \"aavail_premium\", \"aavail_basic\", \"aavail_unlimited\", \"aavail_premium\", \"aavail_basic\", \"aavail_unlimited\", \"aavail_unlimited\", \"aavail_premium\", \"aavail_premium\", \"aavail_premium\", \"aavail_basic\", \"aavail_unlimited\", \"aavail_basic\", \"aavail_basic\", \"aavail_premium\", \"aavail_premium\", \"aavail_premium\", \"aavail_unlimited\", \"aavail_basic\", \"aavail_premium\", \"aavail_unlimited\", \"aavail_basic\", \"aavail_basic\", \"aavail_basic\", \"aavail_premium\", \"aavail_basic\", \"aavail_premium\", \"aavail_basic\", \"aavail_basic\", \"aavail_basic\", \"aavail_premium\", \"aavail_basic\", \"aavail_basic\", \"aavail_unlimited\", \"aavail_premium\", \"aavail_basic\", \"aavail_premium\", \"aavail_premium\", \"aavail_basic\", \"aavail_unlimited\", \"aavail_premium\", \"aavail_basic\", \"aavail_premium\", \"aavail_unlimited\", \"aavail_premium\", \"aavail_unlimited\", \"aavail_premium\", \"aavail_basic\", \"aavail_premium\", \"aavail_unlimited\", \"aavail_premium\", \"aavail_unlimited\", \"aavail_premium\", \"aavail_premium\", \"aavail_basic\", \"aavail_basic\", \"aavail_basic\", \"aavail_premium\", \"aavail_unlimited\", \"aavail_premium\", \"aavail_unlimited\", \"aavail_premium\", \"aavail_basic\", \"aavail_premium\", \"aavail_basic\", \"aavail_basic\", \"aavail_unlimited\", \"aavail_unlimited\", \"aavail_premium\", \"aavail_basic\", \"aavail_basic\", \"aavail_unlimited\", \"aavail_premium\", \"aavail_unlimited\", \"aavail_premium\", \"aavail_basic\", \"aavail_premium\", \"aavail_basic\", \"aavail_premium\", \"aavail_unlimited\", \"aavail_basic\", \"aavail_unlimited\", \"aavail_premium\", \"aavail_basic\", \"aavail_premium\", \"aavail_basic\", \"aavail_unlimited\", \"aavail_unlimited\", \"aavail_basic\", \"aavail_basic\", \"aavail_basic\", \"aavail_basic\", \"aavail_basic\", \"aavail_basic\", \"aavail_basic\", \"aavail_premium\", \"aavail_premium\", \"aavail_premium\", \"aavail_basic\", \"aavail_basic\", \"aavail_basic\", \"aavail_premium\", \"aavail_premium\", \"aavail_basic\", \"aavail_premium\", \"aavail_basic\", \"aavail_premium\", \"aavail_basic\", \"aavail_unlimited\", \"aavail_premium\", \"aavail_premium\", \"aavail_premium\", \"aavail_basic\", \"aavail_basic\", \"aavail_unlimited\", \"aavail_basic\", \"aavail_basic\", \"aavail_premium\", \"aavail_premium\", \"aavail_unlimited\", \"aavail_basic\", \"aavail_premium\", \"aavail_basic\", \"aavail_premium\", \"aavail_unlimited\", \"aavail_premium\", \"aavail_premium\", \"aavail_premium\", \"aavail_unlimited\", \"aavail_unlimited\", \"aavail_premium\", \"aavail_unlimited\", \"aavail_basic\", \"aavail_basic\", \"aavail_basic\", \"aavail_premium\", \"aavail_basic\", \"aavail_unlimited\", \"aavail_premium\", \"aavail_basic\", \"aavail_basic\", \"aavail_basic\", \"aavail_premium\", \"aavail_premium\", \"aavail_premium\", \"aavail_basic\", \"aavail_unlimited\", \"aavail_basic\", \"aavail_basic\", \"aavail_unlimited\", \"aavail_basic\", \"aavail_basic\", \"aavail_basic\", \"aavail_basic\", \"aavail_unlimited\", \"aavail_unlimited\", \"aavail_basic\", \"aavail_unlimited\", \"aavail_premium\", \"aavail_basic\", \"aavail_unlimited\", \"aavail_basic\", \"aavail_basic\", \"aavail_unlimited\", \"aavail_unlimited\", \"aavail_basic\", \"aavail_premium\", \"aavail_premium\", \"aavail_unlimited\", \"aavail_unlimited\", \"aavail_unlimited\", \"aavail_basic\", \"aavail_basic\", \"aavail_basic\", \"aavail_basic\", \"aavail_premium\", \"aavail_basic\", \"aavail_premium\", \"aavail_unlimited\", \"aavail_premium\", \"aavail_premium\", \"aavail_basic\", \"aavail_basic\", \"aavail_basic\", \"aavail_basic\", \"aavail_unlimited\", \"aavail_basic\", \"aavail_premium\", \"aavail_premium\", \"aavail_unlimited\", \"aavail_basic\", \"aavail_basic\", \"aavail_basic\", \"aavail_premium\", \"aavail_premium\", \"aavail_basic\", \"aavail_premium\", \"aavail_basic\", \"aavail_unlimited\", \"aavail_unlimited\", \"aavail_unlimited\", \"aavail_premium\", \"aavail_unlimited\", \"aavail_basic\", \"aavail_premium\", \"aavail_basic\", \"aavail_premium\", \"aavail_premium\", \"aavail_basic\", \"aavail_unlimited\", \"aavail_basic\", \"aavail_unlimited\", \"aavail_premium\", \"aavail_premium\", \"aavail_basic\", \"aavail_basic\", \"aavail_premium\", \"aavail_unlimited\", \"aavail_unlimited\", \"aavail_premium\", \"aavail_unlimited\", \"aavail_unlimited\", \"aavail_premium\", \"aavail_premium\", \"aavail_basic\", \"aavail_unlimited\", \"aavail_premium\", \"aavail_basic\", \"aavail_premium\", \"aavail_unlimited\", \"aavail_basic\", \"aavail_basic\", \"aavail_unlimited\", \"aavail_unlimited\", \"aavail_basic\", \"aavail_unlimited\", \"aavail_premium\", \"aavail_premium\", \"aavail_basic\", \"aavail_basic\", \"aavail_unlimited\", \"aavail_unlimited\", \"aavail_basic\", \"aavail_premium\", \"aavail_premium\", \"aavail_basic\", \"aavail_basic\", \"aavail_premium\", \"aavail_basic\", \"aavail_unlimited\", \"aavail_basic\", \"aavail_unlimited\", \"aavail_basic\", \"aavail_premium\", \"aavail_premium\", \"aavail_premium\", \"aavail_unlimited\", \"aavail_basic\", \"aavail_basic\", \"aavail_unlimited\", \"aavail_premium\", \"aavail_premium\", \"aavail_premium\", \"aavail_premium\", \"aavail_basic\", \"aavail_unlimited\", \"aavail_premium\", \"aavail_unlimited\", \"aavail_basic\", \"aavail_basic\", \"aavail_basic\", \"aavail_unlimited\", \"aavail_basic\", \"aavail_basic\", \"aavail_basic\", \"aavail_premium\", \"aavail_basic\", \"aavail_unlimited\", \"aavail_basic\", \"aavail_basic\", \"aavail_premium\", \"aavail_unlimited\", \"aavail_basic\", \"aavail_basic\", \"aavail_premium\", \"aavail_unlimited\", \"aavail_basic\", \"aavail_basic\", \"aavail_basic\", \"aavail_unlimited\", \"aavail_basic\", \"aavail_unlimited\", \"aavail_unlimited\", \"aavail_premium\", \"aavail_basic\", \"aavail_basic\", \"aavail_premium\", \"aavail_basic\", \"aavail_unlimited\", \"aavail_unlimited\", \"aavail_premium\", \"aavail_basic\", \"aavail_premium\", \"aavail_premium\", \"aavail_unlimited\", \"aavail_unlimited\", \"aavail_basic\", \"aavail_unlimited\", \"aavail_premium\", \"aavail_basic\", \"aavail_basic\", \"aavail_unlimited\", \"aavail_premium\", \"aavail_basic\", \"aavail_premium\", \"aavail_premium\", \"aavail_premium\", \"aavail_basic\", \"aavail_basic\", \"aavail_basic\", \"aavail_basic\", \"aavail_premium\", \"aavail_unlimited\", \"aavail_premium\", \"aavail_basic\", \"aavail_unlimited\", \"aavail_premium\", \"aavail_unlimited\", \"aavail_basic\", \"aavail_premium\", \"aavail_premium\", \"aavail_unlimited\", \"aavail_basic\", \"aavail_basic\", \"aavail_basic\", \"aavail_unlimited\", \"aavail_unlimited\", \"aavail_premium\", \"aavail_premium\", \"aavail_basic\", \"aavail_unlimited\", \"aavail_premium\", \"aavail_unlimited\", \"aavail_unlimited\", \"aavail_premium\", \"aavail_unlimited\", \"aavail_basic\", \"aavail_unlimited\", \"aavail_premium\", \"aavail_premium\", \"aavail_basic\", \"aavail_unlimited\", \"aavail_premium\", \"aavail_unlimited\", \"aavail_basic\", \"aavail_basic\", \"aavail_basic\", \"aavail_premium\", \"aavail_basic\", \"aavail_premium\", \"aavail_basic\", \"aavail_premium\", \"aavail_basic\", \"aavail_premium\", \"aavail_basic\", \"aavail_basic\", \"aavail_basic\", \"aavail_unlimited\", \"aavail_unlimited\", \"aavail_unlimited\", \"aavail_basic\", \"aavail_unlimited\", \"aavail_unlimited\", \"aavail_unlimited\", \"aavail_basic\", \"aavail_basic\", \"aavail_premium\", \"aavail_premium\", \"aavail_unlimited\", \"aavail_basic\", \"aavail_basic\", \"aavail_premium\", \"aavail_basic\", \"aavail_basic\", \"aavail_unlimited\", \"aavail_basic\", \"aavail_unlimited\", \"aavail_premium\", \"aavail_basic\", \"aavail_unlimited\", \"aavail_unlimited\", \"aavail_basic\", \"aavail_premium\", \"aavail_basic\", \"aavail_basic\", \"aavail_premium\", \"aavail_basic\", \"aavail_unlimited\", \"aavail_basic\", \"aavail_premium\", \"aavail_basic\", \"aavail_unlimited\", \"aavail_unlimited\", \"aavail_premium\", \"aavail_basic\", \"aavail_unlimited\", \"aavail_basic\", \"aavail_premium\", \"aavail_premium\", \"aavail_basic\", \"aavail_premium\", \"aavail_basic\", \"aavail_unlimited\", \"aavail_premium\", \"aavail_unlimited\", \"aavail_basic\", \"aavail_unlimited\", \"aavail_unlimited\", \"aavail_unlimited\", \"aavail_premium\", \"aavail_premium\", \"aavail_premium\", \"aavail_basic\", \"aavail_premium\", \"aavail_unlimited\", \"aavail_unlimited\", \"aavail_unlimited\", \"aavail_premium\", \"aavail_basic\", \"aavail_premium\", \"aavail_premium\", \"aavail_premium\", \"aavail_premium\", \"aavail_basic\", \"aavail_unlimited\", \"aavail_basic\", \"aavail_premium\", \"aavail_unlimited\", \"aavail_premium\", \"aavail_basic\", \"aavail_premium\", \"aavail_basic\", \"aavail_basic\", \"aavail_basic\", \"aavail_basic\", \"aavail_basic\", \"aavail_unlimited\", \"aavail_basic\", \"aavail_premium\", \"aavail_premium\", \"aavail_basic\", \"aavail_basic\", \"aavail_basic\", \"aavail_basic\", \"aavail_premium\", \"aavail_basic\", \"aavail_basic\", \"aavail_basic\", \"aavail_premium\", \"aavail_unlimited\", \"aavail_basic\", \"aavail_premium\", \"aavail_unlimited\", \"aavail_basic\", \"aavail_basic\", \"aavail_premium\", \"aavail_unlimited\", \"aavail_unlimited\", \"aavail_premium\", \"aavail_premium\", \"aavail_basic\", \"aavail_premium\", \"aavail_basic\", \"aavail_basic\", \"aavail_unlimited\", \"aavail_basic\", \"aavail_unlimited\", \"aavail_basic\", \"aavail_basic\", \"aavail_premium\", \"aavail_unlimited\", \"aavail_premium\", \"aavail_premium\", \"aavail_unlimited\", \"aavail_basic\", \"aavail_basic\", \"aavail_unlimited\", \"aavail_basic\", \"aavail_unlimited\", \"aavail_basic\", \"aavail_basic\", \"aavail_premium\", \"aavail_unlimited\", \"aavail_unlimited\", \"aavail_premium\", \"aavail_basic\", \"aavail_basic\", \"aavail_unlimited\", \"aavail_unlimited\", \"aavail_unlimited\", \"aavail_basic\", \"aavail_unlimited\", \"aavail_unlimited\", \"aavail_basic\", \"aavail_basic\", \"aavail_basic\", \"aavail_premium\", \"aavail_basic\", \"aavail_premium\", \"aavail_unlimited\", \"aavail_unlimited\", \"aavail_premium\", \"aavail_basic\", \"aavail_basic\", \"aavail_unlimited\", \"aavail_unlimited\", \"aavail_premium\", \"aavail_unlimited\", \"aavail_basic\", \"aavail_unlimited\", \"aavail_basic\", \"aavail_unlimited\", \"aavail_premium\", \"aavail_basic\", \"aavail_basic\", \"aavail_basic\", \"aavail_unlimited\", \"aavail_basic\", \"aavail_basic\", \"aavail_premium\", \"aavail_basic\", \"aavail_basic\", \"aavail_premium\", \"aavail_unlimited\", \"aavail_premium\", \"aavail_unlimited\", \"aavail_premium\", \"aavail_unlimited\", \"aavail_basic\", \"aavail_unlimited\", \"aavail_unlimited\", \"aavail_premium\", \"aavail_basic\", \"aavail_basic\", \"aavail_premium\", \"aavail_basic\", \"aavail_unlimited\", \"aavail_unlimited\", \"aavail_unlimited\", \"aavail_basic\", \"aavail_basic\", \"aavail_premium\", \"aavail_basic\", \"aavail_unlimited\", \"aavail_basic\", \"aavail_basic\", \"aavail_premium\", \"aavail_basic\", \"aavail_basic\", \"aavail_basic\", \"aavail_unlimited\", \"aavail_unlimited\", \"aavail_unlimited\", \"aavail_basic\", \"aavail_unlimited\", \"aavail_unlimited\", \"aavail_unlimited\", \"aavail_basic\", \"aavail_basic\", \"aavail_basic\", \"aavail_unlimited\", \"aavail_unlimited\", \"aavail_unlimited\", \"aavail_unlimited\", \"aavail_basic\", \"aavail_basic\", \"aavail_unlimited\", \"aavail_unlimited\", \"aavail_unlimited\", \"aavail_premium\", \"aavail_premium\", \"aavail_unlimited\", \"aavail_unlimited\", \"aavail_basic\", \"aavail_unlimited\", \"aavail_premium\", \"aavail_basic\", \"aavail_basic\", \"aavail_premium\", \"aavail_premium\", \"aavail_premium\", \"aavail_premium\", \"aavail_basic\", \"aavail_basic\", \"aavail_premium\", \"aavail_premium\", \"aavail_basic\", \"aavail_unlimited\", \"aavail_premium\", \"aavail_basic\", \"aavail_premium\", \"aavail_basic\", \"aavail_basic\", \"aavail_unlimited\", \"aavail_premium\", \"aavail_unlimited\", \"aavail_premium\", \"aavail_unlimited\", \"aavail_unlimited\", \"aavail_basic\", \"aavail_premium\", \"aavail_unlimited\", \"aavail_unlimited\", \"aavail_premium\", \"aavail_basic\", \"aavail_premium\", \"aavail_premium\", \"aavail_unlimited\", \"aavail_basic\", \"aavail_premium\", \"aavail_basic\", \"aavail_premium\", \"aavail_premium\", \"aavail_unlimited\", \"aavail_unlimited\", \"aavail_unlimited\", \"aavail_premium\", \"aavail_premium\", \"aavail_basic\", \"aavail_premium\", \"aavail_unlimited\", \"aavail_premium\", \"aavail_premium\", \"aavail_premium\", \"aavail_unlimited\", \"aavail_unlimited\", \"aavail_unlimited\", \"aavail_premium\", \"aavail_unlimited\", \"aavail_basic\", \"aavail_basic\", \"aavail_unlimited\", \"aavail_premium\", \"aavail_premium\", \"aavail_basic\", \"aavail_unlimited\", \"aavail_basic\", \"aavail_premium\", \"aavail_basic\", \"aavail_premium\", \"aavail_unlimited\", \"aavail_premium\", \"aavail_basic\", \"aavail_basic\", \"aavail_premium\", \"aavail_premium\", \"aavail_basic\", \"aavail_premium\", \"aavail_basic\", \"aavail_premium\", \"aavail_premium\", \"aavail_unlimited\", \"aavail_basic\", \"aavail_basic\", \"aavail_unlimited\", \"aavail_premium\", \"aavail_premium\", \"aavail_basic\", \"aavail_premium\", \"aavail_basic\", \"aavail_basic\", \"aavail_unlimited\", \"aavail_premium\", \"aavail_basic\", \"aavail_unlimited\", \"aavail_basic\", \"aavail_unlimited\", \"aavail_premium\", \"aavail_basic\", \"aavail_unlimited\", \"aavail_basic\", \"aavail_unlimited\", \"aavail_unlimited\", \"aavail_unlimited\", \"aavail_unlimited\", \"aavail_premium\", \"aavail_unlimited\", \"aavail_basic\", \"aavail_unlimited\", \"aavail_unlimited\", \"aavail_unlimited\", \"aavail_unlimited\", \"aavail_premium\", \"aavail_premium\", \"aavail_premium\", \"aavail_basic\", \"aavail_basic\", \"aavail_unlimited\", \"aavail_basic\", \"aavail_premium\", \"aavail_basic\", \"aavail_basic\", \"aavail_premium\", \"aavail_premium\", \"aavail_basic\", \"aavail_basic\", \"aavail_basic\", \"aavail_basic\", \"aavail_unlimited\", \"aavail_premium\", \"aavail_unlimited\", \"aavail_basic\", \"aavail_premium\", \"aavail_basic\", \"aavail_premium\", \"aavail_unlimited\", \"aavail_premium\", \"aavail_unlimited\", \"aavail_premium\", \"aavail_unlimited\", \"aavail_basic\", \"aavail_basic\", \"aavail_premium\", \"aavail_basic\", \"aavail_basic\", \"aavail_premium\", \"aavail_basic\", \"aavail_basic\", \"aavail_unlimited\", \"aavail_basic\", \"aavail_unlimited\", \"aavail_premium\", \"aavail_premium\", \"aavail_unlimited\", \"aavail_premium\", \"aavail_premium\", \"aavail_premium\", \"aavail_unlimited\", \"aavail_unlimited\", \"aavail_basic\", \"aavail_premium\", \"aavail_basic\", \"aavail_unlimited\", \"aavail_premium\", \"aavail_basic\", \"aavail_premium\", \"aavail_basic\", \"aavail_unlimited\", \"aavail_basic\", \"aavail_basic\", \"aavail_basic\", \"aavail_unlimited\", \"aavail_basic\", \"aavail_basic\", \"aavail_premium\", \"aavail_premium\", \"aavail_premium\", \"aavail_unlimited\", \"aavail_basic\", \"aavail_unlimited\", \"aavail_premium\", \"aavail_basic\", \"aavail_basic\", \"aavail_basic\", \"aavail_basic\", \"aavail_basic\", \"aavail_unlimited\", \"aavail_basic\", \"aavail_unlimited\", \"aavail_premium\", \"aavail_unlimited\", \"aavail_unlimited\", \"aavail_premium\", \"aavail_premium\", \"aavail_basic\", \"aavail_basic\", \"aavail_basic\", \"aavail_premium\", \"aavail_premium\", \"aavail_premium\", \"aavail_basic\", \"aavail_premium\", \"aavail_premium\", \"aavail_unlimited\", \"aavail_premium\", \"aavail_basic\", \"aavail_basic\", \"aavail_premium\", \"aavail_basic\", \"aavail_basic\", \"aavail_basic\", \"aavail_basic\", \"aavail_premium\", \"aavail_unlimited\", \"aavail_premium\", \"aavail_unlimited\", \"aavail_unlimited\", \"aavail_basic\", \"aavail_unlimited\", \"aavail_premium\", \"aavail_premium\", \"aavail_basic\", \"aavail_basic\", \"aavail_premium\", \"aavail_unlimited\", \"aavail_basic\", \"aavail_basic\", \"aavail_premium\", \"aavail_premium\", \"aavail_basic\", \"aavail_basic\", \"aavail_premium\", \"aavail_unlimited\", \"aavail_premium\", \"aavail_basic\", \"aavail_unlimited\", \"aavail_basic\", \"aavail_premium\", \"aavail_premium\", \"aavail_basic\", \"aavail_basic\", \"aavail_unlimited\", \"aavail_premium\", \"aavail_unlimited\", \"aavail_premium\", \"aavail_unlimited\", \"aavail_unlimited\", \"aavail_premium\", \"aavail_unlimited\", \"aavail_basic\", \"aavail_basic\", \"aavail_basic\", \"aavail_unlimited\", \"aavail_basic\", \"aavail_basic\", \"aavail_premium\", \"aavail_basic\", \"aavail_basic\", \"aavail_premium\", \"aavail_basic\", \"aavail_basic\", \"aavail_basic\", \"aavail_unlimited\", \"aavail_basic\", \"aavail_premium\", \"aavail_basic\", \"aavail_premium\", \"aavail_basic\", \"aavail_premium\", \"aavail_basic\", \"aavail_premium\", \"aavail_unlimited\", \"aavail_basic\", \"aavail_basic\", \"aavail_unlimited\", \"aavail_basic\", \"aavail_basic\", \"aavail_premium\", \"aavail_premium\", \"aavail_basic\", \"aavail_premium\", \"aavail_unlimited\", \"aavail_unlimited\", \"aavail_premium\", \"aavail_unlimited\", \"aavail_unlimited\", \"aavail_basic\", \"aavail_basic\", \"aavail_premium\", \"aavail_premium\", \"aavail_unlimited\", \"aavail_unlimited\", \"aavail_premium\", \"aavail_unlimited\", \"aavail_basic\", \"aavail_basic\", \"aavail_unlimited\", \"aavail_basic\", \"aavail_unlimited\", \"aavail_basic\", \"aavail_unlimited\", \"aavail_basic\", \"aavail_basic\", \"aavail_unlimited\", \"aavail_unlimited\", \"aavail_premium\", \"aavail_basic\", \"aavail_premium\", \"aavail_premium\", \"aavail_premium\", \"aavail_premium\", \"aavail_premium\", \"aavail_premium\", \"aavail_basic\", \"aavail_basic\", \"aavail_premium\", \"aavail_premium\", \"aavail_unlimited\", \"aavail_unlimited\", \"aavail_premium\", \"aavail_basic\", \"aavail_basic\", \"aavail_basic\", \"aavail_premium\", \"aavail_premium\", \"aavail_premium\", \"aavail_basic\", \"aavail_premium\", \"aavail_premium\", \"aavail_unlimited\", \"aavail_basic\", \"aavail_unlimited\", \"aavail_basic\", \"aavail_basic\", \"aavail_unlimited\", \"aavail_premium\", \"aavail_basic\", \"aavail_premium\", \"aavail_unlimited\", \"aavail_basic\", \"aavail_premium\", \"aavail_basic\", \"aavail_premium\", \"aavail_basic\", \"aavail_basic\", \"aavail_premium\", \"aavail_basic\", \"aavail_basic\", \"aavail_basic\", \"aavail_premium\", \"aavail_unlimited\", \"aavail_unlimited\", \"aavail_basic\", \"aavail_unlimited\", \"aavail_basic\", \"aavail_unlimited\", \"aavail_unlimited\", \"aavail_unlimited\"], \"xaxis\": \"x\", \"y\": [23, 12, 22, 19, 23, 16, 18, 20, 24, 20, 18, 1, 21, 22, 20, 5, 24, 17, 19, 5, 5, 19, 23, 14, 15, 23, 18, 14, 18, 21, 20, 26, 19, 9, 14, 26, 23, 21, 20, 6, 19, 21, 21, 23, 7, 17, 5, 19, 17, 10, 10, 22, 22, 16, 18, 20, 15, 18, 6, 15, 19, 16, 19, 20, 8, 20, 21, 23, 19, 23, 24, 20, 10, 23, 6, 22, 20, 14, 18, 10, 18, 22, 23, 22, 21, 23, 15, 18, 20, 20, 17, 21, 20, 10, 21, 18, 13, 18, 22, 17, 24, 23, 16, 17, 5, 23, 22, 10, 15, 21, 22, 19, 25, 25, 18, 18, 16, 24, 18, 12, 15, 20, 21, 13, 16, 17, 15, 22, 29, 16, 20, 20, 21, 11, 20, 19, 16, 22, 17, 19, 15, 20, 20, 24, 19, 17, 17, 18, 17, 19, 13, 22, 19, 7, 18, 22, 23, 25, 23, 7, 21, 17, 17, 20, 17, 17, 19, 19, 17, 18, 10, 16, 5, 15, 9, 21, 22, 20, 18, 20, 18, 18, 17, 6, 20, 22, 18, 25, 22, 15, 15, 25, 17, 20, 18, 20, 18, 19, 14, 19, 19, 8, 21, 8, 19, 14, 18, 18, 16, 20, 25, 12, 19, 18, 25, 15, 17, 23, 22, 18, 21, 24, 25, 13, 17, 13, 8, 16, 21, 18, 21, 14, 20, 17, 16, 16, 22, 22, 18, 16, 25, 21, 9, 13, 16, 20, 14, 10, 16, 22, 9, -1, 15, 19, 19, 16, 16, 21, 6, 13, 21, 23, 14, 25, 21, 14, 9, 21, 21, 24, 19, 22, 8, 23, 15, 18, 18, 17, 22, 14, 19, 18, 21, 22, 20, 19, 22, 23, 21, 23, 12, 5, 17, 22, 19, 20, 6, 27, 20, 22, 18, 16, 21, 12, 20, 18, 17, 22, 16, 13, 10, 9, 20, 1, 23, 15, 15, 8, 19, 22, 21, 11, 9, 4, 12, 12, 21, 9, 19, 20, 21, 20, 23, 21, 17, 18, 14, 12, 18, 10, 18, 22, 19, 17, 21, 19, 15, 21, 22, 18, 21, 14, 26, 22, 22, 25, 19, 11, 20, 18, 12, 17, 22, 21, 17, 15, 10, 25, 17, 15, 14, 23, 15, 9, 22, 20, 19, 22, 17, 17, 18, 13, 20, 24, 11, 20, 19, 18, 15, 13, 11, 20, 3, 10, 18, 17, 15, 13, 18, 21, 16, 22, 21, 18, 25, 22, 19, 14, 25, 12, 22, 21, 18, 21, 23, 16, 13, 18, 22, 17, 20, 6, 20, 15, 16, 20, 19, 24, 22, 6, 8, 14, 17, 19, 20, 25, 19, 28, 19, 21, 22, 19, 18, 16, 22, 20, 20, 13, 22, 15, 19, 23, 12, 16, 14, 12, 18, 11, 10, 19, 8, 24, 17, 18, 8, 22, 22, 11, 18, 13, 19, 19, 20, 11, 13, 22, 17, 12, 23, 18, 8, 21, 11, 4, 15, 17, 16, 15, 5, 13, 19, 21, 7, 13, 26, 21, 21, 16, 27, 19, 19, 20, 11, 19, 10, 20, 15, 17, 23, 16, 18, 20, 24, 19, 16, 20, 17, 19, 17, 18, 16, 16, 20, 4, 18, 19, 17, 5, 21, 21, 19, 19, 17, 21, 20, 17, 17, 24, 8, 22, 15, 17, 14, 18, 18, 22, 20, 20, 16, 21, 9, 17, 20, 24, 19, 20, 22, 13, 16, 14, 22, 22, 21, 21, 21, 16, 20, 22, 13, 14, 20, 23, 17, 15, 22, 19, 16, 17, 15, 12, 20, 15, 21, 4, 15, 14, 21, 24, 22, 22, 18, 8, 18, 23, 21, 18, 21, 25, 19, 11, 18, 10, 10, 25, 14, 20, 20, 21, 18, 7, 19, 23, 22, 20, 9, 23, 21, 22, 21, 20, 19, 13, 9, 20, 13, 16, 16, 25, 24, 19, 14, 8, 18, 16, 25, 18, 10, 22, 23, 14, 11, 24, 11, 20, 12, 22, 12, 22, 18, 8, 19, 19, 18, 21, 19, 16, 20, 17, 20, 10, 17, 22, 12, 18, 21, 18, 19, 21, 18, 16, 16, 23, 17, 18, 24, 14, 23, 12, 19, 17, 18, 20, 14, 22, 8, 21, 19, 20, 5, 13, 19, 18, 16, 16, 20, 23, 8, 10, 20, 23, 17, 23, 7, 17, 20, 17, 20, 21, 14, 17, 19, 12, 18, 18, 19, 21, 25, 23, 18, 20, 21, 18, 12, 16, 13, 17, 17, 22, 20, 17, 17, 13, 16, 18, 21, 25, 22, 20, 22, 17, 15, 19, 23, 4, 21, 20, 17, 15, 18, 2, 17, 18, 22, 17, 24, 21, 17, 16, 22, 19, 27, 15, 19, 16, 11, 23, 19, 16, 16, 23, 10, 22, 17, 16, 10, 17, 22, 16, 22, 12, 23, 22, 15, 24, 22, 21, 16, 21, 22, 14, 22, 14, 23, 22, 14, 21, 20, 15, 20, 14, 17, 19, 21, 22, 18, 21, 18, 13, 13, 25, 17, 23, 17, 23, 18, 20, 20, 20, 19, 22, 19, 16, 18, 17, 15, 20, 23, 16, 21, 9, 22, 14, 23, 18, 16, 10, 18, 21, 19, 16, 20, 3, 8, 19, 21, 27, 22, 19, 17, 21, 18, 16, 12, 20, 20, 20, 20, 15, 5, 16, 17, 23, 19, 18, 16, 23, 15, 20, 20, 21, 22, 17, 23, 14, 12, 20, 21, 22, 15, 20, 22, 24, 22, 13, 23, 6, 21, 10, 15, 21, 9, 17, 14, 17, 17, 19, 18, 21, 19, 20, 20, 14, 17, 18, 22, 20, 16, 18, 22, 21, 16, 20, 13, 18, 19, 14, 15, 17, 18, 9, 14, 22, 14, 18, 18, 23, 20, 19, 25, 19, 19, 9, 18, 19, 19, 17, 19, 20, 19, 18, 18, 18, 24, 18, 16, 21, 22, 18, 22, 13, 23, 23, 20, 20, 24, 21, 20, 12, 17, 22, 21, 12, 26, 21, 20, 22, 15, 20, 18, 13, 18, 22, 17, 17, 22, 18, 20, 8, 17, 19, 25, 18, 19, 20, 22, 19, 18, 17, 13, 21, 11, 20, 22, 7, 21, 14, 24, 17, 16, 18], \"yaxis\": \"y\"}],                        {\"barmode\": \"relative\", \"legend\": {\"tracegroupgap\": 0}, \"template\": {\"data\": {\"bar\": [{\"error_x\": {\"color\": \"#2a3f5f\"}, \"error_y\": {\"color\": \"#2a3f5f\"}, \"marker\": {\"line\": {\"color\": \"#E5ECF6\", \"width\": 0.5}}, \"type\": \"bar\"}], \"barpolar\": [{\"marker\": {\"line\": {\"color\": \"#E5ECF6\", \"width\": 0.5}}, \"type\": \"barpolar\"}], \"carpet\": [{\"aaxis\": {\"endlinecolor\": \"#2a3f5f\", \"gridcolor\": \"white\", \"linecolor\": \"white\", \"minorgridcolor\": \"white\", \"startlinecolor\": \"#2a3f5f\"}, \"baxis\": {\"endlinecolor\": \"#2a3f5f\", \"gridcolor\": \"white\", \"linecolor\": \"white\", \"minorgridcolor\": \"white\", \"startlinecolor\": \"#2a3f5f\"}, \"type\": \"carpet\"}], \"choropleth\": [{\"colorbar\": {\"outlinewidth\": 0, \"ticks\": \"\"}, \"type\": \"choropleth\"}], \"contour\": [{\"colorbar\": {\"outlinewidth\": 0, \"ticks\": \"\"}, \"colorscale\": [[0.0, \"#0d0887\"], [0.1111111111111111, \"#46039f\"], [0.2222222222222222, \"#7201a8\"], [0.3333333333333333, \"#9c179e\"], [0.4444444444444444, \"#bd3786\"], [0.5555555555555556, \"#d8576b\"], [0.6666666666666666, \"#ed7953\"], [0.7777777777777778, \"#fb9f3a\"], [0.8888888888888888, \"#fdca26\"], [1.0, \"#f0f921\"]], \"type\": \"contour\"}], \"contourcarpet\": [{\"colorbar\": {\"outlinewidth\": 0, \"ticks\": \"\"}, \"type\": \"contourcarpet\"}], \"heatmap\": [{\"colorbar\": {\"outlinewidth\": 0, \"ticks\": \"\"}, \"colorscale\": [[0.0, \"#0d0887\"], [0.1111111111111111, \"#46039f\"], [0.2222222222222222, \"#7201a8\"], [0.3333333333333333, \"#9c179e\"], [0.4444444444444444, \"#bd3786\"], [0.5555555555555556, \"#d8576b\"], [0.6666666666666666, \"#ed7953\"], [0.7777777777777778, \"#fb9f3a\"], [0.8888888888888888, \"#fdca26\"], [1.0, \"#f0f921\"]], \"type\": \"heatmap\"}], \"heatmapgl\": [{\"colorbar\": {\"outlinewidth\": 0, \"ticks\": \"\"}, \"colorscale\": [[0.0, \"#0d0887\"], [0.1111111111111111, \"#46039f\"], [0.2222222222222222, \"#7201a8\"], [0.3333333333333333, \"#9c179e\"], [0.4444444444444444, \"#bd3786\"], [0.5555555555555556, \"#d8576b\"], [0.6666666666666666, \"#ed7953\"], [0.7777777777777778, \"#fb9f3a\"], [0.8888888888888888, \"#fdca26\"], [1.0, \"#f0f921\"]], \"type\": \"heatmapgl\"}], \"histogram\": [{\"marker\": {\"colorbar\": {\"outlinewidth\": 0, \"ticks\": \"\"}}, \"type\": \"histogram\"}], \"histogram2d\": [{\"colorbar\": {\"outlinewidth\": 0, \"ticks\": \"\"}, \"colorscale\": [[0.0, \"#0d0887\"], [0.1111111111111111, \"#46039f\"], [0.2222222222222222, \"#7201a8\"], [0.3333333333333333, \"#9c179e\"], [0.4444444444444444, \"#bd3786\"], [0.5555555555555556, \"#d8576b\"], [0.6666666666666666, \"#ed7953\"], [0.7777777777777778, \"#fb9f3a\"], [0.8888888888888888, \"#fdca26\"], [1.0, \"#f0f921\"]], \"type\": \"histogram2d\"}], \"histogram2dcontour\": [{\"colorbar\": {\"outlinewidth\": 0, \"ticks\": \"\"}, \"colorscale\": [[0.0, \"#0d0887\"], [0.1111111111111111, \"#46039f\"], [0.2222222222222222, \"#7201a8\"], [0.3333333333333333, \"#9c179e\"], [0.4444444444444444, \"#bd3786\"], [0.5555555555555556, \"#d8576b\"], [0.6666666666666666, \"#ed7953\"], [0.7777777777777778, \"#fb9f3a\"], [0.8888888888888888, \"#fdca26\"], [1.0, \"#f0f921\"]], \"type\": \"histogram2dcontour\"}], \"mesh3d\": [{\"colorbar\": {\"outlinewidth\": 0, \"ticks\": \"\"}, \"type\": \"mesh3d\"}], \"parcoords\": [{\"line\": {\"colorbar\": {\"outlinewidth\": 0, \"ticks\": \"\"}}, \"type\": \"parcoords\"}], \"pie\": [{\"automargin\": true, \"type\": \"pie\"}], \"scatter\": [{\"marker\": {\"colorbar\": {\"outlinewidth\": 0, \"ticks\": \"\"}}, \"type\": \"scatter\"}], \"scatter3d\": [{\"line\": {\"colorbar\": {\"outlinewidth\": 0, \"ticks\": \"\"}}, \"marker\": {\"colorbar\": {\"outlinewidth\": 0, \"ticks\": \"\"}}, \"type\": \"scatter3d\"}], \"scattercarpet\": [{\"marker\": {\"colorbar\": {\"outlinewidth\": 0, \"ticks\": \"\"}}, \"type\": \"scattercarpet\"}], \"scattergeo\": [{\"marker\": {\"colorbar\": {\"outlinewidth\": 0, \"ticks\": \"\"}}, \"type\": \"scattergeo\"}], \"scattergl\": [{\"marker\": {\"colorbar\": {\"outlinewidth\": 0, \"ticks\": \"\"}}, \"type\": \"scattergl\"}], \"scattermapbox\": [{\"marker\": {\"colorbar\": {\"outlinewidth\": 0, \"ticks\": \"\"}}, \"type\": \"scattermapbox\"}], \"scatterpolar\": [{\"marker\": {\"colorbar\": {\"outlinewidth\": 0, \"ticks\": \"\"}}, \"type\": \"scatterpolar\"}], \"scatterpolargl\": [{\"marker\": {\"colorbar\": {\"outlinewidth\": 0, \"ticks\": \"\"}}, \"type\": \"scatterpolargl\"}], \"scatterternary\": [{\"marker\": {\"colorbar\": {\"outlinewidth\": 0, \"ticks\": \"\"}}, \"type\": \"scatterternary\"}], \"surface\": [{\"colorbar\": {\"outlinewidth\": 0, \"ticks\": \"\"}, \"colorscale\": [[0.0, \"#0d0887\"], [0.1111111111111111, \"#46039f\"], [0.2222222222222222, \"#7201a8\"], [0.3333333333333333, \"#9c179e\"], [0.4444444444444444, \"#bd3786\"], [0.5555555555555556, \"#d8576b\"], [0.6666666666666666, \"#ed7953\"], [0.7777777777777778, \"#fb9f3a\"], [0.8888888888888888, \"#fdca26\"], [1.0, \"#f0f921\"]], \"type\": \"surface\"}], \"table\": [{\"cells\": {\"fill\": {\"color\": \"#EBF0F8\"}, \"line\": {\"color\": \"white\"}}, \"header\": {\"fill\": {\"color\": \"#C8D4E3\"}, \"line\": {\"color\": \"white\"}}, \"type\": \"table\"}]}, \"layout\": {\"annotationdefaults\": {\"arrowcolor\": \"#2a3f5f\", \"arrowhead\": 0, \"arrowwidth\": 1}, \"autotypenumbers\": \"strict\", \"coloraxis\": {\"colorbar\": {\"outlinewidth\": 0, \"ticks\": \"\"}}, \"colorscale\": {\"diverging\": [[0, \"#8e0152\"], [0.1, \"#c51b7d\"], [0.2, \"#de77ae\"], [0.3, \"#f1b6da\"], [0.4, \"#fde0ef\"], [0.5, \"#f7f7f7\"], [0.6, \"#e6f5d0\"], [0.7, \"#b8e186\"], [0.8, \"#7fbc41\"], [0.9, \"#4d9221\"], [1, \"#276419\"]], \"sequential\": [[0.0, \"#0d0887\"], [0.1111111111111111, \"#46039f\"], [0.2222222222222222, \"#7201a8\"], [0.3333333333333333, \"#9c179e\"], [0.4444444444444444, \"#bd3786\"], [0.5555555555555556, \"#d8576b\"], [0.6666666666666666, \"#ed7953\"], [0.7777777777777778, \"#fb9f3a\"], [0.8888888888888888, \"#fdca26\"], [1.0, \"#f0f921\"]], \"sequentialminus\": [[0.0, \"#0d0887\"], [0.1111111111111111, \"#46039f\"], [0.2222222222222222, \"#7201a8\"], [0.3333333333333333, \"#9c179e\"], [0.4444444444444444, \"#bd3786\"], [0.5555555555555556, \"#d8576b\"], [0.6666666666666666, \"#ed7953\"], [0.7777777777777778, \"#fb9f3a\"], [0.8888888888888888, \"#fdca26\"], [1.0, \"#f0f921\"]]}, \"colorway\": [\"#636efa\", \"#EF553B\", \"#00cc96\", \"#ab63fa\", \"#FFA15A\", \"#19d3f3\", \"#FF6692\", \"#B6E880\", \"#FF97FF\", \"#FECB52\"], \"font\": {\"color\": \"#2a3f5f\"}, \"geo\": {\"bgcolor\": \"white\", \"lakecolor\": \"white\", \"landcolor\": \"#E5ECF6\", \"showlakes\": true, \"showland\": true, \"subunitcolor\": \"white\"}, \"hoverlabel\": {\"align\": \"left\"}, \"hovermode\": \"closest\", \"mapbox\": {\"style\": \"light\"}, \"paper_bgcolor\": \"white\", \"plot_bgcolor\": \"#E5ECF6\", \"polar\": {\"angularaxis\": {\"gridcolor\": \"white\", \"linecolor\": \"white\", \"ticks\": \"\"}, \"bgcolor\": \"#E5ECF6\", \"radialaxis\": {\"gridcolor\": \"white\", \"linecolor\": \"white\", \"ticks\": \"\"}}, \"scene\": {\"xaxis\": {\"backgroundcolor\": \"#E5ECF6\", \"gridcolor\": \"white\", \"gridwidth\": 2, \"linecolor\": \"white\", \"showbackground\": true, \"ticks\": \"\", \"zerolinecolor\": \"white\"}, \"yaxis\": {\"backgroundcolor\": \"#E5ECF6\", \"gridcolor\": \"white\", \"gridwidth\": 2, \"linecolor\": \"white\", \"showbackground\": true, \"ticks\": \"\", \"zerolinecolor\": \"white\"}, \"zaxis\": {\"backgroundcolor\": \"#E5ECF6\", \"gridcolor\": \"white\", \"gridwidth\": 2, \"linecolor\": \"white\", \"showbackground\": true, \"ticks\": \"\", \"zerolinecolor\": \"white\"}}, \"shapedefaults\": {\"line\": {\"color\": \"#2a3f5f\"}}, \"ternary\": {\"aaxis\": {\"gridcolor\": \"white\", \"linecolor\": \"white\", \"ticks\": \"\"}, \"baxis\": {\"gridcolor\": \"white\", \"linecolor\": \"white\", \"ticks\": \"\"}, \"bgcolor\": \"#E5ECF6\", \"caxis\": {\"gridcolor\": \"white\", \"linecolor\": \"white\", \"ticks\": \"\"}}, \"title\": {\"x\": 0.05}, \"xaxis\": {\"automargin\": true, \"gridcolor\": \"white\", \"linecolor\": \"white\", \"ticks\": \"\", \"title\": {\"standoff\": 15}, \"zerolinecolor\": \"white\", \"zerolinewidth\": 2}, \"yaxis\": {\"automargin\": true, \"gridcolor\": \"white\", \"linecolor\": \"white\", \"ticks\": \"\", \"title\": {\"standoff\": 15}, \"zerolinecolor\": \"white\", \"zerolinewidth\": 2}}}, \"title\": {\"text\": \"Total number of streams per subscriber type\"}, \"xaxis\": {\"anchor\": \"y\", \"domain\": [0.0, 1.0], \"title\": {\"text\": \"subscriber_type\"}}, \"yaxis\": {\"anchor\": \"x\", \"domain\": [0.0, 1.0], \"title\": {\"text\": \"num_streams\"}}},                        {\"responsive\": true}                    ).then(function(){\n",
       "                            \n",
       "var gd = document.getElementById('67b4476b-d783-43a7-b98e-fc41d67f6fa2');\n",
       "var x = new MutationObserver(function (mutations, observer) {{\n",
       "        var display = window.getComputedStyle(gd).display;\n",
       "        if (!display || display === 'none') {{\n",
       "            console.log([gd, 'removed!']);\n",
       "            Plotly.purge(gd);\n",
       "            observer.disconnect();\n",
       "        }}\n",
       "}});\n",
       "\n",
       "// Listen for the removal of the full notebook cells\n",
       "var notebookContainer = gd.closest('#notebook-container');\n",
       "if (notebookContainer) {{\n",
       "    x.observe(notebookContainer, {childList: true});\n",
       "}}\n",
       "\n",
       "// Listen for the clearing of the current output cell\n",
       "var outputEl = gd.closest('.output');\n",
       "if (outputEl) {{\n",
       "    x.observe(outputEl, {childList: true});\n",
       "}}\n",
       "\n",
       "                        })                };                });            </script>        </div>"
      ]
     },
     "metadata": {},
     "output_type": "display_data"
    }
   ],
   "source": [
    "import plotly.express as px\n",
    "fig=px.bar(df,x='subscriber_type',y='num_streams',title='Total number of streams per subscriber type')\n",
    "fig.show()"
   ]
  },
  {
   "cell_type": "code",
   "execution_count": 90,
   "metadata": {
    "colab": {
     "base_uri": "https://localhost:8080/"
    },
    "id": "SQEC-_BKbsyF",
    "outputId": "8915c695-b3e1-4c18-e190-83f06b347bae"
   },
   "outputs": [
    {
     "data": {
      "text/plain": [
       "subscriber_type\n",
       "aavail_basic        18.058081\n",
       "aavail_premium      17.749226\n",
       "aavail_unlimited    17.202847\n",
       "Name: num_streams, dtype: float64"
      ]
     },
     "execution_count": 90,
     "metadata": {},
     "output_type": "execute_result"
    }
   ],
   "source": [
    "df.groupby('subscriber_type')['num_streams'].mean()"
   ]
  },
  {
   "cell_type": "code",
   "execution_count": 91,
   "metadata": {
    "colab": {
     "base_uri": "https://localhost:8080/",
     "height": 542
    },
    "id": "3NdcM0N1bs07",
    "outputId": "83f1a8a7-d6fa-48e3-d6fc-4e1bfb88866d"
   },
   "outputs": [
    {
     "data": {
      "application/vnd.plotly.v1+json": {
       "config": {
        "plotlyServerURL": "https://plot.ly"
       },
       "data": [
        {
         "alignmentgroup": "True",
         "hovertemplate": "country_name=%{x}<br>is_subscriber=%{y}<extra></extra>",
         "legendgroup": "",
         "marker": {
          "color": "#636efa"
         },
         "name": "",
         "offsetgroup": "",
         "orientation": "v",
         "showlegend": false,
         "textposition": "auto",
         "type": "bar",
         "x": [
          "USA",
          "Singapore",
          "USA",
          "USA",
          "Singapore",
          "USA",
          "Singapore",
          "USA",
          "USA",
          "USA",
          "USA",
          "Singapore",
          "USA",
          "USA",
          "USA",
          "USA",
          "USA",
          "Singapore",
          "USA",
          "USA",
          "Singapore",
          "Singapore",
          "USA",
          "Singapore",
          "Singapore",
          "USA",
          "USA",
          "USA",
          "Singapore",
          "USA",
          "USA",
          "Singapore",
          "USA",
          "Singapore",
          "Singapore",
          "Singapore",
          "USA",
          "USA",
          "Singapore",
          "Singapore",
          "USA",
          "Singapore",
          "USA",
          "USA",
          "Singapore",
          "Singapore",
          "USA",
          "USA",
          "USA",
          "Singapore",
          "USA",
          "USA",
          "USA",
          "USA",
          "USA",
          "USA",
          "USA",
          "USA",
          "USA",
          "USA",
          "USA",
          "USA",
          "USA",
          "USA",
          "USA",
          "USA",
          "USA",
          "USA",
          "Singapore",
          "USA",
          "USA",
          "USA",
          "USA",
          "USA",
          "USA",
          "USA",
          "USA",
          "USA",
          "USA",
          "Singapore",
          "Singapore",
          "USA",
          "USA",
          "USA",
          "USA",
          "USA",
          "Singapore",
          "USA",
          "USA",
          "USA",
          "Singapore",
          "USA",
          "USA",
          "USA",
          "Singapore",
          "USA",
          "Singapore",
          "Singapore",
          "USA",
          "Singapore",
          "USA",
          "USA",
          "USA",
          "USA",
          "USA",
          "USA",
          "USA",
          "Singapore",
          "USA",
          "USA",
          "USA",
          "USA",
          "Singapore",
          "USA",
          "USA",
          "Singapore",
          "Singapore",
          "USA",
          "USA",
          "Singapore",
          "Singapore",
          "USA",
          "USA",
          "Singapore",
          "USA",
          "USA",
          "Singapore",
          "USA",
          "Singapore",
          "USA",
          "USA",
          "USA",
          "USA",
          "Singapore",
          "USA",
          "USA",
          "Singapore",
          "USA",
          "USA",
          "Singapore",
          "Singapore",
          "USA",
          "USA",
          "USA",
          "USA",
          "USA",
          "USA",
          "USA",
          "USA",
          "Singapore",
          "Singapore",
          "USA",
          "USA",
          "USA",
          "Singapore",
          "USA",
          "USA",
          "USA",
          "USA",
          "Singapore",
          "USA",
          "USA",
          "USA",
          "USA",
          "USA",
          "USA",
          "USA",
          "USA",
          "USA",
          "Singapore",
          "Singapore",
          "USA",
          "USA",
          "Singapore",
          "Singapore",
          "USA",
          "USA",
          "USA",
          "USA",
          "USA",
          "Singapore",
          "USA",
          "USA",
          "USA",
          "Singapore",
          "USA",
          "USA",
          "USA",
          "USA",
          "Singapore",
          "USA",
          "USA",
          "Singapore",
          "USA",
          "Singapore",
          "USA",
          "Singapore",
          "USA",
          "USA",
          "USA",
          "USA",
          "Singapore",
          "USA",
          "USA",
          "USA",
          "Singapore",
          "USA",
          "USA",
          "USA",
          "USA",
          "USA",
          "Singapore",
          "USA",
          "Singapore",
          "USA",
          "Singapore",
          "Singapore",
          "USA",
          "USA",
          "Singapore",
          "USA",
          "USA",
          "USA",
          "USA",
          "USA",
          "Singapore",
          "Singapore",
          "USA",
          "USA",
          "USA",
          "USA",
          "Singapore",
          "Singapore",
          "USA",
          "USA",
          "USA",
          "Singapore",
          "USA",
          "USA",
          "USA",
          "USA",
          "USA",
          "Singapore",
          "USA",
          "USA",
          "USA",
          "Singapore",
          "Singapore",
          "USA",
          "USA",
          "Singapore",
          "Singapore",
          "USA",
          "USA",
          "USA",
          "Singapore",
          "USA",
          "USA",
          "Singapore",
          "Singapore",
          "USA",
          "USA",
          "Singapore",
          "USA",
          "USA",
          "USA",
          "Singapore",
          "USA",
          "USA",
          "USA",
          "USA",
          "USA",
          "USA",
          "USA",
          "USA",
          "USA",
          "USA",
          "USA",
          "USA",
          "USA",
          "USA",
          "USA",
          "USA",
          "Singapore",
          "USA",
          "USA",
          "USA",
          "USA",
          "USA",
          "USA",
          "USA",
          "USA",
          "USA",
          "USA",
          "USA",
          "USA",
          "USA",
          "Singapore",
          "USA",
          "USA",
          "Singapore",
          "Singapore",
          "USA",
          "Singapore",
          "Singapore",
          "USA",
          "USA",
          "USA",
          "USA",
          "USA",
          "Singapore",
          "Singapore",
          "USA",
          "Singapore",
          "USA",
          "Singapore",
          "USA",
          "Singapore",
          "USA",
          "USA",
          "USA",
          "Singapore",
          "USA",
          "USA",
          "USA",
          "USA",
          "USA",
          "USA",
          "USA",
          "USA",
          "USA",
          "USA",
          "USA",
          "USA",
          "USA",
          "Singapore",
          "Singapore",
          "USA",
          "Singapore",
          "Singapore",
          "Singapore",
          "Singapore",
          "USA",
          "USA",
          "USA",
          "USA",
          "Singapore",
          "USA",
          "USA",
          "USA",
          "USA",
          "USA",
          "USA",
          "USA",
          "USA",
          "USA",
          "USA",
          "Singapore",
          "USA",
          "USA",
          "USA",
          "USA",
          "USA",
          "USA",
          "USA",
          "Singapore",
          "Singapore",
          "USA",
          "USA",
          "Singapore",
          "Singapore",
          "USA",
          "USA",
          "USA",
          "USA",
          "USA",
          "USA",
          "USA",
          "USA",
          "USA",
          "USA",
          "USA",
          "USA",
          "USA",
          "Singapore",
          "USA",
          "USA",
          "USA",
          "USA",
          "Singapore",
          "Singapore",
          "USA",
          "USA",
          "Singapore",
          "Singapore",
          "USA",
          "Singapore",
          "Singapore",
          "USA",
          "USA",
          "Singapore",
          "USA",
          "USA",
          "Singapore",
          "USA",
          "Singapore",
          "USA",
          "USA",
          "USA",
          "USA",
          "USA",
          "Singapore",
          "Singapore",
          "USA",
          "USA",
          "USA",
          "USA",
          "USA",
          "USA",
          "USA",
          "USA",
          "Singapore",
          "Singapore",
          "Singapore",
          "Singapore",
          "USA",
          "Singapore",
          "USA",
          "Singapore",
          "Singapore",
          "USA",
          "USA",
          "Singapore",
          "USA",
          "USA",
          "USA",
          "Singapore",
          "Singapore",
          "USA",
          "Singapore",
          "Singapore",
          "USA",
          "USA",
          "USA",
          "USA",
          "USA",
          "USA",
          "Singapore",
          "USA",
          "USA",
          "Singapore",
          "USA",
          "Singapore",
          "Singapore",
          "USA",
          "USA",
          "USA",
          "USA",
          "Singapore",
          "USA",
          "Singapore",
          "USA",
          "USA",
          "USA",
          "USA",
          "USA",
          "Singapore",
          "Singapore",
          "USA",
          "USA",
          "USA",
          "Singapore",
          "USA",
          "Singapore",
          "Singapore",
          "USA",
          "USA",
          "Singapore",
          "USA",
          "Singapore",
          "Singapore",
          "USA",
          "USA",
          "Singapore",
          "Singapore",
          "Singapore",
          "USA",
          "Singapore",
          "Singapore",
          "Singapore",
          "Singapore",
          "USA",
          "Singapore",
          "Singapore",
          "USA",
          "USA",
          "USA",
          "Singapore",
          "USA",
          "USA",
          "USA",
          "USA",
          "Singapore",
          "Singapore",
          "Singapore",
          "Singapore",
          "Singapore",
          "USA",
          "USA",
          "USA",
          "USA",
          "USA",
          "USA",
          "USA",
          "Singapore",
          "USA",
          "Singapore",
          "Singapore",
          "USA",
          "USA",
          "USA",
          "USA",
          "Singapore",
          "USA",
          "USA",
          "Singapore",
          "USA",
          "Singapore",
          "USA",
          "Singapore",
          "USA",
          "USA",
          "Singapore",
          "USA",
          "USA",
          "USA",
          "USA",
          "USA",
          "Singapore",
          "USA",
          "USA",
          "USA",
          "Singapore",
          "USA",
          "USA",
          "USA",
          "USA",
          "USA",
          "Singapore",
          "USA",
          "USA",
          "Singapore",
          "USA",
          "USA",
          "USA",
          "USA",
          "USA",
          "USA",
          "Singapore",
          "USA",
          "USA",
          "USA",
          "USA",
          "USA",
          "USA",
          "USA",
          "USA",
          "USA",
          "USA",
          "USA",
          "USA",
          "USA",
          "Singapore",
          "Singapore",
          "USA",
          "USA",
          "Singapore",
          "USA",
          "USA",
          "Singapore",
          "Singapore",
          "USA",
          "USA",
          "USA",
          "USA",
          "USA",
          "USA",
          "USA",
          "USA",
          "USA",
          "USA",
          "USA",
          "USA",
          "USA",
          "Singapore",
          "USA",
          "USA",
          "USA",
          "USA",
          "Singapore",
          "Singapore",
          "USA",
          "Singapore",
          "USA",
          "USA",
          "USA",
          "USA",
          "USA",
          "USA",
          "Singapore",
          "USA",
          "USA",
          "USA",
          "USA",
          "Singapore",
          "Singapore",
          "USA",
          "Singapore",
          "USA",
          "USA",
          "USA",
          "Singapore",
          "USA",
          "USA",
          "Singapore",
          "Singapore",
          "USA",
          "USA",
          "USA",
          "USA",
          "Singapore",
          "Singapore",
          "Singapore",
          "Singapore",
          "USA",
          "Singapore",
          "USA",
          "USA",
          "USA",
          "Singapore",
          "Singapore",
          "Singapore",
          "Singapore",
          "USA",
          "Singapore",
          "Singapore",
          "Singapore",
          "USA",
          "USA",
          "Singapore",
          "USA",
          "Singapore",
          "USA",
          "USA",
          "USA",
          "USA",
          "USA",
          "Singapore",
          "Singapore",
          "Singapore",
          "USA",
          "USA",
          "USA",
          "USA",
          "USA",
          "USA",
          "USA",
          "USA",
          "Singapore",
          "USA",
          "USA",
          "USA",
          "USA",
          "USA",
          "USA",
          "Singapore",
          "USA",
          "Singapore",
          "USA",
          "USA",
          "USA",
          "USA",
          "Singapore",
          "USA",
          "Singapore",
          "USA",
          "USA",
          "Singapore",
          "USA",
          "Singapore",
          "Singapore",
          "Singapore",
          "Singapore",
          "USA",
          "USA",
          "Singapore",
          "Singapore",
          "Singapore",
          "USA",
          "USA",
          "USA",
          "USA",
          "USA",
          "Singapore",
          "USA",
          "USA",
          "Singapore",
          "USA",
          "USA",
          "USA",
          "USA",
          "USA",
          "USA",
          "Singapore",
          "USA",
          "USA",
          "USA",
          "USA",
          "Singapore",
          "Singapore",
          "Singapore",
          "USA",
          "Singapore",
          "Singapore",
          "USA",
          "Singapore",
          "Singapore",
          "USA",
          "USA",
          "USA",
          "USA",
          "USA",
          "Singapore",
          "USA",
          "USA",
          "USA",
          "USA",
          "Singapore",
          "USA",
          "Singapore",
          "USA",
          "USA",
          "USA",
          "Singapore",
          "USA",
          "Singapore",
          "USA",
          "USA",
          "Singapore",
          "USA",
          "USA",
          "USA",
          "USA",
          "USA",
          "USA",
          "USA",
          "USA",
          "USA",
          "USA",
          "USA",
          "Singapore",
          "Singapore",
          "USA",
          "USA",
          "Singapore",
          "USA",
          "USA",
          "USA",
          "USA",
          "USA",
          "USA",
          "USA",
          "USA",
          "USA",
          "Singapore",
          "Singapore",
          "USA",
          "Singapore",
          "USA",
          "USA",
          "USA",
          "USA",
          "USA",
          "USA",
          "USA",
          "Singapore",
          "USA",
          "USA",
          "USA",
          "USA",
          "Singapore",
          "Singapore",
          "USA",
          "USA",
          "Singapore",
          "USA",
          "USA",
          "USA",
          "USA",
          "USA",
          "Singapore",
          "USA",
          "USA",
          "USA",
          "USA",
          "Singapore",
          "USA",
          "Singapore",
          "USA",
          "USA",
          "Singapore",
          "Singapore",
          "Singapore",
          "USA",
          "Singapore",
          "USA",
          "USA",
          "USA",
          "USA",
          "USA",
          "Singapore",
          "Singapore",
          "USA",
          "Singapore",
          "USA",
          "Singapore",
          "USA",
          "Singapore",
          "USA",
          "Singapore",
          "USA",
          "USA",
          "USA",
          "Singapore",
          "Singapore",
          "Singapore",
          "Singapore",
          "USA",
          "USA",
          "Singapore",
          "USA",
          "Singapore",
          "USA",
          "USA",
          "USA",
          "USA",
          "USA",
          "Singapore",
          "USA",
          "USA",
          "USA",
          "USA",
          "USA",
          "USA",
          "USA",
          "USA",
          "USA",
          "Singapore",
          "Singapore",
          "USA",
          "Singapore",
          "USA",
          "USA",
          "Singapore",
          "USA",
          "USA",
          "Singapore",
          "USA",
          "Singapore",
          "USA",
          "USA",
          "USA",
          "USA",
          "USA",
          "Singapore",
          "USA",
          "USA",
          "USA",
          "Singapore",
          "USA",
          "USA",
          "USA",
          "USA",
          "Singapore",
          "USA",
          "USA",
          "USA",
          "Singapore",
          "Singapore",
          "USA",
          "USA",
          "Singapore",
          "USA",
          "USA",
          "USA",
          "Singapore",
          "USA",
          "USA",
          "Singapore",
          "USA",
          "USA",
          "USA",
          "USA",
          "USA",
          "USA",
          "USA",
          "Singapore",
          "Singapore",
          "USA",
          "Singapore",
          "USA",
          "Singapore",
          "Singapore",
          "USA",
          "USA",
          "USA",
          "Singapore",
          "USA",
          "USA",
          "Singapore",
          "Singapore",
          "USA",
          "USA",
          "USA",
          "USA",
          "USA",
          "Singapore",
          "USA",
          "USA",
          "USA",
          "USA",
          "Singapore",
          "USA",
          "USA",
          "USA",
          "USA",
          "USA",
          "Singapore",
          "USA",
          "USA",
          "USA",
          "USA",
          "Singapore",
          "USA",
          "Singapore",
          "USA",
          "USA",
          "USA",
          "USA",
          "Singapore",
          "USA",
          "USA",
          "USA",
          "USA",
          "USA",
          "USA",
          "Singapore",
          "Singapore",
          "USA",
          "USA",
          "USA",
          "Singapore",
          "USA",
          "USA",
          "USA",
          "USA",
          "Singapore",
          "USA",
          "USA",
          "Singapore",
          "USA",
          "USA",
          "USA",
          "USA",
          "USA",
          "USA",
          "USA",
          "Singapore",
          "Singapore",
          "USA",
          "USA",
          "Singapore",
          "Singapore",
          "Singapore",
          "USA",
          "USA",
          "USA",
          "USA",
          "USA",
          "USA",
          "Singapore",
          "USA",
          "USA",
          "USA",
          "USA",
          "Singapore",
          "USA",
          "USA",
          "USA",
          "USA"
         ],
         "xaxis": "x",
         "y": [
          1,
          0,
          0,
          1,
          1,
          1,
          0,
          1,
          0,
          0,
          1,
          0,
          1,
          1,
          0,
          1,
          1,
          0,
          1,
          1,
          0,
          0,
          1,
          0,
          1,
          1,
          1,
          1,
          1,
          1,
          1,
          0,
          1,
          0,
          0,
          0,
          1,
          1,
          0,
          1,
          1,
          0,
          1,
          1,
          1,
          1,
          1,
          1,
          1,
          1,
          1,
          1,
          0,
          1,
          1,
          1,
          1,
          0,
          1,
          1,
          0,
          1,
          0,
          1,
          1,
          1,
          1,
          0,
          0,
          0,
          1,
          1,
          1,
          1,
          1,
          1,
          0,
          1,
          0,
          0,
          0,
          1,
          1,
          1,
          1,
          0,
          0,
          1,
          1,
          1,
          0,
          1,
          0,
          1,
          1,
          1,
          0,
          0,
          1,
          0,
          0,
          1,
          1,
          1,
          1,
          1,
          1,
          1,
          0,
          1,
          1,
          1,
          0,
          1,
          1,
          0,
          0,
          0,
          1,
          0,
          0,
          1,
          1,
          1,
          0,
          1,
          1,
          1,
          0,
          1,
          1,
          1,
          0,
          1,
          1,
          1,
          0,
          1,
          1,
          1,
          0,
          1,
          0,
          1,
          1,
          1,
          1,
          0,
          0,
          0,
          1,
          1,
          1,
          1,
          1,
          1,
          0,
          1,
          0,
          0,
          1,
          1,
          1,
          1,
          1,
          1,
          1,
          0,
          1,
          1,
          1,
          1,
          1,
          0,
          1,
          1,
          1,
          1,
          0,
          1,
          0,
          1,
          0,
          1,
          1,
          1,
          1,
          1,
          1,
          0,
          1,
          1,
          1,
          1,
          0,
          1,
          0,
          0,
          1,
          1,
          1,
          1,
          1,
          1,
          1,
          0,
          1,
          1,
          1,
          1,
          1,
          1,
          1,
          1,
          1,
          0,
          0,
          1,
          1,
          0,
          1,
          0,
          1,
          1,
          1,
          1,
          0,
          1,
          1,
          1,
          0,
          1,
          0,
          1,
          1,
          1,
          1,
          1,
          1,
          1,
          0,
          0,
          0,
          1,
          1,
          1,
          1,
          0,
          1,
          0,
          0,
          0,
          1,
          1,
          1,
          0,
          1,
          1,
          0,
          0,
          1,
          1,
          0,
          1,
          0,
          1,
          0,
          1,
          1,
          1,
          1,
          1,
          1,
          1,
          1,
          1,
          1,
          1,
          0,
          1,
          1,
          1,
          0,
          0,
          1,
          1,
          1,
          1,
          1,
          1,
          1,
          0,
          1,
          1,
          1,
          1,
          1,
          0,
          1,
          1,
          0,
          0,
          1,
          0,
          0,
          1,
          1,
          1,
          1,
          0,
          1,
          0,
          0,
          0,
          1,
          0,
          1,
          1,
          0,
          0,
          1,
          1,
          1,
          1,
          1,
          1,
          1,
          0,
          1,
          1,
          1,
          1,
          1,
          1,
          0,
          0,
          1,
          1,
          1,
          0,
          1,
          1,
          1,
          0,
          0,
          1,
          0,
          1,
          1,
          1,
          1,
          0,
          1,
          1,
          1,
          1,
          1,
          0,
          1,
          1,
          1,
          1,
          1,
          1,
          0,
          0,
          0,
          1,
          1,
          1,
          1,
          0,
          1,
          1,
          0,
          1,
          1,
          1,
          0,
          1,
          1,
          1,
          1,
          1,
          0,
          1,
          1,
          1,
          1,
          1,
          1,
          1,
          1,
          0,
          0,
          1,
          1,
          0,
          1,
          1,
          1,
          1,
          1,
          1,
          1,
          1,
          1,
          0,
          0,
          1,
          0,
          1,
          0,
          1,
          1,
          1,
          1,
          1,
          1,
          1,
          1,
          0,
          1,
          0,
          0,
          1,
          1,
          1,
          0,
          0,
          1,
          1,
          0,
          1,
          1,
          0,
          0,
          0,
          1,
          1,
          1,
          1,
          1,
          1,
          1,
          1,
          1,
          1,
          1,
          1,
          1,
          1,
          0,
          0,
          1,
          0,
          1,
          1,
          1,
          1,
          1,
          1,
          1,
          1,
          1,
          1,
          0,
          0,
          1,
          1,
          1,
          1,
          0,
          1,
          0,
          1,
          1,
          1,
          1,
          1,
          0,
          1,
          1,
          0,
          1,
          1,
          1,
          0,
          0,
          0,
          0,
          1,
          1,
          0,
          0,
          1,
          1,
          1,
          1,
          1,
          1,
          1,
          0,
          1,
          1,
          1,
          0,
          1,
          0,
          1,
          1,
          1,
          1,
          1,
          1,
          1,
          0,
          0,
          1,
          1,
          1,
          1,
          1,
          1,
          1,
          1,
          1,
          0,
          1,
          0,
          1,
          1,
          1,
          1,
          1,
          1,
          1,
          1,
          0,
          1,
          1,
          1,
          0,
          0,
          0,
          1,
          1,
          1,
          0,
          0,
          0,
          0,
          1,
          0,
          1,
          1,
          1,
          0,
          1,
          1,
          0,
          1,
          0,
          1,
          1,
          1,
          1,
          1,
          0,
          1,
          0,
          0,
          1,
          0,
          1,
          1,
          0,
          0,
          1,
          0,
          1,
          1,
          1,
          1,
          1,
          1,
          1,
          1,
          1,
          1,
          1,
          1,
          1,
          1,
          0,
          1,
          1,
          1,
          1,
          1,
          1,
          1,
          0,
          1,
          1,
          1,
          1,
          1,
          1,
          0,
          1,
          1,
          1,
          1,
          1,
          0,
          1,
          0,
          0,
          1,
          1,
          1,
          1,
          1,
          0,
          1,
          1,
          1,
          1,
          1,
          0,
          0,
          0,
          1,
          1,
          0,
          1,
          0,
          1,
          0,
          1,
          1,
          0,
          1,
          0,
          0,
          1,
          0,
          1,
          0,
          1,
          0,
          1,
          1,
          1,
          1,
          0,
          1,
          1,
          0,
          1,
          1,
          1,
          1,
          1,
          1,
          1,
          1,
          0,
          1,
          1,
          1,
          0,
          1,
          1,
          0,
          1,
          0,
          1,
          1,
          1,
          1,
          1,
          1,
          0,
          1,
          1,
          0,
          1,
          1,
          0,
          1,
          0,
          1,
          1,
          0,
          0,
          0,
          1,
          1,
          1,
          1,
          1,
          0,
          0,
          1,
          0,
          1,
          1,
          1,
          1,
          1,
          1,
          0,
          1,
          0,
          0,
          0,
          0,
          1,
          0,
          1,
          0,
          0,
          1,
          1,
          0,
          1,
          1,
          1,
          1,
          1,
          1,
          1,
          1,
          0,
          1,
          0,
          1,
          0,
          1,
          1,
          1,
          0,
          1,
          0,
          0,
          1,
          0,
          1,
          0,
          1,
          1,
          1,
          1,
          0,
          1,
          1,
          0,
          0,
          0,
          0,
          1,
          1,
          0,
          1,
          1,
          0,
          1,
          1,
          1,
          1,
          1,
          1,
          1,
          1,
          1,
          1,
          1,
          0,
          1,
          1,
          1,
          1,
          1,
          1,
          1,
          1,
          1,
          1,
          0,
          1,
          1,
          1,
          0,
          1,
          1,
          1,
          1,
          1,
          0,
          1,
          1,
          1,
          1,
          0,
          1,
          1,
          0,
          1,
          1,
          0,
          1,
          1,
          0,
          1,
          0,
          1,
          0,
          1,
          0,
          0,
          1,
          1,
          1,
          1,
          1,
          1,
          0,
          1,
          0,
          1,
          1,
          0,
          0,
          1,
          1,
          1,
          1,
          0,
          0,
          0,
          1,
          1,
          1,
          0,
          1,
          1,
          1,
          1,
          0,
          1,
          1,
          1,
          0,
          1,
          1,
          0,
          0,
          1,
          0,
          1,
          1,
          0,
          1,
          1,
          1,
          1,
          1,
          0,
          0,
          1,
          1,
          1,
          0,
          0,
          1,
          1,
          0,
          1,
          1,
          1,
          1,
          0,
          1,
          0,
          1,
          0,
          0,
          1,
          1,
          1,
          1,
          1,
          1,
          0,
          1,
          1,
          1,
          1,
          1,
          0,
          1,
          1,
          1,
          1,
          0,
          1,
          0,
          1,
          1,
          1,
          0,
          1,
          1,
          1,
          0,
          1,
          1,
          0,
          0,
          1,
          1,
          1,
          1,
          1,
          1,
          1,
          0,
          1,
          1,
          1,
          1,
          1,
          1,
          1,
          0,
          0,
          1,
          1,
          1,
          1,
          0,
          1,
          0,
          1,
          1,
          1,
          0,
          0,
          1,
          1,
          1,
          1,
          1,
          1,
          1,
          1,
          1,
          1,
          1,
          1,
          1,
          1,
          1,
          1,
          1,
          1,
          1,
          0,
          1,
          1,
          1,
          1,
          0,
          1,
          1,
          0,
          1,
          0,
          1,
          1,
          1,
          1,
          1,
          1,
          1,
          1,
          1,
          1,
          1,
          0,
          1,
          1,
          1,
          0,
          1,
          1,
          1,
          1
         ],
         "yaxis": "y"
        }
       ],
       "layout": {
        "barmode": "relative",
        "legend": {
         "tracegroupgap": 0
        },
        "template": {
         "data": {
          "bar": [
           {
            "error_x": {
             "color": "#2a3f5f"
            },
            "error_y": {
             "color": "#2a3f5f"
            },
            "marker": {
             "line": {
              "color": "#E5ECF6",
              "width": 0.5
             }
            },
            "type": "bar"
           }
          ],
          "barpolar": [
           {
            "marker": {
             "line": {
              "color": "#E5ECF6",
              "width": 0.5
             }
            },
            "type": "barpolar"
           }
          ],
          "carpet": [
           {
            "aaxis": {
             "endlinecolor": "#2a3f5f",
             "gridcolor": "white",
             "linecolor": "white",
             "minorgridcolor": "white",
             "startlinecolor": "#2a3f5f"
            },
            "baxis": {
             "endlinecolor": "#2a3f5f",
             "gridcolor": "white",
             "linecolor": "white",
             "minorgridcolor": "white",
             "startlinecolor": "#2a3f5f"
            },
            "type": "carpet"
           }
          ],
          "choropleth": [
           {
            "colorbar": {
             "outlinewidth": 0,
             "ticks": ""
            },
            "type": "choropleth"
           }
          ],
          "contour": [
           {
            "colorbar": {
             "outlinewidth": 0,
             "ticks": ""
            },
            "colorscale": [
             [
              0,
              "#0d0887"
             ],
             [
              0.1111111111111111,
              "#46039f"
             ],
             [
              0.2222222222222222,
              "#7201a8"
             ],
             [
              0.3333333333333333,
              "#9c179e"
             ],
             [
              0.4444444444444444,
              "#bd3786"
             ],
             [
              0.5555555555555556,
              "#d8576b"
             ],
             [
              0.6666666666666666,
              "#ed7953"
             ],
             [
              0.7777777777777778,
              "#fb9f3a"
             ],
             [
              0.8888888888888888,
              "#fdca26"
             ],
             [
              1,
              "#f0f921"
             ]
            ],
            "type": "contour"
           }
          ],
          "contourcarpet": [
           {
            "colorbar": {
             "outlinewidth": 0,
             "ticks": ""
            },
            "type": "contourcarpet"
           }
          ],
          "heatmap": [
           {
            "colorbar": {
             "outlinewidth": 0,
             "ticks": ""
            },
            "colorscale": [
             [
              0,
              "#0d0887"
             ],
             [
              0.1111111111111111,
              "#46039f"
             ],
             [
              0.2222222222222222,
              "#7201a8"
             ],
             [
              0.3333333333333333,
              "#9c179e"
             ],
             [
              0.4444444444444444,
              "#bd3786"
             ],
             [
              0.5555555555555556,
              "#d8576b"
             ],
             [
              0.6666666666666666,
              "#ed7953"
             ],
             [
              0.7777777777777778,
              "#fb9f3a"
             ],
             [
              0.8888888888888888,
              "#fdca26"
             ],
             [
              1,
              "#f0f921"
             ]
            ],
            "type": "heatmap"
           }
          ],
          "heatmapgl": [
           {
            "colorbar": {
             "outlinewidth": 0,
             "ticks": ""
            },
            "colorscale": [
             [
              0,
              "#0d0887"
             ],
             [
              0.1111111111111111,
              "#46039f"
             ],
             [
              0.2222222222222222,
              "#7201a8"
             ],
             [
              0.3333333333333333,
              "#9c179e"
             ],
             [
              0.4444444444444444,
              "#bd3786"
             ],
             [
              0.5555555555555556,
              "#d8576b"
             ],
             [
              0.6666666666666666,
              "#ed7953"
             ],
             [
              0.7777777777777778,
              "#fb9f3a"
             ],
             [
              0.8888888888888888,
              "#fdca26"
             ],
             [
              1,
              "#f0f921"
             ]
            ],
            "type": "heatmapgl"
           }
          ],
          "histogram": [
           {
            "marker": {
             "colorbar": {
              "outlinewidth": 0,
              "ticks": ""
             }
            },
            "type": "histogram"
           }
          ],
          "histogram2d": [
           {
            "colorbar": {
             "outlinewidth": 0,
             "ticks": ""
            },
            "colorscale": [
             [
              0,
              "#0d0887"
             ],
             [
              0.1111111111111111,
              "#46039f"
             ],
             [
              0.2222222222222222,
              "#7201a8"
             ],
             [
              0.3333333333333333,
              "#9c179e"
             ],
             [
              0.4444444444444444,
              "#bd3786"
             ],
             [
              0.5555555555555556,
              "#d8576b"
             ],
             [
              0.6666666666666666,
              "#ed7953"
             ],
             [
              0.7777777777777778,
              "#fb9f3a"
             ],
             [
              0.8888888888888888,
              "#fdca26"
             ],
             [
              1,
              "#f0f921"
             ]
            ],
            "type": "histogram2d"
           }
          ],
          "histogram2dcontour": [
           {
            "colorbar": {
             "outlinewidth": 0,
             "ticks": ""
            },
            "colorscale": [
             [
              0,
              "#0d0887"
             ],
             [
              0.1111111111111111,
              "#46039f"
             ],
             [
              0.2222222222222222,
              "#7201a8"
             ],
             [
              0.3333333333333333,
              "#9c179e"
             ],
             [
              0.4444444444444444,
              "#bd3786"
             ],
             [
              0.5555555555555556,
              "#d8576b"
             ],
             [
              0.6666666666666666,
              "#ed7953"
             ],
             [
              0.7777777777777778,
              "#fb9f3a"
             ],
             [
              0.8888888888888888,
              "#fdca26"
             ],
             [
              1,
              "#f0f921"
             ]
            ],
            "type": "histogram2dcontour"
           }
          ],
          "mesh3d": [
           {
            "colorbar": {
             "outlinewidth": 0,
             "ticks": ""
            },
            "type": "mesh3d"
           }
          ],
          "parcoords": [
           {
            "line": {
             "colorbar": {
              "outlinewidth": 0,
              "ticks": ""
             }
            },
            "type": "parcoords"
           }
          ],
          "pie": [
           {
            "automargin": true,
            "type": "pie"
           }
          ],
          "scatter": [
           {
            "marker": {
             "colorbar": {
              "outlinewidth": 0,
              "ticks": ""
             }
            },
            "type": "scatter"
           }
          ],
          "scatter3d": [
           {
            "line": {
             "colorbar": {
              "outlinewidth": 0,
              "ticks": ""
             }
            },
            "marker": {
             "colorbar": {
              "outlinewidth": 0,
              "ticks": ""
             }
            },
            "type": "scatter3d"
           }
          ],
          "scattercarpet": [
           {
            "marker": {
             "colorbar": {
              "outlinewidth": 0,
              "ticks": ""
             }
            },
            "type": "scattercarpet"
           }
          ],
          "scattergeo": [
           {
            "marker": {
             "colorbar": {
              "outlinewidth": 0,
              "ticks": ""
             }
            },
            "type": "scattergeo"
           }
          ],
          "scattergl": [
           {
            "marker": {
             "colorbar": {
              "outlinewidth": 0,
              "ticks": ""
             }
            },
            "type": "scattergl"
           }
          ],
          "scattermapbox": [
           {
            "marker": {
             "colorbar": {
              "outlinewidth": 0,
              "ticks": ""
             }
            },
            "type": "scattermapbox"
           }
          ],
          "scatterpolar": [
           {
            "marker": {
             "colorbar": {
              "outlinewidth": 0,
              "ticks": ""
             }
            },
            "type": "scatterpolar"
           }
          ],
          "scatterpolargl": [
           {
            "marker": {
             "colorbar": {
              "outlinewidth": 0,
              "ticks": ""
             }
            },
            "type": "scatterpolargl"
           }
          ],
          "scatterternary": [
           {
            "marker": {
             "colorbar": {
              "outlinewidth": 0,
              "ticks": ""
             }
            },
            "type": "scatterternary"
           }
          ],
          "surface": [
           {
            "colorbar": {
             "outlinewidth": 0,
             "ticks": ""
            },
            "colorscale": [
             [
              0,
              "#0d0887"
             ],
             [
              0.1111111111111111,
              "#46039f"
             ],
             [
              0.2222222222222222,
              "#7201a8"
             ],
             [
              0.3333333333333333,
              "#9c179e"
             ],
             [
              0.4444444444444444,
              "#bd3786"
             ],
             [
              0.5555555555555556,
              "#d8576b"
             ],
             [
              0.6666666666666666,
              "#ed7953"
             ],
             [
              0.7777777777777778,
              "#fb9f3a"
             ],
             [
              0.8888888888888888,
              "#fdca26"
             ],
             [
              1,
              "#f0f921"
             ]
            ],
            "type": "surface"
           }
          ],
          "table": [
           {
            "cells": {
             "fill": {
              "color": "#EBF0F8"
             },
             "line": {
              "color": "white"
             }
            },
            "header": {
             "fill": {
              "color": "#C8D4E3"
             },
             "line": {
              "color": "white"
             }
            },
            "type": "table"
           }
          ]
         },
         "layout": {
          "annotationdefaults": {
           "arrowcolor": "#2a3f5f",
           "arrowhead": 0,
           "arrowwidth": 1
          },
          "autotypenumbers": "strict",
          "coloraxis": {
           "colorbar": {
            "outlinewidth": 0,
            "ticks": ""
           }
          },
          "colorscale": {
           "diverging": [
            [
             0,
             "#8e0152"
            ],
            [
             0.1,
             "#c51b7d"
            ],
            [
             0.2,
             "#de77ae"
            ],
            [
             0.3,
             "#f1b6da"
            ],
            [
             0.4,
             "#fde0ef"
            ],
            [
             0.5,
             "#f7f7f7"
            ],
            [
             0.6,
             "#e6f5d0"
            ],
            [
             0.7,
             "#b8e186"
            ],
            [
             0.8,
             "#7fbc41"
            ],
            [
             0.9,
             "#4d9221"
            ],
            [
             1,
             "#276419"
            ]
           ],
           "sequential": [
            [
             0,
             "#0d0887"
            ],
            [
             0.1111111111111111,
             "#46039f"
            ],
            [
             0.2222222222222222,
             "#7201a8"
            ],
            [
             0.3333333333333333,
             "#9c179e"
            ],
            [
             0.4444444444444444,
             "#bd3786"
            ],
            [
             0.5555555555555556,
             "#d8576b"
            ],
            [
             0.6666666666666666,
             "#ed7953"
            ],
            [
             0.7777777777777778,
             "#fb9f3a"
            ],
            [
             0.8888888888888888,
             "#fdca26"
            ],
            [
             1,
             "#f0f921"
            ]
           ],
           "sequentialminus": [
            [
             0,
             "#0d0887"
            ],
            [
             0.1111111111111111,
             "#46039f"
            ],
            [
             0.2222222222222222,
             "#7201a8"
            ],
            [
             0.3333333333333333,
             "#9c179e"
            ],
            [
             0.4444444444444444,
             "#bd3786"
            ],
            [
             0.5555555555555556,
             "#d8576b"
            ],
            [
             0.6666666666666666,
             "#ed7953"
            ],
            [
             0.7777777777777778,
             "#fb9f3a"
            ],
            [
             0.8888888888888888,
             "#fdca26"
            ],
            [
             1,
             "#f0f921"
            ]
           ]
          },
          "colorway": [
           "#636efa",
           "#EF553B",
           "#00cc96",
           "#ab63fa",
           "#FFA15A",
           "#19d3f3",
           "#FF6692",
           "#B6E880",
           "#FF97FF",
           "#FECB52"
          ],
          "font": {
           "color": "#2a3f5f"
          },
          "geo": {
           "bgcolor": "white",
           "lakecolor": "white",
           "landcolor": "#E5ECF6",
           "showlakes": true,
           "showland": true,
           "subunitcolor": "white"
          },
          "hoverlabel": {
           "align": "left"
          },
          "hovermode": "closest",
          "mapbox": {
           "style": "light"
          },
          "paper_bgcolor": "white",
          "plot_bgcolor": "#E5ECF6",
          "polar": {
           "angularaxis": {
            "gridcolor": "white",
            "linecolor": "white",
            "ticks": ""
           },
           "bgcolor": "#E5ECF6",
           "radialaxis": {
            "gridcolor": "white",
            "linecolor": "white",
            "ticks": ""
           }
          },
          "scene": {
           "xaxis": {
            "backgroundcolor": "#E5ECF6",
            "gridcolor": "white",
            "gridwidth": 2,
            "linecolor": "white",
            "showbackground": true,
            "ticks": "",
            "zerolinecolor": "white"
           },
           "yaxis": {
            "backgroundcolor": "#E5ECF6",
            "gridcolor": "white",
            "gridwidth": 2,
            "linecolor": "white",
            "showbackground": true,
            "ticks": "",
            "zerolinecolor": "white"
           },
           "zaxis": {
            "backgroundcolor": "#E5ECF6",
            "gridcolor": "white",
            "gridwidth": 2,
            "linecolor": "white",
            "showbackground": true,
            "ticks": "",
            "zerolinecolor": "white"
           }
          },
          "shapedefaults": {
           "line": {
            "color": "#2a3f5f"
           }
          },
          "ternary": {
           "aaxis": {
            "gridcolor": "white",
            "linecolor": "white",
            "ticks": ""
           },
           "baxis": {
            "gridcolor": "white",
            "linecolor": "white",
            "ticks": ""
           },
           "bgcolor": "#E5ECF6",
           "caxis": {
            "gridcolor": "white",
            "linecolor": "white",
            "ticks": ""
           }
          },
          "title": {
           "x": 0.05
          },
          "xaxis": {
           "automargin": true,
           "gridcolor": "white",
           "linecolor": "white",
           "ticks": "",
           "title": {
            "standoff": 15
           },
           "zerolinecolor": "white",
           "zerolinewidth": 2
          },
          "yaxis": {
           "automargin": true,
           "gridcolor": "white",
           "linecolor": "white",
           "ticks": "",
           "title": {
            "standoff": 15
           },
           "zerolinecolor": "white",
           "zerolinewidth": 2
          }
         }
        },
        "title": {
         "text": "number of subscribers in each country"
        },
        "xaxis": {
         "anchor": "y",
         "domain": [
          0,
          1
         ],
         "title": {
          "text": "country_name"
         }
        },
        "yaxis": {
         "anchor": "x",
         "domain": [
          0,
          1
         ],
         "title": {
          "text": "is_subscriber"
         }
        }
       }
      },
      "text/html": [
       "<div>                            <div id=\"1438592a-85bd-4c08-b766-2ac39eed5072\" class=\"plotly-graph-div\" style=\"height:525px; width:100%;\"></div>            <script type=\"text/javascript\">                require([\"plotly\"], function(Plotly) {                    window.PLOTLYENV=window.PLOTLYENV || {};                                    if (document.getElementById(\"1438592a-85bd-4c08-b766-2ac39eed5072\")) {                    Plotly.newPlot(                        \"1438592a-85bd-4c08-b766-2ac39eed5072\",                        [{\"alignmentgroup\": \"True\", \"hovertemplate\": \"country_name=%{x}<br>is_subscriber=%{y}<extra></extra>\", \"legendgroup\": \"\", \"marker\": {\"color\": \"#636efa\"}, \"name\": \"\", \"offsetgroup\": \"\", \"orientation\": \"v\", \"showlegend\": false, \"textposition\": \"auto\", \"type\": \"bar\", \"x\": [\"USA\", \"Singapore\", \"USA\", \"USA\", \"Singapore\", \"USA\", \"Singapore\", \"USA\", \"USA\", \"USA\", \"USA\", \"Singapore\", \"USA\", \"USA\", \"USA\", \"USA\", \"USA\", \"Singapore\", \"USA\", \"USA\", \"Singapore\", \"Singapore\", \"USA\", \"Singapore\", \"Singapore\", \"USA\", \"USA\", \"USA\", \"Singapore\", \"USA\", \"USA\", \"Singapore\", \"USA\", \"Singapore\", \"Singapore\", \"Singapore\", \"USA\", \"USA\", \"Singapore\", \"Singapore\", \"USA\", \"Singapore\", \"USA\", \"USA\", \"Singapore\", \"Singapore\", \"USA\", \"USA\", \"USA\", \"Singapore\", \"USA\", \"USA\", \"USA\", \"USA\", \"USA\", \"USA\", \"USA\", \"USA\", \"USA\", \"USA\", \"USA\", \"USA\", \"USA\", \"USA\", \"USA\", \"USA\", \"USA\", \"USA\", \"Singapore\", \"USA\", \"USA\", \"USA\", \"USA\", \"USA\", \"USA\", \"USA\", \"USA\", \"USA\", \"USA\", \"Singapore\", \"Singapore\", \"USA\", \"USA\", \"USA\", \"USA\", \"USA\", \"Singapore\", \"USA\", \"USA\", \"USA\", \"Singapore\", \"USA\", \"USA\", \"USA\", \"Singapore\", \"USA\", \"Singapore\", \"Singapore\", \"USA\", \"Singapore\", \"USA\", \"USA\", \"USA\", \"USA\", \"USA\", \"USA\", \"USA\", \"Singapore\", \"USA\", \"USA\", \"USA\", \"USA\", \"Singapore\", \"USA\", \"USA\", \"Singapore\", \"Singapore\", \"USA\", \"USA\", \"Singapore\", \"Singapore\", \"USA\", \"USA\", \"Singapore\", \"USA\", \"USA\", \"Singapore\", \"USA\", \"Singapore\", \"USA\", \"USA\", \"USA\", \"USA\", \"Singapore\", \"USA\", \"USA\", \"Singapore\", \"USA\", \"USA\", \"Singapore\", \"Singapore\", \"USA\", \"USA\", \"USA\", \"USA\", \"USA\", \"USA\", \"USA\", \"USA\", \"Singapore\", \"Singapore\", \"USA\", \"USA\", \"USA\", \"Singapore\", \"USA\", \"USA\", \"USA\", \"USA\", \"Singapore\", \"USA\", \"USA\", \"USA\", \"USA\", \"USA\", \"USA\", \"USA\", \"USA\", \"USA\", \"Singapore\", \"Singapore\", \"USA\", \"USA\", \"Singapore\", \"Singapore\", \"USA\", \"USA\", \"USA\", \"USA\", \"USA\", \"Singapore\", \"USA\", \"USA\", \"USA\", \"Singapore\", \"USA\", \"USA\", \"USA\", \"USA\", \"Singapore\", \"USA\", \"USA\", \"Singapore\", \"USA\", \"Singapore\", \"USA\", \"Singapore\", \"USA\", \"USA\", \"USA\", \"USA\", \"Singapore\", \"USA\", \"USA\", \"USA\", \"Singapore\", \"USA\", \"USA\", \"USA\", \"USA\", \"USA\", \"Singapore\", \"USA\", \"Singapore\", \"USA\", \"Singapore\", \"Singapore\", \"USA\", \"USA\", \"Singapore\", \"USA\", \"USA\", \"USA\", \"USA\", \"USA\", \"Singapore\", \"Singapore\", \"USA\", \"USA\", \"USA\", \"USA\", \"Singapore\", \"Singapore\", \"USA\", \"USA\", \"USA\", \"Singapore\", \"USA\", \"USA\", \"USA\", \"USA\", \"USA\", \"Singapore\", \"USA\", \"USA\", \"USA\", \"Singapore\", \"Singapore\", \"USA\", \"USA\", \"Singapore\", \"Singapore\", \"USA\", \"USA\", \"USA\", \"Singapore\", \"USA\", \"USA\", \"Singapore\", \"Singapore\", \"USA\", \"USA\", \"Singapore\", \"USA\", \"USA\", \"USA\", \"Singapore\", \"USA\", \"USA\", \"USA\", \"USA\", \"USA\", \"USA\", \"USA\", \"USA\", \"USA\", \"USA\", \"USA\", \"USA\", \"USA\", \"USA\", \"USA\", \"USA\", \"Singapore\", \"USA\", \"USA\", \"USA\", \"USA\", \"USA\", \"USA\", \"USA\", \"USA\", \"USA\", \"USA\", \"USA\", \"USA\", \"USA\", \"Singapore\", \"USA\", \"USA\", \"Singapore\", \"Singapore\", \"USA\", \"Singapore\", \"Singapore\", \"USA\", \"USA\", \"USA\", \"USA\", \"USA\", \"Singapore\", \"Singapore\", \"USA\", \"Singapore\", \"USA\", \"Singapore\", \"USA\", \"Singapore\", \"USA\", \"USA\", \"USA\", \"Singapore\", \"USA\", \"USA\", \"USA\", \"USA\", \"USA\", \"USA\", \"USA\", \"USA\", \"USA\", \"USA\", \"USA\", \"USA\", \"USA\", \"Singapore\", \"Singapore\", \"USA\", \"Singapore\", \"Singapore\", \"Singapore\", \"Singapore\", \"USA\", \"USA\", \"USA\", \"USA\", \"Singapore\", \"USA\", \"USA\", \"USA\", \"USA\", \"USA\", \"USA\", \"USA\", \"USA\", \"USA\", \"USA\", \"Singapore\", \"USA\", \"USA\", \"USA\", \"USA\", \"USA\", \"USA\", \"USA\", \"Singapore\", \"Singapore\", \"USA\", \"USA\", \"Singapore\", \"Singapore\", \"USA\", \"USA\", \"USA\", \"USA\", \"USA\", \"USA\", \"USA\", \"USA\", \"USA\", \"USA\", \"USA\", \"USA\", \"USA\", \"Singapore\", \"USA\", \"USA\", \"USA\", \"USA\", \"Singapore\", \"Singapore\", \"USA\", \"USA\", \"Singapore\", \"Singapore\", \"USA\", \"Singapore\", \"Singapore\", \"USA\", \"USA\", \"Singapore\", \"USA\", \"USA\", \"Singapore\", \"USA\", \"Singapore\", \"USA\", \"USA\", \"USA\", \"USA\", \"USA\", \"Singapore\", \"Singapore\", \"USA\", \"USA\", \"USA\", \"USA\", \"USA\", \"USA\", \"USA\", \"USA\", \"Singapore\", \"Singapore\", \"Singapore\", \"Singapore\", \"USA\", \"Singapore\", \"USA\", \"Singapore\", \"Singapore\", \"USA\", \"USA\", \"Singapore\", \"USA\", \"USA\", \"USA\", \"Singapore\", \"Singapore\", \"USA\", \"Singapore\", \"Singapore\", \"USA\", \"USA\", \"USA\", \"USA\", \"USA\", \"USA\", \"Singapore\", \"USA\", \"USA\", \"Singapore\", \"USA\", \"Singapore\", \"Singapore\", \"USA\", \"USA\", \"USA\", \"USA\", \"Singapore\", \"USA\", \"Singapore\", \"USA\", \"USA\", \"USA\", \"USA\", \"USA\", \"Singapore\", \"Singapore\", \"USA\", \"USA\", \"USA\", \"Singapore\", \"USA\", \"Singapore\", \"Singapore\", \"USA\", \"USA\", \"Singapore\", \"USA\", \"Singapore\", \"Singapore\", \"USA\", \"USA\", \"Singapore\", \"Singapore\", \"Singapore\", \"USA\", \"Singapore\", \"Singapore\", \"Singapore\", \"Singapore\", \"USA\", \"Singapore\", \"Singapore\", \"USA\", \"USA\", \"USA\", \"Singapore\", \"USA\", \"USA\", \"USA\", \"USA\", \"Singapore\", \"Singapore\", \"Singapore\", \"Singapore\", \"Singapore\", \"USA\", \"USA\", \"USA\", \"USA\", \"USA\", \"USA\", \"USA\", \"Singapore\", \"USA\", \"Singapore\", \"Singapore\", \"USA\", \"USA\", \"USA\", \"USA\", \"Singapore\", \"USA\", \"USA\", \"Singapore\", \"USA\", \"Singapore\", \"USA\", \"Singapore\", \"USA\", \"USA\", \"Singapore\", \"USA\", \"USA\", \"USA\", \"USA\", \"USA\", \"Singapore\", \"USA\", \"USA\", \"USA\", \"Singapore\", \"USA\", \"USA\", \"USA\", \"USA\", \"USA\", \"Singapore\", \"USA\", \"USA\", \"Singapore\", \"USA\", \"USA\", \"USA\", \"USA\", \"USA\", \"USA\", \"Singapore\", \"USA\", \"USA\", \"USA\", \"USA\", \"USA\", \"USA\", \"USA\", \"USA\", \"USA\", \"USA\", \"USA\", \"USA\", \"USA\", \"Singapore\", \"Singapore\", \"USA\", \"USA\", \"Singapore\", \"USA\", \"USA\", \"Singapore\", \"Singapore\", \"USA\", \"USA\", \"USA\", \"USA\", \"USA\", \"USA\", \"USA\", \"USA\", \"USA\", \"USA\", \"USA\", \"USA\", \"USA\", \"Singapore\", \"USA\", \"USA\", \"USA\", \"USA\", \"Singapore\", \"Singapore\", \"USA\", \"Singapore\", \"USA\", \"USA\", \"USA\", \"USA\", \"USA\", \"USA\", \"Singapore\", \"USA\", \"USA\", \"USA\", \"USA\", \"Singapore\", \"Singapore\", \"USA\", \"Singapore\", \"USA\", \"USA\", \"USA\", \"Singapore\", \"USA\", \"USA\", \"Singapore\", \"Singapore\", \"USA\", \"USA\", \"USA\", \"USA\", \"Singapore\", \"Singapore\", \"Singapore\", \"Singapore\", \"USA\", \"Singapore\", \"USA\", \"USA\", \"USA\", \"Singapore\", \"Singapore\", \"Singapore\", \"Singapore\", \"USA\", \"Singapore\", \"Singapore\", \"Singapore\", \"USA\", \"USA\", \"Singapore\", \"USA\", \"Singapore\", \"USA\", \"USA\", \"USA\", \"USA\", \"USA\", \"Singapore\", \"Singapore\", \"Singapore\", \"USA\", \"USA\", \"USA\", \"USA\", \"USA\", \"USA\", \"USA\", \"USA\", \"Singapore\", \"USA\", \"USA\", \"USA\", \"USA\", \"USA\", \"USA\", \"Singapore\", \"USA\", \"Singapore\", \"USA\", \"USA\", \"USA\", \"USA\", \"Singapore\", \"USA\", \"Singapore\", \"USA\", \"USA\", \"Singapore\", \"USA\", \"Singapore\", \"Singapore\", \"Singapore\", \"Singapore\", \"USA\", \"USA\", \"Singapore\", \"Singapore\", \"Singapore\", \"USA\", \"USA\", \"USA\", \"USA\", \"USA\", \"Singapore\", \"USA\", \"USA\", \"Singapore\", \"USA\", \"USA\", \"USA\", \"USA\", \"USA\", \"USA\", \"Singapore\", \"USA\", \"USA\", \"USA\", \"USA\", \"Singapore\", \"Singapore\", \"Singapore\", \"USA\", \"Singapore\", \"Singapore\", \"USA\", \"Singapore\", \"Singapore\", \"USA\", \"USA\", \"USA\", \"USA\", \"USA\", \"Singapore\", \"USA\", \"USA\", \"USA\", \"USA\", \"Singapore\", \"USA\", \"Singapore\", \"USA\", \"USA\", \"USA\", \"Singapore\", \"USA\", \"Singapore\", \"USA\", \"USA\", \"Singapore\", \"USA\", \"USA\", \"USA\", \"USA\", \"USA\", \"USA\", \"USA\", \"USA\", \"USA\", \"USA\", \"USA\", \"Singapore\", \"Singapore\", \"USA\", \"USA\", \"Singapore\", \"USA\", \"USA\", \"USA\", \"USA\", \"USA\", \"USA\", \"USA\", \"USA\", \"USA\", \"Singapore\", \"Singapore\", \"USA\", \"Singapore\", \"USA\", \"USA\", \"USA\", \"USA\", \"USA\", \"USA\", \"USA\", \"Singapore\", \"USA\", \"USA\", \"USA\", \"USA\", \"Singapore\", \"Singapore\", \"USA\", \"USA\", \"Singapore\", \"USA\", \"USA\", \"USA\", \"USA\", \"USA\", \"Singapore\", \"USA\", \"USA\", \"USA\", \"USA\", \"Singapore\", \"USA\", \"Singapore\", \"USA\", \"USA\", \"Singapore\", \"Singapore\", \"Singapore\", \"USA\", \"Singapore\", \"USA\", \"USA\", \"USA\", \"USA\", \"USA\", \"Singapore\", \"Singapore\", \"USA\", \"Singapore\", \"USA\", \"Singapore\", \"USA\", \"Singapore\", \"USA\", \"Singapore\", \"USA\", \"USA\", \"USA\", \"Singapore\", \"Singapore\", \"Singapore\", \"Singapore\", \"USA\", \"USA\", \"Singapore\", \"USA\", \"Singapore\", \"USA\", \"USA\", \"USA\", \"USA\", \"USA\", \"Singapore\", \"USA\", \"USA\", \"USA\", \"USA\", \"USA\", \"USA\", \"USA\", \"USA\", \"USA\", \"Singapore\", \"Singapore\", \"USA\", \"Singapore\", \"USA\", \"USA\", \"Singapore\", \"USA\", \"USA\", \"Singapore\", \"USA\", \"Singapore\", \"USA\", \"USA\", \"USA\", \"USA\", \"USA\", \"Singapore\", \"USA\", \"USA\", \"USA\", \"Singapore\", \"USA\", \"USA\", \"USA\", \"USA\", \"Singapore\", \"USA\", \"USA\", \"USA\", \"Singapore\", \"Singapore\", \"USA\", \"USA\", \"Singapore\", \"USA\", \"USA\", \"USA\", \"Singapore\", \"USA\", \"USA\", \"Singapore\", \"USA\", \"USA\", \"USA\", \"USA\", \"USA\", \"USA\", \"USA\", \"Singapore\", \"Singapore\", \"USA\", \"Singapore\", \"USA\", \"Singapore\", \"Singapore\", \"USA\", \"USA\", \"USA\", \"Singapore\", \"USA\", \"USA\", \"Singapore\", \"Singapore\", \"USA\", \"USA\", \"USA\", \"USA\", \"USA\", \"Singapore\", \"USA\", \"USA\", \"USA\", \"USA\", \"Singapore\", \"USA\", \"USA\", \"USA\", \"USA\", \"USA\", \"Singapore\", \"USA\", \"USA\", \"USA\", \"USA\", \"Singapore\", \"USA\", \"Singapore\", \"USA\", \"USA\", \"USA\", \"USA\", \"Singapore\", \"USA\", \"USA\", \"USA\", \"USA\", \"USA\", \"USA\", \"Singapore\", \"Singapore\", \"USA\", \"USA\", \"USA\", \"Singapore\", \"USA\", \"USA\", \"USA\", \"USA\", \"Singapore\", \"USA\", \"USA\", \"Singapore\", \"USA\", \"USA\", \"USA\", \"USA\", \"USA\", \"USA\", \"USA\", \"Singapore\", \"Singapore\", \"USA\", \"USA\", \"Singapore\", \"Singapore\", \"Singapore\", \"USA\", \"USA\", \"USA\", \"USA\", \"USA\", \"USA\", \"Singapore\", \"USA\", \"USA\", \"USA\", \"USA\", \"Singapore\", \"USA\", \"USA\", \"USA\", \"USA\"], \"xaxis\": \"x\", \"y\": [1, 0, 0, 1, 1, 1, 0, 1, 0, 0, 1, 0, 1, 1, 0, 1, 1, 0, 1, 1, 0, 0, 1, 0, 1, 1, 1, 1, 1, 1, 1, 0, 1, 0, 0, 0, 1, 1, 0, 1, 1, 0, 1, 1, 1, 1, 1, 1, 1, 1, 1, 1, 0, 1, 1, 1, 1, 0, 1, 1, 0, 1, 0, 1, 1, 1, 1, 0, 0, 0, 1, 1, 1, 1, 1, 1, 0, 1, 0, 0, 0, 1, 1, 1, 1, 0, 0, 1, 1, 1, 0, 1, 0, 1, 1, 1, 0, 0, 1, 0, 0, 1, 1, 1, 1, 1, 1, 1, 0, 1, 1, 1, 0, 1, 1, 0, 0, 0, 1, 0, 0, 1, 1, 1, 0, 1, 1, 1, 0, 1, 1, 1, 0, 1, 1, 1, 0, 1, 1, 1, 0, 1, 0, 1, 1, 1, 1, 0, 0, 0, 1, 1, 1, 1, 1, 1, 0, 1, 0, 0, 1, 1, 1, 1, 1, 1, 1, 0, 1, 1, 1, 1, 1, 0, 1, 1, 1, 1, 0, 1, 0, 1, 0, 1, 1, 1, 1, 1, 1, 0, 1, 1, 1, 1, 0, 1, 0, 0, 1, 1, 1, 1, 1, 1, 1, 0, 1, 1, 1, 1, 1, 1, 1, 1, 1, 0, 0, 1, 1, 0, 1, 0, 1, 1, 1, 1, 0, 1, 1, 1, 0, 1, 0, 1, 1, 1, 1, 1, 1, 1, 0, 0, 0, 1, 1, 1, 1, 0, 1, 0, 0, 0, 1, 1, 1, 0, 1, 1, 0, 0, 1, 1, 0, 1, 0, 1, 0, 1, 1, 1, 1, 1, 1, 1, 1, 1, 1, 1, 0, 1, 1, 1, 0, 0, 1, 1, 1, 1, 1, 1, 1, 0, 1, 1, 1, 1, 1, 0, 1, 1, 0, 0, 1, 0, 0, 1, 1, 1, 1, 0, 1, 0, 0, 0, 1, 0, 1, 1, 0, 0, 1, 1, 1, 1, 1, 1, 1, 0, 1, 1, 1, 1, 1, 1, 0, 0, 1, 1, 1, 0, 1, 1, 1, 0, 0, 1, 0, 1, 1, 1, 1, 0, 1, 1, 1, 1, 1, 0, 1, 1, 1, 1, 1, 1, 0, 0, 0, 1, 1, 1, 1, 0, 1, 1, 0, 1, 1, 1, 0, 1, 1, 1, 1, 1, 0, 1, 1, 1, 1, 1, 1, 1, 1, 0, 0, 1, 1, 0, 1, 1, 1, 1, 1, 1, 1, 1, 1, 0, 0, 1, 0, 1, 0, 1, 1, 1, 1, 1, 1, 1, 1, 0, 1, 0, 0, 1, 1, 1, 0, 0, 1, 1, 0, 1, 1, 0, 0, 0, 1, 1, 1, 1, 1, 1, 1, 1, 1, 1, 1, 1, 1, 1, 0, 0, 1, 0, 1, 1, 1, 1, 1, 1, 1, 1, 1, 1, 0, 0, 1, 1, 1, 1, 0, 1, 0, 1, 1, 1, 1, 1, 0, 1, 1, 0, 1, 1, 1, 0, 0, 0, 0, 1, 1, 0, 0, 1, 1, 1, 1, 1, 1, 1, 0, 1, 1, 1, 0, 1, 0, 1, 1, 1, 1, 1, 1, 1, 0, 0, 1, 1, 1, 1, 1, 1, 1, 1, 1, 0, 1, 0, 1, 1, 1, 1, 1, 1, 1, 1, 0, 1, 1, 1, 0, 0, 0, 1, 1, 1, 0, 0, 0, 0, 1, 0, 1, 1, 1, 0, 1, 1, 0, 1, 0, 1, 1, 1, 1, 1, 0, 1, 0, 0, 1, 0, 1, 1, 0, 0, 1, 0, 1, 1, 1, 1, 1, 1, 1, 1, 1, 1, 1, 1, 1, 1, 0, 1, 1, 1, 1, 1, 1, 1, 0, 1, 1, 1, 1, 1, 1, 0, 1, 1, 1, 1, 1, 0, 1, 0, 0, 1, 1, 1, 1, 1, 0, 1, 1, 1, 1, 1, 0, 0, 0, 1, 1, 0, 1, 0, 1, 0, 1, 1, 0, 1, 0, 0, 1, 0, 1, 0, 1, 0, 1, 1, 1, 1, 0, 1, 1, 0, 1, 1, 1, 1, 1, 1, 1, 1, 0, 1, 1, 1, 0, 1, 1, 0, 1, 0, 1, 1, 1, 1, 1, 1, 0, 1, 1, 0, 1, 1, 0, 1, 0, 1, 1, 0, 0, 0, 1, 1, 1, 1, 1, 0, 0, 1, 0, 1, 1, 1, 1, 1, 1, 0, 1, 0, 0, 0, 0, 1, 0, 1, 0, 0, 1, 1, 0, 1, 1, 1, 1, 1, 1, 1, 1, 0, 1, 0, 1, 0, 1, 1, 1, 0, 1, 0, 0, 1, 0, 1, 0, 1, 1, 1, 1, 0, 1, 1, 0, 0, 0, 0, 1, 1, 0, 1, 1, 0, 1, 1, 1, 1, 1, 1, 1, 1, 1, 1, 1, 0, 1, 1, 1, 1, 1, 1, 1, 1, 1, 1, 0, 1, 1, 1, 0, 1, 1, 1, 1, 1, 0, 1, 1, 1, 1, 0, 1, 1, 0, 1, 1, 0, 1, 1, 0, 1, 0, 1, 0, 1, 0, 0, 1, 1, 1, 1, 1, 1, 0, 1, 0, 1, 1, 0, 0, 1, 1, 1, 1, 0, 0, 0, 1, 1, 1, 0, 1, 1, 1, 1, 0, 1, 1, 1, 0, 1, 1, 0, 0, 1, 0, 1, 1, 0, 1, 1, 1, 1, 1, 0, 0, 1, 1, 1, 0, 0, 1, 1, 0, 1, 1, 1, 1, 0, 1, 0, 1, 0, 0, 1, 1, 1, 1, 1, 1, 0, 1, 1, 1, 1, 1, 0, 1, 1, 1, 1, 0, 1, 0, 1, 1, 1, 0, 1, 1, 1, 0, 1, 1, 0, 0, 1, 1, 1, 1, 1, 1, 1, 0, 1, 1, 1, 1, 1, 1, 1, 0, 0, 1, 1, 1, 1, 0, 1, 0, 1, 1, 1, 0, 0, 1, 1, 1, 1, 1, 1, 1, 1, 1, 1, 1, 1, 1, 1, 1, 1, 1, 1, 1, 0, 1, 1, 1, 1, 0, 1, 1, 0, 1, 0, 1, 1, 1, 1, 1, 1, 1, 1, 1, 1, 1, 0, 1, 1, 1, 0, 1, 1, 1, 1], \"yaxis\": \"y\"}],                        {\"barmode\": \"relative\", \"legend\": {\"tracegroupgap\": 0}, \"template\": {\"data\": {\"bar\": [{\"error_x\": {\"color\": \"#2a3f5f\"}, \"error_y\": {\"color\": \"#2a3f5f\"}, \"marker\": {\"line\": {\"color\": \"#E5ECF6\", \"width\": 0.5}}, \"type\": \"bar\"}], \"barpolar\": [{\"marker\": {\"line\": {\"color\": \"#E5ECF6\", \"width\": 0.5}}, \"type\": \"barpolar\"}], \"carpet\": [{\"aaxis\": {\"endlinecolor\": \"#2a3f5f\", \"gridcolor\": \"white\", \"linecolor\": \"white\", \"minorgridcolor\": \"white\", \"startlinecolor\": \"#2a3f5f\"}, \"baxis\": {\"endlinecolor\": \"#2a3f5f\", \"gridcolor\": \"white\", \"linecolor\": \"white\", \"minorgridcolor\": \"white\", \"startlinecolor\": \"#2a3f5f\"}, \"type\": \"carpet\"}], \"choropleth\": [{\"colorbar\": {\"outlinewidth\": 0, \"ticks\": \"\"}, \"type\": \"choropleth\"}], \"contour\": [{\"colorbar\": {\"outlinewidth\": 0, \"ticks\": \"\"}, \"colorscale\": [[0.0, \"#0d0887\"], [0.1111111111111111, \"#46039f\"], [0.2222222222222222, \"#7201a8\"], [0.3333333333333333, \"#9c179e\"], [0.4444444444444444, \"#bd3786\"], [0.5555555555555556, \"#d8576b\"], [0.6666666666666666, \"#ed7953\"], [0.7777777777777778, \"#fb9f3a\"], [0.8888888888888888, \"#fdca26\"], [1.0, \"#f0f921\"]], \"type\": \"contour\"}], \"contourcarpet\": [{\"colorbar\": {\"outlinewidth\": 0, \"ticks\": \"\"}, \"type\": \"contourcarpet\"}], \"heatmap\": [{\"colorbar\": {\"outlinewidth\": 0, \"ticks\": \"\"}, \"colorscale\": [[0.0, \"#0d0887\"], [0.1111111111111111, \"#46039f\"], [0.2222222222222222, \"#7201a8\"], [0.3333333333333333, \"#9c179e\"], [0.4444444444444444, \"#bd3786\"], [0.5555555555555556, \"#d8576b\"], [0.6666666666666666, \"#ed7953\"], [0.7777777777777778, \"#fb9f3a\"], [0.8888888888888888, \"#fdca26\"], [1.0, \"#f0f921\"]], \"type\": \"heatmap\"}], \"heatmapgl\": [{\"colorbar\": {\"outlinewidth\": 0, \"ticks\": \"\"}, \"colorscale\": [[0.0, \"#0d0887\"], [0.1111111111111111, \"#46039f\"], [0.2222222222222222, \"#7201a8\"], [0.3333333333333333, \"#9c179e\"], [0.4444444444444444, \"#bd3786\"], [0.5555555555555556, \"#d8576b\"], [0.6666666666666666, \"#ed7953\"], [0.7777777777777778, \"#fb9f3a\"], [0.8888888888888888, \"#fdca26\"], [1.0, \"#f0f921\"]], \"type\": \"heatmapgl\"}], \"histogram\": [{\"marker\": {\"colorbar\": {\"outlinewidth\": 0, \"ticks\": \"\"}}, \"type\": \"histogram\"}], \"histogram2d\": [{\"colorbar\": {\"outlinewidth\": 0, \"ticks\": \"\"}, \"colorscale\": [[0.0, \"#0d0887\"], [0.1111111111111111, \"#46039f\"], [0.2222222222222222, \"#7201a8\"], [0.3333333333333333, \"#9c179e\"], [0.4444444444444444, \"#bd3786\"], [0.5555555555555556, \"#d8576b\"], [0.6666666666666666, \"#ed7953\"], [0.7777777777777778, \"#fb9f3a\"], [0.8888888888888888, \"#fdca26\"], [1.0, \"#f0f921\"]], \"type\": \"histogram2d\"}], \"histogram2dcontour\": [{\"colorbar\": {\"outlinewidth\": 0, \"ticks\": \"\"}, \"colorscale\": [[0.0, \"#0d0887\"], [0.1111111111111111, \"#46039f\"], [0.2222222222222222, \"#7201a8\"], [0.3333333333333333, \"#9c179e\"], [0.4444444444444444, \"#bd3786\"], [0.5555555555555556, \"#d8576b\"], [0.6666666666666666, \"#ed7953\"], [0.7777777777777778, \"#fb9f3a\"], [0.8888888888888888, \"#fdca26\"], [1.0, \"#f0f921\"]], \"type\": \"histogram2dcontour\"}], \"mesh3d\": [{\"colorbar\": {\"outlinewidth\": 0, \"ticks\": \"\"}, \"type\": \"mesh3d\"}], \"parcoords\": [{\"line\": {\"colorbar\": {\"outlinewidth\": 0, \"ticks\": \"\"}}, \"type\": \"parcoords\"}], \"pie\": [{\"automargin\": true, \"type\": \"pie\"}], \"scatter\": [{\"marker\": {\"colorbar\": {\"outlinewidth\": 0, \"ticks\": \"\"}}, \"type\": \"scatter\"}], \"scatter3d\": [{\"line\": {\"colorbar\": {\"outlinewidth\": 0, \"ticks\": \"\"}}, \"marker\": {\"colorbar\": {\"outlinewidth\": 0, \"ticks\": \"\"}}, \"type\": \"scatter3d\"}], \"scattercarpet\": [{\"marker\": {\"colorbar\": {\"outlinewidth\": 0, \"ticks\": \"\"}}, \"type\": \"scattercarpet\"}], \"scattergeo\": [{\"marker\": {\"colorbar\": {\"outlinewidth\": 0, \"ticks\": \"\"}}, \"type\": \"scattergeo\"}], \"scattergl\": [{\"marker\": {\"colorbar\": {\"outlinewidth\": 0, \"ticks\": \"\"}}, \"type\": \"scattergl\"}], \"scattermapbox\": [{\"marker\": {\"colorbar\": {\"outlinewidth\": 0, \"ticks\": \"\"}}, \"type\": \"scattermapbox\"}], \"scatterpolar\": [{\"marker\": {\"colorbar\": {\"outlinewidth\": 0, \"ticks\": \"\"}}, \"type\": \"scatterpolar\"}], \"scatterpolargl\": [{\"marker\": {\"colorbar\": {\"outlinewidth\": 0, \"ticks\": \"\"}}, \"type\": \"scatterpolargl\"}], \"scatterternary\": [{\"marker\": {\"colorbar\": {\"outlinewidth\": 0, \"ticks\": \"\"}}, \"type\": \"scatterternary\"}], \"surface\": [{\"colorbar\": {\"outlinewidth\": 0, \"ticks\": \"\"}, \"colorscale\": [[0.0, \"#0d0887\"], [0.1111111111111111, \"#46039f\"], [0.2222222222222222, \"#7201a8\"], [0.3333333333333333, \"#9c179e\"], [0.4444444444444444, \"#bd3786\"], [0.5555555555555556, \"#d8576b\"], [0.6666666666666666, \"#ed7953\"], [0.7777777777777778, \"#fb9f3a\"], [0.8888888888888888, \"#fdca26\"], [1.0, \"#f0f921\"]], \"type\": \"surface\"}], \"table\": [{\"cells\": {\"fill\": {\"color\": \"#EBF0F8\"}, \"line\": {\"color\": \"white\"}}, \"header\": {\"fill\": {\"color\": \"#C8D4E3\"}, \"line\": {\"color\": \"white\"}}, \"type\": \"table\"}]}, \"layout\": {\"annotationdefaults\": {\"arrowcolor\": \"#2a3f5f\", \"arrowhead\": 0, \"arrowwidth\": 1}, \"autotypenumbers\": \"strict\", \"coloraxis\": {\"colorbar\": {\"outlinewidth\": 0, \"ticks\": \"\"}}, \"colorscale\": {\"diverging\": [[0, \"#8e0152\"], [0.1, \"#c51b7d\"], [0.2, \"#de77ae\"], [0.3, \"#f1b6da\"], [0.4, \"#fde0ef\"], [0.5, \"#f7f7f7\"], [0.6, \"#e6f5d0\"], [0.7, \"#b8e186\"], [0.8, \"#7fbc41\"], [0.9, \"#4d9221\"], [1, \"#276419\"]], \"sequential\": [[0.0, \"#0d0887\"], [0.1111111111111111, \"#46039f\"], [0.2222222222222222, \"#7201a8\"], [0.3333333333333333, \"#9c179e\"], [0.4444444444444444, \"#bd3786\"], [0.5555555555555556, \"#d8576b\"], [0.6666666666666666, \"#ed7953\"], [0.7777777777777778, \"#fb9f3a\"], [0.8888888888888888, \"#fdca26\"], [1.0, \"#f0f921\"]], \"sequentialminus\": [[0.0, \"#0d0887\"], [0.1111111111111111, \"#46039f\"], [0.2222222222222222, \"#7201a8\"], [0.3333333333333333, \"#9c179e\"], [0.4444444444444444, \"#bd3786\"], [0.5555555555555556, \"#d8576b\"], [0.6666666666666666, \"#ed7953\"], [0.7777777777777778, \"#fb9f3a\"], [0.8888888888888888, \"#fdca26\"], [1.0, \"#f0f921\"]]}, \"colorway\": [\"#636efa\", \"#EF553B\", \"#00cc96\", \"#ab63fa\", \"#FFA15A\", \"#19d3f3\", \"#FF6692\", \"#B6E880\", \"#FF97FF\", \"#FECB52\"], \"font\": {\"color\": \"#2a3f5f\"}, \"geo\": {\"bgcolor\": \"white\", \"lakecolor\": \"white\", \"landcolor\": \"#E5ECF6\", \"showlakes\": true, \"showland\": true, \"subunitcolor\": \"white\"}, \"hoverlabel\": {\"align\": \"left\"}, \"hovermode\": \"closest\", \"mapbox\": {\"style\": \"light\"}, \"paper_bgcolor\": \"white\", \"plot_bgcolor\": \"#E5ECF6\", \"polar\": {\"angularaxis\": {\"gridcolor\": \"white\", \"linecolor\": \"white\", \"ticks\": \"\"}, \"bgcolor\": \"#E5ECF6\", \"radialaxis\": {\"gridcolor\": \"white\", \"linecolor\": \"white\", \"ticks\": \"\"}}, \"scene\": {\"xaxis\": {\"backgroundcolor\": \"#E5ECF6\", \"gridcolor\": \"white\", \"gridwidth\": 2, \"linecolor\": \"white\", \"showbackground\": true, \"ticks\": \"\", \"zerolinecolor\": \"white\"}, \"yaxis\": {\"backgroundcolor\": \"#E5ECF6\", \"gridcolor\": \"white\", \"gridwidth\": 2, \"linecolor\": \"white\", \"showbackground\": true, \"ticks\": \"\", \"zerolinecolor\": \"white\"}, \"zaxis\": {\"backgroundcolor\": \"#E5ECF6\", \"gridcolor\": \"white\", \"gridwidth\": 2, \"linecolor\": \"white\", \"showbackground\": true, \"ticks\": \"\", \"zerolinecolor\": \"white\"}}, \"shapedefaults\": {\"line\": {\"color\": \"#2a3f5f\"}}, \"ternary\": {\"aaxis\": {\"gridcolor\": \"white\", \"linecolor\": \"white\", \"ticks\": \"\"}, \"baxis\": {\"gridcolor\": \"white\", \"linecolor\": \"white\", \"ticks\": \"\"}, \"bgcolor\": \"#E5ECF6\", \"caxis\": {\"gridcolor\": \"white\", \"linecolor\": \"white\", \"ticks\": \"\"}}, \"title\": {\"x\": 0.05}, \"xaxis\": {\"automargin\": true, \"gridcolor\": \"white\", \"linecolor\": \"white\", \"ticks\": \"\", \"title\": {\"standoff\": 15}, \"zerolinecolor\": \"white\", \"zerolinewidth\": 2}, \"yaxis\": {\"automargin\": true, \"gridcolor\": \"white\", \"linecolor\": \"white\", \"ticks\": \"\", \"title\": {\"standoff\": 15}, \"zerolinecolor\": \"white\", \"zerolinewidth\": 2}}}, \"title\": {\"text\": \"number of subscribers in each country\"}, \"xaxis\": {\"anchor\": \"y\", \"domain\": [0.0, 1.0], \"title\": {\"text\": \"country_name\"}}, \"yaxis\": {\"anchor\": \"x\", \"domain\": [0.0, 1.0], \"title\": {\"text\": \"is_subscriber\"}}},                        {\"responsive\": true}                    ).then(function(){\n",
       "                            \n",
       "var gd = document.getElementById('1438592a-85bd-4c08-b766-2ac39eed5072');\n",
       "var x = new MutationObserver(function (mutations, observer) {{\n",
       "        var display = window.getComputedStyle(gd).display;\n",
       "        if (!display || display === 'none') {{\n",
       "            console.log([gd, 'removed!']);\n",
       "            Plotly.purge(gd);\n",
       "            observer.disconnect();\n",
       "        }}\n",
       "}});\n",
       "\n",
       "// Listen for the removal of the full notebook cells\n",
       "var notebookContainer = gd.closest('#notebook-container');\n",
       "if (notebookContainer) {{\n",
       "    x.observe(notebookContainer, {childList: true});\n",
       "}}\n",
       "\n",
       "// Listen for the clearing of the current output cell\n",
       "var outputEl = gd.closest('.output');\n",
       "if (outputEl) {{\n",
       "    x.observe(outputEl, {childList: true});\n",
       "}}\n",
       "\n",
       "                        })                };                });            </script>        </div>"
      ]
     },
     "metadata": {},
     "output_type": "display_data"
    }
   ],
   "source": [
    "fig=px.bar(df,x='country_name',y='is_subscriber',title='number of subscribers in each country')\n",
    "\n",
    "fig.show()"
   ]
  },
  {
   "cell_type": "code",
   "execution_count": 92,
   "metadata": {
    "colab": {
     "base_uri": "https://localhost:8080/",
     "height": 542
    },
    "id": "nPDFJIDEbs82",
    "outputId": "09da4059-d762-4f08-9d2a-afab47538885"
   },
   "outputs": [
    {
     "data": {
      "application/vnd.plotly.v1+json": {
       "config": {
        "plotlyServerURL": "https://plot.ly"
       },
       "data": [
        {
         "alignmentgroup": "True",
         "hovertemplate": "age_groups=14-21<br>country_name=%{x}<br>is_subscriber=%{y}<extra></extra>",
         "legendgroup": "14-21",
         "marker": {
          "color": "#636efa"
         },
         "name": "14-21",
         "offsetgroup": "14-21",
         "orientation": "v",
         "showlegend": true,
         "textposition": "auto",
         "type": "bar",
         "x": [
          "USA",
          "USA",
          "USA",
          "USA",
          "USA",
          "USA",
          "Singapore",
          "USA",
          "USA",
          "Singapore",
          "USA",
          "Singapore",
          "USA",
          "USA",
          "USA",
          "USA",
          "USA",
          "USA",
          "Singapore",
          "USA",
          "USA",
          "Singapore",
          "Singapore",
          "USA",
          "USA",
          "USA",
          "USA",
          "USA",
          "Singapore",
          "USA",
          "USA",
          "USA",
          "USA",
          "USA",
          "Singapore",
          "USA",
          "Singapore",
          "Singapore",
          "USA",
          "USA",
          "USA",
          "USA",
          "Singapore",
          "USA",
          "USA",
          "USA",
          "USA",
          "USA",
          "USA",
          "Singapore",
          "Singapore",
          "USA",
          "USA",
          "USA",
          "Singapore",
          "USA",
          "USA",
          "USA",
          "Singapore",
          "USA",
          "Singapore",
          "USA",
          "USA",
          "Singapore",
          "USA",
          "Singapore",
          "Singapore",
          "USA",
          "Singapore",
          "USA",
          "Singapore",
          "USA",
          "USA",
          "USA",
          "USA",
          "Singapore",
          "USA",
          "USA",
          "USA",
          "USA",
          "USA",
          "USA",
          "USA",
          "Singapore",
          "USA",
          "USA",
          "Singapore",
          "USA",
          "Singapore",
          "USA",
          "USA",
          "Singapore",
          "USA",
          "USA",
          "USA",
          "Singapore",
          "USA",
          "USA",
          "USA",
          "USA",
          "Singapore",
          "USA",
          "USA",
          "USA",
          "USA",
          "USA",
          "USA",
          "USA",
          "USA",
          "USA",
          "Singapore",
          "Singapore",
          "Singapore",
          "Singapore",
          "USA",
          "USA",
          "Singapore",
          "Singapore",
          "Singapore",
          "USA",
          "USA",
          "Singapore",
          "USA",
          "USA",
          "Singapore",
          "Singapore",
          "Singapore",
          "Singapore",
          "USA",
          "Singapore",
          "USA",
          "Singapore",
          "Singapore",
          "USA",
          "USA",
          "USA",
          "Singapore",
          "Singapore",
          "Singapore",
          "USA",
          "Singapore",
          "USA",
          "Singapore",
          "USA",
          "USA",
          "Singapore",
          "Singapore",
          "USA",
          "USA",
          "USA",
          "Singapore",
          "USA",
          "USA",
          "USA",
          "Singapore",
          "USA",
          "USA",
          "Singapore",
          "USA",
          "USA",
          "USA",
          "USA",
          "USA",
          "USA",
          "Singapore",
          "USA",
          "USA",
          "Singapore",
          "Singapore",
          "USA",
          "USA",
          "Singapore",
          "Singapore",
          "USA",
          "USA",
          "Singapore",
          "USA",
          "Singapore",
          "USA",
          "Singapore",
          "Singapore",
          "Singapore",
          "Singapore",
          "USA",
          "Singapore",
          "USA",
          "USA",
          "USA",
          "USA",
          "USA",
          "USA",
          "USA",
          "USA",
          "Singapore",
          "USA",
          "Singapore",
          "Singapore",
          "Singapore",
          "USA",
          "USA",
          "USA",
          "Singapore",
          "USA",
          "Singapore",
          "USA",
          "Singapore",
          "Singapore",
          "USA",
          "Singapore",
          "USA",
          "Singapore",
          "USA",
          "USA",
          "USA",
          "USA",
          "USA",
          "USA",
          "Singapore",
          "USA",
          "USA",
          "USA",
          "USA",
          "USA",
          "USA",
          "USA",
          "Singapore",
          "Singapore",
          "USA",
          "USA",
          "USA",
          "USA",
          "USA",
          "USA",
          "USA",
          "Singapore",
          "USA",
          "Singapore",
          "Singapore",
          "USA",
          "Singapore",
          "USA",
          "Singapore",
          "Singapore",
          "USA",
          "Singapore",
          "USA",
          "Singapore",
          "USA",
          "Singapore",
          "USA",
          "USA",
          "Singapore",
          "USA",
          "USA",
          "Singapore",
          "USA",
          "USA",
          "USA",
          "USA",
          "USA",
          "USA",
          "Singapore",
          "USA",
          "USA",
          "USA",
          "USA",
          "USA",
          "Singapore",
          "USA",
          "USA",
          "Singapore",
          "USA",
          "USA",
          "USA",
          "USA",
          "USA",
          "Singapore",
          "USA",
          "USA",
          "Singapore",
          "USA",
          "Singapore",
          "USA",
          "USA",
          "Singapore",
          "USA",
          "Singapore",
          "USA",
          "USA",
          "USA",
          "USA"
         ],
         "xaxis": "x",
         "y": [
          1,
          1,
          1,
          1,
          1,
          1,
          1,
          1,
          1,
          1,
          1,
          1,
          1,
          1,
          1,
          1,
          1,
          0,
          0,
          0,
          0,
          0,
          0,
          1,
          1,
          1,
          1,
          0,
          0,
          1,
          0,
          1,
          1,
          1,
          1,
          1,
          1,
          0,
          1,
          1,
          1,
          0,
          1,
          0,
          1,
          1,
          1,
          1,
          1,
          0,
          1,
          1,
          0,
          1,
          0,
          1,
          0,
          1,
          1,
          1,
          0,
          1,
          1,
          0,
          1,
          1,
          0,
          1,
          0,
          1,
          1,
          0,
          1,
          1,
          0,
          0,
          1,
          1,
          1,
          1,
          0,
          1,
          0,
          0,
          1,
          1,
          0,
          1,
          0,
          1,
          1,
          1,
          1,
          1,
          1,
          0,
          1,
          1,
          1,
          1,
          0,
          1,
          1,
          1,
          1,
          1,
          1,
          1,
          1,
          1,
          1,
          1,
          1,
          1,
          1,
          1,
          0,
          0,
          0,
          1,
          1,
          0,
          1,
          0,
          1,
          1,
          1,
          1,
          1,
          0,
          1,
          1,
          1,
          1,
          1,
          1,
          1,
          0,
          0,
          1,
          0,
          1,
          1,
          1,
          1,
          1,
          1,
          1,
          1,
          1,
          0,
          1,
          1,
          1,
          0,
          0,
          1,
          1,
          1,
          0,
          1,
          1,
          1,
          0,
          1,
          1,
          1,
          0,
          1,
          1,
          1,
          0,
          1,
          1,
          1,
          1,
          1,
          0,
          1,
          0,
          0,
          1,
          0,
          1,
          1,
          1,
          1,
          1,
          1,
          1,
          0,
          1,
          1,
          1,
          1,
          0,
          0,
          0,
          1,
          0,
          1,
          0,
          1,
          0,
          1,
          1,
          0,
          1,
          1,
          1,
          0,
          0,
          1,
          1,
          0,
          1,
          0,
          0,
          1,
          1,
          0,
          1,
          1,
          1,
          1,
          1,
          1,
          1,
          0,
          1,
          1,
          1,
          1,
          1,
          0,
          0,
          1,
          0,
          1,
          0,
          1,
          1,
          0,
          1,
          0,
          0,
          0,
          1,
          1,
          1,
          1,
          0,
          1,
          1,
          1,
          1,
          1,
          1,
          1,
          1,
          1,
          1,
          1,
          1,
          0,
          1,
          1,
          0,
          1,
          1,
          0,
          1,
          1,
          1,
          1,
          0,
          0,
          1,
          1,
          1,
          1,
          1,
          1,
          1,
          0,
          0,
          1,
          1,
          0,
          1,
          1
         ],
         "yaxis": "y"
        },
        {
         "alignmentgroup": "True",
         "hovertemplate": "age_groups=24-33<br>country_name=%{x}<br>is_subscriber=%{y}<extra></extra>",
         "legendgroup": "24-33",
         "marker": {
          "color": "#EF553B"
         },
         "name": "24-33",
         "offsetgroup": "24-33",
         "orientation": "v",
         "showlegend": true,
         "textposition": "auto",
         "type": "bar",
         "x": [
          "Singapore",
          "USA",
          "USA",
          "USA",
          "USA",
          "Singapore",
          "USA",
          "USA",
          "USA",
          "Singapore",
          "USA",
          "USA",
          "USA",
          "USA",
          "USA",
          "USA",
          "USA",
          "USA",
          "USA",
          "Singapore",
          "USA",
          "USA",
          "USA",
          "USA",
          "Singapore",
          "USA",
          "USA",
          "Singapore",
          "Singapore",
          "USA",
          "USA",
          "USA",
          "USA",
          "USA",
          "USA",
          "USA",
          "USA",
          "USA",
          "USA",
          "USA",
          "USA",
          "USA",
          "Singapore",
          "Singapore",
          "USA",
          "USA",
          "USA",
          "USA",
          "USA",
          "Singapore",
          "USA",
          "USA",
          "USA",
          "Singapore",
          "Singapore",
          "USA",
          "USA",
          "Singapore",
          "USA",
          "USA",
          "Singapore",
          "USA",
          "USA",
          "USA",
          "USA",
          "USA",
          "USA",
          "USA",
          "USA",
          "USA",
          "USA",
          "USA",
          "Singapore",
          "Singapore",
          "USA",
          "Singapore",
          "Singapore",
          "Singapore",
          "USA",
          "USA",
          "USA",
          "Singapore",
          "Singapore",
          "USA",
          "USA",
          "USA",
          "Singapore",
          "USA",
          "USA",
          "USA",
          "USA",
          "Singapore",
          "Singapore",
          "USA",
          "USA",
          "USA",
          "USA",
          "Singapore",
          "USA",
          "USA",
          "Singapore",
          "USA",
          "USA",
          "Singapore",
          "Singapore",
          "USA",
          "USA",
          "USA",
          "Singapore",
          "Singapore",
          "USA",
          "USA",
          "USA",
          "USA",
          "USA",
          "USA",
          "Singapore",
          "USA",
          "USA",
          "Singapore",
          "USA",
          "USA",
          "USA",
          "USA",
          "USA",
          "USA",
          "USA",
          "USA",
          "USA",
          "Singapore",
          "USA",
          "USA",
          "USA",
          "Singapore",
          "USA",
          "USA",
          "USA",
          "Singapore",
          "USA",
          "USA",
          "USA",
          "USA",
          "USA",
          "Singapore",
          "USA",
          "USA",
          "Singapore",
          "Singapore",
          "Singapore",
          "USA",
          "Singapore",
          "Singapore",
          "USA",
          "USA",
          "USA",
          "USA",
          "Singapore",
          "Singapore",
          "USA",
          "USA",
          "USA",
          "USA",
          "USA",
          "USA",
          "USA",
          "Singapore",
          "USA",
          "USA",
          "Singapore",
          "Singapore",
          "USA",
          "USA",
          "USA",
          "USA",
          "USA",
          "Singapore",
          "USA",
          "Singapore",
          "USA",
          "Singapore",
          "Singapore",
          "USA",
          "Singapore",
          "Singapore",
          "USA",
          "USA",
          "Singapore",
          "Singapore",
          "USA",
          "USA",
          "Singapore",
          "Singapore",
          "USA",
          "USA",
          "USA",
          "USA",
          "USA",
          "USA",
          "USA",
          "USA",
          "USA",
          "USA",
          "USA",
          "Singapore",
          "USA",
          "USA",
          "USA",
          "USA"
         ],
         "xaxis": "x",
         "y": [
          0,
          0,
          1,
          1,
          1,
          0,
          1,
          1,
          1,
          1,
          1,
          0,
          1,
          1,
          0,
          1,
          1,
          1,
          1,
          0,
          1,
          1,
          1,
          1,
          1,
          1,
          1,
          0,
          0,
          0,
          1,
          1,
          1,
          1,
          1,
          1,
          1,
          1,
          0,
          1,
          0,
          1,
          0,
          1,
          1,
          0,
          1,
          1,
          1,
          0,
          1,
          1,
          1,
          1,
          0,
          1,
          1,
          0,
          1,
          1,
          0,
          1,
          1,
          1,
          1,
          0,
          1,
          1,
          1,
          1,
          1,
          1,
          0,
          0,
          1,
          0,
          1,
          1,
          1,
          1,
          0,
          0,
          1,
          0,
          0,
          1,
          1,
          1,
          1,
          1,
          0,
          1,
          1,
          1,
          1,
          1,
          1,
          0,
          1,
          1,
          0,
          1,
          1,
          1,
          0,
          1,
          0,
          1,
          1,
          0,
          0,
          1,
          1,
          1,
          1,
          1,
          0,
          0,
          0,
          0,
          1,
          0,
          0,
          1,
          1,
          1,
          1,
          1,
          1,
          0,
          1,
          0,
          1,
          1,
          1,
          1,
          0,
          0,
          1,
          1,
          1,
          1,
          1,
          0,
          1,
          1,
          0,
          1,
          0,
          1,
          0,
          0,
          1,
          1,
          1,
          0,
          0,
          0,
          1,
          1,
          1,
          1,
          1,
          1,
          1,
          1,
          1,
          0,
          1,
          1,
          1,
          1,
          0,
          1,
          1,
          0,
          1,
          0,
          1,
          1,
          0,
          1,
          0,
          1,
          1,
          1,
          0,
          1,
          1,
          1,
          1,
          1,
          1,
          1,
          1,
          1,
          1,
          1,
          1,
          1,
          1,
          1,
          1,
          1,
          1,
          1,
          1,
          1
         ],
         "yaxis": "y"
        },
        {
         "alignmentgroup": "True",
         "hovertemplate": "age_groups=21-24<br>country_name=%{x}<br>is_subscriber=%{y}<extra></extra>",
         "legendgroup": "21-24",
         "marker": {
          "color": "#00cc96"
         },
         "name": "21-24",
         "offsetgroup": "21-24",
         "orientation": "v",
         "showlegend": true,
         "textposition": "auto",
         "type": "bar",
         "x": [
          "USA",
          "Singapore",
          "USA",
          "USA",
          "USA",
          "USA",
          "USA",
          "Singapore",
          "Singapore",
          "Singapore",
          "USA",
          "Singapore",
          "USA",
          "USA",
          "USA",
          "USA",
          "USA",
          "USA",
          "USA",
          "USA",
          "USA",
          "USA",
          "Singapore",
          "USA",
          "USA",
          "USA",
          "USA",
          "USA",
          "USA",
          "Singapore",
          "Singapore",
          "Singapore",
          "USA",
          "USA",
          "Singapore",
          "Singapore",
          "USA",
          "USA",
          "Singapore",
          "USA",
          "USA",
          "USA",
          "USA",
          "Singapore",
          "USA",
          "USA",
          "USA",
          "USA",
          "USA",
          "USA",
          "Singapore",
          "USA",
          "USA",
          "USA",
          "USA",
          "USA",
          "USA",
          "USA",
          "USA",
          "USA",
          "Singapore",
          "USA",
          "Singapore",
          "USA",
          "Singapore",
          "Singapore",
          "USA",
          "USA",
          "USA",
          "Singapore",
          "USA",
          "USA",
          "USA",
          "USA",
          "Singapore",
          "USA",
          "Singapore",
          "USA",
          "USA",
          "USA",
          "USA",
          "USA",
          "USA",
          "Singapore",
          "USA",
          "USA",
          "USA",
          "USA",
          "USA",
          "USA",
          "Singapore",
          "USA",
          "USA",
          "USA",
          "USA",
          "Singapore",
          "Singapore",
          "Singapore",
          "USA",
          "Singapore",
          "USA",
          "USA",
          "Singapore",
          "USA",
          "Singapore",
          "Singapore",
          "USA",
          "USA",
          "USA",
          "USA",
          "USA",
          "USA",
          "USA",
          "USA",
          "Singapore",
          "USA",
          "USA",
          "USA",
          "Singapore",
          "Singapore",
          "USA",
          "Singapore",
          "USA",
          "USA",
          "USA",
          "Singapore",
          "Singapore",
          "USA",
          "Singapore",
          "Singapore",
          "USA",
          "USA",
          "Singapore",
          "USA",
          "USA",
          "USA",
          "USA",
          "USA",
          "USA",
          "USA",
          "Singapore",
          "Singapore",
          "USA",
          "USA",
          "USA",
          "USA",
          "USA",
          "USA",
          "Singapore",
          "Singapore",
          "USA",
          "USA",
          "USA",
          "USA",
          "Singapore",
          "Singapore",
          "USA",
          "Singapore",
          "Singapore",
          "Singapore",
          "Singapore",
          "USA",
          "Singapore",
          "Singapore",
          "Singapore",
          "USA",
          "USA",
          "Singapore",
          "USA",
          "USA",
          "Singapore",
          "USA",
          "USA",
          "USA",
          "USA",
          "USA",
          "USA",
          "USA",
          "USA",
          "USA",
          "Singapore",
          "Singapore",
          "USA",
          "USA",
          "USA",
          "USA",
          "USA",
          "Singapore",
          "USA",
          "USA",
          "USA",
          "Singapore",
          "USA",
          "Singapore",
          "USA",
          "USA",
          "USA",
          "Singapore",
          "USA",
          "USA",
          "Singapore",
          "USA",
          "USA",
          "Singapore",
          "USA",
          "USA",
          "USA",
          "USA",
          "USA",
          "USA",
          "Singapore",
          "USA",
          "USA",
          "USA",
          "USA",
          "USA",
          "USA",
          "USA",
          "USA",
          "USA",
          "USA",
          "Singapore",
          "Singapore",
          "Singapore",
          "USA",
          "USA",
          "USA",
          "USA",
          "Singapore",
          "USA",
          "USA",
          "Singapore",
          "USA",
          "USA",
          "Singapore",
          "USA",
          "Singapore",
          "USA",
          "USA",
          "Singapore",
          "USA",
          "USA",
          "USA",
          "USA",
          "USA",
          "USA",
          "USA",
          "Singapore",
          "USA",
          "USA",
          "Singapore",
          "USA"
         ],
         "xaxis": "x",
         "y": [
          0,
          1,
          1,
          0,
          0,
          1,
          1,
          0,
          0,
          1,
          1,
          1,
          1,
          1,
          1,
          0,
          1,
          0,
          1,
          1,
          1,
          0,
          0,
          1,
          0,
          1,
          1,
          1,
          1,
          0,
          0,
          0,
          0,
          1,
          1,
          0,
          1,
          1,
          1,
          1,
          1,
          0,
          1,
          1,
          1,
          1,
          1,
          1,
          1,
          1,
          1,
          1,
          1,
          1,
          0,
          1,
          1,
          1,
          1,
          1,
          0,
          1,
          0,
          1,
          0,
          0,
          1,
          1,
          1,
          0,
          1,
          1,
          1,
          1,
          0,
          1,
          1,
          0,
          1,
          1,
          1,
          1,
          0,
          1,
          1,
          1,
          1,
          1,
          1,
          1,
          0,
          1,
          1,
          0,
          1,
          0,
          0,
          0,
          1,
          1,
          1,
          0,
          0,
          1,
          0,
          0,
          1,
          1,
          1,
          1,
          1,
          1,
          1,
          1,
          1,
          0,
          1,
          1,
          1,
          0,
          1,
          0,
          1,
          1,
          1,
          0,
          0,
          1,
          1,
          0,
          1,
          1,
          0,
          0,
          1,
          1,
          1,
          0,
          1,
          1,
          0,
          0,
          1,
          1,
          1,
          1,
          1,
          1,
          1,
          0,
          1,
          1,
          1,
          1,
          0,
          1,
          1,
          0,
          1,
          0,
          0,
          1,
          1,
          0,
          0,
          1,
          1,
          0,
          1,
          1,
          0,
          1,
          1,
          1,
          1,
          1,
          1,
          0,
          0,
          0,
          1,
          0,
          1,
          1,
          1,
          1,
          1,
          0,
          0,
          1,
          1,
          0,
          1,
          1,
          1,
          1,
          1,
          1,
          1,
          1,
          0,
          1,
          1,
          0,
          0,
          1,
          0,
          0,
          1,
          1,
          0,
          1,
          0,
          1,
          0,
          1,
          1,
          0,
          1,
          1,
          1,
          0,
          0,
          0,
          1,
          1,
          1,
          0,
          1,
          1,
          1,
          0,
          1,
          1,
          0,
          1,
          0,
          1,
          1,
          0,
          1,
          0,
          1,
          1,
          1,
          1,
          1,
          1,
          1,
          1,
          1,
          1
         ],
         "yaxis": "y"
        },
        {
         "alignmentgroup": "True",
         "hovertemplate": "age_groups=33-57<br>country_name=%{x}<br>is_subscriber=%{y}<extra></extra>",
         "legendgroup": "33-57",
         "marker": {
          "color": "#ab63fa"
         },
         "name": "33-57",
         "offsetgroup": "33-57",
         "orientation": "v",
         "showlegend": true,
         "textposition": "auto",
         "type": "bar",
         "x": [
          "Singapore",
          "USA",
          "Singapore",
          "Singapore",
          "Singapore",
          "Singapore",
          "USA",
          "Singapore",
          "Singapore",
          "Singapore",
          "USA",
          "USA",
          "Singapore",
          "USA",
          "USA",
          "USA",
          "USA",
          "USA",
          "USA",
          "USA",
          "USA",
          "USA",
          "Singapore",
          "Singapore",
          "Singapore",
          "USA",
          "USA",
          "USA",
          "Singapore",
          "Singapore",
          "USA",
          "USA",
          "Singapore",
          "USA",
          "USA",
          "USA",
          "Singapore",
          "USA",
          "Singapore",
          "USA",
          "USA",
          "Singapore",
          "USA",
          "Singapore",
          "USA",
          "USA",
          "Singapore",
          "USA",
          "USA",
          "USA",
          "USA",
          "USA",
          "USA",
          "Singapore",
          "Singapore",
          "USA",
          "USA",
          "USA",
          "Singapore",
          "USA",
          "Singapore",
          "USA",
          "USA",
          "USA",
          "USA",
          "USA",
          "USA",
          "USA",
          "USA",
          "Singapore",
          "USA",
          "Singapore",
          "USA",
          "USA",
          "USA",
          "Singapore",
          "USA",
          "USA",
          "USA",
          "USA",
          "USA",
          "USA",
          "Singapore",
          "USA",
          "Singapore",
          "USA",
          "USA",
          "USA",
          "USA",
          "USA",
          "USA",
          "Singapore",
          "USA",
          "USA",
          "USA",
          "USA",
          "USA",
          "Singapore",
          "USA",
          "USA",
          "USA",
          "USA",
          "USA",
          "USA",
          "Singapore",
          "USA",
          "USA",
          "USA",
          "USA",
          "USA",
          "USA",
          "Singapore",
          "USA",
          "Singapore",
          "USA",
          "USA",
          "USA",
          "Singapore",
          "USA",
          "Singapore",
          "Singapore",
          "USA",
          "Singapore",
          "Singapore",
          "USA",
          "Singapore",
          "Singapore",
          "USA",
          "USA",
          "USA",
          "Singapore",
          "USA",
          "Singapore",
          "USA",
          "USA",
          "Singapore",
          "USA",
          "USA",
          "USA",
          "USA",
          "USA",
          "USA",
          "USA",
          "USA",
          "USA",
          "USA",
          "USA",
          "USA",
          "USA",
          "USA",
          "USA",
          "USA",
          "USA",
          "USA",
          "USA",
          "Singapore",
          "USA",
          "USA",
          "Singapore",
          "Singapore",
          "USA",
          "USA",
          "Singapore",
          "USA",
          "Singapore",
          "USA",
          "Singapore",
          "USA",
          "USA",
          "USA",
          "USA",
          "USA",
          "USA",
          "USA",
          "USA",
          "Singapore",
          "USA",
          "Singapore",
          "USA",
          "USA",
          "USA",
          "USA",
          "USA",
          "Singapore",
          "Singapore",
          "USA",
          "USA",
          "Singapore",
          "USA",
          "USA",
          "USA",
          "USA",
          "Singapore",
          "USA",
          "USA",
          "USA",
          "USA",
          "USA",
          "Singapore",
          "Singapore",
          "USA",
          "USA",
          "Singapore",
          "USA",
          "USA",
          "Singapore",
          "USA",
          "USA",
          "Singapore",
          "USA",
          "Singapore",
          "Singapore",
          "Singapore",
          "USA",
          "USA",
          "Singapore",
          "USA",
          "USA",
          "USA",
          "Singapore",
          "USA",
          "USA",
          "USA",
          "USA",
          "USA",
          "USA",
          "Singapore",
          "USA",
          "USA",
          "USA",
          "USA",
          "USA",
          "Singapore",
          "USA",
          "USA",
          "USA",
          "Singapore",
          "USA",
          "Singapore",
          "USA",
          "USA",
          "Singapore",
          "USA",
          "USA",
          "Singapore",
          "USA",
          "USA",
          "Singapore",
          "USA"
         ],
         "xaxis": "x",
         "y": [
          0,
          1,
          0,
          0,
          0,
          0,
          1,
          0,
          0,
          0,
          1,
          1,
          0,
          1,
          1,
          0,
          1,
          1,
          1,
          1,
          1,
          1,
          1,
          0,
          0,
          1,
          0,
          1,
          0,
          1,
          1,
          0,
          0,
          1,
          1,
          1,
          0,
          1,
          1,
          1,
          1,
          1,
          1,
          0,
          1,
          1,
          0,
          1,
          1,
          1,
          1,
          1,
          0,
          1,
          1,
          1,
          0,
          0,
          0,
          1,
          0,
          1,
          1,
          1,
          1,
          1,
          1,
          1,
          1,
          0,
          1,
          0,
          1,
          1,
          0,
          1,
          0,
          0,
          1,
          0,
          1,
          1,
          1,
          1,
          0,
          0,
          0,
          1,
          1,
          0,
          1,
          1,
          1,
          1,
          1,
          1,
          1,
          0,
          1,
          1,
          1,
          1,
          0,
          1,
          1,
          1,
          1,
          1,
          1,
          1,
          1,
          0,
          1,
          0,
          1,
          1,
          0,
          0,
          1,
          1,
          0,
          1,
          1,
          0,
          1,
          0,
          1,
          1,
          1,
          1,
          1,
          1,
          1,
          1,
          1,
          1,
          1,
          1,
          1,
          1,
          0,
          1,
          1,
          0,
          1,
          0,
          1,
          1,
          1,
          1,
          1,
          1,
          1,
          1,
          1,
          0,
          1,
          1,
          1,
          0,
          1,
          1,
          0,
          1,
          0,
          1,
          1,
          0,
          1,
          0,
          1,
          1,
          1,
          1,
          1,
          0,
          1,
          1,
          1,
          1,
          1,
          1,
          1,
          0,
          0,
          1,
          1,
          0,
          1,
          1,
          1,
          0,
          0,
          1,
          1,
          1,
          1,
          1,
          0,
          1,
          1,
          1,
          0,
          1,
          1,
          1,
          1,
          1,
          0,
          1,
          1,
          1,
          1,
          1,
          1,
          0,
          1,
          0,
          0,
          0,
          1,
          0,
          1,
          1,
          1,
          1,
          1,
          1,
          0,
          1,
          1,
          1,
          0,
          1,
          1,
          1,
          1,
          1,
          1,
          1,
          1,
          0,
          1,
          0,
          1,
          1,
          1,
          0,
          1
         ],
         "yaxis": "y"
        }
       ],
       "layout": {
        "barmode": "group",
        "legend": {
         "title": {
          "text": "age_groups"
         },
         "tracegroupgap": 0
        },
        "template": {
         "data": {
          "bar": [
           {
            "error_x": {
             "color": "#2a3f5f"
            },
            "error_y": {
             "color": "#2a3f5f"
            },
            "marker": {
             "line": {
              "color": "#E5ECF6",
              "width": 0.5
             }
            },
            "type": "bar"
           }
          ],
          "barpolar": [
           {
            "marker": {
             "line": {
              "color": "#E5ECF6",
              "width": 0.5
             }
            },
            "type": "barpolar"
           }
          ],
          "carpet": [
           {
            "aaxis": {
             "endlinecolor": "#2a3f5f",
             "gridcolor": "white",
             "linecolor": "white",
             "minorgridcolor": "white",
             "startlinecolor": "#2a3f5f"
            },
            "baxis": {
             "endlinecolor": "#2a3f5f",
             "gridcolor": "white",
             "linecolor": "white",
             "minorgridcolor": "white",
             "startlinecolor": "#2a3f5f"
            },
            "type": "carpet"
           }
          ],
          "choropleth": [
           {
            "colorbar": {
             "outlinewidth": 0,
             "ticks": ""
            },
            "type": "choropleth"
           }
          ],
          "contour": [
           {
            "colorbar": {
             "outlinewidth": 0,
             "ticks": ""
            },
            "colorscale": [
             [
              0,
              "#0d0887"
             ],
             [
              0.1111111111111111,
              "#46039f"
             ],
             [
              0.2222222222222222,
              "#7201a8"
             ],
             [
              0.3333333333333333,
              "#9c179e"
             ],
             [
              0.4444444444444444,
              "#bd3786"
             ],
             [
              0.5555555555555556,
              "#d8576b"
             ],
             [
              0.6666666666666666,
              "#ed7953"
             ],
             [
              0.7777777777777778,
              "#fb9f3a"
             ],
             [
              0.8888888888888888,
              "#fdca26"
             ],
             [
              1,
              "#f0f921"
             ]
            ],
            "type": "contour"
           }
          ],
          "contourcarpet": [
           {
            "colorbar": {
             "outlinewidth": 0,
             "ticks": ""
            },
            "type": "contourcarpet"
           }
          ],
          "heatmap": [
           {
            "colorbar": {
             "outlinewidth": 0,
             "ticks": ""
            },
            "colorscale": [
             [
              0,
              "#0d0887"
             ],
             [
              0.1111111111111111,
              "#46039f"
             ],
             [
              0.2222222222222222,
              "#7201a8"
             ],
             [
              0.3333333333333333,
              "#9c179e"
             ],
             [
              0.4444444444444444,
              "#bd3786"
             ],
             [
              0.5555555555555556,
              "#d8576b"
             ],
             [
              0.6666666666666666,
              "#ed7953"
             ],
             [
              0.7777777777777778,
              "#fb9f3a"
             ],
             [
              0.8888888888888888,
              "#fdca26"
             ],
             [
              1,
              "#f0f921"
             ]
            ],
            "type": "heatmap"
           }
          ],
          "heatmapgl": [
           {
            "colorbar": {
             "outlinewidth": 0,
             "ticks": ""
            },
            "colorscale": [
             [
              0,
              "#0d0887"
             ],
             [
              0.1111111111111111,
              "#46039f"
             ],
             [
              0.2222222222222222,
              "#7201a8"
             ],
             [
              0.3333333333333333,
              "#9c179e"
             ],
             [
              0.4444444444444444,
              "#bd3786"
             ],
             [
              0.5555555555555556,
              "#d8576b"
             ],
             [
              0.6666666666666666,
              "#ed7953"
             ],
             [
              0.7777777777777778,
              "#fb9f3a"
             ],
             [
              0.8888888888888888,
              "#fdca26"
             ],
             [
              1,
              "#f0f921"
             ]
            ],
            "type": "heatmapgl"
           }
          ],
          "histogram": [
           {
            "marker": {
             "colorbar": {
              "outlinewidth": 0,
              "ticks": ""
             }
            },
            "type": "histogram"
           }
          ],
          "histogram2d": [
           {
            "colorbar": {
             "outlinewidth": 0,
             "ticks": ""
            },
            "colorscale": [
             [
              0,
              "#0d0887"
             ],
             [
              0.1111111111111111,
              "#46039f"
             ],
             [
              0.2222222222222222,
              "#7201a8"
             ],
             [
              0.3333333333333333,
              "#9c179e"
             ],
             [
              0.4444444444444444,
              "#bd3786"
             ],
             [
              0.5555555555555556,
              "#d8576b"
             ],
             [
              0.6666666666666666,
              "#ed7953"
             ],
             [
              0.7777777777777778,
              "#fb9f3a"
             ],
             [
              0.8888888888888888,
              "#fdca26"
             ],
             [
              1,
              "#f0f921"
             ]
            ],
            "type": "histogram2d"
           }
          ],
          "histogram2dcontour": [
           {
            "colorbar": {
             "outlinewidth": 0,
             "ticks": ""
            },
            "colorscale": [
             [
              0,
              "#0d0887"
             ],
             [
              0.1111111111111111,
              "#46039f"
             ],
             [
              0.2222222222222222,
              "#7201a8"
             ],
             [
              0.3333333333333333,
              "#9c179e"
             ],
             [
              0.4444444444444444,
              "#bd3786"
             ],
             [
              0.5555555555555556,
              "#d8576b"
             ],
             [
              0.6666666666666666,
              "#ed7953"
             ],
             [
              0.7777777777777778,
              "#fb9f3a"
             ],
             [
              0.8888888888888888,
              "#fdca26"
             ],
             [
              1,
              "#f0f921"
             ]
            ],
            "type": "histogram2dcontour"
           }
          ],
          "mesh3d": [
           {
            "colorbar": {
             "outlinewidth": 0,
             "ticks": ""
            },
            "type": "mesh3d"
           }
          ],
          "parcoords": [
           {
            "line": {
             "colorbar": {
              "outlinewidth": 0,
              "ticks": ""
             }
            },
            "type": "parcoords"
           }
          ],
          "pie": [
           {
            "automargin": true,
            "type": "pie"
           }
          ],
          "scatter": [
           {
            "marker": {
             "colorbar": {
              "outlinewidth": 0,
              "ticks": ""
             }
            },
            "type": "scatter"
           }
          ],
          "scatter3d": [
           {
            "line": {
             "colorbar": {
              "outlinewidth": 0,
              "ticks": ""
             }
            },
            "marker": {
             "colorbar": {
              "outlinewidth": 0,
              "ticks": ""
             }
            },
            "type": "scatter3d"
           }
          ],
          "scattercarpet": [
           {
            "marker": {
             "colorbar": {
              "outlinewidth": 0,
              "ticks": ""
             }
            },
            "type": "scattercarpet"
           }
          ],
          "scattergeo": [
           {
            "marker": {
             "colorbar": {
              "outlinewidth": 0,
              "ticks": ""
             }
            },
            "type": "scattergeo"
           }
          ],
          "scattergl": [
           {
            "marker": {
             "colorbar": {
              "outlinewidth": 0,
              "ticks": ""
             }
            },
            "type": "scattergl"
           }
          ],
          "scattermapbox": [
           {
            "marker": {
             "colorbar": {
              "outlinewidth": 0,
              "ticks": ""
             }
            },
            "type": "scattermapbox"
           }
          ],
          "scatterpolar": [
           {
            "marker": {
             "colorbar": {
              "outlinewidth": 0,
              "ticks": ""
             }
            },
            "type": "scatterpolar"
           }
          ],
          "scatterpolargl": [
           {
            "marker": {
             "colorbar": {
              "outlinewidth": 0,
              "ticks": ""
             }
            },
            "type": "scatterpolargl"
           }
          ],
          "scatterternary": [
           {
            "marker": {
             "colorbar": {
              "outlinewidth": 0,
              "ticks": ""
             }
            },
            "type": "scatterternary"
           }
          ],
          "surface": [
           {
            "colorbar": {
             "outlinewidth": 0,
             "ticks": ""
            },
            "colorscale": [
             [
              0,
              "#0d0887"
             ],
             [
              0.1111111111111111,
              "#46039f"
             ],
             [
              0.2222222222222222,
              "#7201a8"
             ],
             [
              0.3333333333333333,
              "#9c179e"
             ],
             [
              0.4444444444444444,
              "#bd3786"
             ],
             [
              0.5555555555555556,
              "#d8576b"
             ],
             [
              0.6666666666666666,
              "#ed7953"
             ],
             [
              0.7777777777777778,
              "#fb9f3a"
             ],
             [
              0.8888888888888888,
              "#fdca26"
             ],
             [
              1,
              "#f0f921"
             ]
            ],
            "type": "surface"
           }
          ],
          "table": [
           {
            "cells": {
             "fill": {
              "color": "#EBF0F8"
             },
             "line": {
              "color": "white"
             }
            },
            "header": {
             "fill": {
              "color": "#C8D4E3"
             },
             "line": {
              "color": "white"
             }
            },
            "type": "table"
           }
          ]
         },
         "layout": {
          "annotationdefaults": {
           "arrowcolor": "#2a3f5f",
           "arrowhead": 0,
           "arrowwidth": 1
          },
          "autotypenumbers": "strict",
          "coloraxis": {
           "colorbar": {
            "outlinewidth": 0,
            "ticks": ""
           }
          },
          "colorscale": {
           "diverging": [
            [
             0,
             "#8e0152"
            ],
            [
             0.1,
             "#c51b7d"
            ],
            [
             0.2,
             "#de77ae"
            ],
            [
             0.3,
             "#f1b6da"
            ],
            [
             0.4,
             "#fde0ef"
            ],
            [
             0.5,
             "#f7f7f7"
            ],
            [
             0.6,
             "#e6f5d0"
            ],
            [
             0.7,
             "#b8e186"
            ],
            [
             0.8,
             "#7fbc41"
            ],
            [
             0.9,
             "#4d9221"
            ],
            [
             1,
             "#276419"
            ]
           ],
           "sequential": [
            [
             0,
             "#0d0887"
            ],
            [
             0.1111111111111111,
             "#46039f"
            ],
            [
             0.2222222222222222,
             "#7201a8"
            ],
            [
             0.3333333333333333,
             "#9c179e"
            ],
            [
             0.4444444444444444,
             "#bd3786"
            ],
            [
             0.5555555555555556,
             "#d8576b"
            ],
            [
             0.6666666666666666,
             "#ed7953"
            ],
            [
             0.7777777777777778,
             "#fb9f3a"
            ],
            [
             0.8888888888888888,
             "#fdca26"
            ],
            [
             1,
             "#f0f921"
            ]
           ],
           "sequentialminus": [
            [
             0,
             "#0d0887"
            ],
            [
             0.1111111111111111,
             "#46039f"
            ],
            [
             0.2222222222222222,
             "#7201a8"
            ],
            [
             0.3333333333333333,
             "#9c179e"
            ],
            [
             0.4444444444444444,
             "#bd3786"
            ],
            [
             0.5555555555555556,
             "#d8576b"
            ],
            [
             0.6666666666666666,
             "#ed7953"
            ],
            [
             0.7777777777777778,
             "#fb9f3a"
            ],
            [
             0.8888888888888888,
             "#fdca26"
            ],
            [
             1,
             "#f0f921"
            ]
           ]
          },
          "colorway": [
           "#636efa",
           "#EF553B",
           "#00cc96",
           "#ab63fa",
           "#FFA15A",
           "#19d3f3",
           "#FF6692",
           "#B6E880",
           "#FF97FF",
           "#FECB52"
          ],
          "font": {
           "color": "#2a3f5f"
          },
          "geo": {
           "bgcolor": "white",
           "lakecolor": "white",
           "landcolor": "#E5ECF6",
           "showlakes": true,
           "showland": true,
           "subunitcolor": "white"
          },
          "hoverlabel": {
           "align": "left"
          },
          "hovermode": "closest",
          "mapbox": {
           "style": "light"
          },
          "paper_bgcolor": "white",
          "plot_bgcolor": "#E5ECF6",
          "polar": {
           "angularaxis": {
            "gridcolor": "white",
            "linecolor": "white",
            "ticks": ""
           },
           "bgcolor": "#E5ECF6",
           "radialaxis": {
            "gridcolor": "white",
            "linecolor": "white",
            "ticks": ""
           }
          },
          "scene": {
           "xaxis": {
            "backgroundcolor": "#E5ECF6",
            "gridcolor": "white",
            "gridwidth": 2,
            "linecolor": "white",
            "showbackground": true,
            "ticks": "",
            "zerolinecolor": "white"
           },
           "yaxis": {
            "backgroundcolor": "#E5ECF6",
            "gridcolor": "white",
            "gridwidth": 2,
            "linecolor": "white",
            "showbackground": true,
            "ticks": "",
            "zerolinecolor": "white"
           },
           "zaxis": {
            "backgroundcolor": "#E5ECF6",
            "gridcolor": "white",
            "gridwidth": 2,
            "linecolor": "white",
            "showbackground": true,
            "ticks": "",
            "zerolinecolor": "white"
           }
          },
          "shapedefaults": {
           "line": {
            "color": "#2a3f5f"
           }
          },
          "ternary": {
           "aaxis": {
            "gridcolor": "white",
            "linecolor": "white",
            "ticks": ""
           },
           "baxis": {
            "gridcolor": "white",
            "linecolor": "white",
            "ticks": ""
           },
           "bgcolor": "#E5ECF6",
           "caxis": {
            "gridcolor": "white",
            "linecolor": "white",
            "ticks": ""
           }
          },
          "title": {
           "x": 0.05
          },
          "xaxis": {
           "automargin": true,
           "gridcolor": "white",
           "linecolor": "white",
           "ticks": "",
           "title": {
            "standoff": 15
           },
           "zerolinecolor": "white",
           "zerolinewidth": 2
          },
          "yaxis": {
           "automargin": true,
           "gridcolor": "white",
           "linecolor": "white",
           "ticks": "",
           "title": {
            "standoff": 15
           },
           "zerolinecolor": "white",
           "zerolinewidth": 2
          }
         }
        },
        "title": {
         "text": "Number of subscribers separated by each age group for each country"
        },
        "xaxis": {
         "anchor": "y",
         "domain": [
          0,
          1
         ],
         "title": {
          "text": "country_name"
         }
        },
        "yaxis": {
         "anchor": "x",
         "domain": [
          0,
          1
         ],
         "title": {
          "text": "is_subscriber"
         }
        }
       }
      },
      "text/html": [
       "<div>                            <div id=\"9b4b35f6-b854-41b2-8091-507b0ab08c67\" class=\"plotly-graph-div\" style=\"height:525px; width:100%;\"></div>            <script type=\"text/javascript\">                require([\"plotly\"], function(Plotly) {                    window.PLOTLYENV=window.PLOTLYENV || {};                                    if (document.getElementById(\"9b4b35f6-b854-41b2-8091-507b0ab08c67\")) {                    Plotly.newPlot(                        \"9b4b35f6-b854-41b2-8091-507b0ab08c67\",                        [{\"alignmentgroup\": \"True\", \"hovertemplate\": \"age_groups=14-21<br>country_name=%{x}<br>is_subscriber=%{y}<extra></extra>\", \"legendgroup\": \"14-21\", \"marker\": {\"color\": \"#636efa\"}, \"name\": \"14-21\", \"offsetgroup\": \"14-21\", \"orientation\": \"v\", \"showlegend\": true, \"textposition\": \"auto\", \"type\": \"bar\", \"x\": [\"USA\", \"USA\", \"USA\", \"USA\", \"USA\", \"USA\", \"Singapore\", \"USA\", \"USA\", \"Singapore\", \"USA\", \"Singapore\", \"USA\", \"USA\", \"USA\", \"USA\", \"USA\", \"USA\", \"Singapore\", \"USA\", \"USA\", \"Singapore\", \"Singapore\", \"USA\", \"USA\", \"USA\", \"USA\", \"USA\", \"Singapore\", \"USA\", \"USA\", \"USA\", \"USA\", \"USA\", \"Singapore\", \"USA\", \"Singapore\", \"Singapore\", \"USA\", \"USA\", \"USA\", \"USA\", \"Singapore\", \"USA\", \"USA\", \"USA\", \"USA\", \"USA\", \"USA\", \"Singapore\", \"Singapore\", \"USA\", \"USA\", \"USA\", \"Singapore\", \"USA\", \"USA\", \"USA\", \"Singapore\", \"USA\", \"Singapore\", \"USA\", \"USA\", \"Singapore\", \"USA\", \"Singapore\", \"Singapore\", \"USA\", \"Singapore\", \"USA\", \"Singapore\", \"USA\", \"USA\", \"USA\", \"USA\", \"Singapore\", \"USA\", \"USA\", \"USA\", \"USA\", \"USA\", \"USA\", \"USA\", \"Singapore\", \"USA\", \"USA\", \"Singapore\", \"USA\", \"Singapore\", \"USA\", \"USA\", \"Singapore\", \"USA\", \"USA\", \"USA\", \"Singapore\", \"USA\", \"USA\", \"USA\", \"USA\", \"Singapore\", \"USA\", \"USA\", \"USA\", \"USA\", \"USA\", \"USA\", \"USA\", \"USA\", \"USA\", \"Singapore\", \"Singapore\", \"Singapore\", \"Singapore\", \"USA\", \"USA\", \"Singapore\", \"Singapore\", \"Singapore\", \"USA\", \"USA\", \"Singapore\", \"USA\", \"USA\", \"Singapore\", \"Singapore\", \"Singapore\", \"Singapore\", \"USA\", \"Singapore\", \"USA\", \"Singapore\", \"Singapore\", \"USA\", \"USA\", \"USA\", \"Singapore\", \"Singapore\", \"Singapore\", \"USA\", \"Singapore\", \"USA\", \"Singapore\", \"USA\", \"USA\", \"Singapore\", \"Singapore\", \"USA\", \"USA\", \"USA\", \"Singapore\", \"USA\", \"USA\", \"USA\", \"Singapore\", \"USA\", \"USA\", \"Singapore\", \"USA\", \"USA\", \"USA\", \"USA\", \"USA\", \"USA\", \"Singapore\", \"USA\", \"USA\", \"Singapore\", \"Singapore\", \"USA\", \"USA\", \"Singapore\", \"Singapore\", \"USA\", \"USA\", \"Singapore\", \"USA\", \"Singapore\", \"USA\", \"Singapore\", \"Singapore\", \"Singapore\", \"Singapore\", \"USA\", \"Singapore\", \"USA\", \"USA\", \"USA\", \"USA\", \"USA\", \"USA\", \"USA\", \"USA\", \"Singapore\", \"USA\", \"Singapore\", \"Singapore\", \"Singapore\", \"USA\", \"USA\", \"USA\", \"Singapore\", \"USA\", \"Singapore\", \"USA\", \"Singapore\", \"Singapore\", \"USA\", \"Singapore\", \"USA\", \"Singapore\", \"USA\", \"USA\", \"USA\", \"USA\", \"USA\", \"USA\", \"Singapore\", \"USA\", \"USA\", \"USA\", \"USA\", \"USA\", \"USA\", \"USA\", \"Singapore\", \"Singapore\", \"USA\", \"USA\", \"USA\", \"USA\", \"USA\", \"USA\", \"USA\", \"Singapore\", \"USA\", \"Singapore\", \"Singapore\", \"USA\", \"Singapore\", \"USA\", \"Singapore\", \"Singapore\", \"USA\", \"Singapore\", \"USA\", \"Singapore\", \"USA\", \"Singapore\", \"USA\", \"USA\", \"Singapore\", \"USA\", \"USA\", \"Singapore\", \"USA\", \"USA\", \"USA\", \"USA\", \"USA\", \"USA\", \"Singapore\", \"USA\", \"USA\", \"USA\", \"USA\", \"USA\", \"Singapore\", \"USA\", \"USA\", \"Singapore\", \"USA\", \"USA\", \"USA\", \"USA\", \"USA\", \"Singapore\", \"USA\", \"USA\", \"Singapore\", \"USA\", \"Singapore\", \"USA\", \"USA\", \"Singapore\", \"USA\", \"Singapore\", \"USA\", \"USA\", \"USA\", \"USA\"], \"xaxis\": \"x\", \"y\": [1, 1, 1, 1, 1, 1, 1, 1, 1, 1, 1, 1, 1, 1, 1, 1, 1, 0, 0, 0, 0, 0, 0, 1, 1, 1, 1, 0, 0, 1, 0, 1, 1, 1, 1, 1, 1, 0, 1, 1, 1, 0, 1, 0, 1, 1, 1, 1, 1, 0, 1, 1, 0, 1, 0, 1, 0, 1, 1, 1, 0, 1, 1, 0, 1, 1, 0, 1, 0, 1, 1, 0, 1, 1, 0, 0, 1, 1, 1, 1, 0, 1, 0, 0, 1, 1, 0, 1, 0, 1, 1, 1, 1, 1, 1, 0, 1, 1, 1, 1, 0, 1, 1, 1, 1, 1, 1, 1, 1, 1, 1, 1, 1, 1, 1, 1, 0, 0, 0, 1, 1, 0, 1, 0, 1, 1, 1, 1, 1, 0, 1, 1, 1, 1, 1, 1, 1, 0, 0, 1, 0, 1, 1, 1, 1, 1, 1, 1, 1, 1, 0, 1, 1, 1, 0, 0, 1, 1, 1, 0, 1, 1, 1, 0, 1, 1, 1, 0, 1, 1, 1, 0, 1, 1, 1, 1, 1, 0, 1, 0, 0, 1, 0, 1, 1, 1, 1, 1, 1, 1, 0, 1, 1, 1, 1, 0, 0, 0, 1, 0, 1, 0, 1, 0, 1, 1, 0, 1, 1, 1, 0, 0, 1, 1, 0, 1, 0, 0, 1, 1, 0, 1, 1, 1, 1, 1, 1, 1, 0, 1, 1, 1, 1, 1, 0, 0, 1, 0, 1, 0, 1, 1, 0, 1, 0, 0, 0, 1, 1, 1, 1, 0, 1, 1, 1, 1, 1, 1, 1, 1, 1, 1, 1, 1, 0, 1, 1, 0, 1, 1, 0, 1, 1, 1, 1, 0, 0, 1, 1, 1, 1, 1, 1, 1, 0, 0, 1, 1, 0, 1, 1], \"yaxis\": \"y\"}, {\"alignmentgroup\": \"True\", \"hovertemplate\": \"age_groups=24-33<br>country_name=%{x}<br>is_subscriber=%{y}<extra></extra>\", \"legendgroup\": \"24-33\", \"marker\": {\"color\": \"#EF553B\"}, \"name\": \"24-33\", \"offsetgroup\": \"24-33\", \"orientation\": \"v\", \"showlegend\": true, \"textposition\": \"auto\", \"type\": \"bar\", \"x\": [\"Singapore\", \"USA\", \"USA\", \"USA\", \"USA\", \"Singapore\", \"USA\", \"USA\", \"USA\", \"Singapore\", \"USA\", \"USA\", \"USA\", \"USA\", \"USA\", \"USA\", \"USA\", \"USA\", \"USA\", \"Singapore\", \"USA\", \"USA\", \"USA\", \"USA\", \"Singapore\", \"USA\", \"USA\", \"Singapore\", \"Singapore\", \"USA\", \"USA\", \"USA\", \"USA\", \"USA\", \"USA\", \"USA\", \"USA\", \"USA\", \"USA\", \"USA\", \"USA\", \"USA\", \"Singapore\", \"Singapore\", \"USA\", \"USA\", \"USA\", \"USA\", \"USA\", \"Singapore\", \"USA\", \"USA\", \"USA\", \"Singapore\", \"Singapore\", \"USA\", \"USA\", \"Singapore\", \"USA\", \"USA\", \"Singapore\", \"USA\", \"USA\", \"USA\", \"USA\", \"USA\", \"USA\", \"USA\", \"USA\", \"USA\", \"USA\", \"USA\", \"Singapore\", \"Singapore\", \"USA\", \"Singapore\", \"Singapore\", \"Singapore\", \"USA\", \"USA\", \"USA\", \"Singapore\", \"Singapore\", \"USA\", \"USA\", \"USA\", \"Singapore\", \"USA\", \"USA\", \"USA\", \"USA\", \"Singapore\", \"Singapore\", \"USA\", \"USA\", \"USA\", \"USA\", \"Singapore\", \"USA\", \"USA\", \"Singapore\", \"USA\", \"USA\", \"Singapore\", \"Singapore\", \"USA\", \"USA\", \"USA\", \"Singapore\", \"Singapore\", \"USA\", \"USA\", \"USA\", \"USA\", \"USA\", \"USA\", \"Singapore\", \"USA\", \"USA\", \"Singapore\", \"USA\", \"USA\", \"USA\", \"USA\", \"USA\", \"USA\", \"USA\", \"USA\", \"USA\", \"Singapore\", \"USA\", \"USA\", \"USA\", \"Singapore\", \"USA\", \"USA\", \"USA\", \"Singapore\", \"USA\", \"USA\", \"USA\", \"USA\", \"USA\", \"Singapore\", \"USA\", \"USA\", \"Singapore\", \"Singapore\", \"Singapore\", \"USA\", \"Singapore\", \"Singapore\", \"USA\", \"USA\", \"USA\", \"USA\", \"Singapore\", \"Singapore\", \"USA\", \"USA\", \"USA\", \"USA\", \"USA\", \"USA\", \"USA\", \"Singapore\", \"USA\", \"USA\", \"Singapore\", \"Singapore\", \"USA\", \"USA\", \"USA\", \"USA\", \"USA\", \"Singapore\", \"USA\", \"Singapore\", \"USA\", \"Singapore\", \"Singapore\", \"USA\", \"Singapore\", \"Singapore\", \"USA\", \"USA\", \"Singapore\", \"Singapore\", \"USA\", \"USA\", \"Singapore\", \"Singapore\", \"USA\", \"USA\", \"USA\", \"USA\", \"USA\", \"USA\", \"USA\", \"USA\", \"USA\", \"USA\", \"USA\", \"Singapore\", \"USA\", \"USA\", \"USA\", \"USA\"], \"xaxis\": \"x\", \"y\": [0, 0, 1, 1, 1, 0, 1, 1, 1, 1, 1, 0, 1, 1, 0, 1, 1, 1, 1, 0, 1, 1, 1, 1, 1, 1, 1, 0, 0, 0, 1, 1, 1, 1, 1, 1, 1, 1, 0, 1, 0, 1, 0, 1, 1, 0, 1, 1, 1, 0, 1, 1, 1, 1, 0, 1, 1, 0, 1, 1, 0, 1, 1, 1, 1, 0, 1, 1, 1, 1, 1, 1, 0, 0, 1, 0, 1, 1, 1, 1, 0, 0, 1, 0, 0, 1, 1, 1, 1, 1, 0, 1, 1, 1, 1, 1, 1, 0, 1, 1, 0, 1, 1, 1, 0, 1, 0, 1, 1, 0, 0, 1, 1, 1, 1, 1, 0, 0, 0, 0, 1, 0, 0, 1, 1, 1, 1, 1, 1, 0, 1, 0, 1, 1, 1, 1, 0, 0, 1, 1, 1, 1, 1, 0, 1, 1, 0, 1, 0, 1, 0, 0, 1, 1, 1, 0, 0, 0, 1, 1, 1, 1, 1, 1, 1, 1, 1, 0, 1, 1, 1, 1, 0, 1, 1, 0, 1, 0, 1, 1, 0, 1, 0, 1, 1, 1, 0, 1, 1, 1, 1, 1, 1, 1, 1, 1, 1, 1, 1, 1, 1, 1, 1, 1, 1, 1, 1, 1], \"yaxis\": \"y\"}, {\"alignmentgroup\": \"True\", \"hovertemplate\": \"age_groups=21-24<br>country_name=%{x}<br>is_subscriber=%{y}<extra></extra>\", \"legendgroup\": \"21-24\", \"marker\": {\"color\": \"#00cc96\"}, \"name\": \"21-24\", \"offsetgroup\": \"21-24\", \"orientation\": \"v\", \"showlegend\": true, \"textposition\": \"auto\", \"type\": \"bar\", \"x\": [\"USA\", \"Singapore\", \"USA\", \"USA\", \"USA\", \"USA\", \"USA\", \"Singapore\", \"Singapore\", \"Singapore\", \"USA\", \"Singapore\", \"USA\", \"USA\", \"USA\", \"USA\", \"USA\", \"USA\", \"USA\", \"USA\", \"USA\", \"USA\", \"Singapore\", \"USA\", \"USA\", \"USA\", \"USA\", \"USA\", \"USA\", \"Singapore\", \"Singapore\", \"Singapore\", \"USA\", \"USA\", \"Singapore\", \"Singapore\", \"USA\", \"USA\", \"Singapore\", \"USA\", \"USA\", \"USA\", \"USA\", \"Singapore\", \"USA\", \"USA\", \"USA\", \"USA\", \"USA\", \"USA\", \"Singapore\", \"USA\", \"USA\", \"USA\", \"USA\", \"USA\", \"USA\", \"USA\", \"USA\", \"USA\", \"Singapore\", \"USA\", \"Singapore\", \"USA\", \"Singapore\", \"Singapore\", \"USA\", \"USA\", \"USA\", \"Singapore\", \"USA\", \"USA\", \"USA\", \"USA\", \"Singapore\", \"USA\", \"Singapore\", \"USA\", \"USA\", \"USA\", \"USA\", \"USA\", \"USA\", \"Singapore\", \"USA\", \"USA\", \"USA\", \"USA\", \"USA\", \"USA\", \"Singapore\", \"USA\", \"USA\", \"USA\", \"USA\", \"Singapore\", \"Singapore\", \"Singapore\", \"USA\", \"Singapore\", \"USA\", \"USA\", \"Singapore\", \"USA\", \"Singapore\", \"Singapore\", \"USA\", \"USA\", \"USA\", \"USA\", \"USA\", \"USA\", \"USA\", \"USA\", \"Singapore\", \"USA\", \"USA\", \"USA\", \"Singapore\", \"Singapore\", \"USA\", \"Singapore\", \"USA\", \"USA\", \"USA\", \"Singapore\", \"Singapore\", \"USA\", \"Singapore\", \"Singapore\", \"USA\", \"USA\", \"Singapore\", \"USA\", \"USA\", \"USA\", \"USA\", \"USA\", \"USA\", \"USA\", \"Singapore\", \"Singapore\", \"USA\", \"USA\", \"USA\", \"USA\", \"USA\", \"USA\", \"Singapore\", \"Singapore\", \"USA\", \"USA\", \"USA\", \"USA\", \"Singapore\", \"Singapore\", \"USA\", \"Singapore\", \"Singapore\", \"Singapore\", \"Singapore\", \"USA\", \"Singapore\", \"Singapore\", \"Singapore\", \"USA\", \"USA\", \"Singapore\", \"USA\", \"USA\", \"Singapore\", \"USA\", \"USA\", \"USA\", \"USA\", \"USA\", \"USA\", \"USA\", \"USA\", \"USA\", \"Singapore\", \"Singapore\", \"USA\", \"USA\", \"USA\", \"USA\", \"USA\", \"Singapore\", \"USA\", \"USA\", \"USA\", \"Singapore\", \"USA\", \"Singapore\", \"USA\", \"USA\", \"USA\", \"Singapore\", \"USA\", \"USA\", \"Singapore\", \"USA\", \"USA\", \"Singapore\", \"USA\", \"USA\", \"USA\", \"USA\", \"USA\", \"USA\", \"Singapore\", \"USA\", \"USA\", \"USA\", \"USA\", \"USA\", \"USA\", \"USA\", \"USA\", \"USA\", \"USA\", \"Singapore\", \"Singapore\", \"Singapore\", \"USA\", \"USA\", \"USA\", \"USA\", \"Singapore\", \"USA\", \"USA\", \"Singapore\", \"USA\", \"USA\", \"Singapore\", \"USA\", \"Singapore\", \"USA\", \"USA\", \"Singapore\", \"USA\", \"USA\", \"USA\", \"USA\", \"USA\", \"USA\", \"USA\", \"Singapore\", \"USA\", \"USA\", \"Singapore\", \"USA\"], \"xaxis\": \"x\", \"y\": [0, 1, 1, 0, 0, 1, 1, 0, 0, 1, 1, 1, 1, 1, 1, 0, 1, 0, 1, 1, 1, 0, 0, 1, 0, 1, 1, 1, 1, 0, 0, 0, 0, 1, 1, 0, 1, 1, 1, 1, 1, 0, 1, 1, 1, 1, 1, 1, 1, 1, 1, 1, 1, 1, 0, 1, 1, 1, 1, 1, 0, 1, 0, 1, 0, 0, 1, 1, 1, 0, 1, 1, 1, 1, 0, 1, 1, 0, 1, 1, 1, 1, 0, 1, 1, 1, 1, 1, 1, 1, 0, 1, 1, 0, 1, 0, 0, 0, 1, 1, 1, 0, 0, 1, 0, 0, 1, 1, 1, 1, 1, 1, 1, 1, 1, 0, 1, 1, 1, 0, 1, 0, 1, 1, 1, 0, 0, 1, 1, 0, 1, 1, 0, 0, 1, 1, 1, 0, 1, 1, 0, 0, 1, 1, 1, 1, 1, 1, 1, 0, 1, 1, 1, 1, 0, 1, 1, 0, 1, 0, 0, 1, 1, 0, 0, 1, 1, 0, 1, 1, 0, 1, 1, 1, 1, 1, 1, 0, 0, 0, 1, 0, 1, 1, 1, 1, 1, 0, 0, 1, 1, 0, 1, 1, 1, 1, 1, 1, 1, 1, 0, 1, 1, 0, 0, 1, 0, 0, 1, 1, 0, 1, 0, 1, 0, 1, 1, 0, 1, 1, 1, 0, 0, 0, 1, 1, 1, 0, 1, 1, 1, 0, 1, 1, 0, 1, 0, 1, 1, 0, 1, 0, 1, 1, 1, 1, 1, 1, 1, 1, 1, 1], \"yaxis\": \"y\"}, {\"alignmentgroup\": \"True\", \"hovertemplate\": \"age_groups=33-57<br>country_name=%{x}<br>is_subscriber=%{y}<extra></extra>\", \"legendgroup\": \"33-57\", \"marker\": {\"color\": \"#ab63fa\"}, \"name\": \"33-57\", \"offsetgroup\": \"33-57\", \"orientation\": \"v\", \"showlegend\": true, \"textposition\": \"auto\", \"type\": \"bar\", \"x\": [\"Singapore\", \"USA\", \"Singapore\", \"Singapore\", \"Singapore\", \"Singapore\", \"USA\", \"Singapore\", \"Singapore\", \"Singapore\", \"USA\", \"USA\", \"Singapore\", \"USA\", \"USA\", \"USA\", \"USA\", \"USA\", \"USA\", \"USA\", \"USA\", \"USA\", \"Singapore\", \"Singapore\", \"Singapore\", \"USA\", \"USA\", \"USA\", \"Singapore\", \"Singapore\", \"USA\", \"USA\", \"Singapore\", \"USA\", \"USA\", \"USA\", \"Singapore\", \"USA\", \"Singapore\", \"USA\", \"USA\", \"Singapore\", \"USA\", \"Singapore\", \"USA\", \"USA\", \"Singapore\", \"USA\", \"USA\", \"USA\", \"USA\", \"USA\", \"USA\", \"Singapore\", \"Singapore\", \"USA\", \"USA\", \"USA\", \"Singapore\", \"USA\", \"Singapore\", \"USA\", \"USA\", \"USA\", \"USA\", \"USA\", \"USA\", \"USA\", \"USA\", \"Singapore\", \"USA\", \"Singapore\", \"USA\", \"USA\", \"USA\", \"Singapore\", \"USA\", \"USA\", \"USA\", \"USA\", \"USA\", \"USA\", \"Singapore\", \"USA\", \"Singapore\", \"USA\", \"USA\", \"USA\", \"USA\", \"USA\", \"USA\", \"Singapore\", \"USA\", \"USA\", \"USA\", \"USA\", \"USA\", \"Singapore\", \"USA\", \"USA\", \"USA\", \"USA\", \"USA\", \"USA\", \"Singapore\", \"USA\", \"USA\", \"USA\", \"USA\", \"USA\", \"USA\", \"Singapore\", \"USA\", \"Singapore\", \"USA\", \"USA\", \"USA\", \"Singapore\", \"USA\", \"Singapore\", \"Singapore\", \"USA\", \"Singapore\", \"Singapore\", \"USA\", \"Singapore\", \"Singapore\", \"USA\", \"USA\", \"USA\", \"Singapore\", \"USA\", \"Singapore\", \"USA\", \"USA\", \"Singapore\", \"USA\", \"USA\", \"USA\", \"USA\", \"USA\", \"USA\", \"USA\", \"USA\", \"USA\", \"USA\", \"USA\", \"USA\", \"USA\", \"USA\", \"USA\", \"USA\", \"USA\", \"USA\", \"USA\", \"Singapore\", \"USA\", \"USA\", \"Singapore\", \"Singapore\", \"USA\", \"USA\", \"Singapore\", \"USA\", \"Singapore\", \"USA\", \"Singapore\", \"USA\", \"USA\", \"USA\", \"USA\", \"USA\", \"USA\", \"USA\", \"USA\", \"Singapore\", \"USA\", \"Singapore\", \"USA\", \"USA\", \"USA\", \"USA\", \"USA\", \"Singapore\", \"Singapore\", \"USA\", \"USA\", \"Singapore\", \"USA\", \"USA\", \"USA\", \"USA\", \"Singapore\", \"USA\", \"USA\", \"USA\", \"USA\", \"USA\", \"Singapore\", \"Singapore\", \"USA\", \"USA\", \"Singapore\", \"USA\", \"USA\", \"Singapore\", \"USA\", \"USA\", \"Singapore\", \"USA\", \"Singapore\", \"Singapore\", \"Singapore\", \"USA\", \"USA\", \"Singapore\", \"USA\", \"USA\", \"USA\", \"Singapore\", \"USA\", \"USA\", \"USA\", \"USA\", \"USA\", \"USA\", \"Singapore\", \"USA\", \"USA\", \"USA\", \"USA\", \"USA\", \"Singapore\", \"USA\", \"USA\", \"USA\", \"Singapore\", \"USA\", \"Singapore\", \"USA\", \"USA\", \"Singapore\", \"USA\", \"USA\", \"Singapore\", \"USA\", \"USA\", \"Singapore\", \"USA\"], \"xaxis\": \"x\", \"y\": [0, 1, 0, 0, 0, 0, 1, 0, 0, 0, 1, 1, 0, 1, 1, 0, 1, 1, 1, 1, 1, 1, 1, 0, 0, 1, 0, 1, 0, 1, 1, 0, 0, 1, 1, 1, 0, 1, 1, 1, 1, 1, 1, 0, 1, 1, 0, 1, 1, 1, 1, 1, 0, 1, 1, 1, 0, 0, 0, 1, 0, 1, 1, 1, 1, 1, 1, 1, 1, 0, 1, 0, 1, 1, 0, 1, 0, 0, 1, 0, 1, 1, 1, 1, 0, 0, 0, 1, 1, 0, 1, 1, 1, 1, 1, 1, 1, 0, 1, 1, 1, 1, 0, 1, 1, 1, 1, 1, 1, 1, 1, 0, 1, 0, 1, 1, 0, 0, 1, 1, 0, 1, 1, 0, 1, 0, 1, 1, 1, 1, 1, 1, 1, 1, 1, 1, 1, 1, 1, 1, 0, 1, 1, 0, 1, 0, 1, 1, 1, 1, 1, 1, 1, 1, 1, 0, 1, 1, 1, 0, 1, 1, 0, 1, 0, 1, 1, 0, 1, 0, 1, 1, 1, 1, 1, 0, 1, 1, 1, 1, 1, 1, 1, 0, 0, 1, 1, 0, 1, 1, 1, 0, 0, 1, 1, 1, 1, 1, 0, 1, 1, 1, 0, 1, 1, 1, 1, 1, 0, 1, 1, 1, 1, 1, 1, 0, 1, 0, 0, 0, 1, 0, 1, 1, 1, 1, 1, 1, 0, 1, 1, 1, 0, 1, 1, 1, 1, 1, 1, 1, 1, 0, 1, 0, 1, 1, 1, 0, 1], \"yaxis\": \"y\"}],                        {\"barmode\": \"group\", \"legend\": {\"title\": {\"text\": \"age_groups\"}, \"tracegroupgap\": 0}, \"template\": {\"data\": {\"bar\": [{\"error_x\": {\"color\": \"#2a3f5f\"}, \"error_y\": {\"color\": \"#2a3f5f\"}, \"marker\": {\"line\": {\"color\": \"#E5ECF6\", \"width\": 0.5}}, \"type\": \"bar\"}], \"barpolar\": [{\"marker\": {\"line\": {\"color\": \"#E5ECF6\", \"width\": 0.5}}, \"type\": \"barpolar\"}], \"carpet\": [{\"aaxis\": {\"endlinecolor\": \"#2a3f5f\", \"gridcolor\": \"white\", \"linecolor\": \"white\", \"minorgridcolor\": \"white\", \"startlinecolor\": \"#2a3f5f\"}, \"baxis\": {\"endlinecolor\": \"#2a3f5f\", \"gridcolor\": \"white\", \"linecolor\": \"white\", \"minorgridcolor\": \"white\", \"startlinecolor\": \"#2a3f5f\"}, \"type\": \"carpet\"}], \"choropleth\": [{\"colorbar\": {\"outlinewidth\": 0, \"ticks\": \"\"}, \"type\": \"choropleth\"}], \"contour\": [{\"colorbar\": {\"outlinewidth\": 0, \"ticks\": \"\"}, \"colorscale\": [[0.0, \"#0d0887\"], [0.1111111111111111, \"#46039f\"], [0.2222222222222222, \"#7201a8\"], [0.3333333333333333, \"#9c179e\"], [0.4444444444444444, \"#bd3786\"], [0.5555555555555556, \"#d8576b\"], [0.6666666666666666, \"#ed7953\"], [0.7777777777777778, \"#fb9f3a\"], [0.8888888888888888, \"#fdca26\"], [1.0, \"#f0f921\"]], \"type\": \"contour\"}], \"contourcarpet\": [{\"colorbar\": {\"outlinewidth\": 0, \"ticks\": \"\"}, \"type\": \"contourcarpet\"}], \"heatmap\": [{\"colorbar\": {\"outlinewidth\": 0, \"ticks\": \"\"}, \"colorscale\": [[0.0, \"#0d0887\"], [0.1111111111111111, \"#46039f\"], [0.2222222222222222, \"#7201a8\"], [0.3333333333333333, \"#9c179e\"], [0.4444444444444444, \"#bd3786\"], [0.5555555555555556, \"#d8576b\"], [0.6666666666666666, \"#ed7953\"], [0.7777777777777778, \"#fb9f3a\"], [0.8888888888888888, \"#fdca26\"], [1.0, \"#f0f921\"]], \"type\": \"heatmap\"}], \"heatmapgl\": [{\"colorbar\": {\"outlinewidth\": 0, \"ticks\": \"\"}, \"colorscale\": [[0.0, \"#0d0887\"], [0.1111111111111111, \"#46039f\"], [0.2222222222222222, \"#7201a8\"], [0.3333333333333333, \"#9c179e\"], [0.4444444444444444, \"#bd3786\"], [0.5555555555555556, \"#d8576b\"], [0.6666666666666666, \"#ed7953\"], [0.7777777777777778, \"#fb9f3a\"], [0.8888888888888888, \"#fdca26\"], [1.0, \"#f0f921\"]], \"type\": \"heatmapgl\"}], \"histogram\": [{\"marker\": {\"colorbar\": {\"outlinewidth\": 0, \"ticks\": \"\"}}, \"type\": \"histogram\"}], \"histogram2d\": [{\"colorbar\": {\"outlinewidth\": 0, \"ticks\": \"\"}, \"colorscale\": [[0.0, \"#0d0887\"], [0.1111111111111111, \"#46039f\"], [0.2222222222222222, \"#7201a8\"], [0.3333333333333333, \"#9c179e\"], [0.4444444444444444, \"#bd3786\"], [0.5555555555555556, \"#d8576b\"], [0.6666666666666666, \"#ed7953\"], [0.7777777777777778, \"#fb9f3a\"], [0.8888888888888888, \"#fdca26\"], [1.0, \"#f0f921\"]], \"type\": \"histogram2d\"}], \"histogram2dcontour\": [{\"colorbar\": {\"outlinewidth\": 0, \"ticks\": \"\"}, \"colorscale\": [[0.0, \"#0d0887\"], [0.1111111111111111, \"#46039f\"], [0.2222222222222222, \"#7201a8\"], [0.3333333333333333, \"#9c179e\"], [0.4444444444444444, \"#bd3786\"], [0.5555555555555556, \"#d8576b\"], [0.6666666666666666, \"#ed7953\"], [0.7777777777777778, \"#fb9f3a\"], [0.8888888888888888, \"#fdca26\"], [1.0, \"#f0f921\"]], \"type\": \"histogram2dcontour\"}], \"mesh3d\": [{\"colorbar\": {\"outlinewidth\": 0, \"ticks\": \"\"}, \"type\": \"mesh3d\"}], \"parcoords\": [{\"line\": {\"colorbar\": {\"outlinewidth\": 0, \"ticks\": \"\"}}, \"type\": \"parcoords\"}], \"pie\": [{\"automargin\": true, \"type\": \"pie\"}], \"scatter\": [{\"marker\": {\"colorbar\": {\"outlinewidth\": 0, \"ticks\": \"\"}}, \"type\": \"scatter\"}], \"scatter3d\": [{\"line\": {\"colorbar\": {\"outlinewidth\": 0, \"ticks\": \"\"}}, \"marker\": {\"colorbar\": {\"outlinewidth\": 0, \"ticks\": \"\"}}, \"type\": \"scatter3d\"}], \"scattercarpet\": [{\"marker\": {\"colorbar\": {\"outlinewidth\": 0, \"ticks\": \"\"}}, \"type\": \"scattercarpet\"}], \"scattergeo\": [{\"marker\": {\"colorbar\": {\"outlinewidth\": 0, \"ticks\": \"\"}}, \"type\": \"scattergeo\"}], \"scattergl\": [{\"marker\": {\"colorbar\": {\"outlinewidth\": 0, \"ticks\": \"\"}}, \"type\": \"scattergl\"}], \"scattermapbox\": [{\"marker\": {\"colorbar\": {\"outlinewidth\": 0, \"ticks\": \"\"}}, \"type\": \"scattermapbox\"}], \"scatterpolar\": [{\"marker\": {\"colorbar\": {\"outlinewidth\": 0, \"ticks\": \"\"}}, \"type\": \"scatterpolar\"}], \"scatterpolargl\": [{\"marker\": {\"colorbar\": {\"outlinewidth\": 0, \"ticks\": \"\"}}, \"type\": \"scatterpolargl\"}], \"scatterternary\": [{\"marker\": {\"colorbar\": {\"outlinewidth\": 0, \"ticks\": \"\"}}, \"type\": \"scatterternary\"}], \"surface\": [{\"colorbar\": {\"outlinewidth\": 0, \"ticks\": \"\"}, \"colorscale\": [[0.0, \"#0d0887\"], [0.1111111111111111, \"#46039f\"], [0.2222222222222222, \"#7201a8\"], [0.3333333333333333, \"#9c179e\"], [0.4444444444444444, \"#bd3786\"], [0.5555555555555556, \"#d8576b\"], [0.6666666666666666, \"#ed7953\"], [0.7777777777777778, \"#fb9f3a\"], [0.8888888888888888, \"#fdca26\"], [1.0, \"#f0f921\"]], \"type\": \"surface\"}], \"table\": [{\"cells\": {\"fill\": {\"color\": \"#EBF0F8\"}, \"line\": {\"color\": \"white\"}}, \"header\": {\"fill\": {\"color\": \"#C8D4E3\"}, \"line\": {\"color\": \"white\"}}, \"type\": \"table\"}]}, \"layout\": {\"annotationdefaults\": {\"arrowcolor\": \"#2a3f5f\", \"arrowhead\": 0, \"arrowwidth\": 1}, \"autotypenumbers\": \"strict\", \"coloraxis\": {\"colorbar\": {\"outlinewidth\": 0, \"ticks\": \"\"}}, \"colorscale\": {\"diverging\": [[0, \"#8e0152\"], [0.1, \"#c51b7d\"], [0.2, \"#de77ae\"], [0.3, \"#f1b6da\"], [0.4, \"#fde0ef\"], [0.5, \"#f7f7f7\"], [0.6, \"#e6f5d0\"], [0.7, \"#b8e186\"], [0.8, \"#7fbc41\"], [0.9, \"#4d9221\"], [1, \"#276419\"]], \"sequential\": [[0.0, \"#0d0887\"], [0.1111111111111111, \"#46039f\"], [0.2222222222222222, \"#7201a8\"], [0.3333333333333333, \"#9c179e\"], [0.4444444444444444, \"#bd3786\"], [0.5555555555555556, \"#d8576b\"], [0.6666666666666666, \"#ed7953\"], [0.7777777777777778, \"#fb9f3a\"], [0.8888888888888888, \"#fdca26\"], [1.0, \"#f0f921\"]], \"sequentialminus\": [[0.0, \"#0d0887\"], [0.1111111111111111, \"#46039f\"], [0.2222222222222222, \"#7201a8\"], [0.3333333333333333, \"#9c179e\"], [0.4444444444444444, \"#bd3786\"], [0.5555555555555556, \"#d8576b\"], [0.6666666666666666, \"#ed7953\"], [0.7777777777777778, \"#fb9f3a\"], [0.8888888888888888, \"#fdca26\"], [1.0, \"#f0f921\"]]}, \"colorway\": [\"#636efa\", \"#EF553B\", \"#00cc96\", \"#ab63fa\", \"#FFA15A\", \"#19d3f3\", \"#FF6692\", \"#B6E880\", \"#FF97FF\", \"#FECB52\"], \"font\": {\"color\": \"#2a3f5f\"}, \"geo\": {\"bgcolor\": \"white\", \"lakecolor\": \"white\", \"landcolor\": \"#E5ECF6\", \"showlakes\": true, \"showland\": true, \"subunitcolor\": \"white\"}, \"hoverlabel\": {\"align\": \"left\"}, \"hovermode\": \"closest\", \"mapbox\": {\"style\": \"light\"}, \"paper_bgcolor\": \"white\", \"plot_bgcolor\": \"#E5ECF6\", \"polar\": {\"angularaxis\": {\"gridcolor\": \"white\", \"linecolor\": \"white\", \"ticks\": \"\"}, \"bgcolor\": \"#E5ECF6\", \"radialaxis\": {\"gridcolor\": \"white\", \"linecolor\": \"white\", \"ticks\": \"\"}}, \"scene\": {\"xaxis\": {\"backgroundcolor\": \"#E5ECF6\", \"gridcolor\": \"white\", \"gridwidth\": 2, \"linecolor\": \"white\", \"showbackground\": true, \"ticks\": \"\", \"zerolinecolor\": \"white\"}, \"yaxis\": {\"backgroundcolor\": \"#E5ECF6\", \"gridcolor\": \"white\", \"gridwidth\": 2, \"linecolor\": \"white\", \"showbackground\": true, \"ticks\": \"\", \"zerolinecolor\": \"white\"}, \"zaxis\": {\"backgroundcolor\": \"#E5ECF6\", \"gridcolor\": \"white\", \"gridwidth\": 2, \"linecolor\": \"white\", \"showbackground\": true, \"ticks\": \"\", \"zerolinecolor\": \"white\"}}, \"shapedefaults\": {\"line\": {\"color\": \"#2a3f5f\"}}, \"ternary\": {\"aaxis\": {\"gridcolor\": \"white\", \"linecolor\": \"white\", \"ticks\": \"\"}, \"baxis\": {\"gridcolor\": \"white\", \"linecolor\": \"white\", \"ticks\": \"\"}, \"bgcolor\": \"#E5ECF6\", \"caxis\": {\"gridcolor\": \"white\", \"linecolor\": \"white\", \"ticks\": \"\"}}, \"title\": {\"x\": 0.05}, \"xaxis\": {\"automargin\": true, \"gridcolor\": \"white\", \"linecolor\": \"white\", \"ticks\": \"\", \"title\": {\"standoff\": 15}, \"zerolinecolor\": \"white\", \"zerolinewidth\": 2}, \"yaxis\": {\"automargin\": true, \"gridcolor\": \"white\", \"linecolor\": \"white\", \"ticks\": \"\", \"title\": {\"standoff\": 15}, \"zerolinecolor\": \"white\", \"zerolinewidth\": 2}}}, \"title\": {\"text\": \"Number of subscribers separated by each age group for each country\"}, \"xaxis\": {\"anchor\": \"y\", \"domain\": [0.0, 1.0], \"title\": {\"text\": \"country_name\"}}, \"yaxis\": {\"anchor\": \"x\", \"domain\": [0.0, 1.0], \"title\": {\"text\": \"is_subscriber\"}}},                        {\"responsive\": true}                    ).then(function(){\n",
       "                            \n",
       "var gd = document.getElementById('9b4b35f6-b854-41b2-8091-507b0ab08c67');\n",
       "var x = new MutationObserver(function (mutations, observer) {{\n",
       "        var display = window.getComputedStyle(gd).display;\n",
       "        if (!display || display === 'none') {{\n",
       "            console.log([gd, 'removed!']);\n",
       "            Plotly.purge(gd);\n",
       "            observer.disconnect();\n",
       "        }}\n",
       "}});\n",
       "\n",
       "// Listen for the removal of the full notebook cells\n",
       "var notebookContainer = gd.closest('#notebook-container');\n",
       "if (notebookContainer) {{\n",
       "    x.observe(notebookContainer, {childList: true});\n",
       "}}\n",
       "\n",
       "// Listen for the clearing of the current output cell\n",
       "var outputEl = gd.closest('.output');\n",
       "if (outputEl) {{\n",
       "    x.observe(outputEl, {childList: true});\n",
       "}}\n",
       "\n",
       "                        })                };                });            </script>        </div>"
      ]
     },
     "metadata": {},
     "output_type": "display_data"
    }
   ],
   "source": [
    "fig=px.bar(df,x='country_name',y='is_subscriber',color='age_groups',barmode='group',title='Number of subscribers separated by each age group for each country')\n",
    "fig.show()"
   ]
  },
  {
   "cell_type": "code",
   "execution_count": 93,
   "metadata": {
    "colab": {
     "base_uri": "https://localhost:8080/",
     "height": 542
    },
    "id": "lw8gHMfbbs_-",
    "outputId": "8aac6898-92b5-4505-f57f-95705bd1a493"
   },
   "outputs": [
    {
     "data": {
      "application/vnd.plotly.v1+json": {
       "config": {
        "plotlyServerURL": "https://plot.ly"
       },
       "data": [
        {
         "alignmentgroup": "True",
         "hovertemplate": "subscriber_type=aavail_premium<br>age_groups=%{x}<br>is_subscriber=%{y}<extra></extra>",
         "legendgroup": "aavail_premium",
         "marker": {
          "color": "#636efa"
         },
         "name": "aavail_premium",
         "offsetgroup": "aavail_premium",
         "orientation": "v",
         "showlegend": true,
         "textposition": "auto",
         "type": "bar",
         "x": [
          "14-21",
          "24-33",
          "21-24",
          "21-24",
          "21-24",
          "33-57",
          "21-24",
          "14-21",
          "14-21",
          "21-24",
          "24-33",
          "24-33",
          "14-21",
          "24-33",
          "24-33",
          "33-57",
          "33-57",
          "33-57",
          "24-33",
          "24-33",
          "21-24",
          "24-33",
          "33-57",
          "24-33",
          "14-21",
          "21-24",
          "21-24",
          "33-57",
          "14-21",
          "24-33",
          "14-21",
          "14-21",
          "21-24",
          "21-24",
          "14-21",
          "33-57",
          "24-33",
          "14-21",
          "24-33",
          "21-24",
          "21-24",
          "33-57",
          "33-57",
          "33-57",
          "24-33",
          "21-24",
          "24-33",
          "14-21",
          "33-57",
          "24-33",
          "33-57",
          "24-33",
          "14-21",
          "24-33",
          "21-24",
          "24-33",
          "24-33",
          "24-33",
          "14-21",
          "24-33",
          "21-24",
          "33-57",
          "21-24",
          "21-24",
          "14-21",
          "21-24",
          "14-21",
          "24-33",
          "33-57",
          "24-33",
          "14-21",
          "33-57",
          "33-57",
          "14-21",
          "33-57",
          "14-21",
          "14-21",
          "33-57",
          "14-21",
          "33-57",
          "21-24",
          "14-21",
          "33-57",
          "21-24",
          "33-57",
          "33-57",
          "33-57",
          "14-21",
          "33-57",
          "21-24",
          "21-24",
          "24-33",
          "33-57",
          "14-21",
          "21-24",
          "33-57",
          "14-21",
          "21-24",
          "14-21",
          "33-57",
          "24-33",
          "21-24",
          "21-24",
          "33-57",
          "24-33",
          "33-57",
          "14-21",
          "21-24",
          "33-57",
          "14-21",
          "14-21",
          "21-24",
          "14-21",
          "21-24",
          "21-24",
          "33-57",
          "21-24",
          "33-57",
          "21-24",
          "14-21",
          "14-21",
          "14-21",
          "21-24",
          "24-33",
          "14-21",
          "33-57",
          "24-33",
          "33-57",
          "14-21",
          "21-24",
          "14-21",
          "14-21",
          "33-57",
          "24-33",
          "24-33",
          "21-24",
          "14-21",
          "14-21",
          "33-57",
          "21-24",
          "33-57",
          "21-24",
          "33-57",
          "14-21",
          "14-21",
          "14-21",
          "24-33",
          "14-21",
          "24-33",
          "33-57",
          "14-21",
          "21-24",
          "21-24",
          "24-33",
          "14-21",
          "33-57",
          "21-24",
          "24-33",
          "21-24",
          "24-33",
          "33-57",
          "21-24",
          "14-21",
          "14-21",
          "33-57",
          "14-21",
          "24-33",
          "24-33",
          "21-24",
          "21-24",
          "24-33",
          "33-57",
          "21-24",
          "21-24",
          "33-57",
          "14-21",
          "21-24",
          "21-24",
          "33-57",
          "33-57",
          "24-33",
          "21-24",
          "14-21",
          "14-21",
          "24-33",
          "14-21",
          "21-24",
          "24-33",
          "21-24",
          "33-57",
          "14-21",
          "21-24",
          "24-33",
          "33-57",
          "24-33",
          "14-21",
          "24-33",
          "21-24",
          "33-57",
          "33-57",
          "24-33",
          "21-24",
          "21-24",
          "14-21",
          "33-57",
          "14-21",
          "14-21",
          "24-33",
          "33-57",
          "21-24",
          "14-21",
          "24-33",
          "21-24",
          "33-57",
          "24-33",
          "21-24",
          "33-57",
          "33-57",
          "33-57",
          "24-33",
          "21-24",
          "33-57",
          "14-21",
          "14-21",
          "14-21",
          "21-24",
          "21-24",
          "14-21",
          "14-21",
          "21-24",
          "21-24",
          "21-24",
          "21-24",
          "33-57",
          "33-57",
          "24-33",
          "21-24",
          "24-33",
          "24-33",
          "21-24",
          "14-21",
          "14-21",
          "24-33",
          "14-21",
          "33-57",
          "33-57",
          "14-21",
          "14-21",
          "14-21",
          "24-33",
          "21-24",
          "14-21",
          "33-57",
          "24-33",
          "21-24",
          "14-21",
          "14-21",
          "14-21",
          "33-57",
          "14-21",
          "33-57",
          "21-24",
          "14-21",
          "24-33",
          "14-21",
          "21-24",
          "14-21",
          "24-33",
          "14-21",
          "14-21",
          "14-21",
          "24-33",
          "14-21",
          "33-57",
          "24-33",
          "21-24",
          "33-57",
          "33-57",
          "24-33",
          "24-33",
          "21-24",
          "33-57",
          "14-21",
          "33-57",
          "14-21",
          "33-57",
          "14-21",
          "33-57",
          "33-57",
          "33-57",
          "14-21",
          "24-33",
          "21-24",
          "21-24",
          "14-21",
          "21-24",
          "14-21",
          "24-33",
          "14-21",
          "33-57",
          "24-33",
          "14-21",
          "24-33",
          "14-21",
          "14-21",
          "24-33",
          "14-21",
          "33-57",
          "24-33",
          "33-57",
          "21-24",
          "33-57",
          "14-21",
          "14-21",
          "24-33",
          "33-57",
          "24-33",
          "14-21",
          "14-21",
          "14-21",
          "21-24",
          "14-21",
          "14-21"
         ],
         "xaxis": "x",
         "y": [
          1,
          0,
          0,
          1,
          1,
          1,
          0,
          1,
          1,
          0,
          1,
          1,
          1,
          1,
          0,
          0,
          0,
          1,
          1,
          1,
          1,
          0,
          1,
          0,
          1,
          0,
          1,
          1,
          0,
          1,
          0,
          1,
          0,
          1,
          0,
          0,
          1,
          0,
          1,
          1,
          1,
          0,
          1,
          0,
          1,
          0,
          0,
          1,
          1,
          1,
          1,
          1,
          0,
          1,
          0,
          1,
          1,
          1,
          0,
          0,
          1,
          1,
          1,
          1,
          1,
          1,
          0,
          1,
          0,
          1,
          1,
          1,
          1,
          0,
          1,
          0,
          1,
          1,
          0,
          1,
          1,
          1,
          1,
          1,
          1,
          0,
          0,
          0,
          0,
          0,
          1,
          0,
          1,
          0,
          1,
          1,
          1,
          1,
          0,
          1,
          1,
          1,
          1,
          1,
          1,
          1,
          1,
          1,
          0,
          0,
          1,
          1,
          1,
          1,
          1,
          1,
          1,
          1,
          1,
          0,
          1,
          1,
          1,
          0,
          0,
          1,
          0,
          1,
          1,
          0,
          1,
          1,
          1,
          1,
          1,
          1,
          1,
          1,
          1,
          0,
          1,
          1,
          1,
          0,
          0,
          1,
          1,
          1,
          1,
          1,
          1,
          1,
          1,
          1,
          1,
          1,
          0,
          1,
          1,
          1,
          0,
          1,
          0,
          1,
          1,
          0,
          0,
          1,
          1,
          0,
          1,
          1,
          0,
          1,
          1,
          0,
          1,
          1,
          1,
          1,
          0,
          0,
          0,
          1,
          0,
          0,
          0,
          1,
          1,
          1,
          0,
          1,
          1,
          1,
          1,
          1,
          0,
          1,
          0,
          0,
          1,
          0,
          1,
          1,
          0,
          1,
          1,
          1,
          1,
          0,
          0,
          0,
          0,
          1,
          1,
          1,
          0,
          1,
          1,
          1,
          1,
          1,
          0,
          1,
          0,
          1,
          1,
          1,
          0,
          0,
          0,
          1,
          1,
          0,
          1,
          1,
          1,
          1,
          0,
          1,
          1,
          0,
          1,
          0,
          0,
          1,
          1,
          1,
          1,
          1,
          1,
          1,
          1,
          1,
          0,
          1,
          1,
          1,
          1,
          0,
          1,
          0,
          1,
          0,
          1,
          1,
          0,
          1,
          0,
          0,
          0,
          1,
          1,
          1,
          1,
          0,
          1,
          1,
          1,
          1,
          0,
          0,
          1,
          0,
          1,
          1,
          1,
          1,
          1,
          1,
          1,
          0,
          0,
          1,
          0,
          0,
          0,
          1,
          1,
          1,
          1,
          1,
          1,
          0,
          1,
          1,
          1,
          1,
          1,
          1,
          1,
          1,
          1,
          1,
          1,
          0,
          1,
          0,
          0,
          1,
          1,
          1,
          0
         ],
         "yaxis": "y"
        },
        {
         "alignmentgroup": "True",
         "hovertemplate": "subscriber_type=aavail_basic<br>age_groups=%{x}<br>is_subscriber=%{y}<extra></extra>",
         "legendgroup": "aavail_basic",
         "marker": {
          "color": "#EF553B"
         },
         "name": "aavail_basic",
         "offsetgroup": "aavail_basic",
         "orientation": "v",
         "showlegend": true,
         "textposition": "auto",
         "type": "bar",
         "x": [
          "14-21",
          "33-57",
          "24-33",
          "14-21",
          "21-24",
          "33-57",
          "33-57",
          "21-24",
          "14-21",
          "14-21",
          "14-21",
          "14-21",
          "33-57",
          "21-24",
          "21-24",
          "21-24",
          "33-57",
          "24-33",
          "33-57",
          "24-33",
          "14-21",
          "14-21",
          "33-57",
          "21-24",
          "21-24",
          "24-33",
          "21-24",
          "14-21",
          "24-33",
          "14-21",
          "21-24",
          "24-33",
          "14-21",
          "24-33",
          "14-21",
          "33-57",
          "33-57",
          "33-57",
          "21-24",
          "14-21",
          "21-24",
          "24-33",
          "14-21",
          "14-21",
          "24-33",
          "14-21",
          "14-21",
          "24-33",
          "21-24",
          "14-21",
          "21-24",
          "33-57",
          "14-21",
          "24-33",
          "14-21",
          "21-24",
          "21-24",
          "33-57",
          "21-24",
          "24-33",
          "24-33",
          "14-21",
          "14-21",
          "14-21",
          "14-21",
          "21-24",
          "24-33",
          "14-21",
          "14-21",
          "33-57",
          "14-21",
          "24-33",
          "33-57",
          "24-33",
          "14-21",
          "33-57",
          "24-33",
          "14-21",
          "14-21",
          "21-24",
          "21-24",
          "14-21",
          "24-33",
          "14-21",
          "24-33",
          "21-24",
          "33-57",
          "21-24",
          "21-24",
          "33-57",
          "33-57",
          "33-57",
          "21-24",
          "24-33",
          "21-24",
          "33-57",
          "14-21",
          "24-33",
          "21-24",
          "33-57",
          "14-21",
          "21-24",
          "14-21",
          "24-33",
          "21-24",
          "24-33",
          "21-24",
          "33-57",
          "24-33",
          "14-21",
          "21-24",
          "24-33",
          "24-33",
          "14-21",
          "21-24",
          "21-24",
          "24-33",
          "33-57",
          "33-57",
          "24-33",
          "21-24",
          "33-57",
          "14-21",
          "33-57",
          "33-57",
          "14-21",
          "33-57",
          "14-21",
          "14-21",
          "21-24",
          "14-21",
          "24-33",
          "21-24",
          "24-33",
          "33-57",
          "21-24",
          "24-33",
          "24-33",
          "33-57",
          "21-24",
          "33-57",
          "33-57",
          "21-24",
          "24-33",
          "14-21",
          "21-24",
          "33-57",
          "21-24",
          "14-21",
          "24-33",
          "14-21",
          "14-21",
          "33-57",
          "24-33",
          "33-57",
          "21-24",
          "14-21",
          "14-21",
          "21-24",
          "21-24",
          "21-24",
          "33-57",
          "24-33",
          "21-24",
          "14-21",
          "33-57",
          "33-57",
          "33-57",
          "24-33",
          "14-21",
          "24-33",
          "14-21",
          "14-21",
          "33-57",
          "33-57",
          "21-24",
          "21-24",
          "21-24",
          "21-24",
          "21-24",
          "14-21",
          "14-21",
          "14-21",
          "33-57",
          "21-24",
          "14-21",
          "14-21",
          "14-21",
          "33-57",
          "24-33",
          "21-24",
          "33-57",
          "24-33",
          "14-21",
          "14-21",
          "33-57",
          "14-21",
          "14-21",
          "14-21",
          "14-21",
          "24-33",
          "24-33",
          "21-24",
          "24-33",
          "21-24",
          "33-57",
          "33-57",
          "21-24",
          "21-24",
          "33-57",
          "14-21",
          "33-57",
          "21-24",
          "24-33",
          "33-57",
          "14-21",
          "33-57",
          "24-33",
          "24-33",
          "14-21",
          "33-57",
          "21-24",
          "33-57",
          "24-33",
          "21-24",
          "33-57",
          "14-21",
          "14-21",
          "14-21",
          "21-24",
          "21-24",
          "14-21",
          "14-21",
          "14-21",
          "14-21",
          "14-21",
          "33-57",
          "21-24",
          "33-57",
          "14-21",
          "24-33",
          "24-33",
          "21-24",
          "21-24",
          "24-33",
          "21-24",
          "14-21",
          "33-57",
          "21-24",
          "33-57",
          "24-33",
          "33-57",
          "33-57",
          "21-24",
          "14-21",
          "24-33",
          "14-21",
          "33-57",
          "14-21",
          "33-57",
          "24-33",
          "24-33",
          "24-33",
          "14-21",
          "24-33",
          "33-57",
          "21-24",
          "24-33",
          "14-21",
          "33-57",
          "21-24",
          "33-57",
          "33-57",
          "14-21",
          "24-33",
          "21-24",
          "24-33",
          "24-33",
          "33-57",
          "33-57",
          "14-21",
          "21-24",
          "14-21",
          "21-24",
          "14-21",
          "14-21",
          "21-24",
          "14-21",
          "14-21",
          "24-33",
          "33-57",
          "21-24",
          "21-24",
          "21-24",
          "14-21",
          "33-57",
          "21-24",
          "14-21",
          "14-21",
          "24-33",
          "14-21",
          "21-24",
          "24-33",
          "14-21",
          "14-21",
          "33-57",
          "21-24",
          "21-24",
          "33-57",
          "21-24",
          "33-57",
          "33-57",
          "14-21",
          "24-33",
          "21-24",
          "14-21",
          "14-21",
          "14-21",
          "24-33",
          "21-24",
          "24-33",
          "14-21",
          "14-21",
          "33-57",
          "33-57",
          "21-24",
          "33-57",
          "33-57",
          "24-33",
          "14-21",
          "24-33",
          "21-24",
          "14-21",
          "14-21",
          "21-24",
          "14-21",
          "21-24",
          "24-33",
          "14-21",
          "24-33",
          "14-21",
          "21-24",
          "24-33",
          "21-24",
          "21-24",
          "21-24",
          "33-57",
          "14-21",
          "14-21",
          "14-21",
          "21-24",
          "14-21",
          "24-33",
          "21-24",
          "24-33",
          "24-33",
          "14-21",
          "14-21",
          "21-24",
          "14-21",
          "33-57",
          "21-24",
          "24-33",
          "21-24",
          "14-21",
          "21-24",
          "21-24",
          "33-57",
          "33-57",
          "14-21",
          "14-21",
          "21-24",
          "21-24",
          "33-57",
          "21-24",
          "21-24",
          "21-24",
          "33-57",
          "14-21",
          "24-33",
          "33-57",
          "33-57",
          "21-24",
          "33-57",
          "33-57",
          "21-24",
          "24-33",
          "21-24",
          "33-57",
          "24-33",
          "21-24",
          "33-57",
          "24-33",
          "21-24",
          "14-21",
          "21-24"
         ],
         "xaxis": "x",
         "y": [
          1,
          0,
          0,
          1,
          1,
          0,
          0,
          0,
          1,
          1,
          1,
          1,
          1,
          0,
          1,
          1,
          1,
          1,
          1,
          1,
          1,
          1,
          1,
          1,
          1,
          1,
          1,
          0,
          1,
          1,
          0,
          1,
          1,
          0,
          1,
          1,
          1,
          0,
          0,
          1,
          1,
          0,
          0,
          1,
          0,
          1,
          1,
          1,
          0,
          1,
          1,
          0,
          1,
          0,
          1,
          1,
          1,
          1,
          1,
          1,
          0,
          1,
          1,
          1,
          1,
          0,
          1,
          1,
          1,
          1,
          0,
          0,
          1,
          0,
          1,
          0,
          1,
          1,
          1,
          1,
          1,
          1,
          1,
          1,
          1,
          1,
          0,
          1,
          0,
          1,
          1,
          1,
          1,
          1,
          1,
          1,
          1,
          1,
          1,
          1,
          1,
          1,
          1,
          1,
          1,
          1,
          0,
          1,
          1,
          1,
          1,
          1,
          1,
          1,
          1,
          1,
          1,
          1,
          0,
          0,
          0,
          1,
          1,
          1,
          0,
          1,
          0,
          1,
          1,
          1,
          1,
          1,
          0,
          0,
          1,
          1,
          1,
          1,
          0,
          1,
          1,
          1,
          1,
          1,
          1,
          0,
          1,
          1,
          1,
          0,
          1,
          1,
          1,
          1,
          1,
          1,
          1,
          1,
          0,
          1,
          1,
          1,
          0,
          0,
          1,
          1,
          1,
          1,
          1,
          0,
          1,
          1,
          0,
          0,
          0,
          0,
          1,
          1,
          1,
          1,
          1,
          1,
          0,
          0,
          1,
          1,
          1,
          1,
          0,
          1,
          1,
          1,
          1,
          1,
          0,
          1,
          1,
          1,
          1,
          1,
          1,
          0,
          1,
          1,
          1,
          1,
          1,
          1,
          0,
          1,
          1,
          1,
          1,
          1,
          1,
          1,
          1,
          1,
          1,
          1,
          1,
          1,
          0,
          0,
          1,
          0,
          1,
          0,
          1,
          1,
          1,
          1,
          1,
          1,
          1,
          1,
          1,
          1,
          1,
          1,
          1,
          1,
          1,
          1,
          1,
          1,
          1,
          1,
          1,
          1,
          1,
          0,
          1,
          1,
          1,
          1,
          1,
          0,
          0,
          1,
          0,
          0,
          1,
          0,
          1,
          1,
          1,
          1,
          1,
          1,
          1,
          1,
          1,
          1,
          0,
          1,
          1,
          0,
          1,
          1,
          1,
          0,
          0,
          0,
          1,
          1,
          1,
          1,
          1,
          0,
          0,
          1,
          1,
          1,
          1,
          0,
          0,
          1,
          1,
          1,
          0,
          1,
          1,
          1,
          1,
          1,
          1,
          1,
          1,
          1,
          1,
          1,
          1,
          1,
          1,
          0,
          1,
          0,
          1,
          0,
          1,
          0,
          1,
          1,
          1,
          1,
          1,
          1,
          1,
          1,
          1,
          1,
          1,
          1,
          0,
          1,
          1,
          1,
          1,
          0,
          1,
          1,
          1,
          1,
          1,
          1,
          0,
          1,
          1,
          1,
          1,
          1,
          0,
          1,
          1,
          1,
          0,
          1,
          1,
          1,
          1,
          1,
          1,
          1,
          1,
          1,
          1,
          1,
          0,
          1,
          0,
          0,
          1,
          1,
          1,
          0,
          0,
          1,
          1,
          1,
          1,
          1,
          1,
          1,
          0,
          1,
          1,
          1,
          1,
          1,
          1,
          1,
          1,
          1,
          1,
          1
         ],
         "yaxis": "y"
        },
        {
         "alignmentgroup": "True",
         "hovertemplate": "subscriber_type=aavail_unlimited<br>age_groups=%{x}<br>is_subscriber=%{y}<extra></extra>",
         "legendgroup": "aavail_unlimited",
         "marker": {
          "color": "#00cc96"
         },
         "name": "aavail_unlimited",
         "offsetgroup": "aavail_unlimited",
         "orientation": "v",
         "showlegend": true,
         "textposition": "auto",
         "type": "bar",
         "x": [
          "33-57",
          "33-57",
          "21-24",
          "33-57",
          "14-21",
          "24-33",
          "33-57",
          "21-24",
          "33-57",
          "24-33",
          "21-24",
          "14-21",
          "24-33",
          "14-21",
          "33-57",
          "21-24",
          "21-24",
          "14-21",
          "14-21",
          "14-21",
          "33-57",
          "14-21",
          "33-57",
          "24-33",
          "33-57",
          "24-33",
          "24-33",
          "24-33",
          "21-24",
          "21-24",
          "14-21",
          "21-24",
          "24-33",
          "14-21",
          "21-24",
          "24-33",
          "14-21",
          "14-21",
          "33-57",
          "21-24",
          "21-24",
          "33-57",
          "24-33",
          "21-24",
          "24-33",
          "33-57",
          "24-33",
          "21-24",
          "21-24",
          "24-33",
          "33-57",
          "14-21",
          "14-21",
          "14-21",
          "14-21",
          "33-57",
          "33-57",
          "14-21",
          "33-57",
          "24-33",
          "21-24",
          "14-21",
          "24-33",
          "21-24",
          "14-21",
          "14-21",
          "14-21",
          "33-57",
          "33-57",
          "24-33",
          "21-24",
          "24-33",
          "14-21",
          "24-33",
          "24-33",
          "33-57",
          "33-57",
          "14-21",
          "24-33",
          "14-21",
          "21-24",
          "14-21",
          "33-57",
          "33-57",
          "33-57",
          "33-57",
          "33-57",
          "21-24",
          "33-57",
          "21-24",
          "21-24",
          "24-33",
          "14-21",
          "24-33",
          "14-21",
          "24-33",
          "33-57",
          "21-24",
          "14-21",
          "24-33",
          "21-24",
          "33-57",
          "33-57",
          "24-33",
          "33-57",
          "14-21",
          "33-57",
          "33-57",
          "33-57",
          "14-21",
          "21-24",
          "24-33",
          "33-57",
          "33-57",
          "14-21",
          "14-21",
          "14-21",
          "33-57",
          "24-33",
          "14-21",
          "24-33",
          "24-33",
          "14-21",
          "21-24",
          "24-33",
          "33-57",
          "21-24",
          "33-57",
          "33-57",
          "24-33",
          "33-57",
          "21-24",
          "33-57",
          "14-21",
          "14-21",
          "24-33",
          "14-21",
          "14-21",
          "33-57",
          "21-24",
          "14-21",
          "21-24",
          "24-33",
          "21-24",
          "14-21",
          "24-33",
          "33-57",
          "33-57",
          "24-33",
          "21-24",
          "14-21",
          "14-21",
          "33-57",
          "33-57",
          "14-21",
          "21-24",
          "24-33",
          "14-21",
          "21-24",
          "33-57",
          "21-24",
          "33-57",
          "33-57",
          "14-21",
          "33-57",
          "21-24",
          "33-57",
          "33-57",
          "33-57",
          "24-33",
          "14-21",
          "24-33",
          "14-21",
          "24-33",
          "33-57",
          "21-24",
          "21-24",
          "21-24",
          "24-33",
          "14-21",
          "21-24",
          "21-24",
          "14-21",
          "33-57",
          "21-24",
          "33-57",
          "21-24",
          "14-21",
          "14-21",
          "14-21",
          "21-24",
          "14-21",
          "14-21",
          "24-33",
          "21-24",
          "14-21",
          "14-21",
          "21-24",
          "14-21",
          "24-33",
          "33-57",
          "21-24",
          "24-33",
          "33-57",
          "21-24",
          "33-57",
          "14-21",
          "24-33",
          "33-57",
          "14-21",
          "33-57",
          "24-33",
          "24-33",
          "21-24",
          "21-24",
          "14-21",
          "14-21",
          "33-57",
          "14-21",
          "33-57",
          "14-21",
          "14-21",
          "14-21",
          "21-24",
          "14-21",
          "21-24",
          "33-57",
          "21-24",
          "33-57",
          "33-57",
          "33-57",
          "33-57",
          "33-57",
          "21-24",
          "33-57",
          "33-57",
          "21-24",
          "21-24",
          "21-24",
          "21-24",
          "24-33",
          "21-24",
          "33-57",
          "14-21",
          "24-33",
          "14-21",
          "24-33",
          "14-21",
          "21-24",
          "33-57",
          "21-24",
          "21-24",
          "33-57",
          "24-33",
          "24-33",
          "14-21",
          "21-24",
          "14-21",
          "24-33",
          "24-33",
          "21-24",
          "24-33",
          "33-57",
          "24-33",
          "24-33",
          "24-33",
          "33-57",
          "33-57",
          "21-24",
          "33-57",
          "21-24",
          "14-21",
          "14-21",
          "24-33",
          "21-24",
          "24-33",
          "33-57",
          "33-57",
          "24-33",
          "33-57",
          "14-21"
         ],
         "xaxis": "x",
         "y": [
          0,
          0,
          1,
          1,
          1,
          1,
          0,
          1,
          0,
          1,
          1,
          1,
          1,
          1,
          0,
          1,
          0,
          1,
          0,
          0,
          1,
          0,
          1,
          1,
          1,
          1,
          1,
          1,
          1,
          0,
          1,
          0,
          1,
          1,
          1,
          1,
          1,
          0,
          0,
          1,
          1,
          1,
          1,
          1,
          1,
          1,
          1,
          1,
          1,
          0,
          1,
          0,
          1,
          1,
          0,
          0,
          1,
          0,
          0,
          0,
          0,
          1,
          1,
          0,
          0,
          1,
          1,
          1,
          1,
          0,
          0,
          1,
          0,
          1,
          1,
          0,
          1,
          0,
          0,
          0,
          0,
          1,
          0,
          1,
          1,
          0,
          0,
          1,
          0,
          1,
          1,
          1,
          1,
          0,
          1,
          1,
          1,
          0,
          1,
          1,
          0,
          0,
          1,
          1,
          1,
          1,
          0,
          1,
          1,
          1,
          0,
          1,
          1,
          1,
          1,
          0,
          1,
          1,
          1,
          1,
          0,
          1,
          1,
          1,
          0,
          0,
          1,
          1,
          1,
          0,
          1,
          0,
          0,
          1,
          1,
          0,
          1,
          1,
          1,
          0,
          1,
          0,
          0,
          1,
          0,
          0,
          1,
          1,
          1,
          0,
          1,
          1,
          1,
          0,
          1,
          0,
          0,
          0,
          1,
          1,
          1,
          1,
          1,
          1,
          1,
          0,
          1,
          0,
          1,
          0,
          1,
          1,
          0,
          1,
          1,
          1,
          0,
          1,
          1,
          0,
          1,
          0,
          1,
          1,
          0,
          1,
          0,
          1,
          1,
          1,
          1,
          1,
          1,
          1,
          1,
          1,
          0,
          0,
          0,
          0,
          1,
          1,
          0,
          1,
          1,
          0,
          0,
          1,
          1,
          1,
          1,
          0,
          1,
          0,
          0,
          0,
          0,
          1,
          1,
          1,
          0,
          1,
          1,
          1,
          0,
          1,
          0,
          1,
          1,
          1,
          0,
          1,
          1,
          1,
          1,
          0,
          0,
          0,
          1,
          0,
          0,
          1,
          0,
          0,
          0,
          1,
          0,
          1,
          0,
          0,
          0,
          0,
          1,
          1,
          1,
          1,
          0,
          1,
          1,
          1,
          1,
          1,
          1,
          1,
          1,
          1,
          0,
          1,
          1,
          1,
          1,
          1,
          1,
          1,
          1,
          1,
          1,
          0,
          1,
          1,
          1
         ],
         "yaxis": "y"
        }
       ],
       "layout": {
        "barmode": "group",
        "legend": {
         "title": {
          "text": "subscriber_type"
         },
         "tracegroupgap": 0
        },
        "template": {
         "data": {
          "bar": [
           {
            "error_x": {
             "color": "#2a3f5f"
            },
            "error_y": {
             "color": "#2a3f5f"
            },
            "marker": {
             "line": {
              "color": "#E5ECF6",
              "width": 0.5
             }
            },
            "type": "bar"
           }
          ],
          "barpolar": [
           {
            "marker": {
             "line": {
              "color": "#E5ECF6",
              "width": 0.5
             }
            },
            "type": "barpolar"
           }
          ],
          "carpet": [
           {
            "aaxis": {
             "endlinecolor": "#2a3f5f",
             "gridcolor": "white",
             "linecolor": "white",
             "minorgridcolor": "white",
             "startlinecolor": "#2a3f5f"
            },
            "baxis": {
             "endlinecolor": "#2a3f5f",
             "gridcolor": "white",
             "linecolor": "white",
             "minorgridcolor": "white",
             "startlinecolor": "#2a3f5f"
            },
            "type": "carpet"
           }
          ],
          "choropleth": [
           {
            "colorbar": {
             "outlinewidth": 0,
             "ticks": ""
            },
            "type": "choropleth"
           }
          ],
          "contour": [
           {
            "colorbar": {
             "outlinewidth": 0,
             "ticks": ""
            },
            "colorscale": [
             [
              0,
              "#0d0887"
             ],
             [
              0.1111111111111111,
              "#46039f"
             ],
             [
              0.2222222222222222,
              "#7201a8"
             ],
             [
              0.3333333333333333,
              "#9c179e"
             ],
             [
              0.4444444444444444,
              "#bd3786"
             ],
             [
              0.5555555555555556,
              "#d8576b"
             ],
             [
              0.6666666666666666,
              "#ed7953"
             ],
             [
              0.7777777777777778,
              "#fb9f3a"
             ],
             [
              0.8888888888888888,
              "#fdca26"
             ],
             [
              1,
              "#f0f921"
             ]
            ],
            "type": "contour"
           }
          ],
          "contourcarpet": [
           {
            "colorbar": {
             "outlinewidth": 0,
             "ticks": ""
            },
            "type": "contourcarpet"
           }
          ],
          "heatmap": [
           {
            "colorbar": {
             "outlinewidth": 0,
             "ticks": ""
            },
            "colorscale": [
             [
              0,
              "#0d0887"
             ],
             [
              0.1111111111111111,
              "#46039f"
             ],
             [
              0.2222222222222222,
              "#7201a8"
             ],
             [
              0.3333333333333333,
              "#9c179e"
             ],
             [
              0.4444444444444444,
              "#bd3786"
             ],
             [
              0.5555555555555556,
              "#d8576b"
             ],
             [
              0.6666666666666666,
              "#ed7953"
             ],
             [
              0.7777777777777778,
              "#fb9f3a"
             ],
             [
              0.8888888888888888,
              "#fdca26"
             ],
             [
              1,
              "#f0f921"
             ]
            ],
            "type": "heatmap"
           }
          ],
          "heatmapgl": [
           {
            "colorbar": {
             "outlinewidth": 0,
             "ticks": ""
            },
            "colorscale": [
             [
              0,
              "#0d0887"
             ],
             [
              0.1111111111111111,
              "#46039f"
             ],
             [
              0.2222222222222222,
              "#7201a8"
             ],
             [
              0.3333333333333333,
              "#9c179e"
             ],
             [
              0.4444444444444444,
              "#bd3786"
             ],
             [
              0.5555555555555556,
              "#d8576b"
             ],
             [
              0.6666666666666666,
              "#ed7953"
             ],
             [
              0.7777777777777778,
              "#fb9f3a"
             ],
             [
              0.8888888888888888,
              "#fdca26"
             ],
             [
              1,
              "#f0f921"
             ]
            ],
            "type": "heatmapgl"
           }
          ],
          "histogram": [
           {
            "marker": {
             "colorbar": {
              "outlinewidth": 0,
              "ticks": ""
             }
            },
            "type": "histogram"
           }
          ],
          "histogram2d": [
           {
            "colorbar": {
             "outlinewidth": 0,
             "ticks": ""
            },
            "colorscale": [
             [
              0,
              "#0d0887"
             ],
             [
              0.1111111111111111,
              "#46039f"
             ],
             [
              0.2222222222222222,
              "#7201a8"
             ],
             [
              0.3333333333333333,
              "#9c179e"
             ],
             [
              0.4444444444444444,
              "#bd3786"
             ],
             [
              0.5555555555555556,
              "#d8576b"
             ],
             [
              0.6666666666666666,
              "#ed7953"
             ],
             [
              0.7777777777777778,
              "#fb9f3a"
             ],
             [
              0.8888888888888888,
              "#fdca26"
             ],
             [
              1,
              "#f0f921"
             ]
            ],
            "type": "histogram2d"
           }
          ],
          "histogram2dcontour": [
           {
            "colorbar": {
             "outlinewidth": 0,
             "ticks": ""
            },
            "colorscale": [
             [
              0,
              "#0d0887"
             ],
             [
              0.1111111111111111,
              "#46039f"
             ],
             [
              0.2222222222222222,
              "#7201a8"
             ],
             [
              0.3333333333333333,
              "#9c179e"
             ],
             [
              0.4444444444444444,
              "#bd3786"
             ],
             [
              0.5555555555555556,
              "#d8576b"
             ],
             [
              0.6666666666666666,
              "#ed7953"
             ],
             [
              0.7777777777777778,
              "#fb9f3a"
             ],
             [
              0.8888888888888888,
              "#fdca26"
             ],
             [
              1,
              "#f0f921"
             ]
            ],
            "type": "histogram2dcontour"
           }
          ],
          "mesh3d": [
           {
            "colorbar": {
             "outlinewidth": 0,
             "ticks": ""
            },
            "type": "mesh3d"
           }
          ],
          "parcoords": [
           {
            "line": {
             "colorbar": {
              "outlinewidth": 0,
              "ticks": ""
             }
            },
            "type": "parcoords"
           }
          ],
          "pie": [
           {
            "automargin": true,
            "type": "pie"
           }
          ],
          "scatter": [
           {
            "marker": {
             "colorbar": {
              "outlinewidth": 0,
              "ticks": ""
             }
            },
            "type": "scatter"
           }
          ],
          "scatter3d": [
           {
            "line": {
             "colorbar": {
              "outlinewidth": 0,
              "ticks": ""
             }
            },
            "marker": {
             "colorbar": {
              "outlinewidth": 0,
              "ticks": ""
             }
            },
            "type": "scatter3d"
           }
          ],
          "scattercarpet": [
           {
            "marker": {
             "colorbar": {
              "outlinewidth": 0,
              "ticks": ""
             }
            },
            "type": "scattercarpet"
           }
          ],
          "scattergeo": [
           {
            "marker": {
             "colorbar": {
              "outlinewidth": 0,
              "ticks": ""
             }
            },
            "type": "scattergeo"
           }
          ],
          "scattergl": [
           {
            "marker": {
             "colorbar": {
              "outlinewidth": 0,
              "ticks": ""
             }
            },
            "type": "scattergl"
           }
          ],
          "scattermapbox": [
           {
            "marker": {
             "colorbar": {
              "outlinewidth": 0,
              "ticks": ""
             }
            },
            "type": "scattermapbox"
           }
          ],
          "scatterpolar": [
           {
            "marker": {
             "colorbar": {
              "outlinewidth": 0,
              "ticks": ""
             }
            },
            "type": "scatterpolar"
           }
          ],
          "scatterpolargl": [
           {
            "marker": {
             "colorbar": {
              "outlinewidth": 0,
              "ticks": ""
             }
            },
            "type": "scatterpolargl"
           }
          ],
          "scatterternary": [
           {
            "marker": {
             "colorbar": {
              "outlinewidth": 0,
              "ticks": ""
             }
            },
            "type": "scatterternary"
           }
          ],
          "surface": [
           {
            "colorbar": {
             "outlinewidth": 0,
             "ticks": ""
            },
            "colorscale": [
             [
              0,
              "#0d0887"
             ],
             [
              0.1111111111111111,
              "#46039f"
             ],
             [
              0.2222222222222222,
              "#7201a8"
             ],
             [
              0.3333333333333333,
              "#9c179e"
             ],
             [
              0.4444444444444444,
              "#bd3786"
             ],
             [
              0.5555555555555556,
              "#d8576b"
             ],
             [
              0.6666666666666666,
              "#ed7953"
             ],
             [
              0.7777777777777778,
              "#fb9f3a"
             ],
             [
              0.8888888888888888,
              "#fdca26"
             ],
             [
              1,
              "#f0f921"
             ]
            ],
            "type": "surface"
           }
          ],
          "table": [
           {
            "cells": {
             "fill": {
              "color": "#EBF0F8"
             },
             "line": {
              "color": "white"
             }
            },
            "header": {
             "fill": {
              "color": "#C8D4E3"
             },
             "line": {
              "color": "white"
             }
            },
            "type": "table"
           }
          ]
         },
         "layout": {
          "annotationdefaults": {
           "arrowcolor": "#2a3f5f",
           "arrowhead": 0,
           "arrowwidth": 1
          },
          "autotypenumbers": "strict",
          "coloraxis": {
           "colorbar": {
            "outlinewidth": 0,
            "ticks": ""
           }
          },
          "colorscale": {
           "diverging": [
            [
             0,
             "#8e0152"
            ],
            [
             0.1,
             "#c51b7d"
            ],
            [
             0.2,
             "#de77ae"
            ],
            [
             0.3,
             "#f1b6da"
            ],
            [
             0.4,
             "#fde0ef"
            ],
            [
             0.5,
             "#f7f7f7"
            ],
            [
             0.6,
             "#e6f5d0"
            ],
            [
             0.7,
             "#b8e186"
            ],
            [
             0.8,
             "#7fbc41"
            ],
            [
             0.9,
             "#4d9221"
            ],
            [
             1,
             "#276419"
            ]
           ],
           "sequential": [
            [
             0,
             "#0d0887"
            ],
            [
             0.1111111111111111,
             "#46039f"
            ],
            [
             0.2222222222222222,
             "#7201a8"
            ],
            [
             0.3333333333333333,
             "#9c179e"
            ],
            [
             0.4444444444444444,
             "#bd3786"
            ],
            [
             0.5555555555555556,
             "#d8576b"
            ],
            [
             0.6666666666666666,
             "#ed7953"
            ],
            [
             0.7777777777777778,
             "#fb9f3a"
            ],
            [
             0.8888888888888888,
             "#fdca26"
            ],
            [
             1,
             "#f0f921"
            ]
           ],
           "sequentialminus": [
            [
             0,
             "#0d0887"
            ],
            [
             0.1111111111111111,
             "#46039f"
            ],
            [
             0.2222222222222222,
             "#7201a8"
            ],
            [
             0.3333333333333333,
             "#9c179e"
            ],
            [
             0.4444444444444444,
             "#bd3786"
            ],
            [
             0.5555555555555556,
             "#d8576b"
            ],
            [
             0.6666666666666666,
             "#ed7953"
            ],
            [
             0.7777777777777778,
             "#fb9f3a"
            ],
            [
             0.8888888888888888,
             "#fdca26"
            ],
            [
             1,
             "#f0f921"
            ]
           ]
          },
          "colorway": [
           "#636efa",
           "#EF553B",
           "#00cc96",
           "#ab63fa",
           "#FFA15A",
           "#19d3f3",
           "#FF6692",
           "#B6E880",
           "#FF97FF",
           "#FECB52"
          ],
          "font": {
           "color": "#2a3f5f"
          },
          "geo": {
           "bgcolor": "white",
           "lakecolor": "white",
           "landcolor": "#E5ECF6",
           "showlakes": true,
           "showland": true,
           "subunitcolor": "white"
          },
          "hoverlabel": {
           "align": "left"
          },
          "hovermode": "closest",
          "mapbox": {
           "style": "light"
          },
          "paper_bgcolor": "white",
          "plot_bgcolor": "#E5ECF6",
          "polar": {
           "angularaxis": {
            "gridcolor": "white",
            "linecolor": "white",
            "ticks": ""
           },
           "bgcolor": "#E5ECF6",
           "radialaxis": {
            "gridcolor": "white",
            "linecolor": "white",
            "ticks": ""
           }
          },
          "scene": {
           "xaxis": {
            "backgroundcolor": "#E5ECF6",
            "gridcolor": "white",
            "gridwidth": 2,
            "linecolor": "white",
            "showbackground": true,
            "ticks": "",
            "zerolinecolor": "white"
           },
           "yaxis": {
            "backgroundcolor": "#E5ECF6",
            "gridcolor": "white",
            "gridwidth": 2,
            "linecolor": "white",
            "showbackground": true,
            "ticks": "",
            "zerolinecolor": "white"
           },
           "zaxis": {
            "backgroundcolor": "#E5ECF6",
            "gridcolor": "white",
            "gridwidth": 2,
            "linecolor": "white",
            "showbackground": true,
            "ticks": "",
            "zerolinecolor": "white"
           }
          },
          "shapedefaults": {
           "line": {
            "color": "#2a3f5f"
           }
          },
          "ternary": {
           "aaxis": {
            "gridcolor": "white",
            "linecolor": "white",
            "ticks": ""
           },
           "baxis": {
            "gridcolor": "white",
            "linecolor": "white",
            "ticks": ""
           },
           "bgcolor": "#E5ECF6",
           "caxis": {
            "gridcolor": "white",
            "linecolor": "white",
            "ticks": ""
           }
          },
          "title": {
           "x": 0.05
          },
          "xaxis": {
           "automargin": true,
           "gridcolor": "white",
           "linecolor": "white",
           "ticks": "",
           "title": {
            "standoff": 15
           },
           "zerolinecolor": "white",
           "zerolinewidth": 2
          },
          "yaxis": {
           "automargin": true,
           "gridcolor": "white",
           "linecolor": "white",
           "ticks": "",
           "title": {
            "standoff": 15
           },
           "zerolinecolor": "white",
           "zerolinewidth": 2
          }
         }
        },
        "title": {
         "text": "The number of subscribers per subscriber type in each age group"
        },
        "xaxis": {
         "anchor": "y",
         "domain": [
          0,
          1
         ],
         "title": {
          "text": "age_groups"
         }
        },
        "yaxis": {
         "anchor": "x",
         "domain": [
          0,
          1
         ],
         "title": {
          "text": "is_subscriber"
         }
        }
       }
      },
      "text/html": [
       "<div>                            <div id=\"e5871be8-7873-4f02-8c3c-712f3fef40b5\" class=\"plotly-graph-div\" style=\"height:525px; width:100%;\"></div>            <script type=\"text/javascript\">                require([\"plotly\"], function(Plotly) {                    window.PLOTLYENV=window.PLOTLYENV || {};                                    if (document.getElementById(\"e5871be8-7873-4f02-8c3c-712f3fef40b5\")) {                    Plotly.newPlot(                        \"e5871be8-7873-4f02-8c3c-712f3fef40b5\",                        [{\"alignmentgroup\": \"True\", \"hovertemplate\": \"subscriber_type=aavail_premium<br>age_groups=%{x}<br>is_subscriber=%{y}<extra></extra>\", \"legendgroup\": \"aavail_premium\", \"marker\": {\"color\": \"#636efa\"}, \"name\": \"aavail_premium\", \"offsetgroup\": \"aavail_premium\", \"orientation\": \"v\", \"showlegend\": true, \"textposition\": \"auto\", \"type\": \"bar\", \"x\": [\"14-21\", \"24-33\", \"21-24\", \"21-24\", \"21-24\", \"33-57\", \"21-24\", \"14-21\", \"14-21\", \"21-24\", \"24-33\", \"24-33\", \"14-21\", \"24-33\", \"24-33\", \"33-57\", \"33-57\", \"33-57\", \"24-33\", \"24-33\", \"21-24\", \"24-33\", \"33-57\", \"24-33\", \"14-21\", \"21-24\", \"21-24\", \"33-57\", \"14-21\", \"24-33\", \"14-21\", \"14-21\", \"21-24\", \"21-24\", \"14-21\", \"33-57\", \"24-33\", \"14-21\", \"24-33\", \"21-24\", \"21-24\", \"33-57\", \"33-57\", \"33-57\", \"24-33\", \"21-24\", \"24-33\", \"14-21\", \"33-57\", \"24-33\", \"33-57\", \"24-33\", \"14-21\", \"24-33\", \"21-24\", \"24-33\", \"24-33\", \"24-33\", \"14-21\", \"24-33\", \"21-24\", \"33-57\", \"21-24\", \"21-24\", \"14-21\", \"21-24\", \"14-21\", \"24-33\", \"33-57\", \"24-33\", \"14-21\", \"33-57\", \"33-57\", \"14-21\", \"33-57\", \"14-21\", \"14-21\", \"33-57\", \"14-21\", \"33-57\", \"21-24\", \"14-21\", \"33-57\", \"21-24\", \"33-57\", \"33-57\", \"33-57\", \"14-21\", \"33-57\", \"21-24\", \"21-24\", \"24-33\", \"33-57\", \"14-21\", \"21-24\", \"33-57\", \"14-21\", \"21-24\", \"14-21\", \"33-57\", \"24-33\", \"21-24\", \"21-24\", \"33-57\", \"24-33\", \"33-57\", \"14-21\", \"21-24\", \"33-57\", \"14-21\", \"14-21\", \"21-24\", \"14-21\", \"21-24\", \"21-24\", \"33-57\", \"21-24\", \"33-57\", \"21-24\", \"14-21\", \"14-21\", \"14-21\", \"21-24\", \"24-33\", \"14-21\", \"33-57\", \"24-33\", \"33-57\", \"14-21\", \"21-24\", \"14-21\", \"14-21\", \"33-57\", \"24-33\", \"24-33\", \"21-24\", \"14-21\", \"14-21\", \"33-57\", \"21-24\", \"33-57\", \"21-24\", \"33-57\", \"14-21\", \"14-21\", \"14-21\", \"24-33\", \"14-21\", \"24-33\", \"33-57\", \"14-21\", \"21-24\", \"21-24\", \"24-33\", \"14-21\", \"33-57\", \"21-24\", \"24-33\", \"21-24\", \"24-33\", \"33-57\", \"21-24\", \"14-21\", \"14-21\", \"33-57\", \"14-21\", \"24-33\", \"24-33\", \"21-24\", \"21-24\", \"24-33\", \"33-57\", \"21-24\", \"21-24\", \"33-57\", \"14-21\", \"21-24\", \"21-24\", \"33-57\", \"33-57\", \"24-33\", \"21-24\", \"14-21\", \"14-21\", \"24-33\", \"14-21\", \"21-24\", \"24-33\", \"21-24\", \"33-57\", \"14-21\", \"21-24\", \"24-33\", \"33-57\", \"24-33\", \"14-21\", \"24-33\", \"21-24\", \"33-57\", \"33-57\", \"24-33\", \"21-24\", \"21-24\", \"14-21\", \"33-57\", \"14-21\", \"14-21\", \"24-33\", \"33-57\", \"21-24\", \"14-21\", \"24-33\", \"21-24\", \"33-57\", \"24-33\", \"21-24\", \"33-57\", \"33-57\", \"33-57\", \"24-33\", \"21-24\", \"33-57\", \"14-21\", \"14-21\", \"14-21\", \"21-24\", \"21-24\", \"14-21\", \"14-21\", \"21-24\", \"21-24\", \"21-24\", \"21-24\", \"33-57\", \"33-57\", \"24-33\", \"21-24\", \"24-33\", \"24-33\", \"21-24\", \"14-21\", \"14-21\", \"24-33\", \"14-21\", \"33-57\", \"33-57\", \"14-21\", \"14-21\", \"14-21\", \"24-33\", \"21-24\", \"14-21\", \"33-57\", \"24-33\", \"21-24\", \"14-21\", \"14-21\", \"14-21\", \"33-57\", \"14-21\", \"33-57\", \"21-24\", \"14-21\", \"24-33\", \"14-21\", \"21-24\", \"14-21\", \"24-33\", \"14-21\", \"14-21\", \"14-21\", \"24-33\", \"14-21\", \"33-57\", \"24-33\", \"21-24\", \"33-57\", \"33-57\", \"24-33\", \"24-33\", \"21-24\", \"33-57\", \"14-21\", \"33-57\", \"14-21\", \"33-57\", \"14-21\", \"33-57\", \"33-57\", \"33-57\", \"14-21\", \"24-33\", \"21-24\", \"21-24\", \"14-21\", \"21-24\", \"14-21\", \"24-33\", \"14-21\", \"33-57\", \"24-33\", \"14-21\", \"24-33\", \"14-21\", \"14-21\", \"24-33\", \"14-21\", \"33-57\", \"24-33\", \"33-57\", \"21-24\", \"33-57\", \"14-21\", \"14-21\", \"24-33\", \"33-57\", \"24-33\", \"14-21\", \"14-21\", \"14-21\", \"21-24\", \"14-21\", \"14-21\"], \"xaxis\": \"x\", \"y\": [1, 0, 0, 1, 1, 1, 0, 1, 1, 0, 1, 1, 1, 1, 0, 0, 0, 1, 1, 1, 1, 0, 1, 0, 1, 0, 1, 1, 0, 1, 0, 1, 0, 1, 0, 0, 1, 0, 1, 1, 1, 0, 1, 0, 1, 0, 0, 1, 1, 1, 1, 1, 0, 1, 0, 1, 1, 1, 0, 0, 1, 1, 1, 1, 1, 1, 0, 1, 0, 1, 1, 1, 1, 0, 1, 0, 1, 1, 0, 1, 1, 1, 1, 1, 1, 0, 0, 0, 0, 0, 1, 0, 1, 0, 1, 1, 1, 1, 0, 1, 1, 1, 1, 1, 1, 1, 1, 1, 0, 0, 1, 1, 1, 1, 1, 1, 1, 1, 1, 0, 1, 1, 1, 0, 0, 1, 0, 1, 1, 0, 1, 1, 1, 1, 1, 1, 1, 1, 1, 0, 1, 1, 1, 0, 0, 1, 1, 1, 1, 1, 1, 1, 1, 1, 1, 1, 0, 1, 1, 1, 0, 1, 0, 1, 1, 0, 0, 1, 1, 0, 1, 1, 0, 1, 1, 0, 1, 1, 1, 1, 0, 0, 0, 1, 0, 0, 0, 1, 1, 1, 0, 1, 1, 1, 1, 1, 0, 1, 0, 0, 1, 0, 1, 1, 0, 1, 1, 1, 1, 0, 0, 0, 0, 1, 1, 1, 0, 1, 1, 1, 1, 1, 0, 1, 0, 1, 1, 1, 0, 0, 0, 1, 1, 0, 1, 1, 1, 1, 0, 1, 1, 0, 1, 0, 0, 1, 1, 1, 1, 1, 1, 1, 1, 1, 0, 1, 1, 1, 1, 0, 1, 0, 1, 0, 1, 1, 0, 1, 0, 0, 0, 1, 1, 1, 1, 0, 1, 1, 1, 1, 0, 0, 1, 0, 1, 1, 1, 1, 1, 1, 1, 0, 0, 1, 0, 0, 0, 1, 1, 1, 1, 1, 1, 0, 1, 1, 1, 1, 1, 1, 1, 1, 1, 1, 1, 0, 1, 0, 0, 1, 1, 1, 0], \"yaxis\": \"y\"}, {\"alignmentgroup\": \"True\", \"hovertemplate\": \"subscriber_type=aavail_basic<br>age_groups=%{x}<br>is_subscriber=%{y}<extra></extra>\", \"legendgroup\": \"aavail_basic\", \"marker\": {\"color\": \"#EF553B\"}, \"name\": \"aavail_basic\", \"offsetgroup\": \"aavail_basic\", \"orientation\": \"v\", \"showlegend\": true, \"textposition\": \"auto\", \"type\": \"bar\", \"x\": [\"14-21\", \"33-57\", \"24-33\", \"14-21\", \"21-24\", \"33-57\", \"33-57\", \"21-24\", \"14-21\", \"14-21\", \"14-21\", \"14-21\", \"33-57\", \"21-24\", \"21-24\", \"21-24\", \"33-57\", \"24-33\", \"33-57\", \"24-33\", \"14-21\", \"14-21\", \"33-57\", \"21-24\", \"21-24\", \"24-33\", \"21-24\", \"14-21\", \"24-33\", \"14-21\", \"21-24\", \"24-33\", \"14-21\", \"24-33\", \"14-21\", \"33-57\", \"33-57\", \"33-57\", \"21-24\", \"14-21\", \"21-24\", \"24-33\", \"14-21\", \"14-21\", \"24-33\", \"14-21\", \"14-21\", \"24-33\", \"21-24\", \"14-21\", \"21-24\", \"33-57\", \"14-21\", \"24-33\", \"14-21\", \"21-24\", \"21-24\", \"33-57\", \"21-24\", \"24-33\", \"24-33\", \"14-21\", \"14-21\", \"14-21\", \"14-21\", \"21-24\", \"24-33\", \"14-21\", \"14-21\", \"33-57\", \"14-21\", \"24-33\", \"33-57\", \"24-33\", \"14-21\", \"33-57\", \"24-33\", \"14-21\", \"14-21\", \"21-24\", \"21-24\", \"14-21\", \"24-33\", \"14-21\", \"24-33\", \"21-24\", \"33-57\", \"21-24\", \"21-24\", \"33-57\", \"33-57\", \"33-57\", \"21-24\", \"24-33\", \"21-24\", \"33-57\", \"14-21\", \"24-33\", \"21-24\", \"33-57\", \"14-21\", \"21-24\", \"14-21\", \"24-33\", \"21-24\", \"24-33\", \"21-24\", \"33-57\", \"24-33\", \"14-21\", \"21-24\", \"24-33\", \"24-33\", \"14-21\", \"21-24\", \"21-24\", \"24-33\", \"33-57\", \"33-57\", \"24-33\", \"21-24\", \"33-57\", \"14-21\", \"33-57\", \"33-57\", \"14-21\", \"33-57\", \"14-21\", \"14-21\", \"21-24\", \"14-21\", \"24-33\", \"21-24\", \"24-33\", \"33-57\", \"21-24\", \"24-33\", \"24-33\", \"33-57\", \"21-24\", \"33-57\", \"33-57\", \"21-24\", \"24-33\", \"14-21\", \"21-24\", \"33-57\", \"21-24\", \"14-21\", \"24-33\", \"14-21\", \"14-21\", \"33-57\", \"24-33\", \"33-57\", \"21-24\", \"14-21\", \"14-21\", \"21-24\", \"21-24\", \"21-24\", \"33-57\", \"24-33\", \"21-24\", \"14-21\", \"33-57\", \"33-57\", \"33-57\", \"24-33\", \"14-21\", \"24-33\", \"14-21\", \"14-21\", \"33-57\", \"33-57\", \"21-24\", \"21-24\", \"21-24\", \"21-24\", \"21-24\", \"14-21\", \"14-21\", \"14-21\", \"33-57\", \"21-24\", \"14-21\", \"14-21\", \"14-21\", \"33-57\", \"24-33\", \"21-24\", \"33-57\", \"24-33\", \"14-21\", \"14-21\", \"33-57\", \"14-21\", \"14-21\", \"14-21\", \"14-21\", \"24-33\", \"24-33\", \"21-24\", \"24-33\", \"21-24\", \"33-57\", \"33-57\", \"21-24\", \"21-24\", \"33-57\", \"14-21\", \"33-57\", \"21-24\", \"24-33\", \"33-57\", \"14-21\", \"33-57\", \"24-33\", \"24-33\", \"14-21\", \"33-57\", \"21-24\", \"33-57\", \"24-33\", \"21-24\", \"33-57\", \"14-21\", \"14-21\", \"14-21\", \"21-24\", \"21-24\", \"14-21\", \"14-21\", \"14-21\", \"14-21\", \"14-21\", \"33-57\", \"21-24\", \"33-57\", \"14-21\", \"24-33\", \"24-33\", \"21-24\", \"21-24\", \"24-33\", \"21-24\", \"14-21\", \"33-57\", \"21-24\", \"33-57\", \"24-33\", \"33-57\", \"33-57\", \"21-24\", \"14-21\", \"24-33\", \"14-21\", \"33-57\", \"14-21\", \"33-57\", \"24-33\", \"24-33\", \"24-33\", \"14-21\", \"24-33\", \"33-57\", \"21-24\", \"24-33\", \"14-21\", \"33-57\", \"21-24\", \"33-57\", \"33-57\", \"14-21\", \"24-33\", \"21-24\", \"24-33\", \"24-33\", \"33-57\", \"33-57\", \"14-21\", \"21-24\", \"14-21\", \"21-24\", \"14-21\", \"14-21\", \"21-24\", \"14-21\", \"14-21\", \"24-33\", \"33-57\", \"21-24\", \"21-24\", \"21-24\", \"14-21\", \"33-57\", \"21-24\", \"14-21\", \"14-21\", \"24-33\", \"14-21\", \"21-24\", \"24-33\", \"14-21\", \"14-21\", \"33-57\", \"21-24\", \"21-24\", \"33-57\", \"21-24\", \"33-57\", \"33-57\", \"14-21\", \"24-33\", \"21-24\", \"14-21\", \"14-21\", \"14-21\", \"24-33\", \"21-24\", \"24-33\", \"14-21\", \"14-21\", \"33-57\", \"33-57\", \"21-24\", \"33-57\", \"33-57\", \"24-33\", \"14-21\", \"24-33\", \"21-24\", \"14-21\", \"14-21\", \"21-24\", \"14-21\", \"21-24\", \"24-33\", \"14-21\", \"24-33\", \"14-21\", \"21-24\", \"24-33\", \"21-24\", \"21-24\", \"21-24\", \"33-57\", \"14-21\", \"14-21\", \"14-21\", \"21-24\", \"14-21\", \"24-33\", \"21-24\", \"24-33\", \"24-33\", \"14-21\", \"14-21\", \"21-24\", \"14-21\", \"33-57\", \"21-24\", \"24-33\", \"21-24\", \"14-21\", \"21-24\", \"21-24\", \"33-57\", \"33-57\", \"14-21\", \"14-21\", \"21-24\", \"21-24\", \"33-57\", \"21-24\", \"21-24\", \"21-24\", \"33-57\", \"14-21\", \"24-33\", \"33-57\", \"33-57\", \"21-24\", \"33-57\", \"33-57\", \"21-24\", \"24-33\", \"21-24\", \"33-57\", \"24-33\", \"21-24\", \"33-57\", \"24-33\", \"21-24\", \"14-21\", \"21-24\"], \"xaxis\": \"x\", \"y\": [1, 0, 0, 1, 1, 0, 0, 0, 1, 1, 1, 1, 1, 0, 1, 1, 1, 1, 1, 1, 1, 1, 1, 1, 1, 1, 1, 0, 1, 1, 0, 1, 1, 0, 1, 1, 1, 0, 0, 1, 1, 0, 0, 1, 0, 1, 1, 1, 0, 1, 1, 0, 1, 0, 1, 1, 1, 1, 1, 1, 0, 1, 1, 1, 1, 0, 1, 1, 1, 1, 0, 0, 1, 0, 1, 0, 1, 1, 1, 1, 1, 1, 1, 1, 1, 1, 0, 1, 0, 1, 1, 1, 1, 1, 1, 1, 1, 1, 1, 1, 1, 1, 1, 1, 1, 1, 0, 1, 1, 1, 1, 1, 1, 1, 1, 1, 1, 1, 0, 0, 0, 1, 1, 1, 0, 1, 0, 1, 1, 1, 1, 1, 0, 0, 1, 1, 1, 1, 0, 1, 1, 1, 1, 1, 1, 0, 1, 1, 1, 0, 1, 1, 1, 1, 1, 1, 1, 1, 0, 1, 1, 1, 0, 0, 1, 1, 1, 1, 1, 0, 1, 1, 0, 0, 0, 0, 1, 1, 1, 1, 1, 1, 0, 0, 1, 1, 1, 1, 0, 1, 1, 1, 1, 1, 0, 1, 1, 1, 1, 1, 1, 0, 1, 1, 1, 1, 1, 1, 0, 1, 1, 1, 1, 1, 1, 1, 1, 1, 1, 1, 1, 1, 0, 0, 1, 0, 1, 0, 1, 1, 1, 1, 1, 1, 1, 1, 1, 1, 1, 1, 1, 1, 1, 1, 1, 1, 1, 1, 1, 1, 1, 0, 1, 1, 1, 1, 1, 0, 0, 1, 0, 0, 1, 0, 1, 1, 1, 1, 1, 1, 1, 1, 1, 1, 0, 1, 1, 0, 1, 1, 1, 0, 0, 0, 1, 1, 1, 1, 1, 0, 0, 1, 1, 1, 1, 0, 0, 1, 1, 1, 0, 1, 1, 1, 1, 1, 1, 1, 1, 1, 1, 1, 1, 1, 1, 0, 1, 0, 1, 0, 1, 0, 1, 1, 1, 1, 1, 1, 1, 1, 1, 1, 1, 1, 0, 1, 1, 1, 1, 0, 1, 1, 1, 1, 1, 1, 0, 1, 1, 1, 1, 1, 0, 1, 1, 1, 0, 1, 1, 1, 1, 1, 1, 1, 1, 1, 1, 1, 0, 1, 0, 0, 1, 1, 1, 0, 0, 1, 1, 1, 1, 1, 1, 1, 0, 1, 1, 1, 1, 1, 1, 1, 1, 1, 1, 1], \"yaxis\": \"y\"}, {\"alignmentgroup\": \"True\", \"hovertemplate\": \"subscriber_type=aavail_unlimited<br>age_groups=%{x}<br>is_subscriber=%{y}<extra></extra>\", \"legendgroup\": \"aavail_unlimited\", \"marker\": {\"color\": \"#00cc96\"}, \"name\": \"aavail_unlimited\", \"offsetgroup\": \"aavail_unlimited\", \"orientation\": \"v\", \"showlegend\": true, \"textposition\": \"auto\", \"type\": \"bar\", \"x\": [\"33-57\", \"33-57\", \"21-24\", \"33-57\", \"14-21\", \"24-33\", \"33-57\", \"21-24\", \"33-57\", \"24-33\", \"21-24\", \"14-21\", \"24-33\", \"14-21\", \"33-57\", \"21-24\", \"21-24\", \"14-21\", \"14-21\", \"14-21\", \"33-57\", \"14-21\", \"33-57\", \"24-33\", \"33-57\", \"24-33\", \"24-33\", \"24-33\", \"21-24\", \"21-24\", \"14-21\", \"21-24\", \"24-33\", \"14-21\", \"21-24\", \"24-33\", \"14-21\", \"14-21\", \"33-57\", \"21-24\", \"21-24\", \"33-57\", \"24-33\", \"21-24\", \"24-33\", \"33-57\", \"24-33\", \"21-24\", \"21-24\", \"24-33\", \"33-57\", \"14-21\", \"14-21\", \"14-21\", \"14-21\", \"33-57\", \"33-57\", \"14-21\", \"33-57\", \"24-33\", \"21-24\", \"14-21\", \"24-33\", \"21-24\", \"14-21\", \"14-21\", \"14-21\", \"33-57\", \"33-57\", \"24-33\", \"21-24\", \"24-33\", \"14-21\", \"24-33\", \"24-33\", \"33-57\", \"33-57\", \"14-21\", \"24-33\", \"14-21\", \"21-24\", \"14-21\", \"33-57\", \"33-57\", \"33-57\", \"33-57\", \"33-57\", \"21-24\", \"33-57\", \"21-24\", \"21-24\", \"24-33\", \"14-21\", \"24-33\", \"14-21\", \"24-33\", \"33-57\", \"21-24\", \"14-21\", \"24-33\", \"21-24\", \"33-57\", \"33-57\", \"24-33\", \"33-57\", \"14-21\", \"33-57\", \"33-57\", \"33-57\", \"14-21\", \"21-24\", \"24-33\", \"33-57\", \"33-57\", \"14-21\", \"14-21\", \"14-21\", \"33-57\", \"24-33\", \"14-21\", \"24-33\", \"24-33\", \"14-21\", \"21-24\", \"24-33\", \"33-57\", \"21-24\", \"33-57\", \"33-57\", \"24-33\", \"33-57\", \"21-24\", \"33-57\", \"14-21\", \"14-21\", \"24-33\", \"14-21\", \"14-21\", \"33-57\", \"21-24\", \"14-21\", \"21-24\", \"24-33\", \"21-24\", \"14-21\", \"24-33\", \"33-57\", \"33-57\", \"24-33\", \"21-24\", \"14-21\", \"14-21\", \"33-57\", \"33-57\", \"14-21\", \"21-24\", \"24-33\", \"14-21\", \"21-24\", \"33-57\", \"21-24\", \"33-57\", \"33-57\", \"14-21\", \"33-57\", \"21-24\", \"33-57\", \"33-57\", \"33-57\", \"24-33\", \"14-21\", \"24-33\", \"14-21\", \"24-33\", \"33-57\", \"21-24\", \"21-24\", \"21-24\", \"24-33\", \"14-21\", \"21-24\", \"21-24\", \"14-21\", \"33-57\", \"21-24\", \"33-57\", \"21-24\", \"14-21\", \"14-21\", \"14-21\", \"21-24\", \"14-21\", \"14-21\", \"24-33\", \"21-24\", \"14-21\", \"14-21\", \"21-24\", \"14-21\", \"24-33\", \"33-57\", \"21-24\", \"24-33\", \"33-57\", \"21-24\", \"33-57\", \"14-21\", \"24-33\", \"33-57\", \"14-21\", \"33-57\", \"24-33\", \"24-33\", \"21-24\", \"21-24\", \"14-21\", \"14-21\", \"33-57\", \"14-21\", \"33-57\", \"14-21\", \"14-21\", \"14-21\", \"21-24\", \"14-21\", \"21-24\", \"33-57\", \"21-24\", \"33-57\", \"33-57\", \"33-57\", \"33-57\", \"33-57\", \"21-24\", \"33-57\", \"33-57\", \"21-24\", \"21-24\", \"21-24\", \"21-24\", \"24-33\", \"21-24\", \"33-57\", \"14-21\", \"24-33\", \"14-21\", \"24-33\", \"14-21\", \"21-24\", \"33-57\", \"21-24\", \"21-24\", \"33-57\", \"24-33\", \"24-33\", \"14-21\", \"21-24\", \"14-21\", \"24-33\", \"24-33\", \"21-24\", \"24-33\", \"33-57\", \"24-33\", \"24-33\", \"24-33\", \"33-57\", \"33-57\", \"21-24\", \"33-57\", \"21-24\", \"14-21\", \"14-21\", \"24-33\", \"21-24\", \"24-33\", \"33-57\", \"33-57\", \"24-33\", \"33-57\", \"14-21\"], \"xaxis\": \"x\", \"y\": [0, 0, 1, 1, 1, 1, 0, 1, 0, 1, 1, 1, 1, 1, 0, 1, 0, 1, 0, 0, 1, 0, 1, 1, 1, 1, 1, 1, 1, 0, 1, 0, 1, 1, 1, 1, 1, 0, 0, 1, 1, 1, 1, 1, 1, 1, 1, 1, 1, 0, 1, 0, 1, 1, 0, 0, 1, 0, 0, 0, 0, 1, 1, 0, 0, 1, 1, 1, 1, 0, 0, 1, 0, 1, 1, 0, 1, 0, 0, 0, 0, 1, 0, 1, 1, 0, 0, 1, 0, 1, 1, 1, 1, 0, 1, 1, 1, 0, 1, 1, 0, 0, 1, 1, 1, 1, 0, 1, 1, 1, 0, 1, 1, 1, 1, 0, 1, 1, 1, 1, 0, 1, 1, 1, 0, 0, 1, 1, 1, 0, 1, 0, 0, 1, 1, 0, 1, 1, 1, 0, 1, 0, 0, 1, 0, 0, 1, 1, 1, 0, 1, 1, 1, 0, 1, 0, 0, 0, 1, 1, 1, 1, 1, 1, 1, 0, 1, 0, 1, 0, 1, 1, 0, 1, 1, 1, 0, 1, 1, 0, 1, 0, 1, 1, 0, 1, 0, 1, 1, 1, 1, 1, 1, 1, 1, 1, 0, 0, 0, 0, 1, 1, 0, 1, 1, 0, 0, 1, 1, 1, 1, 0, 1, 0, 0, 0, 0, 1, 1, 1, 0, 1, 1, 1, 0, 1, 0, 1, 1, 1, 0, 1, 1, 1, 1, 0, 0, 0, 1, 0, 0, 1, 0, 0, 0, 1, 0, 1, 0, 0, 0, 0, 1, 1, 1, 1, 0, 1, 1, 1, 1, 1, 1, 1, 1, 1, 0, 1, 1, 1, 1, 1, 1, 1, 1, 1, 1, 0, 1, 1, 1], \"yaxis\": \"y\"}],                        {\"barmode\": \"group\", \"legend\": {\"title\": {\"text\": \"subscriber_type\"}, \"tracegroupgap\": 0}, \"template\": {\"data\": {\"bar\": [{\"error_x\": {\"color\": \"#2a3f5f\"}, \"error_y\": {\"color\": \"#2a3f5f\"}, \"marker\": {\"line\": {\"color\": \"#E5ECF6\", \"width\": 0.5}}, \"type\": \"bar\"}], \"barpolar\": [{\"marker\": {\"line\": {\"color\": \"#E5ECF6\", \"width\": 0.5}}, \"type\": \"barpolar\"}], \"carpet\": [{\"aaxis\": {\"endlinecolor\": \"#2a3f5f\", \"gridcolor\": \"white\", \"linecolor\": \"white\", \"minorgridcolor\": \"white\", \"startlinecolor\": \"#2a3f5f\"}, \"baxis\": {\"endlinecolor\": \"#2a3f5f\", \"gridcolor\": \"white\", \"linecolor\": \"white\", \"minorgridcolor\": \"white\", \"startlinecolor\": \"#2a3f5f\"}, \"type\": \"carpet\"}], \"choropleth\": [{\"colorbar\": {\"outlinewidth\": 0, \"ticks\": \"\"}, \"type\": \"choropleth\"}], \"contour\": [{\"colorbar\": {\"outlinewidth\": 0, \"ticks\": \"\"}, \"colorscale\": [[0.0, \"#0d0887\"], [0.1111111111111111, \"#46039f\"], [0.2222222222222222, \"#7201a8\"], [0.3333333333333333, \"#9c179e\"], [0.4444444444444444, \"#bd3786\"], [0.5555555555555556, \"#d8576b\"], [0.6666666666666666, \"#ed7953\"], [0.7777777777777778, \"#fb9f3a\"], [0.8888888888888888, \"#fdca26\"], [1.0, \"#f0f921\"]], \"type\": \"contour\"}], \"contourcarpet\": [{\"colorbar\": {\"outlinewidth\": 0, \"ticks\": \"\"}, \"type\": \"contourcarpet\"}], \"heatmap\": [{\"colorbar\": {\"outlinewidth\": 0, \"ticks\": \"\"}, \"colorscale\": [[0.0, \"#0d0887\"], [0.1111111111111111, \"#46039f\"], [0.2222222222222222, \"#7201a8\"], [0.3333333333333333, \"#9c179e\"], [0.4444444444444444, \"#bd3786\"], [0.5555555555555556, \"#d8576b\"], [0.6666666666666666, \"#ed7953\"], [0.7777777777777778, \"#fb9f3a\"], [0.8888888888888888, \"#fdca26\"], [1.0, \"#f0f921\"]], \"type\": \"heatmap\"}], \"heatmapgl\": [{\"colorbar\": {\"outlinewidth\": 0, \"ticks\": \"\"}, \"colorscale\": [[0.0, \"#0d0887\"], [0.1111111111111111, \"#46039f\"], [0.2222222222222222, \"#7201a8\"], [0.3333333333333333, \"#9c179e\"], [0.4444444444444444, \"#bd3786\"], [0.5555555555555556, \"#d8576b\"], [0.6666666666666666, \"#ed7953\"], [0.7777777777777778, \"#fb9f3a\"], [0.8888888888888888, \"#fdca26\"], [1.0, \"#f0f921\"]], \"type\": \"heatmapgl\"}], \"histogram\": [{\"marker\": {\"colorbar\": {\"outlinewidth\": 0, \"ticks\": \"\"}}, \"type\": \"histogram\"}], \"histogram2d\": [{\"colorbar\": {\"outlinewidth\": 0, \"ticks\": \"\"}, \"colorscale\": [[0.0, \"#0d0887\"], [0.1111111111111111, \"#46039f\"], [0.2222222222222222, \"#7201a8\"], [0.3333333333333333, \"#9c179e\"], [0.4444444444444444, \"#bd3786\"], [0.5555555555555556, \"#d8576b\"], [0.6666666666666666, \"#ed7953\"], [0.7777777777777778, \"#fb9f3a\"], [0.8888888888888888, \"#fdca26\"], [1.0, \"#f0f921\"]], \"type\": \"histogram2d\"}], \"histogram2dcontour\": [{\"colorbar\": {\"outlinewidth\": 0, \"ticks\": \"\"}, \"colorscale\": [[0.0, \"#0d0887\"], [0.1111111111111111, \"#46039f\"], [0.2222222222222222, \"#7201a8\"], [0.3333333333333333, \"#9c179e\"], [0.4444444444444444, \"#bd3786\"], [0.5555555555555556, \"#d8576b\"], [0.6666666666666666, \"#ed7953\"], [0.7777777777777778, \"#fb9f3a\"], [0.8888888888888888, \"#fdca26\"], [1.0, \"#f0f921\"]], \"type\": \"histogram2dcontour\"}], \"mesh3d\": [{\"colorbar\": {\"outlinewidth\": 0, \"ticks\": \"\"}, \"type\": \"mesh3d\"}], \"parcoords\": [{\"line\": {\"colorbar\": {\"outlinewidth\": 0, \"ticks\": \"\"}}, \"type\": \"parcoords\"}], \"pie\": [{\"automargin\": true, \"type\": \"pie\"}], \"scatter\": [{\"marker\": {\"colorbar\": {\"outlinewidth\": 0, \"ticks\": \"\"}}, \"type\": \"scatter\"}], \"scatter3d\": [{\"line\": {\"colorbar\": {\"outlinewidth\": 0, \"ticks\": \"\"}}, \"marker\": {\"colorbar\": {\"outlinewidth\": 0, \"ticks\": \"\"}}, \"type\": \"scatter3d\"}], \"scattercarpet\": [{\"marker\": {\"colorbar\": {\"outlinewidth\": 0, \"ticks\": \"\"}}, \"type\": \"scattercarpet\"}], \"scattergeo\": [{\"marker\": {\"colorbar\": {\"outlinewidth\": 0, \"ticks\": \"\"}}, \"type\": \"scattergeo\"}], \"scattergl\": [{\"marker\": {\"colorbar\": {\"outlinewidth\": 0, \"ticks\": \"\"}}, \"type\": \"scattergl\"}], \"scattermapbox\": [{\"marker\": {\"colorbar\": {\"outlinewidth\": 0, \"ticks\": \"\"}}, \"type\": \"scattermapbox\"}], \"scatterpolar\": [{\"marker\": {\"colorbar\": {\"outlinewidth\": 0, \"ticks\": \"\"}}, \"type\": \"scatterpolar\"}], \"scatterpolargl\": [{\"marker\": {\"colorbar\": {\"outlinewidth\": 0, \"ticks\": \"\"}}, \"type\": \"scatterpolargl\"}], \"scatterternary\": [{\"marker\": {\"colorbar\": {\"outlinewidth\": 0, \"ticks\": \"\"}}, \"type\": \"scatterternary\"}], \"surface\": [{\"colorbar\": {\"outlinewidth\": 0, \"ticks\": \"\"}, \"colorscale\": [[0.0, \"#0d0887\"], [0.1111111111111111, \"#46039f\"], [0.2222222222222222, \"#7201a8\"], [0.3333333333333333, \"#9c179e\"], [0.4444444444444444, \"#bd3786\"], [0.5555555555555556, \"#d8576b\"], [0.6666666666666666, \"#ed7953\"], [0.7777777777777778, \"#fb9f3a\"], [0.8888888888888888, \"#fdca26\"], [1.0, \"#f0f921\"]], \"type\": \"surface\"}], \"table\": [{\"cells\": {\"fill\": {\"color\": \"#EBF0F8\"}, \"line\": {\"color\": \"white\"}}, \"header\": {\"fill\": {\"color\": \"#C8D4E3\"}, \"line\": {\"color\": \"white\"}}, \"type\": \"table\"}]}, \"layout\": {\"annotationdefaults\": {\"arrowcolor\": \"#2a3f5f\", \"arrowhead\": 0, \"arrowwidth\": 1}, \"autotypenumbers\": \"strict\", \"coloraxis\": {\"colorbar\": {\"outlinewidth\": 0, \"ticks\": \"\"}}, \"colorscale\": {\"diverging\": [[0, \"#8e0152\"], [0.1, \"#c51b7d\"], [0.2, \"#de77ae\"], [0.3, \"#f1b6da\"], [0.4, \"#fde0ef\"], [0.5, \"#f7f7f7\"], [0.6, \"#e6f5d0\"], [0.7, \"#b8e186\"], [0.8, \"#7fbc41\"], [0.9, \"#4d9221\"], [1, \"#276419\"]], \"sequential\": [[0.0, \"#0d0887\"], [0.1111111111111111, \"#46039f\"], [0.2222222222222222, \"#7201a8\"], [0.3333333333333333, \"#9c179e\"], [0.4444444444444444, \"#bd3786\"], [0.5555555555555556, \"#d8576b\"], [0.6666666666666666, \"#ed7953\"], [0.7777777777777778, \"#fb9f3a\"], [0.8888888888888888, \"#fdca26\"], [1.0, \"#f0f921\"]], \"sequentialminus\": [[0.0, \"#0d0887\"], [0.1111111111111111, \"#46039f\"], [0.2222222222222222, \"#7201a8\"], [0.3333333333333333, \"#9c179e\"], [0.4444444444444444, \"#bd3786\"], [0.5555555555555556, \"#d8576b\"], [0.6666666666666666, \"#ed7953\"], [0.7777777777777778, \"#fb9f3a\"], [0.8888888888888888, \"#fdca26\"], [1.0, \"#f0f921\"]]}, \"colorway\": [\"#636efa\", \"#EF553B\", \"#00cc96\", \"#ab63fa\", \"#FFA15A\", \"#19d3f3\", \"#FF6692\", \"#B6E880\", \"#FF97FF\", \"#FECB52\"], \"font\": {\"color\": \"#2a3f5f\"}, \"geo\": {\"bgcolor\": \"white\", \"lakecolor\": \"white\", \"landcolor\": \"#E5ECF6\", \"showlakes\": true, \"showland\": true, \"subunitcolor\": \"white\"}, \"hoverlabel\": {\"align\": \"left\"}, \"hovermode\": \"closest\", \"mapbox\": {\"style\": \"light\"}, \"paper_bgcolor\": \"white\", \"plot_bgcolor\": \"#E5ECF6\", \"polar\": {\"angularaxis\": {\"gridcolor\": \"white\", \"linecolor\": \"white\", \"ticks\": \"\"}, \"bgcolor\": \"#E5ECF6\", \"radialaxis\": {\"gridcolor\": \"white\", \"linecolor\": \"white\", \"ticks\": \"\"}}, \"scene\": {\"xaxis\": {\"backgroundcolor\": \"#E5ECF6\", \"gridcolor\": \"white\", \"gridwidth\": 2, \"linecolor\": \"white\", \"showbackground\": true, \"ticks\": \"\", \"zerolinecolor\": \"white\"}, \"yaxis\": {\"backgroundcolor\": \"#E5ECF6\", \"gridcolor\": \"white\", \"gridwidth\": 2, \"linecolor\": \"white\", \"showbackground\": true, \"ticks\": \"\", \"zerolinecolor\": \"white\"}, \"zaxis\": {\"backgroundcolor\": \"#E5ECF6\", \"gridcolor\": \"white\", \"gridwidth\": 2, \"linecolor\": \"white\", \"showbackground\": true, \"ticks\": \"\", \"zerolinecolor\": \"white\"}}, \"shapedefaults\": {\"line\": {\"color\": \"#2a3f5f\"}}, \"ternary\": {\"aaxis\": {\"gridcolor\": \"white\", \"linecolor\": \"white\", \"ticks\": \"\"}, \"baxis\": {\"gridcolor\": \"white\", \"linecolor\": \"white\", \"ticks\": \"\"}, \"bgcolor\": \"#E5ECF6\", \"caxis\": {\"gridcolor\": \"white\", \"linecolor\": \"white\", \"ticks\": \"\"}}, \"title\": {\"x\": 0.05}, \"xaxis\": {\"automargin\": true, \"gridcolor\": \"white\", \"linecolor\": \"white\", \"ticks\": \"\", \"title\": {\"standoff\": 15}, \"zerolinecolor\": \"white\", \"zerolinewidth\": 2}, \"yaxis\": {\"automargin\": true, \"gridcolor\": \"white\", \"linecolor\": \"white\", \"ticks\": \"\", \"title\": {\"standoff\": 15}, \"zerolinecolor\": \"white\", \"zerolinewidth\": 2}}}, \"title\": {\"text\": \"The number of subscribers per subscriber type in each age group\"}, \"xaxis\": {\"anchor\": \"y\", \"domain\": [0.0, 1.0], \"title\": {\"text\": \"age_groups\"}}, \"yaxis\": {\"anchor\": \"x\", \"domain\": [0.0, 1.0], \"title\": {\"text\": \"is_subscriber\"}}},                        {\"responsive\": true}                    ).then(function(){\n",
       "                            \n",
       "var gd = document.getElementById('e5871be8-7873-4f02-8c3c-712f3fef40b5');\n",
       "var x = new MutationObserver(function (mutations, observer) {{\n",
       "        var display = window.getComputedStyle(gd).display;\n",
       "        if (!display || display === 'none') {{\n",
       "            console.log([gd, 'removed!']);\n",
       "            Plotly.purge(gd);\n",
       "            observer.disconnect();\n",
       "        }}\n",
       "}});\n",
       "\n",
       "// Listen for the removal of the full notebook cells\n",
       "var notebookContainer = gd.closest('#notebook-container');\n",
       "if (notebookContainer) {{\n",
       "    x.observe(notebookContainer, {childList: true});\n",
       "}}\n",
       "\n",
       "// Listen for the clearing of the current output cell\n",
       "var outputEl = gd.closest('.output');\n",
       "if (outputEl) {{\n",
       "    x.observe(outputEl, {childList: true});\n",
       "}}\n",
       "\n",
       "                        })                };                });            </script>        </div>"
      ]
     },
     "metadata": {},
     "output_type": "display_data"
    }
   ],
   "source": [
    "fig=px.bar(df,x='age_groups',y='is_subscriber',color='subscriber_type',barmode='group',title='The number of subscribers per subscriber type in each age group')\n",
    "fig.show()"
   ]
  },
  {
   "cell_type": "code",
   "execution_count": null,
   "metadata": {
    "id": "jmcDdpa_dWI7"
   },
   "outputs": [],
   "source": []
  },
  {
   "cell_type": "code",
   "execution_count": null,
   "metadata": {
    "id": "fJOB7u60dWLm"
   },
   "outputs": [],
   "source": []
  },
  {
   "cell_type": "code",
   "execution_count": null,
   "metadata": {
    "id": "p5qRntsSdWPR"
   },
   "outputs": [],
   "source": []
  },
  {
   "cell_type": "code",
   "execution_count": null,
   "metadata": {
    "id": "Q0f3Svs2oK3D"
   },
   "outputs": [],
   "source": []
  },
  {
   "cell_type": "code",
   "execution_count": null,
   "metadata": {
    "id": "e1d8HcvFoK7W"
   },
   "outputs": [],
   "source": []
  }
 ],
 "metadata": {
  "colab": {
   "name": "imputation_and_visualization.ipynb",
   "provenance": []
  },
  "kernelspec": {
   "display_name": "Python 3",
   "language": "python",
   "name": "python3"
  },
  "language_info": {
   "codemirror_mode": {
    "name": "ipython",
    "version": 3
   },
   "file_extension": ".py",
   "mimetype": "text/x-python",
   "name": "python",
   "nbconvert_exporter": "python",
   "pygments_lexer": "ipython3",
   "version": "3.8.3"
  }
 },
 "nbformat": 4,
 "nbformat_minor": 1
}
